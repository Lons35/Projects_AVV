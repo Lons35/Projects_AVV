{
 "cells": [
  {
   "cell_type": "markdown",
   "metadata": {},
   "source": [
    "# Приоритизация гипотез и анализ A/B-теста "
   ]
  },
  {
   "cell_type": "markdown",
   "metadata": {},
   "source": [
    "**Необходимо**:  \n",
    "1) приоритизировать гипотезы  \n",
    "2) запустить A/B-тест и проанализировать результаты.\n",
    "\n",
    "**Описание данных**:  \n",
    "  \n",
    "*hypothesis*  \n",
    "`Hypothesis` - гипотезы  \n",
    "`Reach` - скольких пользователей затронет изменение  \n",
    "`Impact`- насколько сильно изменение повлияет на пользователей  \n",
    "`Confidence` - увереность что это изменение повлияет на пользователей  \n",
    "`Efforts` - сколько стоит протестировать эту гипотезу  \n",
    "  \n",
    "*orders*  \n",
    "`transactionId` - ID заказа  \n",
    "`visitorId` - ID клиента  \n",
    "`date` - дата заказа  \n",
    "`revenue` - сумма заказа  \n",
    "`group` - группа тестирования  \n",
    "  \n",
    "*visitors*  \n",
    "`date` - дата сессии  \n",
    "`group` - группа тестирования   \n",
    "`visitors` - количество сессий  \n"
   ]
  },
  {
   "cell_type": "markdown",
   "metadata": {},
   "source": [
    "## Шаг 1. Изучение данных"
   ]
  },
  {
   "cell_type": "markdown",
   "metadata": {},
   "source": [
    "### Импорт библиотек и таблиц"
   ]
  },
  {
   "cell_type": "code",
   "execution_count": 1,
   "metadata": {},
   "outputs": [],
   "source": [
    "import pandas as pd\n",
    "import datetime as dt\n",
    "import numpy as np\n",
    "import matplotlib.pyplot as plt\n",
    "import scipy.stats as stats\n",
    "\n",
    "\n",
    "hypothesis = pd.read_csv('/datasets/hypothesis.csv')\n",
    "orders = pd.read_csv('/datasets/orders.csv')\n",
    "visitors = pd.read_csv('/datasets/visitors.csv')"
   ]
  },
  {
   "cell_type": "markdown",
   "metadata": {},
   "source": [
    "### Анализ таблиц"
   ]
  },
  {
   "cell_type": "code",
   "execution_count": 2,
   "metadata": {},
   "outputs": [],
   "source": [
    "def my_analysis(data):\n",
    "    '''Функция для анализа датафрейма.'''\n",
    "\n",
    "    # Общая информация.\n",
    "    print('Общая информация \\n')\n",
    "    data.info()\n",
    "    print(30 * '= ')\n",
    "\n",
    "    # Вывод первых 5 строк датафрейма.\n",
    "    print('Первые 5 строк датафрейма')\n",
    "    display(data.head())\n",
    "    print(30 * '= ')\n",
    "\n",
    "    # Названия столбцов.\n",
    "    print(f'Названия столбцов: {list(data.columns)}')\n",
    "    print(30 * '= ')\n",
    "\n",
    "    # Пропуски.\n",
    "    print('Инофрмация о пропусках')\n",
    "    display(data.isna().sum())\n",
    "    print(30 * '= ')\n",
    "\n",
    "    # Полные дубликаты.\n",
    "    print(f'Полных дубликатов: {data.duplicated().sum()}')\n",
    "    print(60*'=')\n",
    "    #return\n"
   ]
  },
  {
   "cell_type": "code",
   "execution_count": 3,
   "metadata": {},
   "outputs": [
    {
     "name": "stdout",
     "output_type": "stream",
     "text": [
      "Общая информация \n",
      "\n",
      "<class 'pandas.core.frame.DataFrame'>\n",
      "RangeIndex: 9 entries, 0 to 8\n",
      "Data columns (total 5 columns):\n",
      " #   Column      Non-Null Count  Dtype \n",
      "---  ------      --------------  ----- \n",
      " 0   Hypothesis  9 non-null      object\n",
      " 1   Reach       9 non-null      int64 \n",
      " 2   Impact      9 non-null      int64 \n",
      " 3   Confidence  9 non-null      int64 \n",
      " 4   Efforts     9 non-null      int64 \n",
      "dtypes: int64(4), object(1)\n",
      "memory usage: 488.0+ bytes\n",
      "= = = = = = = = = = = = = = = = = = = = = = = = = = = = = = \n",
      "Первые 5 строк датафрейма\n"
     ]
    },
    {
     "data": {
      "text/html": [
       "<div>\n",
       "<style scoped>\n",
       "    .dataframe tbody tr th:only-of-type {\n",
       "        vertical-align: middle;\n",
       "    }\n",
       "\n",
       "    .dataframe tbody tr th {\n",
       "        vertical-align: top;\n",
       "    }\n",
       "\n",
       "    .dataframe thead th {\n",
       "        text-align: right;\n",
       "    }\n",
       "</style>\n",
       "<table border=\"1\" class=\"dataframe\">\n",
       "  <thead>\n",
       "    <tr style=\"text-align: right;\">\n",
       "      <th></th>\n",
       "      <th>Hypothesis</th>\n",
       "      <th>Reach</th>\n",
       "      <th>Impact</th>\n",
       "      <th>Confidence</th>\n",
       "      <th>Efforts</th>\n",
       "    </tr>\n",
       "  </thead>\n",
       "  <tbody>\n",
       "    <tr>\n",
       "      <th>0</th>\n",
       "      <td>Добавить два новых канала привлечения трафика,...</td>\n",
       "      <td>3</td>\n",
       "      <td>10</td>\n",
       "      <td>8</td>\n",
       "      <td>6</td>\n",
       "    </tr>\n",
       "    <tr>\n",
       "      <th>1</th>\n",
       "      <td>Запустить собственную службу доставки, что сок...</td>\n",
       "      <td>2</td>\n",
       "      <td>5</td>\n",
       "      <td>4</td>\n",
       "      <td>10</td>\n",
       "    </tr>\n",
       "    <tr>\n",
       "      <th>2</th>\n",
       "      <td>Добавить блоки рекомендаций товаров на сайт ин...</td>\n",
       "      <td>8</td>\n",
       "      <td>3</td>\n",
       "      <td>7</td>\n",
       "      <td>3</td>\n",
       "    </tr>\n",
       "    <tr>\n",
       "      <th>3</th>\n",
       "      <td>Изменить структура категорий, что увеличит кон...</td>\n",
       "      <td>8</td>\n",
       "      <td>3</td>\n",
       "      <td>3</td>\n",
       "      <td>8</td>\n",
       "    </tr>\n",
       "    <tr>\n",
       "      <th>4</th>\n",
       "      <td>Изменить цвет фона главной страницы, чтобы уве...</td>\n",
       "      <td>3</td>\n",
       "      <td>1</td>\n",
       "      <td>1</td>\n",
       "      <td>1</td>\n",
       "    </tr>\n",
       "  </tbody>\n",
       "</table>\n",
       "</div>"
      ],
      "text/plain": [
       "                                          Hypothesis  Reach  Impact  \\\n",
       "0  Добавить два новых канала привлечения трафика,...      3      10   \n",
       "1  Запустить собственную службу доставки, что сок...      2       5   \n",
       "2  Добавить блоки рекомендаций товаров на сайт ин...      8       3   \n",
       "3  Изменить структура категорий, что увеличит кон...      8       3   \n",
       "4  Изменить цвет фона главной страницы, чтобы уве...      3       1   \n",
       "\n",
       "   Confidence  Efforts  \n",
       "0           8        6  \n",
       "1           4       10  \n",
       "2           7        3  \n",
       "3           3        8  \n",
       "4           1        1  "
      ]
     },
     "metadata": {},
     "output_type": "display_data"
    },
    {
     "name": "stdout",
     "output_type": "stream",
     "text": [
      "= = = = = = = = = = = = = = = = = = = = = = = = = = = = = = \n",
      "Названия столбцов: ['Hypothesis', 'Reach', 'Impact', 'Confidence', 'Efforts']\n",
      "= = = = = = = = = = = = = = = = = = = = = = = = = = = = = = \n",
      "Инофрмация о пропусках\n"
     ]
    },
    {
     "data": {
      "text/plain": [
       "Hypothesis    0\n",
       "Reach         0\n",
       "Impact        0\n",
       "Confidence    0\n",
       "Efforts       0\n",
       "dtype: int64"
      ]
     },
     "metadata": {},
     "output_type": "display_data"
    },
    {
     "name": "stdout",
     "output_type": "stream",
     "text": [
      "= = = = = = = = = = = = = = = = = = = = = = = = = = = = = = \n",
      "Полных дубликатов: 0\n",
      "============================================================\n"
     ]
    }
   ],
   "source": [
    "my_analysis(hypothesis)"
   ]
  },
  {
   "cell_type": "code",
   "execution_count": 4,
   "metadata": {},
   "outputs": [
    {
     "name": "stdout",
     "output_type": "stream",
     "text": [
      "Общая информация \n",
      "\n",
      "<class 'pandas.core.frame.DataFrame'>\n",
      "RangeIndex: 1197 entries, 0 to 1196\n",
      "Data columns (total 5 columns):\n",
      " #   Column         Non-Null Count  Dtype \n",
      "---  ------         --------------  ----- \n",
      " 0   transactionId  1197 non-null   int64 \n",
      " 1   visitorId      1197 non-null   int64 \n",
      " 2   date           1197 non-null   object\n",
      " 3   revenue        1197 non-null   int64 \n",
      " 4   group          1197 non-null   object\n",
      "dtypes: int64(3), object(2)\n",
      "memory usage: 46.9+ KB\n",
      "= = = = = = = = = = = = = = = = = = = = = = = = = = = = = = \n",
      "Первые 5 строк датафрейма\n"
     ]
    },
    {
     "data": {
      "text/html": [
       "<div>\n",
       "<style scoped>\n",
       "    .dataframe tbody tr th:only-of-type {\n",
       "        vertical-align: middle;\n",
       "    }\n",
       "\n",
       "    .dataframe tbody tr th {\n",
       "        vertical-align: top;\n",
       "    }\n",
       "\n",
       "    .dataframe thead th {\n",
       "        text-align: right;\n",
       "    }\n",
       "</style>\n",
       "<table border=\"1\" class=\"dataframe\">\n",
       "  <thead>\n",
       "    <tr style=\"text-align: right;\">\n",
       "      <th></th>\n",
       "      <th>transactionId</th>\n",
       "      <th>visitorId</th>\n",
       "      <th>date</th>\n",
       "      <th>revenue</th>\n",
       "      <th>group</th>\n",
       "    </tr>\n",
       "  </thead>\n",
       "  <tbody>\n",
       "    <tr>\n",
       "      <th>0</th>\n",
       "      <td>3667963787</td>\n",
       "      <td>3312258926</td>\n",
       "      <td>2019-08-15</td>\n",
       "      <td>1650</td>\n",
       "      <td>B</td>\n",
       "    </tr>\n",
       "    <tr>\n",
       "      <th>1</th>\n",
       "      <td>2804400009</td>\n",
       "      <td>3642806036</td>\n",
       "      <td>2019-08-15</td>\n",
       "      <td>730</td>\n",
       "      <td>B</td>\n",
       "    </tr>\n",
       "    <tr>\n",
       "      <th>2</th>\n",
       "      <td>2961555356</td>\n",
       "      <td>4069496402</td>\n",
       "      <td>2019-08-15</td>\n",
       "      <td>400</td>\n",
       "      <td>A</td>\n",
       "    </tr>\n",
       "    <tr>\n",
       "      <th>3</th>\n",
       "      <td>3797467345</td>\n",
       "      <td>1196621759</td>\n",
       "      <td>2019-08-15</td>\n",
       "      <td>9759</td>\n",
       "      <td>B</td>\n",
       "    </tr>\n",
       "    <tr>\n",
       "      <th>4</th>\n",
       "      <td>2282983706</td>\n",
       "      <td>2322279887</td>\n",
       "      <td>2019-08-15</td>\n",
       "      <td>2308</td>\n",
       "      <td>B</td>\n",
       "    </tr>\n",
       "  </tbody>\n",
       "</table>\n",
       "</div>"
      ],
      "text/plain": [
       "   transactionId   visitorId        date  revenue group\n",
       "0     3667963787  3312258926  2019-08-15     1650     B\n",
       "1     2804400009  3642806036  2019-08-15      730     B\n",
       "2     2961555356  4069496402  2019-08-15      400     A\n",
       "3     3797467345  1196621759  2019-08-15     9759     B\n",
       "4     2282983706  2322279887  2019-08-15     2308     B"
      ]
     },
     "metadata": {},
     "output_type": "display_data"
    },
    {
     "name": "stdout",
     "output_type": "stream",
     "text": [
      "= = = = = = = = = = = = = = = = = = = = = = = = = = = = = = \n",
      "Названия столбцов: ['transactionId', 'visitorId', 'date', 'revenue', 'group']\n",
      "= = = = = = = = = = = = = = = = = = = = = = = = = = = = = = \n",
      "Инофрмация о пропусках\n"
     ]
    },
    {
     "data": {
      "text/plain": [
       "transactionId    0\n",
       "visitorId        0\n",
       "date             0\n",
       "revenue          0\n",
       "group            0\n",
       "dtype: int64"
      ]
     },
     "metadata": {},
     "output_type": "display_data"
    },
    {
     "name": "stdout",
     "output_type": "stream",
     "text": [
      "= = = = = = = = = = = = = = = = = = = = = = = = = = = = = = \n",
      "Полных дубликатов: 0\n",
      "============================================================\n"
     ]
    }
   ],
   "source": [
    "my_analysis(orders)"
   ]
  },
  {
   "cell_type": "code",
   "execution_count": 5,
   "metadata": {},
   "outputs": [
    {
     "name": "stdout",
     "output_type": "stream",
     "text": [
      "Общая информация \n",
      "\n",
      "<class 'pandas.core.frame.DataFrame'>\n",
      "RangeIndex: 62 entries, 0 to 61\n",
      "Data columns (total 3 columns):\n",
      " #   Column    Non-Null Count  Dtype \n",
      "---  ------    --------------  ----- \n",
      " 0   date      62 non-null     object\n",
      " 1   group     62 non-null     object\n",
      " 2   visitors  62 non-null     int64 \n",
      "dtypes: int64(1), object(2)\n",
      "memory usage: 1.6+ KB\n",
      "= = = = = = = = = = = = = = = = = = = = = = = = = = = = = = \n",
      "Первые 5 строк датафрейма\n"
     ]
    },
    {
     "data": {
      "text/html": [
       "<div>\n",
       "<style scoped>\n",
       "    .dataframe tbody tr th:only-of-type {\n",
       "        vertical-align: middle;\n",
       "    }\n",
       "\n",
       "    .dataframe tbody tr th {\n",
       "        vertical-align: top;\n",
       "    }\n",
       "\n",
       "    .dataframe thead th {\n",
       "        text-align: right;\n",
       "    }\n",
       "</style>\n",
       "<table border=\"1\" class=\"dataframe\">\n",
       "  <thead>\n",
       "    <tr style=\"text-align: right;\">\n",
       "      <th></th>\n",
       "      <th>date</th>\n",
       "      <th>group</th>\n",
       "      <th>visitors</th>\n",
       "    </tr>\n",
       "  </thead>\n",
       "  <tbody>\n",
       "    <tr>\n",
       "      <th>0</th>\n",
       "      <td>2019-08-01</td>\n",
       "      <td>A</td>\n",
       "      <td>719</td>\n",
       "    </tr>\n",
       "    <tr>\n",
       "      <th>1</th>\n",
       "      <td>2019-08-02</td>\n",
       "      <td>A</td>\n",
       "      <td>619</td>\n",
       "    </tr>\n",
       "    <tr>\n",
       "      <th>2</th>\n",
       "      <td>2019-08-03</td>\n",
       "      <td>A</td>\n",
       "      <td>507</td>\n",
       "    </tr>\n",
       "    <tr>\n",
       "      <th>3</th>\n",
       "      <td>2019-08-04</td>\n",
       "      <td>A</td>\n",
       "      <td>717</td>\n",
       "    </tr>\n",
       "    <tr>\n",
       "      <th>4</th>\n",
       "      <td>2019-08-05</td>\n",
       "      <td>A</td>\n",
       "      <td>756</td>\n",
       "    </tr>\n",
       "  </tbody>\n",
       "</table>\n",
       "</div>"
      ],
      "text/plain": [
       "         date group  visitors\n",
       "0  2019-08-01     A       719\n",
       "1  2019-08-02     A       619\n",
       "2  2019-08-03     A       507\n",
       "3  2019-08-04     A       717\n",
       "4  2019-08-05     A       756"
      ]
     },
     "metadata": {},
     "output_type": "display_data"
    },
    {
     "name": "stdout",
     "output_type": "stream",
     "text": [
      "= = = = = = = = = = = = = = = = = = = = = = = = = = = = = = \n",
      "Названия столбцов: ['date', 'group', 'visitors']\n",
      "= = = = = = = = = = = = = = = = = = = = = = = = = = = = = = \n",
      "Инофрмация о пропусках\n"
     ]
    },
    {
     "data": {
      "text/plain": [
       "date        0\n",
       "group       0\n",
       "visitors    0\n",
       "dtype: int64"
      ]
     },
     "metadata": {},
     "output_type": "display_data"
    },
    {
     "name": "stdout",
     "output_type": "stream",
     "text": [
      "= = = = = = = = = = = = = = = = = = = = = = = = = = = = = = \n",
      "Полных дубликатов: 0\n",
      "============================================================\n"
     ]
    }
   ],
   "source": [
    "my_analysis(visitors)"
   ]
  },
  {
   "cell_type": "markdown",
   "metadata": {},
   "source": [
    "### Оптимизация данных"
   ]
  },
  {
   "cell_type": "code",
   "execution_count": 6,
   "metadata": {},
   "outputs": [],
   "source": [
    "# перевел столбцы с датами в формат datetime64\n",
    "orders['date'] = pd.to_datetime(orders['date']) \n",
    "visitors['date'] = pd.to_datetime(visitors['date'])\n",
    "\n",
    "# перевод названия столбцов в нижний регистр\n",
    "hypothesis.set_axis(\n",
    "    ['hypothesis', 'reach', 'impact', 'confidence', 'efforts'],\n",
    "    axis = 'columns',inplace = True)"
   ]
  },
  {
   "cell_type": "markdown",
   "metadata": {},
   "source": [
    "### Вывод  \n",
    "  \n",
    "Импортировал библиотеки и таблицы.  \n",
    "Проанализировад данные - аномалий и дубликатов нет.  \n",
    "Конвертировал столбцы с датами из формата 'object' в формат 'datetime64'.  \n",
    "Привел в нижний регистр названия столбцов таблицы 'hypothesis'"
   ]
  },
  {
   "cell_type": "markdown",
   "metadata": {},
   "source": [
    "## Шаг 2. Приоритизация гипотез"
   ]
  },
  {
   "cell_type": "code",
   "execution_count": 7,
   "metadata": {},
   "outputs": [],
   "source": [
    "# расчет ICE (от англ. impact, confidence, effort / ease «влияние, уверенность, усилия / простота»)\n",
    "hypothesis['ICE'] = hypothesis.impact * hypothesis.confidence / hypothesis.efforts \n",
    "\n",
    "# расчет RICE (R от англ. reach, «охват»)\n",
    "hypothesis['RICE'] = (hypothesis.reach * hypothesis.impact * hypothesis.confidence) / hypothesis.efforts"
   ]
  },
  {
   "cell_type": "code",
   "execution_count": 8,
   "metadata": {},
   "outputs": [
    {
     "data": {
      "text/html": [
       "<div>\n",
       "<style scoped>\n",
       "    .dataframe tbody tr th:only-of-type {\n",
       "        vertical-align: middle;\n",
       "    }\n",
       "\n",
       "    .dataframe tbody tr th {\n",
       "        vertical-align: top;\n",
       "    }\n",
       "\n",
       "    .dataframe thead th {\n",
       "        text-align: right;\n",
       "    }\n",
       "</style>\n",
       "<table border=\"1\" class=\"dataframe\">\n",
       "  <thead>\n",
       "    <tr style=\"text-align: right;\">\n",
       "      <th></th>\n",
       "      <th>hypothesis</th>\n",
       "      <th>ICE</th>\n",
       "      <th>reach</th>\n",
       "    </tr>\n",
       "  </thead>\n",
       "  <tbody>\n",
       "    <tr>\n",
       "      <th>8</th>\n",
       "      <td>Запустить акцию, дающую скидку на товар в день рождения</td>\n",
       "      <td>16.200000</td>\n",
       "      <td>1</td>\n",
       "    </tr>\n",
       "    <tr>\n",
       "      <th>0</th>\n",
       "      <td>Добавить два новых канала привлечения трафика, что позволит привлекать на 30% больше пользователей</td>\n",
       "      <td>13.333333</td>\n",
       "      <td>3</td>\n",
       "    </tr>\n",
       "    <tr>\n",
       "      <th>7</th>\n",
       "      <td>Добавить форму подписки на все основные страницы, чтобы собрать базу клиентов для email-рассылок</td>\n",
       "      <td>11.200000</td>\n",
       "      <td>10</td>\n",
       "    </tr>\n",
       "    <tr>\n",
       "      <th>6</th>\n",
       "      <td>Показать на главной странице баннеры с актуальными акциями и распродажами, чтобы увеличить конверсию</td>\n",
       "      <td>8.000000</td>\n",
       "      <td>5</td>\n",
       "    </tr>\n",
       "    <tr>\n",
       "      <th>2</th>\n",
       "      <td>Добавить блоки рекомендаций товаров на сайт интернет магазина, чтобы повысить конверсию и средний чек заказа</td>\n",
       "      <td>7.000000</td>\n",
       "      <td>8</td>\n",
       "    </tr>\n",
       "    <tr>\n",
       "      <th>1</th>\n",
       "      <td>Запустить собственную службу доставки, что сократит срок доставки заказов</td>\n",
       "      <td>2.000000</td>\n",
       "      <td>2</td>\n",
       "    </tr>\n",
       "    <tr>\n",
       "      <th>5</th>\n",
       "      <td>Добавить страницу отзывов клиентов о магазине, что позволит увеличить количество заказов</td>\n",
       "      <td>1.333333</td>\n",
       "      <td>3</td>\n",
       "    </tr>\n",
       "    <tr>\n",
       "      <th>3</th>\n",
       "      <td>Изменить структура категорий, что увеличит конверсию, т.к. пользователи быстрее найдут нужный товар</td>\n",
       "      <td>1.125000</td>\n",
       "      <td>8</td>\n",
       "    </tr>\n",
       "    <tr>\n",
       "      <th>4</th>\n",
       "      <td>Изменить цвет фона главной страницы, чтобы увеличить вовлеченность пользователей</td>\n",
       "      <td>1.000000</td>\n",
       "      <td>3</td>\n",
       "    </tr>\n",
       "  </tbody>\n",
       "</table>\n",
       "</div>"
      ],
      "text/plain": [
       "                                                                                                     hypothesis  \\\n",
       "8                                                       Запустить акцию, дающую скидку на товар в день рождения   \n",
       "0            Добавить два новых канала привлечения трафика, что позволит привлекать на 30% больше пользователей   \n",
       "7              Добавить форму подписки на все основные страницы, чтобы собрать базу клиентов для email-рассылок   \n",
       "6          Показать на главной странице баннеры с актуальными акциями и распродажами, чтобы увеличить конверсию   \n",
       "2  Добавить блоки рекомендаций товаров на сайт интернет магазина, чтобы повысить конверсию и средний чек заказа   \n",
       "1                                     Запустить собственную службу доставки, что сократит срок доставки заказов   \n",
       "5                      Добавить страницу отзывов клиентов о магазине, что позволит увеличить количество заказов   \n",
       "3           Изменить структура категорий, что увеличит конверсию, т.к. пользователи быстрее найдут нужный товар   \n",
       "4                              Изменить цвет фона главной страницы, чтобы увеличить вовлеченность пользователей   \n",
       "\n",
       "         ICE  reach  \n",
       "8  16.200000      1  \n",
       "0  13.333333      3  \n",
       "7  11.200000     10  \n",
       "6   8.000000      5  \n",
       "2   7.000000      8  \n",
       "1   2.000000      2  \n",
       "5   1.333333      3  \n",
       "3   1.125000      8  \n",
       "4   1.000000      3  "
      ]
     },
     "execution_count": 8,
     "metadata": {},
     "output_type": "execute_result"
    }
   ],
   "source": [
    "pd.options.display.max_colwidth = 210 # отобразить всю ячейку\n",
    "hypothesis[['hypothesis', 'ICE', 'reach']].sort_values('ICE', ascending=False)"
   ]
  },
  {
   "cell_type": "code",
   "execution_count": 9,
   "metadata": {},
   "outputs": [
    {
     "data": {
      "text/html": [
       "<div>\n",
       "<style scoped>\n",
       "    .dataframe tbody tr th:only-of-type {\n",
       "        vertical-align: middle;\n",
       "    }\n",
       "\n",
       "    .dataframe tbody tr th {\n",
       "        vertical-align: top;\n",
       "    }\n",
       "\n",
       "    .dataframe thead th {\n",
       "        text-align: right;\n",
       "    }\n",
       "</style>\n",
       "<table border=\"1\" class=\"dataframe\">\n",
       "  <thead>\n",
       "    <tr style=\"text-align: right;\">\n",
       "      <th></th>\n",
       "      <th>hypothesis</th>\n",
       "      <th>RICE</th>\n",
       "      <th>reach</th>\n",
       "    </tr>\n",
       "  </thead>\n",
       "  <tbody>\n",
       "    <tr>\n",
       "      <th>7</th>\n",
       "      <td>Добавить форму подписки на все основные страницы, чтобы собрать базу клиентов для email-рассылок</td>\n",
       "      <td>112.0</td>\n",
       "      <td>10</td>\n",
       "    </tr>\n",
       "    <tr>\n",
       "      <th>2</th>\n",
       "      <td>Добавить блоки рекомендаций товаров на сайт интернет магазина, чтобы повысить конверсию и средний чек заказа</td>\n",
       "      <td>56.0</td>\n",
       "      <td>8</td>\n",
       "    </tr>\n",
       "    <tr>\n",
       "      <th>0</th>\n",
       "      <td>Добавить два новых канала привлечения трафика, что позволит привлекать на 30% больше пользователей</td>\n",
       "      <td>40.0</td>\n",
       "      <td>3</td>\n",
       "    </tr>\n",
       "    <tr>\n",
       "      <th>6</th>\n",
       "      <td>Показать на главной странице баннеры с актуальными акциями и распродажами, чтобы увеличить конверсию</td>\n",
       "      <td>40.0</td>\n",
       "      <td>5</td>\n",
       "    </tr>\n",
       "    <tr>\n",
       "      <th>8</th>\n",
       "      <td>Запустить акцию, дающую скидку на товар в день рождения</td>\n",
       "      <td>16.2</td>\n",
       "      <td>1</td>\n",
       "    </tr>\n",
       "    <tr>\n",
       "      <th>3</th>\n",
       "      <td>Изменить структура категорий, что увеличит конверсию, т.к. пользователи быстрее найдут нужный товар</td>\n",
       "      <td>9.0</td>\n",
       "      <td>8</td>\n",
       "    </tr>\n",
       "    <tr>\n",
       "      <th>1</th>\n",
       "      <td>Запустить собственную службу доставки, что сократит срок доставки заказов</td>\n",
       "      <td>4.0</td>\n",
       "      <td>2</td>\n",
       "    </tr>\n",
       "    <tr>\n",
       "      <th>5</th>\n",
       "      <td>Добавить страницу отзывов клиентов о магазине, что позволит увеличить количество заказов</td>\n",
       "      <td>4.0</td>\n",
       "      <td>3</td>\n",
       "    </tr>\n",
       "    <tr>\n",
       "      <th>4</th>\n",
       "      <td>Изменить цвет фона главной страницы, чтобы увеличить вовлеченность пользователей</td>\n",
       "      <td>3.0</td>\n",
       "      <td>3</td>\n",
       "    </tr>\n",
       "  </tbody>\n",
       "</table>\n",
       "</div>"
      ],
      "text/plain": [
       "                                                                                                     hypothesis  \\\n",
       "7              Добавить форму подписки на все основные страницы, чтобы собрать базу клиентов для email-рассылок   \n",
       "2  Добавить блоки рекомендаций товаров на сайт интернет магазина, чтобы повысить конверсию и средний чек заказа   \n",
       "0            Добавить два новых канала привлечения трафика, что позволит привлекать на 30% больше пользователей   \n",
       "6          Показать на главной странице баннеры с актуальными акциями и распродажами, чтобы увеличить конверсию   \n",
       "8                                                       Запустить акцию, дающую скидку на товар в день рождения   \n",
       "3           Изменить структура категорий, что увеличит конверсию, т.к. пользователи быстрее найдут нужный товар   \n",
       "1                                     Запустить собственную службу доставки, что сократит срок доставки заказов   \n",
       "5                      Добавить страницу отзывов клиентов о магазине, что позволит увеличить количество заказов   \n",
       "4                              Изменить цвет фона главной страницы, чтобы увеличить вовлеченность пользователей   \n",
       "\n",
       "    RICE  reach  \n",
       "7  112.0     10  \n",
       "2   56.0      8  \n",
       "0   40.0      3  \n",
       "6   40.0      5  \n",
       "8   16.2      1  \n",
       "3    9.0      8  \n",
       "1    4.0      2  \n",
       "5    4.0      3  \n",
       "4    3.0      3  "
      ]
     },
     "execution_count": 9,
     "metadata": {},
     "output_type": "execute_result"
    }
   ],
   "source": [
    "hypothesis[['hypothesis', 'RICE', 'reach']].sort_values('RICE', ascending=False)"
   ]
  },
  {
   "cell_type": "markdown",
   "metadata": {},
   "source": [
    "### Вывод  \n",
    "  \n",
    "Расчитал ICE и RICE.   \n",
    "  \n",
    "Наиболее перспективные гипотезы по **ICE**:  \n",
    "  \n",
    "* Запустить акцию, дающую скидку на товар в день рождения  \n",
    "* Добавить два новых канала привлечения трафика, что позволит привлекать на 30% больше пользователей  \n",
    "* Добавить форму подписки на все основные страницы, чтобы собрать базу клиентов для email-рассылок  \n",
    "* Показать на главной странице баннеры с актуальными акциями и распродажами, чтобы увеличить конверсию  \n",
    "* Добавить блоки рекомендаций товаров на сайт интернет магазина, чтобы повысить конверсию и средний чек заказа\n",
    "  \n",
    "Наиболее перспективные гипотезы по **RICE**:  \n",
    "  \n",
    "* Добавить форму подписки на все основные страницы, чтобы собрать базу клиентов для email-рассылок  \n",
    "* Добавить блоки рекомендаций товаров на сайт интернет магазина, чтобы повысить конверсию и средний чек   заказа  \n",
    "* Добавить два новых канала привлечения трафика, что позволит привлекать на 30% больше пользователей  \n",
    "* Показать на главной странице баннеры с актуальными акциями и распродажами, чтобы увеличить конверсию  \n",
    "* Запустить акцию, дающую скидку на товар в день рождения   \n",
    "  \n",
    "Рейтинг гипотез  ICE и RICE сильно отличаются. Происходит это из-за большой разницы в охвате.  \n",
    "На первых двух местах по ICE гипотезы с охватом - 1 и 3 соответсвенно. по RICE - 10 и 8.  \n",
    "  \n",
    "Гипотезы фреймворка RICE, набравшие наибольшее количество баллов, являются наиболее приоритетными. Именно их рекомендуется использовать при проведении A/B-теста."
   ]
  },
  {
   "cell_type": "markdown",
   "metadata": {},
   "source": [
    "## Шаг 3 Анализ A/B-теста"
   ]
  },
  {
   "cell_type": "markdown",
   "metadata": {},
   "source": [
    "#### Предварительные данные"
   ]
  },
  {
   "cell_type": "code",
   "execution_count": 10,
   "metadata": {},
   "outputs": [],
   "source": [
    "# функция определения минимальной и максимальной дат\n",
    "def dates(x):\n",
    "    display(x.date.min())\n",
    "    display(x.date.max())"
   ]
  },
  {
   "cell_type": "code",
   "execution_count": 11,
   "metadata": {},
   "outputs": [
    {
     "data": {
      "text/plain": [
       "Timestamp('2019-08-01 00:00:00')"
      ]
     },
     "metadata": {},
     "output_type": "display_data"
    },
    {
     "data": {
      "text/plain": [
       "Timestamp('2019-08-31 00:00:00')"
      ]
     },
     "metadata": {},
     "output_type": "display_data"
    }
   ],
   "source": [
    "# минимальная и максимальная дата\n",
    "dates(visitors)"
   ]
  },
  {
   "cell_type": "code",
   "execution_count": 12,
   "metadata": {},
   "outputs": [
    {
     "data": {
      "text/plain": [
       "Timestamp('2019-08-01 00:00:00')"
      ]
     },
     "metadata": {},
     "output_type": "display_data"
    },
    {
     "data": {
      "text/plain": [
       "Timestamp('2019-08-31 00:00:00')"
      ]
     },
     "metadata": {},
     "output_type": "display_data"
    }
   ],
   "source": [
    "# минимальная и максимальная дата\n",
    "dates(visitors)"
   ]
  },
  {
   "cell_type": "code",
   "execution_count": 13,
   "metadata": {},
   "outputs": [
    {
     "data": {
      "text/html": [
       "<div>\n",
       "<style scoped>\n",
       "    .dataframe tbody tr th:only-of-type {\n",
       "        vertical-align: middle;\n",
       "    }\n",
       "\n",
       "    .dataframe tbody tr th {\n",
       "        vertical-align: top;\n",
       "    }\n",
       "\n",
       "    .dataframe thead th {\n",
       "        text-align: right;\n",
       "    }\n",
       "</style>\n",
       "<table border=\"1\" class=\"dataframe\">\n",
       "  <thead>\n",
       "    <tr style=\"text-align: right;\">\n",
       "      <th></th>\n",
       "      <th>transactionId</th>\n",
       "    </tr>\n",
       "    <tr>\n",
       "      <th>group</th>\n",
       "      <th></th>\n",
       "    </tr>\n",
       "  </thead>\n",
       "  <tbody>\n",
       "    <tr>\n",
       "      <th>A</th>\n",
       "      <td>557</td>\n",
       "    </tr>\n",
       "    <tr>\n",
       "      <th>B</th>\n",
       "      <td>640</td>\n",
       "    </tr>\n",
       "  </tbody>\n",
       "</table>\n",
       "</div>"
      ],
      "text/plain": [
       "       transactionId\n",
       "group               \n",
       "A                557\n",
       "B                640"
      ]
     },
     "execution_count": 13,
     "metadata": {},
     "output_type": "execute_result"
    }
   ],
   "source": [
    "# общее количество заказов в двух группах\n",
    "orders.groupby('group').agg({'transactionId' : 'count'})"
   ]
  },
  {
   "cell_type": "code",
   "execution_count": 14,
   "metadata": {},
   "outputs": [
    {
     "data": {
      "text/html": [
       "<div>\n",
       "<style scoped>\n",
       "    .dataframe tbody tr th:only-of-type {\n",
       "        vertical-align: middle;\n",
       "    }\n",
       "\n",
       "    .dataframe tbody tr th {\n",
       "        vertical-align: top;\n",
       "    }\n",
       "\n",
       "    .dataframe thead th {\n",
       "        text-align: right;\n",
       "    }\n",
       "</style>\n",
       "<table border=\"1\" class=\"dataframe\">\n",
       "  <thead>\n",
       "    <tr style=\"text-align: right;\">\n",
       "      <th></th>\n",
       "      <th>visitorId</th>\n",
       "    </tr>\n",
       "    <tr>\n",
       "      <th>group</th>\n",
       "      <th></th>\n",
       "    </tr>\n",
       "  </thead>\n",
       "  <tbody>\n",
       "    <tr>\n",
       "      <th>A</th>\n",
       "      <td>503</td>\n",
       "    </tr>\n",
       "    <tr>\n",
       "      <th>B</th>\n",
       "      <td>586</td>\n",
       "    </tr>\n",
       "  </tbody>\n",
       "</table>\n",
       "</div>"
      ],
      "text/plain": [
       "       visitorId\n",
       "group           \n",
       "A            503\n",
       "B            586"
      ]
     },
     "execution_count": 14,
     "metadata": {},
     "output_type": "execute_result"
    }
   ],
   "source": [
    "# общее количество уникальных пользователей в двух группах\n",
    "orders.groupby('group').agg({'visitorId' : 'nunique'})"
   ]
  },
  {
   "cell_type": "code",
   "execution_count": 15,
   "metadata": {},
   "outputs": [
    {
     "data": {
      "text/plain": [
       "58"
      ]
     },
     "execution_count": 15,
     "metadata": {},
     "output_type": "execute_result"
    }
   ],
   "source": [
    "# количество уникальных пользователей, которые оказались одновременно в двух группах\n",
    "unique_visitors = orders.loc[:, ['visitorId', 'group']].drop_duplicates().drop(columns=['group'])\n",
    "unique_visitors.visitorId.duplicated().sum()"
   ]
  },
  {
   "cell_type": "markdown",
   "metadata": {},
   "source": [
    "##### Вывод  \n",
    "  \n",
    "Тест начался 1 августа 2019 и закончился 31 августа 2019  \n",
    "Общее количество заказов в группах не совпадает. В группе А зафиксировано 557 заказов, в группе В - 640. Сравнение уникальных пользователей также выявило различия. В группе В на 83 уникальных пользователя больше. Кроме того, в группе А и группе В оказалось 58 пользователей одновременно."
   ]
  },
  {
   "cell_type": "markdown",
   "metadata": {},
   "source": [
    "### Графики"
   ]
  },
  {
   "cell_type": "markdown",
   "metadata": {},
   "source": [
    "#### График кумулятивной выручки по группам."
   ]
  },
  {
   "cell_type": "code",
   "execution_count": 16,
   "metadata": {},
   "outputs": [],
   "source": [
    "# DF с уникальными парами 'date' и'group'\n",
    "datesGroups = orders[['date', 'group']].drop_duplicates() "
   ]
  },
  {
   "cell_type": "code",
   "execution_count": 17,
   "metadata": {},
   "outputs": [],
   "source": [
    "# агрегированные кумулятивные по дням данные о заказах\n",
    "ordersAggregated = datesGroups.apply(\n",
    "    # строки таблицы orders, дата которых меньше или равна дате элемента из datesGroups\n",
    "    lambda x: orders[\n",
    "        np.logical_and(\n",
    "            orders['date'] <= x['date'], orders['group'] == x['group'] \n",
    "        )\n",
    "    ].agg(\n",
    "        {\n",
    "            'date': 'max', # максимальная дата\n",
    "            'group': 'max',\n",
    "            'transactionId': 'nunique', # число уникальных ID заказов\n",
    "            'visitorId': 'nunique', # число уникальных ID пользователей\n",
    "            'revenue': 'sum', # сумма средних чеков\n",
    "        }\n",
    "    ),\n",
    "    axis=1, # Применим методы к каждой строке DF\n",
    ").sort_values(by=['date', 'group']) \n"
   ]
  },
  {
   "cell_type": "code",
   "execution_count": 18,
   "metadata": {},
   "outputs": [],
   "source": [
    "# агрегированные кумулятивные по дням данные о посетителях  \n",
    "visitorsAggregated = datesGroups.apply(\n",
    "    # строки таблицы visitors, дата которых меньше или равна дате элемента из datesGroups\n",
    "    lambda x: visitors[\n",
    "        np.logical_and(\n",
    "            visitors['date'] <= x['date'], visitors['group'] == x['group']\n",
    "        )\n",
    "    ].agg(\n",
    "        {\n",
    "            'date' : 'max', # максимальная дата\n",
    "            'group' : 'max', \n",
    "            'visitors' : 'sum' # число уникальных ID пользователей\n",
    "        }\n",
    "    ),\n",
    "    axis=1 # Применим методы к каждой строке DF\n",
    ").sort_values(by=['date','group'])"
   ]
  },
  {
   "cell_type": "code",
   "execution_count": 19,
   "metadata": {},
   "outputs": [],
   "source": [
    "# объединяем кумулятивные данные в одной таблице \n",
    "cumulativeData = ordersAggregated.merge(\n",
    "    visitorsAggregated, left_on=['date', 'group'], right_on=['date', 'group'])\n",
    "\n",
    "# и присваиваем ее столбцам понятные названия\n",
    "cumulativeData.columns = ['date', 'group', 'orders', 'buyers', 'revenue', 'visitors']\n"
   ]
  },
  {
   "cell_type": "code",
   "execution_count": 20,
   "metadata": {},
   "outputs": [],
   "source": [
    "# датафрейм с кумулятивным количеством заказов и кумулятивной выручкой по дням в группе А\n",
    "cumulativeRevenueA = cumulativeData[cumulativeData['group']=='A'][['date','revenue', 'orders']]\n",
    "# датафрейм с кумулятивным количеством заказов и кумулятивной выручкой по дням в группе B\n",
    "cumulativeRevenueB = cumulativeData[cumulativeData['group']=='B'][['date','revenue', 'orders']]"
   ]
  },
  {
   "cell_type": "code",
   "execution_count": 21,
   "metadata": {},
   "outputs": [
    {
     "data": {
      "image/png": "[encoded data removed]",
      "text/plain": [
       "<Figure size 720x432 with 1 Axes>"
      ]
     },
     "metadata": {
      "needs_background": "light"
     },
     "output_type": "display_data"
    }
   ],
   "source": [
    "plt.figure(figsize=(10, 6)) # размер графика\n",
    "\n",
    "# Строим график выручки группы А\n",
    "plt.plot(cumulativeRevenueA['date'], cumulativeRevenueA['revenue'], label='A')\n",
    "\n",
    "# Строим график выручки группы B\n",
    "plt.plot(cumulativeRevenueB['date'], cumulativeRevenueB['revenue'], label='B')\n",
    "\n",
    "plt.legend() # подпись графиков\n",
    "plt.xticks(rotation=45) # поворот подписи оси Х\n",
    "plt.xlabel('Дата')\n",
    "plt.ylabel('Выручка') \n",
    "plt.title('График кумулятивной выручки')\n",
    "plt.show()\n"
   ]
  },
  {
   "cell_type": "markdown",
   "metadata": {},
   "source": [
    "##### Вывод  \n",
    "  \n",
    "Выручка росло в обеих группах.    \n",
    "Группа 'B' вышла вперед 5-го августа и резко увеличила разрыв с 8 августа.  \n",
    "Резкие скачки могут сигнализировать о всплесках числа заказов, либо о появлении очень дорогих заказов в выборке. "
   ]
  },
  {
   "cell_type": "markdown",
   "metadata": {},
   "source": [
    "#### График кумулятивного среднего чека по группам"
   ]
  },
  {
   "cell_type": "code",
   "execution_count": 22,
   "metadata": {},
   "outputs": [
    {
     "data": {
      "image/png": "[encoded data removed]",
      "text/plain": [
       "<Figure size 720x432 with 1 Axes>"
      ]
     },
     "metadata": {
      "needs_background": "light"
     },
     "output_type": "display_data"
    }
   ],
   "source": [
    "plt.figure(figsize=(10, 6)) # размер графика\n",
    "\n",
    "# график среднего чека группы А\n",
    "plt.plot(cumulativeRevenueA['date'], cumulativeRevenueA['revenue']/cumulativeRevenueA['orders'], label='A')\n",
    "\n",
    "# график среднего чека группы В\n",
    "plt.plot(cumulativeRevenueB['date'], cumulativeRevenueB['revenue']/cumulativeRevenueB['orders'], label='B')\n",
    "plt.legend() # подпись графиков\n",
    "plt.xticks(rotation=45) # поворот подписи оси Х\n",
    "plt.xlabel('Дата')\n",
    "plt.ylabel('Средний чек') \n",
    "plt.title('График кумулятивного среднего чека')\n",
    "plt.show()"
   ]
  },
  {
   "cell_type": "markdown",
   "metadata": {},
   "source": [
    "##### Вывод  \n",
    "  \n",
    "Очень сильные колебания среднего чека в обеих группах.  \n",
    "Самый сильный скачек у группы 'B' 17 августа, после которого плавное снижение.  \n",
    "Возможно, в группу B попали крупные заказы."
   ]
  },
  {
   "cell_type": "markdown",
   "metadata": {},
   "source": [
    "#### График относительного изменения кумулятивного среднего чека группы B к группе A."
   ]
  },
  {
   "cell_type": "code",
   "execution_count": 23,
   "metadata": {},
   "outputs": [
    {
     "data": {
      "image/png": "[encoded data removed]",
      "text/plain": [
       "<Figure size 720x432 with 1 Axes>"
      ]
     },
     "metadata": {
      "needs_background": "light"
     },
     "output_type": "display_data"
    }
   ],
   "source": [
    "plt.figure(figsize=(10, 6)) # размер графика\n",
    "\n",
    "# собираем данные в одном датафрейме\n",
    "mergedCumulativeRevenue = cumulativeRevenueA.merge(\n",
    "    cumulativeRevenueB, left_on='date', right_on='date', how='left', suffixes=['A', 'B'])\n",
    "\n",
    "# cтроим отношение средних чеков\n",
    "plt.plot(\n",
    "    mergedCumulativeRevenue['date'], \n",
    "    (mergedCumulativeRevenue['revenueB']/mergedCumulativeRevenue['ordersB'])\n",
    "    /\n",
    "    (mergedCumulativeRevenue['revenueA']/mergedCumulativeRevenue['ordersA'])-1)\n",
    "\n",
    "# добавляем ось X\n",
    "plt.axhline(y=0, color='black', linestyle='--')\n",
    "\n",
    "plt.xticks(rotation=45) # поворот подписи оси Х  \n",
    "plt.xlabel('Дата')\n",
    "plt.title('Относительного изменения кумулятивного среднего чека группы B к группе A')\n",
    "plt.show()"
   ]
  },
  {
   "cell_type": "markdown",
   "metadata": {},
   "source": [
    "##### Вывод  \n",
    "  \n",
    "В нескольких точках график различия между группами резко «скачет». Видимо тогда были совершены крупные заказы."
   ]
  },
  {
   "cell_type": "markdown",
   "metadata": {},
   "source": [
    "#### График кумулятивной конверсии по группам"
   ]
  },
  {
   "cell_type": "code",
   "execution_count": 24,
   "metadata": {},
   "outputs": [
    {
     "data": {
      "image/png": "[encoded data removed]",
      "text/plain": [
       "<Figure size 720x432 with 1 Axes>"
      ]
     },
     "metadata": {
      "needs_background": "light"
     },
     "output_type": "display_data"
    }
   ],
   "source": [
    "plt.figure(figsize=(10, 6)) # размер графика\n",
    "\n",
    "# считаем кумулятивную конверсию\n",
    "cumulativeData['conversion'] = cumulativeData['orders']/cumulativeData['visitors']\n",
    "\n",
    "# отделяем данные по группе A\n",
    "cumulativeDataA = cumulativeData[cumulativeData['group']=='A']\n",
    "\n",
    "# отделяем данные по группе B\n",
    "cumulativeDataB = cumulativeData[cumulativeData['group']=='B']\n",
    "\n",
    "# строим графики\n",
    "plt.plot(cumulativeDataA['date'], cumulativeDataA['conversion'], label='A')\n",
    "plt.plot(cumulativeDataB['date'], cumulativeDataB['conversion'], label='B')\n",
    "plt.legend()\n",
    "\n",
    "# задаем масштаб осей\n",
    "plt.axis([dt.datetime(2019, 7, 31), dt.datetime(2019, 9, 1), 0.025, 0.04])\n",
    "plt.xticks(rotation=45) # поворот подписи оси Х  \n",
    "plt.xlabel('Дата')\n",
    "plt.ylabel('Конверсия') \n",
    "plt.title('График кумулятивной конверсии')\n",
    "plt.show()"
   ]
  },
  {
   "cell_type": "markdown",
   "metadata": {},
   "source": [
    "##### Вывод  \n",
    "  \n",
    "В начале теста конварсия группы 'B' была ниже. Но уже на 6-й день стала выше конверсии группы 'A' и зафиксировалась примерно на одном уровне с 17 августа.  \n",
    "КОнверсия группы 'A' начал проседать с начала эксперемента, изафиксировалась примерно 10 августа."
   ]
  },
  {
   "cell_type": "markdown",
   "metadata": {},
   "source": [
    "#### График относительного изменения кумулятивной конверсии группы B к группе A"
   ]
  },
  {
   "cell_type": "code",
   "execution_count": 25,
   "metadata": {},
   "outputs": [
    {
     "data": {
      "image/png": "[encoded data removed]",
      "text/plain": [
       "<Figure size 720x432 with 1 Axes>"
      ]
     },
     "metadata": {
      "needs_background": "light"
     },
     "output_type": "display_data"
    }
   ],
   "source": [
    "plt.figure(figsize=(10, 6)) # размер графика\n",
    "\n",
    "# объединение кумулятивных таблиц с конверсией\n",
    "mergedCumulativeConversions = cumulativeDataA[['date','conversion']].merge(\n",
    "    cumulativeDataB[['date','conversion']], left_on='date', right_on='date', how='left', suffixes=['A', 'B'])\n",
    "\n",
    "# строим график\n",
    "plt.plot(mergedCumulativeConversions['date'], \n",
    "         mergedCumulativeConversions['conversionB']/mergedCumulativeConversions['conversionA']-1, \n",
    "         label=\"Относительный прирост конверсии группы B относительно группы A\")\n",
    "plt.legend()\n",
    "\n",
    "# задаем параметры осей\n",
    "plt.axhline(y=0, color='black', linestyle='--')\n",
    "plt.axhline(y=0.12, color='grey', linestyle='--')\n",
    "plt.axis([dt.datetime(2019, 7, 31), dt.datetime(2019, 9, 1), -0.3, 0.4])\n",
    "plt.xticks(rotation=45) # поворот подписи оси Х  \n",
    "plt.xlabel('Дата')\n",
    "plt.show()"
   ]
  },
  {
   "cell_type": "markdown",
   "metadata": {},
   "source": [
    "##### Вывод  \n",
    "  \n",
    "В начале теста, конверсия группы 'B' проигрывала относительно грыппы 'А'. Но начиная с 5 августа резко вышла в перед, дойдя до 20%, и в третьей декаде августа установилась на уровне 12%   "
   ]
  },
  {
   "cell_type": "markdown",
   "metadata": {},
   "source": [
    "#### Гистограмма и точечный график количества заказов по пользователям"
   ]
  },
  {
   "cell_type": "code",
   "execution_count": 26,
   "metadata": {},
   "outputs": [],
   "source": [
    "ordersByUsers = (\n",
    "    orders.groupby('visitorId', as_index=False) # сгруппируем заказы по пользователям\n",
    "    .agg({'transactionId': 'nunique'}) # подсчитает число уникальных заказов\n",
    ")\n",
    "ordersByUsers.columns = ['userId', 'orders'] # переименование столбцов\n"
   ]
  },
  {
   "cell_type": "code",
   "execution_count": 27,
   "metadata": {},
   "outputs": [
    {
     "data": {
      "image/png": "[encoded data removed]",
      "text/plain": [
       "<Figure size 432x288 with 1 Axes>"
      ]
     },
     "metadata": {
      "needs_background": "light"
     },
     "output_type": "display_data"
    }
   ],
   "source": [
    "ordersByUsers.orders.hist() # гистограмма\n",
    "plt.show()"
   ]
  },
  {
   "cell_type": "code",
   "execution_count": 28,
   "metadata": {
    "scrolled": false
   },
   "outputs": [
    {
     "data": {
      "image/png": "[encoded data removed]",
      "text/plain": [
       "<Figure size 720x432 with 1 Axes>"
      ]
     },
     "metadata": {
      "needs_background": "light"
     },
     "output_type": "display_data"
    }
   ],
   "source": [
    "# серия из чисел от 0 до количества наблюдений в ordersByUsers\n",
    "x_values = pd.Series(range(0, len(ordersByUsers)))\n",
    "\n",
    "# строим точечный график\n",
    "plt.figure(figsize=(10, 6)) # размер графика\n",
    "plt.scatter(x_values, ordersByUsers.orders)\n",
    "\n",
    "plt.show()"
   ]
  },
  {
   "cell_type": "markdown",
   "metadata": {},
   "source": [
    "##### Вывод  \n",
    "Построил гистограмму и точечный график.  \n",
    "Видно что в основном пользователи ограничиваются 1-2 покупками. Но есть аномальные значения от 3-10 покупок."
   ]
  },
  {
   "cell_type": "markdown",
   "metadata": {},
   "source": [
    "#### Перцентили количества заказов на пользователя"
   ]
  },
  {
   "cell_type": "code",
   "execution_count": 29,
   "metadata": {},
   "outputs": [
    {
     "data": {
      "text/plain": [
       "array([1., 2., 4.])"
      ]
     },
     "execution_count": 29,
     "metadata": {},
     "output_type": "execute_result"
    }
   ],
   "source": [
    "np.percentile(ordersByUsers['orders'], [90, 95, 99]) # количество заказов по перцентилям"
   ]
  },
  {
   "cell_type": "markdown",
   "metadata": {},
   "source": [
    "##### Вывод  \n",
    "  \n",
    "95 процентов пользователей сделали менее двух покупок"
   ]
  },
  {
   "cell_type": "markdown",
   "metadata": {},
   "source": [
    "#### Гистограмма и точечный график стоимостей заказов"
   ]
  },
  {
   "cell_type": "code",
   "execution_count": 30,
   "metadata": {},
   "outputs": [
    {
     "data": {
      "image/png": "[encoded data removed]",
      "text/plain": [
       "<Figure size 432x288 with 1 Axes>"
      ]
     },
     "metadata": {
      "needs_background": "light"
     },
     "output_type": "display_data"
    }
   ],
   "source": [
    "orders.revenue.hist() # гистограмма\n",
    "plt.show()"
   ]
  },
  {
   "cell_type": "code",
   "execution_count": 31,
   "metadata": {},
   "outputs": [
    {
     "data": {
      "image/png": "[encoded data removed]",
      "text/plain": [
       "<Figure size 720x432 with 1 Axes>"
      ]
     },
     "metadata": {
      "needs_background": "light"
     },
     "output_type": "display_data"
    }
   ],
   "source": [
    "# серия из чисел от 0 до количества наблюдений в ordersByUsers\n",
    "x_values = pd.Series(range(0, len(orders['revenue'])))\n",
    "\n",
    "# строим точечный график\n",
    "plt.figure(figsize=(10, 6)) # размер графика\n",
    "plt.scatter(x_values, orders.revenue)\n",
    "plt.show()"
   ]
  },
  {
   "cell_type": "markdown",
   "metadata": {},
   "source": [
    "##### Вывод  \n",
    "  \n",
    "Построил гистограмму и точечный график.  \n",
    "Видно что стоимость покупки не привышает 20 000. Но есть аномальные значения в плоть до 1 млн за покупку."
   ]
  },
  {
   "cell_type": "markdown",
   "metadata": {},
   "source": [
    "#### Перцентили стоимости заказов."
   ]
  },
  {
   "cell_type": "code",
   "execution_count": 32,
   "metadata": {
    "scrolled": true
   },
   "outputs": [
    {
     "data": {
      "text/plain": [
       "array([18168. , 28000. , 58233.2])"
      ]
     },
     "execution_count": 32,
     "metadata": {},
     "output_type": "execute_result"
    }
   ],
   "source": [
    "np.percentile(orders.revenue, [90,95,99]) # стоимость заказов по перцентилям"
   ]
  },
  {
   "cell_type": "markdown",
   "metadata": {},
   "source": [
    "##### Вывод  \n",
    "  \n",
    "Стоимость 95% покупок не превышает 28 000"
   ]
  },
  {
   "cell_type": "markdown",
   "metadata": {},
   "source": [
    "### Статистика"
   ]
  },
  {
   "cell_type": "markdown",
   "metadata": {},
   "source": [
    "#### Статистическая значимость различий в конверсии между группами по «сырым» данным"
   ]
  },
  {
   "cell_type": "markdown",
   "metadata": {},
   "source": [
    "Сформулируем **гипотезы**.  \n",
    "* Нулевая: различий в конверсии между группами нет.  \n",
    "* Альтернативная: различия в конверсии между группами есть."
   ]
  },
  {
   "cell_type": "code",
   "execution_count": 33,
   "metadata": {},
   "outputs": [],
   "source": [
    "# таьлица посетителей группа 'A'\n",
    "visitorsADaily = visitors[visitors['group'] == 'A'][['date', 'visitors']]\n",
    "visitorsADaily.columns = ['date', 'visitorsPerDateA'] # название столбцов\n",
    "\n",
    "# агрегированные кумулятивные по дням данные о количестве посетителей группа 'A'\n",
    "visitorsACummulative = visitorsADaily.apply(\n",
    "    lambda x: visitorsADaily[visitorsADaily['date'] <= x['date']].agg(\n",
    "        {'date': 'max', \n",
    "         'visitorsPerDateA': 'sum'} # количество посетителей\n",
    "    ),\n",
    "    axis=1, # Применим методы к каждой строке DF\n",
    ")\n",
    "visitorsACummulative.columns = ['date', 'visitorsCummulativeA'] # название столбцов\n",
    "\n",
    "# таьлица посетителей группа 'B'\n",
    "visitorsBDaily = visitors[visitors['group'] == 'B'][['date', 'visitors']]\n",
    "visitorsBDaily.columns = ['date', 'visitorsPerDateB'] # название столбцов\n",
    "\n",
    "# агрегированные кумулятивные по дням данные о количестве посетителей группа 'В'\n",
    "visitorsBCummulative = visitorsBDaily.apply(\n",
    "    lambda x: visitorsBDaily[visitorsBDaily['date'] <= x['date']].agg(\n",
    "        {'date': 'max', 'visitorsPerDateB': 'sum'}\n",
    "    ),\n",
    "    axis=1, # Применим методы к каждой строке DF\n",
    ")\n",
    "visitorsBCummulative.columns = ['date', 'visitorsCummulativeB'] # название столбцов"
   ]
  },
  {
   "cell_type": "code",
   "execution_count": 34,
   "metadata": {},
   "outputs": [],
   "source": [
    "# таблица с заказами группа \"А\"\n",
    "ordersADaily = (\n",
    "    orders[orders['group'] == 'A'][['date', 'transactionId', 'visitorId', 'revenue']]\n",
    "    .groupby('date', as_index=False) # группировка по дате и сброс индекса\n",
    "    .agg({'transactionId': pd.Series.nunique, # уникальное id заказа\n",
    "          'revenue': 'sum'}) # сумма выручки\n",
    ")\n",
    "ordersADaily.columns = ['date', 'ordersPerDateA', 'revenuePerDateA'] # название столбцов\n",
    "\n",
    "# агрегированные кумулятивные по дням данные о заказах посетителей группа 'А'\n",
    "ordersACummulative = ordersADaily.apply(\n",
    "    lambda x: ordersADaily[ordersADaily['date'] <= x['date']].agg(\n",
    "        {'date': 'max', \n",
    "         'ordersPerDateA': 'sum', # количество заказов\n",
    "         'revenuePerDateA': 'sum'} # выручка\n",
    "    ),\n",
    "    axis=1, # Применим методы к каждой строке DF\n",
    ").sort_values(by=['date']) # сортировка по дате\n",
    "\n",
    "ordersACummulative.columns = [\n",
    "    'date',\n",
    "    'ordersCummulativeA',\n",
    "    'revenueCummulativeA',\n",
    "] # название столбцов\n",
    "\n",
    "# таблица с заказами группа \"В\"\n",
    "ordersBDaily = (\n",
    "    orders[orders['group'] == 'B'][['date', 'transactionId', 'visitorId', 'revenue']]\n",
    "    .groupby('date', as_index=False) # группировка по дате и сброс индекса\n",
    "    .agg({'transactionId': pd.Series.nunique, # уникальное id заказа\n",
    "          'revenue': 'sum'}) # сумма выручки\n",
    ")\n",
    "ordersBDaily.columns = ['date', 'ordersPerDateB', 'revenuePerDateB'] # название столбцов\n",
    "\n",
    "# агрегированные кумулятивные по дням данные о заказах посетителей группа 'В'\n",
    "ordersBCummulative = ordersBDaily.apply(\n",
    "    lambda x: ordersBDaily[ordersBDaily['date'] <= x['date']].agg(\n",
    "        {'date': 'max', \n",
    "         'ordersPerDateB': 'sum', # количество заказов\n",
    "         'revenuePerDateB': 'sum'} # выручка\n",
    "    ),\n",
    "    axis=1, # Применим методы к каждой строке DF\n",
    ").sort_values(by=['date']) # сортировка по дате\n",
    "\n",
    "ordersBCummulative.columns = [\n",
    "    'date',\n",
    "    'ordersCummulativeB',\n",
    "    'revenueCummulativeB',\n",
    "]  # название столбцов\n"
   ]
  },
  {
   "cell_type": "code",
   "execution_count": 35,
   "metadata": {},
   "outputs": [],
   "source": [
    "# Объединение таблиц\n",
    "data = (\n",
    "    ordersADaily.merge(\n",
    "        ordersBDaily, left_on='date', right_on='date', how='left'\n",
    "    )\n",
    "    .merge(ordersACummulative, left_on='date', right_on='date', how='left')\n",
    "    .merge(ordersBCummulative, left_on='date', right_on='date', how='left')\n",
    "    .merge(visitorsADaily, left_on='date', right_on='date', how='left')\n",
    "    .merge(visitorsBDaily, left_on='date', right_on='date', how='left')\n",
    "    .merge(visitorsACummulative, left_on='date', right_on='date', how='left')\n",
    "    .merge(visitorsBCummulative, left_on='date', right_on='date', how='left')\n",
    ")\n"
   ]
  },
  {
   "cell_type": "code",
   "execution_count": 36,
   "metadata": {},
   "outputs": [],
   "source": [
    "# Таблица с количеством заказов по юзерам. группа \"А\"\n",
    "ordersByUsersA = (\n",
    "    orders[orders['group'] == 'A']\n",
    "    .groupby('visitorId', as_index=False)\n",
    "    .agg({'transactionId': pd.Series.nunique})\n",
    ")\n",
    "ordersByUsersA.columns = ['userId', 'orders'] # название столбцов\n",
    "\n",
    "# Таблица с количеством заказов по юзерам. группа \"B\"\n",
    "ordersByUsersB = (\n",
    "    orders[orders['group'] == 'B']\n",
    "    .groupby('visitorId', as_index=False)\n",
    "    .agg({'transactionId': pd.Series.nunique})\n",
    ")\n",
    "ordersByUsersB.columns = ['userId', 'orders'] # название столбцов"
   ]
  },
  {
   "cell_type": "code",
   "execution_count": 37,
   "metadata": {},
   "outputs": [],
   "source": [
    "# получаем Series объект, где на каждого пользователя проставлено число заказов \n",
    "# (если пользователь не покупал, то стоит 0)\n",
    "\n",
    "# группа \"А\"\n",
    "sampleA = pd.concat(\n",
    "    [ordersByUsersA['orders'],\n",
    "     pd.Series(0, index=np.arange(data['visitorsPerDateA'].sum() - len(ordersByUsersA['orders'])), \n",
    "               name='orders')],\n",
    "    axis=0)\n",
    "\n",
    "# группа \"В\"\n",
    "sampleB = pd.concat(\n",
    "    [ordersByUsersB['orders'],\n",
    "     pd.Series(0, index=np.arange(data['visitorsPerDateB'].sum() - len(ordersByUsersB['orders'])), \n",
    "               name='orders')],\n",
    "    axis=0)"
   ]
  },
  {
   "cell_type": "code",
   "execution_count": 38,
   "metadata": {},
   "outputs": [
    {
     "name": "stdout",
     "output_type": "stream",
     "text": [
      "\n",
      " 0.01679\n",
      "\n",
      " Отвергаем нулевую теорию, в средней конверсии между группами есть статистически значимые различия\n"
     ]
    }
   ],
   "source": [
    "p_value = float(\"{0:.5f}\".format(stats.mannwhitneyu(sampleA, sampleB)[1])) # тест Манна-Уитни\n",
    "\n",
    "print('\\n', p_value)\n",
    "if p_value < 0.05:\n",
    "    print('\\n Отвергаем нулевую теорию, в средней конверсии между группами есть статистически значимые различия')\n",
    "else:\n",
    "    print('\\n Не получилось отвергнуть нулевую гипотезу')"
   ]
  },
  {
   "cell_type": "code",
   "execution_count": 39,
   "metadata": {},
   "outputs": [
    {
     "name": "stdout",
     "output_type": "stream",
     "text": [
      "\n",
      "Относительный прирост средней конверсии B к А:\n",
      "0.13808\n"
     ]
    }
   ],
   "source": [
    "print('\\nОтносительный прирост средней конверсии B к А:')\n",
    "print(\"{0:.5f}\".format(sampleB.mean() / sampleA.mean() - 1))"
   ]
  },
  {
   "cell_type": "markdown",
   "metadata": {},
   "source": [
    "##### Вывод  \n",
    "  \n",
    "Сформулировал Гипотезу. Провел тест.  \n",
    "  \n",
    "В среднем количестве заказов между группами есть статистически значимые различия. Нулевую гипотезу отвергаем.  \n",
    "Относительный прирост среднего группы B к конверсии группы А: ~14%"
   ]
  },
  {
   "cell_type": "markdown",
   "metadata": {},
   "source": [
    "#### Статистическая значимость различий в среднем чеке заказа между группами по «сырым» данным"
   ]
  },
  {
   "cell_type": "markdown",
   "metadata": {},
   "source": [
    "Сформулируем **гипотезы**.  \n",
    "* Нулевая: различий в среднем чеке между группами нет.  \n",
    "* Альтернативная: различия в среднем чеке между группами есть."
   ]
  },
  {
   "cell_type": "code",
   "execution_count": 40,
   "metadata": {},
   "outputs": [
    {
     "name": "stdout",
     "output_type": "stream",
     "text": [
      "\n",
      " 0.729\n",
      "\n",
      " Не получилось отвергнуть нулевую гипотезу\n"
     ]
    }
   ],
   "source": [
    "# p-value тест Манна-Уитни\n",
    "p_value = float('{0:.3f}'.format(\n",
    "    stats.mannwhitneyu(orders[orders['group']=='A']['revenue'], orders[orders['group']=='B']['revenue'])[1]))\n",
    "print('\\n', p_value)\n",
    "if p_value < 0.05:\n",
    "    print('\\n Отвергаем нулевую теорию, в среднем чеке между группами есть статистически значимые различия')\n",
    "else:\n",
    "    print('\\n Не получилось отвергнуть нулевую гипотезу')"
   ]
  },
  {
   "cell_type": "code",
   "execution_count": 41,
   "metadata": {},
   "outputs": [
    {
     "name": "stdout",
     "output_type": "stream",
     "text": [
      "\n",
      "Относительный прирост среднего чека между сегментами:\n",
      "0.259\n"
     ]
    }
   ],
   "source": [
    "print('\\nОтносительный прирост среднего чека между сегментами:')\n",
    "print('{0:.3f}'.format(\n",
    "    orders[orders['group']=='B']['revenue'].mean()/orders[orders['group']=='A']['revenue'].mean()-1))"
   ]
  },
  {
   "cell_type": "markdown",
   "metadata": {},
   "source": [
    "##### Вывод  \n",
    "  \n",
    "Сформулировал Гипотезу. Провел тест.  \n",
    "  \n",
    "В среднем чеке между группами нет статистически значимых различий.  \n",
    "Относительное различие среднего чека между сегментами 25.9%"
   ]
  },
  {
   "cell_type": "markdown",
   "metadata": {},
   "source": [
    "#### Статистическая значимость различий в конверсии между группами по «очищенным» данным"
   ]
  },
  {
   "cell_type": "code",
   "execution_count": 42,
   "metadata": {},
   "outputs": [
    {
     "data": {
      "text/plain": [
       "2.0"
      ]
     },
     "execution_count": 42,
     "metadata": {},
     "output_type": "execute_result"
    }
   ],
   "source": [
    "orders95 = np.percentile(ordersByUsers['orders'], 95)\n",
    "orders95"
   ]
  },
  {
   "cell_type": "code",
   "execution_count": 43,
   "metadata": {},
   "outputs": [],
   "source": [
    "revenue95 = np.percentile(orders.revenue, 95) # выручка до 95 перцентиля\n",
    "orders95 = np.percentile(ordersByUsers['orders'], 95) # количество заказов до 95 перцентиля\n",
    "\n",
    "# таблица с заказами больше 95 перцентиля\n",
    "usersWithManyOrders = pd.concat( \n",
    "    [\n",
    "        ordersByUsersA[ordersByUsersA['orders'] > orders95]['userId'],\n",
    "        ordersByUsersB[ordersByUsersB['orders'] > orders95]['userId'],\n",
    "    ],\n",
    "    axis=0,\n",
    ")\n",
    "\n",
    "# таблица с чеками больше 95 перцентиля\n",
    "usersWithExpensiveOrders = orders[orders['revenue'] > revenue95]['visitorId']\n",
    "abnormalUsers = (\n",
    "    pd.concat([usersWithManyOrders, usersWithExpensiveOrders], axis=0)\n",
    "    .drop_duplicates()\n",
    "    .sort_values()\n",
    ")\n"
   ]
  },
  {
   "cell_type": "code",
   "execution_count": 44,
   "metadata": {},
   "outputs": [],
   "source": [
    "# из заказов группы \"А\" уберем аномальных юзеров\n",
    "sampleAFiltered = pd.concat(\n",
    "    [\n",
    "        ordersByUsersA[\n",
    "            np.logical_not(ordersByUsersA['userId'].isin(abnormalUsers))\n",
    "        ]['orders'],\n",
    "        pd.Series(\n",
    "            0,\n",
    "            index=np.arange(\n",
    "                data['visitorsPerDateA'].sum() - len(ordersByUsersA['orders'])\n",
    "            ),\n",
    "            name='orders',\n",
    "        ),\n",
    "    ],\n",
    "    axis=0,\n",
    ")\n",
    "\n",
    "# из заказов группы \"В\" уберем аномальных юзеров\n",
    "sampleBFiltered = pd.concat(\n",
    "    [\n",
    "        ordersByUsersB[\n",
    "            np.logical_not(ordersByUsersB['userId'].isin(abnormalUsers))\n",
    "        ]['orders'],\n",
    "        pd.Series(\n",
    "            0,\n",
    "            index=np.arange(\n",
    "                data['visitorsPerDateB'].sum() - len(ordersByUsersB['orders'])\n",
    "            ),\n",
    "            name='orders',\n",
    "        ),\n",
    "    ],\n",
    "    axis=0,\n",
    ")\n"
   ]
  },
  {
   "cell_type": "code",
   "execution_count": 45,
   "metadata": {},
   "outputs": [
    {
     "name": "stdout",
     "output_type": "stream",
     "text": [
      "\n",
      " 0.01304\n",
      "\n",
      " Отвергаем нулевую теорию, в средней конверсии между группами есть статистически значимые различия\n"
     ]
    }
   ],
   "source": [
    "p_value = float('{0:.5f}'.format(stats.mannwhitneyu(sampleAFiltered, sampleBFiltered)[1])) # тест Манна-Уитни\n",
    "\n",
    "print('\\n', p_value)\n",
    "if p_value < 0.05:\n",
    "    print('\\n Отвергаем нулевую теорию, в средней конверсии между группами есть статистически значимые различия')\n",
    "else:\n",
    "    print('\\n Не получилось отвергнуть нулевую гипотезу')"
   ]
  },
  {
   "cell_type": "code",
   "execution_count": 46,
   "metadata": {},
   "outputs": [
    {
     "name": "stdout",
     "output_type": "stream",
     "text": [
      "\n",
      "Относительный прирост средней конверсии B к А:\n",
      "0.173\n"
     ]
    }
   ],
   "source": [
    "print('\\nОтносительный прирост средней конверсии B к А:')\n",
    "print('{0:.3f}'.format(sampleBFiltered.mean()/sampleAFiltered.mean()-1))"
   ]
  },
  {
   "cell_type": "markdown",
   "metadata": {},
   "source": [
    "##### Вывод  \n",
    "  \n",
    "Как и в случае с сырыми данными, p-value не превысил 0,05, а значит, нулевую гипотезу отвергаем. Сегмент В оказался лучше по конверсии на 17,3%, еще лучше, чем до \"очистки\" данных"
   ]
  },
  {
   "cell_type": "markdown",
   "metadata": {},
   "source": [
    "#### Статистическая значимость различий в среднем чеке заказа между группами по «очищенным» данным."
   ]
  },
  {
   "cell_type": "code",
   "execution_count": 47,
   "metadata": {},
   "outputs": [
    {
     "name": "stdout",
     "output_type": "stream",
     "text": [
      "\n",
      " 0.738\n",
      "\n",
      " Не получилось отвергнуть нулевую гипотезу\n"
     ]
    }
   ],
   "source": [
    "# p-value тест Манна-Уитни\n",
    "p_value = float('{0:.3f}'.format(\n",
    "        stats.mannwhitneyu(\n",
    "            orders[\n",
    "                np.logical_and(\n",
    "                    orders['group'] == 'A',\n",
    "                    np.logical_not(orders['visitorId'].isin(abnormalUsers)),\n",
    "                )\n",
    "            ]['revenue'],\n",
    "            orders[\n",
    "                np.logical_and(\n",
    "                    orders['group'] == 'B',\n",
    "                    np.logical_not(orders['visitorId'].isin(abnormalUsers)),\n",
    "                )\n",
    "            ]['revenue'],\n",
    "        )[1]\n",
    "    ))\n",
    "print('\\n', p_value)\n",
    "if p_value < 0.05:\n",
    "    print('\\n Отвергаем нулевую теорию, в среднем чеке между группами есть статистически значимые различия')\n",
    "else:\n",
    "    print('\\n Не получилось отвергнуть нулевую гипотезу')"
   ]
  },
  {
   "cell_type": "code",
   "execution_count": 48,
   "metadata": {},
   "outputs": [
    {
     "name": "stdout",
     "output_type": "stream",
     "text": [
      "\n",
      "Относительный прирост среднего чека между сегментами:\n",
      "-0.020\n"
     ]
    }
   ],
   "source": [
    "print('\\nОтносительный прирост среднего чека между сегментами:')\n",
    "print(\"{0:.3f}\".format(\n",
    "        orders[\n",
    "            np.logical_and(\n",
    "                orders['group'] == 'B',\n",
    "                np.logical_not(orders['visitorId'].isin(abnormalUsers)),\n",
    "            )\n",
    "        ]['revenue'].mean()\n",
    "        / orders[\n",
    "            np.logical_and(\n",
    "                orders['group'] == 'A',\n",
    "                np.logical_not(orders['visitorId'].isin(abnormalUsers)),\n",
    "            )\n",
    "        ]['revenue'].mean()\n",
    "        - 1\n",
    "    ))"
   ]
  },
  {
   "cell_type": "markdown",
   "metadata": {},
   "source": [
    "##### Вывод  \n",
    "  \n",
    "P-value оказался примерно на том же уровне - 0,738, как и с сырыми данными, т.е. нулевую гипотезу мы не можем отвергнуть. А вот средний чек у сегмента В снизился настолько, что сегмент А стал превосходить В, но всего лишь на 2%. После \"очистки\" данных, удаления выбросов разница в среднем чеке между двумя группами сократилась до минимума."
   ]
  },
  {
   "cell_type": "markdown",
   "metadata": {},
   "source": [
    "### Вывод.  \n",
    "  \n",
    "Графики кумулятивной выручки, среднего чека и конверсии фиксируют превосходство группы В.  \n",
    "\n",
    "График различия конверсии между группами сообщает, что результаты группы B лучше группы A: зафиксировались около среднего значения.\n",
    "\n",
    "График различия среднего чека сильно колеблется, что свидетельствует о наличии аномалиий.\n",
    "\n",
    "По итогам теста выявлено статистически значимое различие по конверсии между группами как по «сырым», так и по данным после фильтрации аномалий, а вот статистически значимых различий по среднему чеку не были зафиксированы в обоих случаях.\n",
    "\n",
    "Исходя из обнаруженных фактов, тест следует остановить и зафиксировать победу группы В, результаты по конверсии которой оказались лучше группы А на 13,8% и 17,3% до и после \"очистки\" данных соответственно."
   ]
  }
 ],
 "metadata": {
  "ExecuteTimeLog": [
   {
    "duration": 461,
    "start_time": "2022-07-27T07:39:08.670Z"
   },
   {
    "duration": 14,
    "start_time": "2022-07-27T07:39:14.235Z"
   },
   {
    "duration": 155,
    "start_time": "2022-07-27T07:40:47.768Z"
   },
   {
    "duration": 134,
    "start_time": "2022-07-27T07:40:52.551Z"
   },
   {
    "duration": 11,
    "start_time": "2022-07-27T07:40:58.370Z"
   },
   {
    "duration": 9,
    "start_time": "2022-07-27T07:41:07.706Z"
   },
   {
    "duration": 4,
    "start_time": "2022-07-27T07:42:05.371Z"
   },
   {
    "duration": 27,
    "start_time": "2022-07-27T07:42:06.245Z"
   },
   {
    "duration": 20,
    "start_time": "2022-07-27T07:42:30.882Z"
   },
   {
    "duration": 21,
    "start_time": "2022-07-27T07:42:41.571Z"
   },
   {
    "duration": 430,
    "start_time": "2022-07-27T07:57:03.874Z"
   },
   {
    "duration": 84,
    "start_time": "2022-07-27T07:57:40.923Z"
   },
   {
    "duration": 4,
    "start_time": "2022-07-27T07:57:41.485Z"
   },
   {
    "duration": 21,
    "start_time": "2022-07-27T07:57:41.999Z"
   },
   {
    "duration": 24,
    "start_time": "2022-07-27T07:57:42.670Z"
   },
   {
    "duration": 21,
    "start_time": "2022-07-27T07:57:43.133Z"
   },
   {
    "duration": 369,
    "start_time": "2022-07-27T07:57:43.980Z"
   },
   {
    "duration": 345,
    "start_time": "2022-07-27T07:59:41.675Z"
   },
   {
    "duration": 21,
    "start_time": "2022-07-27T08:00:11.722Z"
   },
   {
    "duration": 6,
    "start_time": "2022-07-27T08:00:29.035Z"
   },
   {
    "duration": 14,
    "start_time": "2022-07-27T08:00:55.375Z"
   },
   {
    "duration": 7,
    "start_time": "2022-07-27T08:03:12.402Z"
   },
   {
    "duration": 11,
    "start_time": "2022-07-27T08:03:14.382Z"
   },
   {
    "duration": 10,
    "start_time": "2022-07-27T08:03:30.773Z"
   },
   {
    "duration": 15,
    "start_time": "2022-07-27T08:03:31.229Z"
   },
   {
    "duration": 9,
    "start_time": "2022-07-27T08:08:10.538Z"
   },
   {
    "duration": 6,
    "start_time": "2022-07-27T08:10:29.009Z"
   },
   {
    "duration": 103,
    "start_time": "2022-07-27T08:10:29.766Z"
   },
   {
    "duration": 6,
    "start_time": "2022-07-27T08:10:30.870Z"
   },
   {
    "duration": 6,
    "start_time": "2022-07-27T08:11:39.680Z"
   },
   {
    "duration": 1596,
    "start_time": "2022-07-27T08:12:59.198Z"
   },
   {
    "duration": 12,
    "start_time": "2022-07-27T08:13:15.364Z"
   },
   {
    "duration": 10,
    "start_time": "2022-07-27T08:13:34.768Z"
   },
   {
    "duration": 6,
    "start_time": "2022-07-27T08:18:23.434Z"
   },
   {
    "duration": 8,
    "start_time": "2022-07-27T08:20:32.635Z"
   },
   {
    "duration": 24,
    "start_time": "2022-07-27T08:20:35.295Z"
   },
   {
    "duration": 77,
    "start_time": "2022-07-27T08:20:51.710Z"
   },
   {
    "duration": 4,
    "start_time": "2022-07-27T08:20:54.070Z"
   },
   {
    "duration": 22,
    "start_time": "2022-07-27T08:20:54.469Z"
   },
   {
    "duration": 21,
    "start_time": "2022-07-27T08:20:54.718Z"
   },
   {
    "duration": 25,
    "start_time": "2022-07-27T08:20:55.079Z"
   },
   {
    "duration": 6,
    "start_time": "2022-07-27T08:20:55.649Z"
   },
   {
    "duration": 80,
    "start_time": "2022-07-27T08:20:56.360Z"
   },
   {
    "duration": 37,
    "start_time": "2022-07-27T08:20:56.949Z"
   },
   {
    "duration": 10,
    "start_time": "2022-07-27T08:20:57.941Z"
   },
   {
    "duration": 11,
    "start_time": "2022-07-27T08:20:58.674Z"
   },
   {
    "duration": 146,
    "start_time": "2022-07-27T08:20:59.437Z"
   },
   {
    "duration": 7,
    "start_time": "2022-07-27T08:21:00.364Z"
   },
   {
    "duration": 19,
    "start_time": "2022-07-27T08:21:01.485Z"
   },
   {
    "duration": 22,
    "start_time": "2022-07-27T08:23:13.438Z"
   },
   {
    "duration": 150,
    "start_time": "2022-07-27T08:24:35.819Z"
   },
   {
    "duration": 183,
    "start_time": "2022-07-27T08:30:49.436Z"
   },
   {
    "duration": 185,
    "start_time": "2022-07-27T08:33:51.243Z"
   },
   {
    "duration": 107,
    "start_time": "2022-07-27T08:37:02.227Z"
   },
   {
    "duration": 7,
    "start_time": "2022-07-27T08:39:00.186Z"
   },
   {
    "duration": 10,
    "start_time": "2022-07-27T08:39:11.140Z"
   },
   {
    "duration": 10,
    "start_time": "2022-07-27T08:39:47.715Z"
   },
   {
    "duration": 6,
    "start_time": "2022-07-27T08:54:11.770Z"
   },
   {
    "duration": 78,
    "start_time": "2022-07-27T08:54:13.067Z"
   },
   {
    "duration": 1248,
    "start_time": "2022-07-27T08:54:16.851Z"
   },
   {
    "duration": 112,
    "start_time": "2022-07-27T08:55:05.767Z"
   },
   {
    "duration": 106,
    "start_time": "2022-07-27T08:55:13.876Z"
   },
   {
    "duration": 146,
    "start_time": "2022-07-27T08:55:17.748Z"
   },
   {
    "duration": 10,
    "start_time": "2022-07-27T08:55:39.636Z"
   },
   {
    "duration": 7,
    "start_time": "2022-07-27T08:57:01.084Z"
   },
   {
    "duration": 8,
    "start_time": "2022-07-27T08:57:22.215Z"
   },
   {
    "duration": 8,
    "start_time": "2022-07-27T08:57:25.830Z"
   },
   {
    "duration": 145,
    "start_time": "2022-07-27T08:57:39.589Z"
   },
   {
    "duration": 10,
    "start_time": "2022-07-27T08:57:43.557Z"
   },
   {
    "duration": 13,
    "start_time": "2022-07-27T08:58:04.656Z"
   },
   {
    "duration": 14,
    "start_time": "2022-07-27T08:58:36.451Z"
   },
   {
    "duration": 447,
    "start_time": "2022-07-27T09:00:05.974Z"
   },
   {
    "duration": 4,
    "start_time": "2022-07-27T09:00:06.423Z"
   },
   {
    "duration": 30,
    "start_time": "2022-07-27T09:00:06.428Z"
   },
   {
    "duration": 19,
    "start_time": "2022-07-27T09:00:06.460Z"
   },
   {
    "duration": 18,
    "start_time": "2022-07-27T09:00:06.481Z"
   },
   {
    "duration": 7,
    "start_time": "2022-07-27T09:00:06.500Z"
   },
   {
    "duration": 143,
    "start_time": "2022-07-27T09:00:06.509Z"
   },
   {
    "duration": 0,
    "start_time": "2022-07-27T09:00:06.653Z"
   },
   {
    "duration": 0,
    "start_time": "2022-07-27T09:00:06.654Z"
   },
   {
    "duration": 0,
    "start_time": "2022-07-27T09:00:06.656Z"
   },
   {
    "duration": 0,
    "start_time": "2022-07-27T09:00:06.656Z"
   },
   {
    "duration": 0,
    "start_time": "2022-07-27T09:00:06.657Z"
   },
   {
    "duration": 0,
    "start_time": "2022-07-27T09:00:06.658Z"
   },
   {
    "duration": 0,
    "start_time": "2022-07-27T09:00:06.659Z"
   },
   {
    "duration": 0,
    "start_time": "2022-07-27T09:00:06.660Z"
   },
   {
    "duration": 0,
    "start_time": "2022-07-27T09:00:06.661Z"
   },
   {
    "duration": 6,
    "start_time": "2022-07-27T09:00:20.144Z"
   },
   {
    "duration": 9,
    "start_time": "2022-07-27T09:00:20.549Z"
   },
   {
    "duration": 9,
    "start_time": "2022-07-27T09:00:20.810Z"
   },
   {
    "duration": 85,
    "start_time": "2022-07-27T09:00:21.359Z"
   },
   {
    "duration": 5,
    "start_time": "2022-07-27T09:00:21.739Z"
   },
   {
    "duration": 153,
    "start_time": "2022-07-27T09:00:22.390Z"
   },
   {
    "duration": 121,
    "start_time": "2022-07-27T09:00:22.846Z"
   },
   {
    "duration": 6,
    "start_time": "2022-07-27T09:00:23.282Z"
   },
   {
    "duration": 6,
    "start_time": "2022-07-27T09:01:00.857Z"
   },
   {
    "duration": 11,
    "start_time": "2022-07-27T09:01:06.299Z"
   },
   {
    "duration": 6,
    "start_time": "2022-07-27T09:01:45.258Z"
   },
   {
    "duration": 15,
    "start_time": "2022-07-27T09:01:52.637Z"
   },
   {
    "duration": 16,
    "start_time": "2022-07-27T09:06:29.418Z"
   },
   {
    "duration": 7,
    "start_time": "2022-07-27T09:06:37.466Z"
   },
   {
    "duration": 446,
    "start_time": "2022-07-27T09:07:15.532Z"
   },
   {
    "duration": 6,
    "start_time": "2022-07-27T09:08:17.674Z"
   },
   {
    "duration": 213,
    "start_time": "2022-07-27T09:08:39.870Z"
   },
   {
    "duration": 195,
    "start_time": "2022-07-27T09:08:46.600Z"
   },
   {
    "duration": 149,
    "start_time": "2022-07-27T09:16:07.393Z"
   },
   {
    "duration": 6,
    "start_time": "2022-07-27T09:19:01.139Z"
   },
   {
    "duration": 198,
    "start_time": "2022-07-27T09:19:02.661Z"
   },
   {
    "duration": 155,
    "start_time": "2022-07-27T09:19:08.428Z"
   },
   {
    "duration": 288,
    "start_time": "2022-07-27T09:19:16.468Z"
   },
   {
    "duration": 136,
    "start_time": "2022-07-27T09:21:43.699Z"
   },
   {
    "duration": 168,
    "start_time": "2022-07-27T09:24:23.502Z"
   },
   {
    "duration": 132,
    "start_time": "2022-07-27T09:42:58.796Z"
   },
   {
    "duration": 169,
    "start_time": "2022-07-27T09:43:08.128Z"
   },
   {
    "duration": 12,
    "start_time": "2022-07-27T09:43:49.829Z"
   },
   {
    "duration": 167,
    "start_time": "2022-07-27T09:44:23.318Z"
   },
   {
    "duration": 194,
    "start_time": "2022-07-27T09:44:30.646Z"
   },
   {
    "duration": 179,
    "start_time": "2022-07-27T09:45:29.132Z"
   },
   {
    "duration": 170,
    "start_time": "2022-07-27T09:45:47.890Z"
   },
   {
    "duration": 215,
    "start_time": "2022-07-27T09:46:07.099Z"
   },
   {
    "duration": 156,
    "start_time": "2022-07-27T09:46:15.178Z"
   },
   {
    "duration": 188,
    "start_time": "2022-07-27T09:46:31.225Z"
   },
   {
    "duration": 175,
    "start_time": "2022-07-27T09:46:42.160Z"
   },
   {
    "duration": 170,
    "start_time": "2022-07-27T09:46:54.702Z"
   },
   {
    "duration": 354,
    "start_time": "2022-07-27T09:48:59.786Z"
   },
   {
    "duration": 328,
    "start_time": "2022-07-27T09:49:42.951Z"
   },
   {
    "duration": 308,
    "start_time": "2022-07-27T09:50:07.397Z"
   },
   {
    "duration": 266,
    "start_time": "2022-07-27T09:57:01.792Z"
   },
   {
    "duration": 316,
    "start_time": "2022-07-27T10:02:32.514Z"
   },
   {
    "duration": 8,
    "start_time": "2022-07-27T10:10:31.549Z"
   },
   {
    "duration": 109,
    "start_time": "2022-07-27T10:11:01.627Z"
   },
   {
    "duration": 10,
    "start_time": "2022-07-27T10:11:41.456Z"
   },
   {
    "duration": 182,
    "start_time": "2022-07-27T10:14:06.221Z"
   },
   {
    "duration": 14,
    "start_time": "2022-07-27T10:16:04.091Z"
   },
   {
    "duration": 7,
    "start_time": "2022-07-27T10:16:40.757Z"
   },
   {
    "duration": 13,
    "start_time": "2022-07-27T10:16:51.995Z"
   },
   {
    "duration": 8,
    "start_time": "2022-07-27T10:16:56.136Z"
   },
   {
    "duration": 4,
    "start_time": "2022-07-27T10:17:12.295Z"
   },
   {
    "duration": 5,
    "start_time": "2022-07-27T10:17:22.293Z"
   },
   {
    "duration": 114,
    "start_time": "2022-07-27T10:18:39.233Z"
   },
   {
    "duration": 131,
    "start_time": "2022-07-27T10:19:05.216Z"
   },
   {
    "duration": 161,
    "start_time": "2022-07-27T10:20:30.444Z"
   },
   {
    "duration": 95,
    "start_time": "2022-07-27T10:21:27.760Z"
   },
   {
    "duration": 5,
    "start_time": "2022-07-27T10:21:38.045Z"
   },
   {
    "duration": 8,
    "start_time": "2022-07-27T10:22:04.503Z"
   },
   {
    "duration": 12,
    "start_time": "2022-07-27T10:22:13.248Z"
   },
   {
    "duration": 100,
    "start_time": "2022-07-27T10:32:26.094Z"
   },
   {
    "duration": 14,
    "start_time": "2022-07-27T10:33:02.122Z"
   },
   {
    "duration": 13,
    "start_time": "2022-07-27T10:34:44.322Z"
   },
   {
    "duration": 11,
    "start_time": "2022-07-27T10:35:09.184Z"
   },
   {
    "duration": 14,
    "start_time": "2022-07-27T10:35:29.487Z"
   },
   {
    "duration": 99,
    "start_time": "2022-07-27T10:35:42.421Z"
   },
   {
    "duration": 20,
    "start_time": "2022-07-27T10:36:05.607Z"
   },
   {
    "duration": 165,
    "start_time": "2022-07-27T10:37:10.058Z"
   },
   {
    "duration": 10,
    "start_time": "2022-07-27T10:37:34.083Z"
   },
   {
    "duration": 6,
    "start_time": "2022-07-27T10:37:54.921Z"
   },
   {
    "duration": 10,
    "start_time": "2022-07-27T10:38:08.960Z"
   },
   {
    "duration": 493,
    "start_time": "2022-07-27T10:38:30.622Z"
   },
   {
    "duration": 19,
    "start_time": "2022-07-27T10:38:36.511Z"
   },
   {
    "duration": 20,
    "start_time": "2022-07-27T10:38:47.669Z"
   },
   {
    "duration": 86,
    "start_time": "2022-07-27T10:51:31.490Z"
   },
   {
    "duration": 37,
    "start_time": "2022-07-27T10:52:11.901Z"
   },
   {
    "duration": 99,
    "start_time": "2022-07-27T10:52:37.121Z"
   },
   {
    "duration": 18,
    "start_time": "2022-07-27T10:52:42.806Z"
   },
   {
    "duration": 9,
    "start_time": "2022-07-27T10:53:17.164Z"
   },
   {
    "duration": 13,
    "start_time": "2022-07-27T10:57:21.802Z"
   },
   {
    "duration": 137,
    "start_time": "2022-07-27T10:57:51.944Z"
   },
   {
    "duration": 7,
    "start_time": "2022-07-27T10:58:06.192Z"
   },
   {
    "duration": 1337,
    "start_time": "2022-07-27T11:02:15.358Z"
   },
   {
    "duration": 8,
    "start_time": "2022-07-27T11:02:51.782Z"
   },
   {
    "duration": 9,
    "start_time": "2022-07-27T11:02:59.596Z"
   },
   {
    "duration": 10,
    "start_time": "2022-07-27T11:03:18.162Z"
   },
   {
    "duration": 5,
    "start_time": "2022-07-27T11:03:44.262Z"
   },
   {
    "duration": 6,
    "start_time": "2022-07-27T11:03:47.088Z"
   },
   {
    "duration": 4,
    "start_time": "2022-07-27T11:04:27.463Z"
   },
   {
    "duration": 7,
    "start_time": "2022-07-27T11:04:56.999Z"
   },
   {
    "duration": 6,
    "start_time": "2022-07-27T11:05:12.006Z"
   },
   {
    "duration": 1272,
    "start_time": "2022-07-27T11:06:46.293Z"
   },
   {
    "duration": 12,
    "start_time": "2022-07-27T11:07:19.621Z"
   },
   {
    "duration": 19,
    "start_time": "2022-07-27T11:09:36.515Z"
   },
   {
    "duration": 27,
    "start_time": "2022-07-27T11:10:24.948Z"
   },
   {
    "duration": 1040,
    "start_time": "2022-07-27T11:11:20.811Z"
   },
   {
    "duration": 4,
    "start_time": "2022-07-27T11:11:21.853Z"
   },
   {
    "duration": 26,
    "start_time": "2022-07-27T11:11:21.858Z"
   },
   {
    "duration": 17,
    "start_time": "2022-07-27T11:11:21.885Z"
   },
   {
    "duration": 18,
    "start_time": "2022-07-27T11:11:21.903Z"
   },
   {
    "duration": 6,
    "start_time": "2022-07-27T11:11:21.952Z"
   },
   {
    "duration": 78,
    "start_time": "2022-07-27T11:11:21.959Z"
   },
   {
    "duration": 0,
    "start_time": "2022-07-27T11:11:22.041Z"
   },
   {
    "duration": 0,
    "start_time": "2022-07-27T11:11:22.042Z"
   },
   {
    "duration": 0,
    "start_time": "2022-07-27T11:11:22.044Z"
   },
   {
    "duration": 0,
    "start_time": "2022-07-27T11:11:22.045Z"
   },
   {
    "duration": 0,
    "start_time": "2022-07-27T11:11:22.046Z"
   },
   {
    "duration": 0,
    "start_time": "2022-07-27T11:11:22.048Z"
   },
   {
    "duration": 0,
    "start_time": "2022-07-27T11:11:22.049Z"
   },
   {
    "duration": 0,
    "start_time": "2022-07-27T11:11:22.050Z"
   },
   {
    "duration": 0,
    "start_time": "2022-07-27T11:11:22.052Z"
   },
   {
    "duration": 0,
    "start_time": "2022-07-27T11:11:22.053Z"
   },
   {
    "duration": 0,
    "start_time": "2022-07-27T11:11:22.055Z"
   },
   {
    "duration": 0,
    "start_time": "2022-07-27T11:11:22.056Z"
   },
   {
    "duration": 0,
    "start_time": "2022-07-27T11:11:22.057Z"
   },
   {
    "duration": 0,
    "start_time": "2022-07-27T11:11:22.058Z"
   },
   {
    "duration": 0,
    "start_time": "2022-07-27T11:11:22.059Z"
   },
   {
    "duration": 0,
    "start_time": "2022-07-27T11:11:22.061Z"
   },
   {
    "duration": 0,
    "start_time": "2022-07-27T11:11:22.062Z"
   },
   {
    "duration": 0,
    "start_time": "2022-07-27T11:11:22.063Z"
   },
   {
    "duration": 1,
    "start_time": "2022-07-27T11:11:22.064Z"
   },
   {
    "duration": 0,
    "start_time": "2022-07-27T11:11:22.066Z"
   },
   {
    "duration": 0,
    "start_time": "2022-07-27T11:11:22.067Z"
   },
   {
    "duration": 0,
    "start_time": "2022-07-27T11:11:22.068Z"
   },
   {
    "duration": 0,
    "start_time": "2022-07-27T11:11:22.070Z"
   },
   {
    "duration": 0,
    "start_time": "2022-07-27T11:11:22.071Z"
   },
   {
    "duration": 0,
    "start_time": "2022-07-27T11:11:22.072Z"
   },
   {
    "duration": 0,
    "start_time": "2022-07-27T11:11:22.074Z"
   },
   {
    "duration": 0,
    "start_time": "2022-07-27T11:11:22.075Z"
   },
   {
    "duration": 0,
    "start_time": "2022-07-27T11:11:22.076Z"
   },
   {
    "duration": 0,
    "start_time": "2022-07-27T11:11:22.078Z"
   },
   {
    "duration": 0,
    "start_time": "2022-07-27T11:11:22.079Z"
   },
   {
    "duration": 0,
    "start_time": "2022-07-27T11:11:22.080Z"
   },
   {
    "duration": 0,
    "start_time": "2022-07-27T11:11:22.081Z"
   },
   {
    "duration": 0,
    "start_time": "2022-07-27T11:11:22.083Z"
   },
   {
    "duration": 0,
    "start_time": "2022-07-27T11:11:22.084Z"
   },
   {
    "duration": 0,
    "start_time": "2022-07-27T11:11:22.085Z"
   },
   {
    "duration": 0,
    "start_time": "2022-07-27T11:11:22.087Z"
   },
   {
    "duration": 0,
    "start_time": "2022-07-27T11:11:22.088Z"
   },
   {
    "duration": 0,
    "start_time": "2022-07-27T11:11:22.090Z"
   },
   {
    "duration": 0,
    "start_time": "2022-07-27T11:11:22.153Z"
   },
   {
    "duration": 0,
    "start_time": "2022-07-27T11:11:22.154Z"
   },
   {
    "duration": 0,
    "start_time": "2022-07-27T11:11:22.155Z"
   },
   {
    "duration": 0,
    "start_time": "2022-07-27T11:11:22.157Z"
   },
   {
    "duration": 0,
    "start_time": "2022-07-27T11:11:22.158Z"
   },
   {
    "duration": 0,
    "start_time": "2022-07-27T11:11:22.160Z"
   },
   {
    "duration": 7,
    "start_time": "2022-07-27T11:11:45.287Z"
   },
   {
    "duration": 10,
    "start_time": "2022-07-27T11:11:45.572Z"
   },
   {
    "duration": 9,
    "start_time": "2022-07-27T11:11:45.761Z"
   },
   {
    "duration": 89,
    "start_time": "2022-07-27T11:11:45.977Z"
   },
   {
    "duration": 7,
    "start_time": "2022-07-27T11:11:46.210Z"
   },
   {
    "duration": 146,
    "start_time": "2022-07-27T11:11:46.432Z"
   },
   {
    "duration": 110,
    "start_time": "2022-07-27T11:11:46.657Z"
   },
   {
    "duration": 6,
    "start_time": "2022-07-27T11:11:46.896Z"
   },
   {
    "duration": 6,
    "start_time": "2022-07-27T11:11:47.117Z"
   },
   {
    "duration": 221,
    "start_time": "2022-07-27T11:11:47.350Z"
   },
   {
    "duration": 186,
    "start_time": "2022-07-27T11:11:47.573Z"
   },
   {
    "duration": 150,
    "start_time": "2022-07-27T11:11:47.789Z"
   },
   {
    "duration": 91,
    "start_time": "2022-07-27T11:11:48.022Z"
   },
   {
    "duration": 245,
    "start_time": "2022-07-27T11:11:48.271Z"
   },
   {
    "duration": 93,
    "start_time": "2022-07-27T11:11:48.602Z"
   },
   {
    "duration": 154,
    "start_time": "2022-07-27T11:11:48.889Z"
   },
   {
    "duration": 84,
    "start_time": "2022-07-27T11:11:49.111Z"
   },
   {
    "duration": 271,
    "start_time": "2022-07-27T11:11:49.348Z"
   },
   {
    "duration": 78,
    "start_time": "2022-07-27T11:11:49.621Z"
   },
   {
    "duration": 7,
    "start_time": "2022-07-27T11:11:49.783Z"
   },
   {
    "duration": 101,
    "start_time": "2022-07-27T11:11:50.011Z"
   },
   {
    "duration": 98,
    "start_time": "2022-07-27T11:11:50.232Z"
   },
   {
    "duration": 92,
    "start_time": "2022-07-27T11:11:50.451Z"
   },
   {
    "duration": 5,
    "start_time": "2022-07-27T11:11:50.663Z"
   },
   {
    "duration": 199,
    "start_time": "2022-07-27T11:11:50.886Z"
   },
   {
    "duration": 117,
    "start_time": "2022-07-27T11:11:51.129Z"
   },
   {
    "duration": 185,
    "start_time": "2022-07-27T11:11:51.304Z"
   },
   {
    "duration": 100,
    "start_time": "2022-07-27T11:11:51.720Z"
   },
   {
    "duration": 5,
    "start_time": "2022-07-27T11:11:51.920Z"
   },
   {
    "duration": 80,
    "start_time": "2022-07-27T11:11:52.147Z"
   },
   {
    "duration": 91,
    "start_time": "2022-07-27T11:11:52.380Z"
   },
   {
    "duration": 114,
    "start_time": "2022-07-27T11:11:52.578Z"
   },
   {
    "duration": 21,
    "start_time": "2022-07-27T11:11:52.810Z"
   },
   {
    "duration": 127,
    "start_time": "2022-07-27T11:11:52.996Z"
   },
   {
    "duration": 7,
    "start_time": "2022-07-27T11:11:53.211Z"
   },
   {
    "duration": 21,
    "start_time": "2022-07-27T11:11:53.404Z"
   },
   {
    "duration": 79,
    "start_time": "2022-07-27T11:11:53.628Z"
   },
   {
    "duration": 11,
    "start_time": "2022-07-27T11:11:53.844Z"
   },
   {
    "duration": 102,
    "start_time": "2022-07-27T11:11:54.063Z"
   },
   {
    "duration": 8,
    "start_time": "2022-07-27T11:11:54.310Z"
   },
   {
    "duration": 24,
    "start_time": "2022-07-27T11:11:54.546Z"
   },
   {
    "duration": 94,
    "start_time": "2022-07-27T11:11:54.780Z"
   },
   {
    "duration": 13,
    "start_time": "2022-07-27T11:11:55.054Z"
   },
   {
    "duration": 78,
    "start_time": "2022-07-27T11:11:55.269Z"
   },
   {
    "duration": 77,
    "start_time": "2022-07-27T12:19:10.338Z"
   },
   {
    "duration": 71,
    "start_time": "2022-07-27T12:24:44.520Z"
   },
   {
    "duration": 6,
    "start_time": "2022-07-27T12:24:53.172Z"
   },
   {
    "duration": 11,
    "start_time": "2022-07-27T12:28:32.562Z"
   },
   {
    "duration": 6,
    "start_time": "2022-07-27T12:28:44.336Z"
   },
   {
    "duration": 10,
    "start_time": "2022-07-27T12:28:44.716Z"
   },
   {
    "duration": 7,
    "start_time": "2022-07-27T12:29:33.260Z"
   },
   {
    "duration": 6,
    "start_time": "2022-07-27T12:37:26.412Z"
   },
   {
    "duration": 10,
    "start_time": "2022-07-27T12:37:27.882Z"
   },
   {
    "duration": 11,
    "start_time": "2022-07-27T12:37:29.223Z"
   },
   {
    "duration": 10,
    "start_time": "2022-07-27T12:39:27.046Z"
   },
   {
    "duration": 11,
    "start_time": "2022-07-27T12:39:39.207Z"
   },
   {
    "duration": 157,
    "start_time": "2022-07-27T13:06:42.930Z"
   },
   {
    "duration": 174,
    "start_time": "2022-07-27T13:07:12.127Z"
   },
   {
    "duration": 152,
    "start_time": "2022-07-27T13:08:20.427Z"
   },
   {
    "duration": 169,
    "start_time": "2022-07-27T13:08:30.939Z"
   },
   {
    "duration": 185,
    "start_time": "2022-07-27T13:08:38.576Z"
   },
   {
    "duration": 151,
    "start_time": "2022-07-27T13:09:23.067Z"
   },
   {
    "duration": 166,
    "start_time": "2022-07-27T13:09:32.185Z"
   },
   {
    "duration": 216,
    "start_time": "2022-07-27T13:09:48.442Z"
   },
   {
    "duration": 171,
    "start_time": "2022-07-27T13:09:59.490Z"
   },
   {
    "duration": 157,
    "start_time": "2022-07-27T13:10:17.044Z"
   },
   {
    "duration": 164,
    "start_time": "2022-07-27T13:10:39.550Z"
   },
   {
    "duration": 203,
    "start_time": "2022-07-27T13:11:26.902Z"
   },
   {
    "duration": 267,
    "start_time": "2022-07-27T13:20:58.087Z"
   },
   {
    "duration": 179,
    "start_time": "2022-07-27T13:21:18.808Z"
   },
   {
    "duration": 162,
    "start_time": "2022-07-27T13:32:03.954Z"
   },
   {
    "duration": 8,
    "start_time": "2022-07-27T13:35:30.183Z"
   },
   {
    "duration": 10,
    "start_time": "2022-07-27T13:35:46.423Z"
   },
   {
    "duration": 247,
    "start_time": "2022-07-27T13:38:47.507Z"
   },
   {
    "duration": 268,
    "start_time": "2022-07-27T13:42:48.574Z"
   },
   {
    "duration": 273,
    "start_time": "2022-07-27T13:43:16.768Z"
   },
   {
    "duration": 247,
    "start_time": "2022-07-27T13:43:23.889Z"
   },
   {
    "duration": 1369,
    "start_time": "2022-07-28T07:23:13.068Z"
   },
   {
    "duration": 4,
    "start_time": "2022-07-28T07:23:14.439Z"
   },
   {
    "duration": 27,
    "start_time": "2022-07-28T07:23:14.445Z"
   },
   {
    "duration": 19,
    "start_time": "2022-07-28T07:23:14.474Z"
   },
   {
    "duration": 18,
    "start_time": "2022-07-28T07:23:14.494Z"
   },
   {
    "duration": 41,
    "start_time": "2022-07-28T07:23:14.513Z"
   },
   {
    "duration": 11,
    "start_time": "2022-07-28T07:23:14.555Z"
   },
   {
    "duration": 11,
    "start_time": "2022-07-28T07:23:14.567Z"
   },
   {
    "duration": 14,
    "start_time": "2022-07-28T07:23:14.580Z"
   },
   {
    "duration": 28,
    "start_time": "2022-07-28T07:23:14.597Z"
   },
   {
    "duration": 162,
    "start_time": "2022-07-28T07:23:14.627Z"
   },
   {
    "duration": 116,
    "start_time": "2022-07-28T07:23:14.790Z"
   },
   {
    "duration": 6,
    "start_time": "2022-07-28T07:23:14.907Z"
   },
   {
    "duration": 10,
    "start_time": "2022-07-28T07:23:14.914Z"
   },
   {
    "duration": 273,
    "start_time": "2022-07-28T07:23:14.926Z"
   },
   {
    "duration": 176,
    "start_time": "2022-07-28T07:23:15.200Z"
   },
   {
    "duration": 359,
    "start_time": "2022-07-28T07:23:15.378Z"
   },
   {
    "duration": 174,
    "start_time": "2022-07-28T07:23:15.738Z"
   },
   {
    "duration": 201,
    "start_time": "2022-07-28T07:23:15.914Z"
   },
   {
    "duration": 0,
    "start_time": "2022-07-28T07:23:16.117Z"
   },
   {
    "duration": 0,
    "start_time": "2022-07-28T07:23:16.119Z"
   },
   {
    "duration": 0,
    "start_time": "2022-07-28T07:23:16.120Z"
   },
   {
    "duration": 0,
    "start_time": "2022-07-28T07:23:16.122Z"
   },
   {
    "duration": 0,
    "start_time": "2022-07-28T07:23:16.123Z"
   },
   {
    "duration": 0,
    "start_time": "2022-07-28T07:23:16.124Z"
   },
   {
    "duration": 0,
    "start_time": "2022-07-28T07:23:16.125Z"
   },
   {
    "duration": 0,
    "start_time": "2022-07-28T07:23:16.126Z"
   },
   {
    "duration": 0,
    "start_time": "2022-07-28T07:23:16.126Z"
   },
   {
    "duration": 0,
    "start_time": "2022-07-28T07:23:16.127Z"
   },
   {
    "duration": 0,
    "start_time": "2022-07-28T07:23:16.128Z"
   },
   {
    "duration": 0,
    "start_time": "2022-07-28T07:23:16.129Z"
   },
   {
    "duration": 0,
    "start_time": "2022-07-28T07:23:16.130Z"
   },
   {
    "duration": 0,
    "start_time": "2022-07-28T07:23:16.133Z"
   },
   {
    "duration": 0,
    "start_time": "2022-07-28T07:23:16.134Z"
   },
   {
    "duration": 0,
    "start_time": "2022-07-28T07:23:16.135Z"
   },
   {
    "duration": 0,
    "start_time": "2022-07-28T07:23:16.137Z"
   },
   {
    "duration": 0,
    "start_time": "2022-07-28T07:23:16.138Z"
   },
   {
    "duration": 0,
    "start_time": "2022-07-28T07:23:16.139Z"
   },
   {
    "duration": 0,
    "start_time": "2022-07-28T07:23:16.140Z"
   },
   {
    "duration": 0,
    "start_time": "2022-07-28T07:23:16.142Z"
   },
   {
    "duration": 0,
    "start_time": "2022-07-28T07:23:16.143Z"
   },
   {
    "duration": 0,
    "start_time": "2022-07-28T07:23:16.145Z"
   },
   {
    "duration": 0,
    "start_time": "2022-07-28T07:23:16.146Z"
   },
   {
    "duration": 0,
    "start_time": "2022-07-28T07:23:16.147Z"
   },
   {
    "duration": 0,
    "start_time": "2022-07-28T07:23:16.148Z"
   },
   {
    "duration": 0,
    "start_time": "2022-07-28T07:23:16.150Z"
   },
   {
    "duration": 197,
    "start_time": "2022-07-28T07:26:45.891Z"
   },
   {
    "duration": 191,
    "start_time": "2022-07-28T07:27:06.664Z"
   },
   {
    "duration": 300,
    "start_time": "2022-07-28T07:29:54.983Z"
   },
   {
    "duration": 297,
    "start_time": "2022-07-28T07:30:15.977Z"
   },
   {
    "duration": 292,
    "start_time": "2022-07-28T07:33:34.119Z"
   },
   {
    "duration": 353,
    "start_time": "2022-07-28T07:37:00.619Z"
   },
   {
    "duration": 295,
    "start_time": "2022-07-28T07:37:13.157Z"
   },
   {
    "duration": 269,
    "start_time": "2022-07-28T07:37:39.399Z"
   },
   {
    "duration": 8,
    "start_time": "2022-07-28T07:44:49.947Z"
   },
   {
    "duration": 107,
    "start_time": "2022-07-28T07:45:29.605Z"
   },
   {
    "duration": 109,
    "start_time": "2022-07-28T07:46:36.792Z"
   },
   {
    "duration": 108,
    "start_time": "2022-07-28T07:46:54.398Z"
   },
   {
    "duration": 101,
    "start_time": "2022-07-28T07:47:02.038Z"
   },
   {
    "duration": 123,
    "start_time": "2022-07-28T07:47:25.054Z"
   },
   {
    "duration": 5,
    "start_time": "2022-07-28T07:51:31.403Z"
   },
   {
    "duration": 114,
    "start_time": "2022-07-28T07:55:07.319Z"
   },
   {
    "duration": 112,
    "start_time": "2022-07-28T07:55:17.895Z"
   },
   {
    "duration": 112,
    "start_time": "2022-07-28T07:55:23.688Z"
   },
   {
    "duration": 189,
    "start_time": "2022-07-28T07:56:10.720Z"
   },
   {
    "duration": 117,
    "start_time": "2022-07-28T07:56:23.119Z"
   },
   {
    "duration": 6,
    "start_time": "2022-07-28T07:56:49.848Z"
   },
   {
    "duration": 4,
    "start_time": "2022-07-28T08:04:47.106Z"
   },
   {
    "duration": 73,
    "start_time": "2022-07-28T08:04:47.478Z"
   },
   {
    "duration": 274,
    "start_time": "2022-07-28T08:07:15.280Z"
   },
   {
    "duration": 91,
    "start_time": "2022-07-28T08:31:32.155Z"
   },
   {
    "duration": 8,
    "start_time": "2022-07-28T08:32:00.977Z"
   },
   {
    "duration": 9,
    "start_time": "2022-07-28T08:32:54.244Z"
   },
   {
    "duration": 15,
    "start_time": "2022-07-28T08:35:20.116Z"
   },
   {
    "duration": 120,
    "start_time": "2022-07-28T08:44:30.786Z"
   },
   {
    "duration": 21,
    "start_time": "2022-07-28T08:45:28.839Z"
   },
   {
    "duration": 39,
    "start_time": "2022-07-28T08:45:37.435Z"
   },
   {
    "duration": 33,
    "start_time": "2022-07-28T08:46:00.178Z"
   },
   {
    "duration": 136,
    "start_time": "2022-07-28T08:47:52.183Z"
   },
   {
    "duration": 171,
    "start_time": "2022-07-28T08:47:58.916Z"
   },
   {
    "duration": 128,
    "start_time": "2022-07-28T08:48:13.888Z"
   },
   {
    "duration": 113,
    "start_time": "2022-07-28T08:51:08.569Z"
   },
   {
    "duration": 92,
    "start_time": "2022-07-28T08:51:17.329Z"
   },
   {
    "duration": 121,
    "start_time": "2022-07-28T08:51:29.677Z"
   },
   {
    "duration": 12,
    "start_time": "2022-07-28T08:51:58.130Z"
   },
   {
    "duration": 10,
    "start_time": "2022-07-28T08:53:42.694Z"
   },
   {
    "duration": 11,
    "start_time": "2022-07-28T08:53:51.987Z"
   },
   {
    "duration": 74,
    "start_time": "2022-07-28T08:54:07.911Z"
   },
   {
    "duration": 9,
    "start_time": "2022-07-28T08:54:37.088Z"
   },
   {
    "duration": 8,
    "start_time": "2022-07-28T08:55:19.212Z"
   },
   {
    "duration": 7,
    "start_time": "2022-07-28T08:55:27.037Z"
   },
   {
    "duration": 8,
    "start_time": "2022-07-28T08:57:37.885Z"
   },
   {
    "duration": 7,
    "start_time": "2022-07-28T08:57:51.715Z"
   },
   {
    "duration": 13,
    "start_time": "2022-07-28T08:58:23.266Z"
   },
   {
    "duration": 12,
    "start_time": "2022-07-28T08:58:27.856Z"
   },
   {
    "duration": 5,
    "start_time": "2022-07-28T08:59:12.936Z"
   },
   {
    "duration": 5,
    "start_time": "2022-07-28T08:59:30.308Z"
   },
   {
    "duration": 11,
    "start_time": "2022-07-28T09:03:18.323Z"
   },
   {
    "duration": 6,
    "start_time": "2022-07-28T09:04:00.395Z"
   },
   {
    "duration": 14,
    "start_time": "2022-07-28T09:04:46.477Z"
   },
   {
    "duration": 12,
    "start_time": "2022-07-28T09:05:02.355Z"
   },
   {
    "duration": 97,
    "start_time": "2022-07-28T09:05:07.340Z"
   },
   {
    "duration": 8,
    "start_time": "2022-07-28T09:05:12.369Z"
   },
   {
    "duration": 4,
    "start_time": "2022-07-28T09:09:48.174Z"
   },
   {
    "duration": 8,
    "start_time": "2022-07-28T09:09:52.791Z"
   },
   {
    "duration": 5,
    "start_time": "2022-07-28T09:10:02.513Z"
   },
   {
    "duration": 21,
    "start_time": "2022-07-28T09:12:05.840Z"
   },
   {
    "duration": 101,
    "start_time": "2022-07-28T09:16:56.221Z"
   },
   {
    "duration": 17,
    "start_time": "2022-07-28T09:37:03.684Z"
   },
   {
    "duration": 29,
    "start_time": "2022-07-28T09:38:20.666Z"
   },
   {
    "duration": 30,
    "start_time": "2022-07-28T09:38:57.346Z"
   },
   {
    "duration": 29,
    "start_time": "2022-07-28T09:39:18.943Z"
   },
   {
    "duration": 12,
    "start_time": "2022-07-28T09:40:46.292Z"
   },
   {
    "duration": 23,
    "start_time": "2022-07-28T09:40:53.891Z"
   },
   {
    "duration": 18,
    "start_time": "2022-07-28T09:53:51.880Z"
   },
   {
    "duration": 88,
    "start_time": "2022-07-28T09:59:08.733Z"
   },
   {
    "duration": 23,
    "start_time": "2022-07-28T09:59:30.856Z"
   },
   {
    "duration": 21,
    "start_time": "2022-07-28T10:00:00.185Z"
   },
   {
    "duration": 36,
    "start_time": "2022-07-28T10:00:31.171Z"
   },
   {
    "duration": 34,
    "start_time": "2022-07-28T10:00:40.003Z"
   },
   {
    "duration": 25,
    "start_time": "2022-07-28T10:01:47.520Z"
   },
   {
    "duration": 19,
    "start_time": "2022-07-28T10:02:02.559Z"
   },
   {
    "duration": 19,
    "start_time": "2022-07-28T10:02:15.390Z"
   },
   {
    "duration": 21,
    "start_time": "2022-07-28T10:03:25.014Z"
   },
   {
    "duration": 29,
    "start_time": "2022-07-28T10:03:32.747Z"
   },
   {
    "duration": 4,
    "start_time": "2022-07-28T10:04:41.082Z"
   },
   {
    "duration": 3,
    "start_time": "2022-07-28T10:08:58.699Z"
   },
   {
    "duration": 74,
    "start_time": "2022-07-28T10:12:40.488Z"
   },
   {
    "duration": 8,
    "start_time": "2022-07-28T10:13:03.506Z"
   },
   {
    "duration": 9,
    "start_time": "2022-07-28T10:13:24.674Z"
   },
   {
    "duration": 9,
    "start_time": "2022-07-28T10:13:43.105Z"
   },
   {
    "duration": 7,
    "start_time": "2022-07-28T10:23:20.392Z"
   },
   {
    "duration": 22,
    "start_time": "2022-07-28T10:23:43.434Z"
   },
   {
    "duration": 20,
    "start_time": "2022-07-28T10:23:52.611Z"
   },
   {
    "duration": 127,
    "start_time": "2022-07-28T10:24:03.740Z"
   },
   {
    "duration": 73,
    "start_time": "2022-07-28T10:24:12.589Z"
   },
   {
    "duration": 18,
    "start_time": "2022-07-28T10:24:16.533Z"
   },
   {
    "duration": 4,
    "start_time": "2022-07-28T10:24:27.953Z"
   },
   {
    "duration": 9,
    "start_time": "2022-07-28T10:25:25.207Z"
   },
   {
    "duration": 9,
    "start_time": "2022-07-28T10:25:29.028Z"
   },
   {
    "duration": 4,
    "start_time": "2022-07-28T10:26:41.685Z"
   },
   {
    "duration": 4,
    "start_time": "2022-07-28T10:28:34.949Z"
   },
   {
    "duration": 6,
    "start_time": "2022-07-28T10:28:56.953Z"
   },
   {
    "duration": 7,
    "start_time": "2022-07-28T10:29:06.859Z"
   },
   {
    "duration": 2,
    "start_time": "2022-07-28T10:37:42.470Z"
   },
   {
    "duration": 8,
    "start_time": "2022-07-28T10:43:06.389Z"
   },
   {
    "duration": 24,
    "start_time": "2022-07-28T10:43:07.398Z"
   },
   {
    "duration": 19,
    "start_time": "2022-07-28T10:43:10.892Z"
   },
   {
    "duration": 5,
    "start_time": "2022-07-28T10:44:10.522Z"
   },
   {
    "duration": 2,
    "start_time": "2022-07-28T10:46:26.298Z"
   },
   {
    "duration": 15,
    "start_time": "2022-07-28T10:47:03.713Z"
   },
   {
    "duration": 14,
    "start_time": "2022-07-28T10:47:37.626Z"
   },
   {
    "duration": 9,
    "start_time": "2022-07-28T10:48:53.963Z"
   },
   {
    "duration": 3,
    "start_time": "2022-07-28T11:58:33.965Z"
   },
   {
    "duration": 6,
    "start_time": "2022-07-28T11:58:37.654Z"
   },
   {
    "duration": 5,
    "start_time": "2022-07-28T11:58:39.255Z"
   },
   {
    "duration": 9,
    "start_time": "2022-07-28T11:58:44.619Z"
   },
   {
    "duration": 7,
    "start_time": "2022-07-28T11:58:47.263Z"
   },
   {
    "duration": 8,
    "start_time": "2022-07-28T11:58:49.472Z"
   },
   {
    "duration": 6,
    "start_time": "2022-07-28T11:59:45.485Z"
   },
   {
    "duration": 8,
    "start_time": "2022-07-28T12:00:05.967Z"
   },
   {
    "duration": 4,
    "start_time": "2022-07-28T12:00:45.706Z"
   },
   {
    "duration": 98,
    "start_time": "2022-07-28T12:01:02.643Z"
   },
   {
    "duration": 3,
    "start_time": "2022-07-28T12:01:21.825Z"
   },
   {
    "duration": 144,
    "start_time": "2022-07-28T12:14:08.464Z"
   },
   {
    "duration": 102,
    "start_time": "2022-07-28T12:14:09.734Z"
   },
   {
    "duration": 113,
    "start_time": "2022-07-28T12:14:11.559Z"
   },
   {
    "duration": 7,
    "start_time": "2022-07-28T12:14:17.649Z"
   },
   {
    "duration": 105,
    "start_time": "2022-07-28T12:14:22.132Z"
   },
   {
    "duration": 6,
    "start_time": "2022-07-28T12:15:06.847Z"
   },
   {
    "duration": 98,
    "start_time": "2022-07-28T12:15:07.582Z"
   },
   {
    "duration": 119,
    "start_time": "2022-07-28T12:15:08.545Z"
   },
   {
    "duration": 5,
    "start_time": "2022-07-28T12:16:21.537Z"
   },
   {
    "duration": 126,
    "start_time": "2022-07-28T12:16:23.754Z"
   },
   {
    "duration": 122,
    "start_time": "2022-07-28T12:16:24.730Z"
   },
   {
    "duration": 20,
    "start_time": "2022-07-28T12:19:29.898Z"
   },
   {
    "duration": 18,
    "start_time": "2022-07-28T12:25:03.602Z"
   },
   {
    "duration": 1100,
    "start_time": "2022-07-28T12:37:55.791Z"
   },
   {
    "duration": 4,
    "start_time": "2022-07-28T12:37:56.893Z"
   },
   {
    "duration": 25,
    "start_time": "2022-07-28T12:37:56.898Z"
   },
   {
    "duration": 17,
    "start_time": "2022-07-28T12:37:56.925Z"
   },
   {
    "duration": 19,
    "start_time": "2022-07-28T12:37:56.943Z"
   },
   {
    "duration": 6,
    "start_time": "2022-07-28T12:37:56.964Z"
   },
   {
    "duration": 10,
    "start_time": "2022-07-28T12:37:56.972Z"
   },
   {
    "duration": 13,
    "start_time": "2022-07-28T12:37:56.984Z"
   },
   {
    "duration": 10,
    "start_time": "2022-07-28T12:37:56.998Z"
   },
   {
    "duration": 3,
    "start_time": "2022-07-28T12:37:57.011Z"
   },
   {
    "duration": 9,
    "start_time": "2022-07-28T12:37:57.015Z"
   },
   {
    "duration": 32,
    "start_time": "2022-07-28T12:37:57.025Z"
   },
   {
    "duration": 8,
    "start_time": "2022-07-28T12:37:57.058Z"
   },
   {
    "duration": 9,
    "start_time": "2022-07-28T12:37:57.067Z"
   },
   {
    "duration": 7,
    "start_time": "2022-07-28T12:37:57.077Z"
   },
   {
    "duration": 4,
    "start_time": "2022-07-28T12:37:57.085Z"
   },
   {
    "duration": 7,
    "start_time": "2022-07-28T12:37:57.090Z"
   },
   {
    "duration": 172,
    "start_time": "2022-07-28T12:37:57.098Z"
   },
   {
    "duration": 116,
    "start_time": "2022-07-28T12:37:57.272Z"
   },
   {
    "duration": 6,
    "start_time": "2022-07-28T12:37:57.390Z"
   },
   {
    "duration": 9,
    "start_time": "2022-07-28T12:37:57.397Z"
   },
   {
    "duration": 251,
    "start_time": "2022-07-28T12:37:57.408Z"
   },
   {
    "duration": 178,
    "start_time": "2022-07-28T12:37:57.660Z"
   },
   {
    "duration": 290,
    "start_time": "2022-07-28T12:37:57.840Z"
   },
   {
    "duration": 191,
    "start_time": "2022-07-28T12:37:58.131Z"
   },
   {
    "duration": 332,
    "start_time": "2022-07-28T12:37:58.323Z"
   },
   {
    "duration": 6,
    "start_time": "2022-07-28T12:37:58.657Z"
   },
   {
    "duration": 112,
    "start_time": "2022-07-28T12:37:58.667Z"
   },
   {
    "duration": 120,
    "start_time": "2022-07-28T12:37:58.781Z"
   },
   {
    "duration": 4,
    "start_time": "2022-07-28T12:37:58.902Z"
   },
   {
    "duration": 122,
    "start_time": "2022-07-28T12:37:58.907Z"
   },
   {
    "duration": 203,
    "start_time": "2022-07-28T12:37:59.030Z"
   },
   {
    "duration": 4,
    "start_time": "2022-07-28T12:37:59.235Z"
   },
   {
    "duration": 87,
    "start_time": "2022-07-28T12:37:59.240Z"
   },
   {
    "duration": 115,
    "start_time": "2022-07-28T12:37:59.329Z"
   },
   {
    "duration": 22,
    "start_time": "2022-07-28T12:37:59.445Z"
   },
   {
    "duration": 128,
    "start_time": "2022-07-28T12:37:59.469Z"
   },
   {
    "duration": 5,
    "start_time": "2022-07-28T12:37:59.599Z"
   },
   {
    "duration": 32,
    "start_time": "2022-07-28T12:37:59.605Z"
   },
   {
    "duration": 3,
    "start_time": "2022-07-28T12:37:59.639Z"
   },
   {
    "duration": 14,
    "start_time": "2022-07-28T12:37:59.644Z"
   },
   {
    "duration": 5,
    "start_time": "2022-07-28T12:37:59.660Z"
   },
   {
    "duration": 19,
    "start_time": "2022-07-28T12:37:59.667Z"
   },
   {
    "duration": 23,
    "start_time": "2022-07-28T12:37:59.687Z"
   },
   {
    "duration": 33,
    "start_time": "2022-07-28T12:37:59.712Z"
   },
   {
    "duration": 3,
    "start_time": "2022-07-28T12:37:59.747Z"
   },
   {
    "duration": 11,
    "start_time": "2022-07-28T12:37:59.752Z"
   },
   {
    "duration": 13,
    "start_time": "2022-07-28T12:37:59.764Z"
   },
   {
    "duration": 1480,
    "start_time": "2022-07-28T20:40:09.469Z"
   },
   {
    "duration": 6,
    "start_time": "2022-07-28T20:40:10.951Z"
   },
   {
    "duration": 33,
    "start_time": "2022-07-28T20:40:10.958Z"
   },
   {
    "duration": 21,
    "start_time": "2022-07-28T20:40:10.992Z"
   },
   {
    "duration": 29,
    "start_time": "2022-07-28T20:40:11.015Z"
   },
   {
    "duration": 11,
    "start_time": "2022-07-28T20:40:11.046Z"
   },
   {
    "duration": 9,
    "start_time": "2022-07-28T20:40:11.059Z"
   },
   {
    "duration": 12,
    "start_time": "2022-07-28T20:40:11.069Z"
   },
   {
    "duration": 21,
    "start_time": "2022-07-28T20:40:11.083Z"
   },
   {
    "duration": 25,
    "start_time": "2022-07-28T20:40:11.106Z"
   },
   {
    "duration": 9,
    "start_time": "2022-07-28T20:40:11.135Z"
   },
   {
    "duration": 6,
    "start_time": "2022-07-28T20:40:11.146Z"
   },
   {
    "duration": 14,
    "start_time": "2022-07-28T20:40:11.154Z"
   },
   {
    "duration": 15,
    "start_time": "2022-07-28T20:40:11.171Z"
   },
   {
    "duration": 12,
    "start_time": "2022-07-28T20:40:11.188Z"
   },
   {
    "duration": 4,
    "start_time": "2022-07-28T20:40:11.202Z"
   },
   {
    "duration": 22,
    "start_time": "2022-07-28T20:40:11.207Z"
   },
   {
    "duration": 167,
    "start_time": "2022-07-28T20:40:11.232Z"
   },
   {
    "duration": 125,
    "start_time": "2022-07-28T20:40:11.401Z"
   },
   {
    "duration": 11,
    "start_time": "2022-07-28T20:40:11.528Z"
   },
   {
    "duration": 12,
    "start_time": "2022-07-28T20:40:11.541Z"
   },
   {
    "duration": 279,
    "start_time": "2022-07-28T20:40:11.555Z"
   },
   {
    "duration": 232,
    "start_time": "2022-07-28T20:40:11.839Z"
   },
   {
    "duration": 360,
    "start_time": "2022-07-28T20:40:12.074Z"
   },
   {
    "duration": 206,
    "start_time": "2022-07-28T20:40:12.437Z"
   },
   {
    "duration": 323,
    "start_time": "2022-07-28T20:40:12.645Z"
   },
   {
    "duration": 7,
    "start_time": "2022-07-28T20:40:12.970Z"
   },
   {
    "duration": 137,
    "start_time": "2022-07-28T20:40:12.979Z"
   },
   {
    "duration": 132,
    "start_time": "2022-07-28T20:40:13.118Z"
   },
   {
    "duration": 6,
    "start_time": "2022-07-28T20:40:13.252Z"
   },
   {
    "duration": 150,
    "start_time": "2022-07-28T20:40:13.259Z"
   },
   {
    "duration": 231,
    "start_time": "2022-07-28T20:40:13.411Z"
   },
   {
    "duration": 5,
    "start_time": "2022-07-28T20:40:13.644Z"
   },
   {
    "duration": 108,
    "start_time": "2022-07-28T20:40:13.650Z"
   },
   {
    "duration": 142,
    "start_time": "2022-07-28T20:40:13.760Z"
   },
   {
    "duration": 35,
    "start_time": "2022-07-28T20:40:13.904Z"
   },
   {
    "duration": 131,
    "start_time": "2022-07-28T20:40:13.941Z"
   },
   {
    "duration": 6,
    "start_time": "2022-07-28T20:40:14.074Z"
   },
   {
    "duration": 30,
    "start_time": "2022-07-28T20:40:14.081Z"
   },
   {
    "duration": 15,
    "start_time": "2022-07-28T20:40:14.113Z"
   },
   {
    "duration": 32,
    "start_time": "2022-07-28T20:40:14.132Z"
   },
   {
    "duration": 14,
    "start_time": "2022-07-28T20:40:14.165Z"
   },
   {
    "duration": 18,
    "start_time": "2022-07-28T20:40:14.181Z"
   },
   {
    "duration": 14,
    "start_time": "2022-07-28T20:40:14.200Z"
   },
   {
    "duration": 50,
    "start_time": "2022-07-28T20:40:14.216Z"
   },
   {
    "duration": 4,
    "start_time": "2022-07-28T20:40:14.268Z"
   },
   {
    "duration": 23,
    "start_time": "2022-07-28T20:40:14.274Z"
   },
   {
    "duration": 12,
    "start_time": "2022-07-28T20:40:14.299Z"
   },
   {
    "duration": 7,
    "start_time": "2022-07-28T20:42:34.329Z"
   },
   {
    "duration": 10,
    "start_time": "2022-07-28T20:42:34.803Z"
   },
   {
    "duration": 1538,
    "start_time": "2022-07-29T07:20:17.887Z"
   },
   {
    "duration": 5,
    "start_time": "2022-07-29T07:20:19.529Z"
   },
   {
    "duration": 27,
    "start_time": "2022-07-29T07:20:20.345Z"
   },
   {
    "duration": 21,
    "start_time": "2022-07-29T07:20:21.146Z"
   },
   {
    "duration": 21,
    "start_time": "2022-07-29T07:20:21.675Z"
   },
   {
    "duration": 7,
    "start_time": "2022-07-29T07:20:23.324Z"
   },
   {
    "duration": 8,
    "start_time": "2022-07-29T07:20:26.841Z"
   },
   {
    "duration": 12,
    "start_time": "2022-07-29T07:20:28.520Z"
   },
   {
    "duration": 11,
    "start_time": "2022-07-29T07:21:40.513Z"
   },
   {
    "duration": 3,
    "start_time": "2022-07-29T07:22:55.552Z"
   },
   {
    "duration": 5,
    "start_time": "2022-07-29T07:22:56.499Z"
   },
   {
    "duration": 6,
    "start_time": "2022-07-29T07:22:57.344Z"
   },
   {
    "duration": 9,
    "start_time": "2022-07-29T07:23:07.604Z"
   },
   {
    "duration": 9,
    "start_time": "2022-07-29T07:23:08.531Z"
   },
   {
    "duration": 8,
    "start_time": "2022-07-29T07:23:10.177Z"
   },
   {
    "duration": 6,
    "start_time": "2022-07-29T07:23:37.994Z"
   },
   {
    "duration": 187,
    "start_time": "2022-07-29T07:23:39.317Z"
   },
   {
    "duration": 142,
    "start_time": "2022-07-29T07:23:39.704Z"
   },
   {
    "duration": 7,
    "start_time": "2022-07-29T07:23:40.079Z"
   },
   {
    "duration": 7,
    "start_time": "2022-07-29T07:23:40.552Z"
   },
   {
    "duration": 284,
    "start_time": "2022-07-29T07:23:41.547Z"
   },
   {
    "duration": 319,
    "start_time": "2022-07-29T07:26:00.108Z"
   },
   {
    "duration": 217,
    "start_time": "2022-07-29T07:26:34.234Z"
   },
   {
    "duration": 226,
    "start_time": "2022-07-29T07:28:53.664Z"
   },
   {
    "duration": 215,
    "start_time": "2022-07-29T07:30:53.303Z"
   },
   {
    "duration": 228,
    "start_time": "2022-07-29T07:31:57.704Z"
   },
   {
    "duration": 216,
    "start_time": "2022-07-29T07:32:08.039Z"
   },
   {
    "duration": 330,
    "start_time": "2022-07-29T07:33:24.352Z"
   },
   {
    "duration": 306,
    "start_time": "2022-07-29T07:34:23.582Z"
   },
   {
    "duration": 372,
    "start_time": "2022-07-29T07:35:04.482Z"
   },
   {
    "duration": 9,
    "start_time": "2022-07-29T07:35:53.297Z"
   },
   {
    "duration": 1293,
    "start_time": "2022-07-29T07:36:08.039Z"
   },
   {
    "duration": 4,
    "start_time": "2022-07-29T07:36:09.334Z"
   },
   {
    "duration": 31,
    "start_time": "2022-07-29T07:36:09.340Z"
   },
   {
    "duration": 23,
    "start_time": "2022-07-29T07:36:09.373Z"
   },
   {
    "duration": 41,
    "start_time": "2022-07-29T07:36:09.398Z"
   },
   {
    "duration": 7,
    "start_time": "2022-07-29T07:36:09.441Z"
   },
   {
    "duration": 10,
    "start_time": "2022-07-29T07:36:09.449Z"
   },
   {
    "duration": 11,
    "start_time": "2022-07-29T07:36:09.461Z"
   },
   {
    "duration": 16,
    "start_time": "2022-07-29T07:36:09.474Z"
   },
   {
    "duration": 3,
    "start_time": "2022-07-29T07:36:09.523Z"
   },
   {
    "duration": 11,
    "start_time": "2022-07-29T07:36:09.528Z"
   },
   {
    "duration": 5,
    "start_time": "2022-07-29T07:36:09.541Z"
   },
   {
    "duration": 9,
    "start_time": "2022-07-29T07:36:09.548Z"
   },
   {
    "duration": 10,
    "start_time": "2022-07-29T07:36:09.559Z"
   },
   {
    "duration": 8,
    "start_time": "2022-07-29T07:36:09.570Z"
   },
   {
    "duration": 7,
    "start_time": "2022-07-29T07:36:09.579Z"
   },
   {
    "duration": 182,
    "start_time": "2022-07-29T07:36:09.624Z"
   },
   {
    "duration": 138,
    "start_time": "2022-07-29T07:36:09.808Z"
   },
   {
    "duration": 6,
    "start_time": "2022-07-29T07:36:09.948Z"
   },
   {
    "duration": 22,
    "start_time": "2022-07-29T07:36:09.956Z"
   },
   {
    "duration": 299,
    "start_time": "2022-07-29T07:36:09.980Z"
   },
   {
    "duration": 228,
    "start_time": "2022-07-29T07:36:10.280Z"
   },
   {
    "duration": 337,
    "start_time": "2022-07-29T07:36:10.509Z"
   },
   {
    "duration": 242,
    "start_time": "2022-07-29T07:36:10.848Z"
   },
   {
    "duration": 348,
    "start_time": "2022-07-29T07:36:11.092Z"
   },
   {
    "duration": 7,
    "start_time": "2022-07-29T07:36:11.442Z"
   },
   {
    "duration": 131,
    "start_time": "2022-07-29T07:36:11.451Z"
   },
   {
    "duration": 140,
    "start_time": "2022-07-29T07:36:11.586Z"
   },
   {
    "duration": 6,
    "start_time": "2022-07-29T07:36:11.728Z"
   },
   {
    "duration": 144,
    "start_time": "2022-07-29T07:36:11.735Z"
   },
   {
    "duration": 146,
    "start_time": "2022-07-29T07:36:11.881Z"
   },
   {
    "duration": 5,
    "start_time": "2022-07-29T07:36:12.029Z"
   },
   {
    "duration": 187,
    "start_time": "2022-07-29T07:36:12.036Z"
   },
   {
    "duration": 115,
    "start_time": "2022-07-29T07:36:12.225Z"
   },
   {
    "duration": 20,
    "start_time": "2022-07-29T07:36:12.341Z"
   },
   {
    "duration": 152,
    "start_time": "2022-07-29T07:36:12.363Z"
   },
   {
    "duration": 9,
    "start_time": "2022-07-29T07:36:12.517Z"
   },
   {
    "duration": 23,
    "start_time": "2022-07-29T07:36:12.528Z"
   },
   {
    "duration": 5,
    "start_time": "2022-07-29T07:36:12.552Z"
   },
   {
    "duration": 10,
    "start_time": "2022-07-29T07:36:12.559Z"
   },
   {
    "duration": 8,
    "start_time": "2022-07-29T07:36:12.571Z"
   },
   {
    "duration": 43,
    "start_time": "2022-07-29T07:36:12.580Z"
   },
   {
    "duration": 11,
    "start_time": "2022-07-29T07:36:12.626Z"
   },
   {
    "duration": 22,
    "start_time": "2022-07-29T07:36:12.639Z"
   },
   {
    "duration": 5,
    "start_time": "2022-07-29T07:36:12.663Z"
   },
   {
    "duration": 14,
    "start_time": "2022-07-29T07:36:12.669Z"
   },
   {
    "duration": 8,
    "start_time": "2022-07-29T07:36:12.685Z"
   },
   {
    "duration": 5,
    "start_time": "2022-07-29T07:43:44.292Z"
   },
   {
    "duration": 4,
    "start_time": "2022-07-29T07:44:05.349Z"
   },
   {
    "duration": 6,
    "start_time": "2022-07-29T07:44:58.455Z"
   },
   {
    "duration": 4,
    "start_time": "2022-07-29T07:45:11.526Z"
   },
   {
    "duration": 5,
    "start_time": "2022-07-29T07:46:05.146Z"
   },
   {
    "duration": 13,
    "start_time": "2022-07-29T07:46:30.669Z"
   },
   {
    "duration": 9,
    "start_time": "2022-07-29T07:46:37.329Z"
   },
   {
    "duration": 4,
    "start_time": "2022-07-29T07:46:38.248Z"
   },
   {
    "duration": 50,
    "start_time": "2022-07-29T07:49:57.370Z"
   },
   {
    "duration": 52,
    "start_time": "2022-07-29T07:51:17.299Z"
   },
   {
    "duration": 57,
    "start_time": "2022-07-29T07:53:00.934Z"
   },
   {
    "duration": 1205,
    "start_time": "2022-07-29T07:53:20.952Z"
   },
   {
    "duration": 5,
    "start_time": "2022-07-29T07:53:22.160Z"
   },
   {
    "duration": 29,
    "start_time": "2022-07-29T07:53:22.167Z"
   },
   {
    "duration": 25,
    "start_time": "2022-07-29T07:53:22.199Z"
   },
   {
    "duration": 21,
    "start_time": "2022-07-29T07:53:22.226Z"
   },
   {
    "duration": 8,
    "start_time": "2022-07-29T07:53:22.249Z"
   },
   {
    "duration": 10,
    "start_time": "2022-07-29T07:53:22.258Z"
   },
   {
    "duration": 12,
    "start_time": "2022-07-29T07:53:22.270Z"
   },
   {
    "duration": 45,
    "start_time": "2022-07-29T07:53:22.284Z"
   },
   {
    "duration": 3,
    "start_time": "2022-07-29T07:53:22.333Z"
   },
   {
    "duration": 10,
    "start_time": "2022-07-29T07:53:22.338Z"
   },
   {
    "duration": 12,
    "start_time": "2022-07-29T07:53:22.350Z"
   },
   {
    "duration": 12,
    "start_time": "2022-07-29T07:53:22.363Z"
   },
   {
    "duration": 12,
    "start_time": "2022-07-29T07:53:22.377Z"
   },
   {
    "duration": 38,
    "start_time": "2022-07-29T07:53:22.391Z"
   },
   {
    "duration": 7,
    "start_time": "2022-07-29T07:53:22.431Z"
   },
   {
    "duration": 185,
    "start_time": "2022-07-29T07:53:22.440Z"
   },
   {
    "duration": 138,
    "start_time": "2022-07-29T07:53:22.626Z"
   },
   {
    "duration": 7,
    "start_time": "2022-07-29T07:53:22.766Z"
   },
   {
    "duration": 17,
    "start_time": "2022-07-29T07:53:22.774Z"
   },
   {
    "duration": 342,
    "start_time": "2022-07-29T07:53:22.793Z"
   },
   {
    "duration": 223,
    "start_time": "2022-07-29T07:53:23.137Z"
   },
   {
    "duration": 323,
    "start_time": "2022-07-29T07:53:23.362Z"
   },
   {
    "duration": 237,
    "start_time": "2022-07-29T07:53:23.687Z"
   },
   {
    "duration": 336,
    "start_time": "2022-07-29T07:53:23.926Z"
   },
   {
    "duration": 8,
    "start_time": "2022-07-29T07:53:24.264Z"
   },
   {
    "duration": 133,
    "start_time": "2022-07-29T07:53:24.273Z"
   },
   {
    "duration": 139,
    "start_time": "2022-07-29T07:53:24.410Z"
   },
   {
    "duration": 6,
    "start_time": "2022-07-29T07:53:24.551Z"
   },
   {
    "duration": 153,
    "start_time": "2022-07-29T07:53:24.558Z"
   },
   {
    "duration": 151,
    "start_time": "2022-07-29T07:53:24.723Z"
   },
   {
    "duration": 5,
    "start_time": "2022-07-29T07:53:24.876Z"
   },
   {
    "duration": 188,
    "start_time": "2022-07-29T07:53:24.883Z"
   },
   {
    "duration": 146,
    "start_time": "2022-07-29T07:53:25.073Z"
   },
   {
    "duration": 21,
    "start_time": "2022-07-29T07:53:25.221Z"
   },
   {
    "duration": 165,
    "start_time": "2022-07-29T07:53:25.245Z"
   },
   {
    "duration": 12,
    "start_time": "2022-07-29T07:53:25.411Z"
   },
   {
    "duration": 23,
    "start_time": "2022-07-29T07:53:25.425Z"
   },
   {
    "duration": 5,
    "start_time": "2022-07-29T07:53:25.450Z"
   },
   {
    "duration": 12,
    "start_time": "2022-07-29T07:53:25.457Z"
   },
   {
    "duration": 13,
    "start_time": "2022-07-29T07:53:25.471Z"
   },
   {
    "duration": 6,
    "start_time": "2022-07-29T07:53:25.486Z"
   },
   {
    "duration": 11,
    "start_time": "2022-07-29T07:53:25.524Z"
   },
   {
    "duration": 59,
    "start_time": "2022-07-29T07:53:25.537Z"
   },
   {
    "duration": 0,
    "start_time": "2022-07-29T07:53:25.598Z"
   },
   {
    "duration": 0,
    "start_time": "2022-07-29T07:53:25.599Z"
   },
   {
    "duration": 0,
    "start_time": "2022-07-29T07:53:25.601Z"
   },
   {
    "duration": 0,
    "start_time": "2022-07-29T07:53:25.602Z"
   },
   {
    "duration": 0,
    "start_time": "2022-07-29T07:53:25.603Z"
   },
   {
    "duration": 9,
    "start_time": "2022-07-29T07:54:06.701Z"
   },
   {
    "duration": 23,
    "start_time": "2022-07-29T07:54:06.964Z"
   },
   {
    "duration": 5,
    "start_time": "2022-07-29T07:54:07.152Z"
   },
   {
    "duration": 10,
    "start_time": "2022-07-29T07:54:08.141Z"
   },
   {
    "duration": 8,
    "start_time": "2022-07-29T07:54:08.366Z"
   },
   {
    "duration": 1267,
    "start_time": "2022-07-29T07:54:17.714Z"
   },
   {
    "duration": 7,
    "start_time": "2022-07-29T07:54:18.984Z"
   },
   {
    "duration": 67,
    "start_time": "2022-07-29T07:54:18.993Z"
   },
   {
    "duration": 57,
    "start_time": "2022-07-29T07:54:19.063Z"
   },
   {
    "duration": 27,
    "start_time": "2022-07-29T07:54:19.122Z"
   },
   {
    "duration": 23,
    "start_time": "2022-07-29T07:54:19.151Z"
   },
   {
    "duration": 49,
    "start_time": "2022-07-29T07:54:19.176Z"
   },
   {
    "duration": 38,
    "start_time": "2022-07-29T07:54:19.227Z"
   },
   {
    "duration": 38,
    "start_time": "2022-07-29T07:54:19.267Z"
   },
   {
    "duration": 33,
    "start_time": "2022-07-29T07:54:19.308Z"
   },
   {
    "duration": 32,
    "start_time": "2022-07-29T07:54:19.343Z"
   },
   {
    "duration": 39,
    "start_time": "2022-07-29T07:54:19.376Z"
   },
   {
    "duration": 42,
    "start_time": "2022-07-29T07:54:19.416Z"
   },
   {
    "duration": 34,
    "start_time": "2022-07-29T07:54:19.460Z"
   },
   {
    "duration": 35,
    "start_time": "2022-07-29T07:54:19.496Z"
   },
   {
    "duration": 28,
    "start_time": "2022-07-29T07:54:19.534Z"
   },
   {
    "duration": 196,
    "start_time": "2022-07-29T07:54:19.563Z"
   },
   {
    "duration": 142,
    "start_time": "2022-07-29T07:54:19.761Z"
   },
   {
    "duration": 19,
    "start_time": "2022-07-29T07:54:19.905Z"
   },
   {
    "duration": 48,
    "start_time": "2022-07-29T07:54:19.926Z"
   },
   {
    "duration": 301,
    "start_time": "2022-07-29T07:54:19.976Z"
   },
   {
    "duration": 241,
    "start_time": "2022-07-29T07:54:20.279Z"
   },
   {
    "duration": 329,
    "start_time": "2022-07-29T07:54:20.523Z"
   },
   {
    "duration": 245,
    "start_time": "2022-07-29T07:54:20.855Z"
   },
   {
    "duration": 354,
    "start_time": "2022-07-29T07:54:21.103Z"
   },
   {
    "duration": 6,
    "start_time": "2022-07-29T07:54:21.459Z"
   },
   {
    "duration": 137,
    "start_time": "2022-07-29T07:54:21.467Z"
   },
   {
    "duration": 141,
    "start_time": "2022-07-29T07:54:21.608Z"
   },
   {
    "duration": 6,
    "start_time": "2022-07-29T07:54:21.750Z"
   },
   {
    "duration": 159,
    "start_time": "2022-07-29T07:54:21.758Z"
   },
   {
    "duration": 240,
    "start_time": "2022-07-29T07:54:21.919Z"
   },
   {
    "duration": 5,
    "start_time": "2022-07-29T07:54:22.161Z"
   },
   {
    "duration": 130,
    "start_time": "2022-07-29T07:54:22.168Z"
   },
   {
    "duration": 132,
    "start_time": "2022-07-29T07:54:22.300Z"
   },
   {
    "duration": 3733,
    "start_time": "2022-07-29T07:54:22.433Z"
   },
   {
    "duration": 325,
    "start_time": "2022-07-29T07:54:26.168Z"
   },
   {
    "duration": 6,
    "start_time": "2022-07-29T07:54:26.495Z"
   },
   {
    "duration": 50,
    "start_time": "2022-07-29T07:54:26.503Z"
   },
   {
    "duration": 8,
    "start_time": "2022-07-29T07:54:26.555Z"
   },
   {
    "duration": 32,
    "start_time": "2022-07-29T07:54:26.565Z"
   },
   {
    "duration": 19,
    "start_time": "2022-07-29T07:54:26.599Z"
   },
   {
    "duration": 32,
    "start_time": "2022-07-29T07:54:26.620Z"
   },
   {
    "duration": 27,
    "start_time": "2022-07-29T07:54:26.654Z"
   },
   {
    "duration": 30,
    "start_time": "2022-07-29T07:54:26.683Z"
   },
   {
    "duration": 35,
    "start_time": "2022-07-29T07:54:26.715Z"
   },
   {
    "duration": 27,
    "start_time": "2022-07-29T07:54:26.752Z"
   },
   {
    "duration": 31,
    "start_time": "2022-07-29T07:54:26.781Z"
   },
   {
    "duration": 32,
    "start_time": "2022-07-29T07:54:26.814Z"
   },
   {
    "duration": 1352,
    "start_time": "2022-07-29T20:57:31.291Z"
   },
   {
    "duration": 5,
    "start_time": "2022-07-29T20:57:32.645Z"
   },
   {
    "duration": 28,
    "start_time": "2022-07-29T20:57:32.651Z"
   },
   {
    "duration": 21,
    "start_time": "2022-07-29T20:57:32.681Z"
   },
   {
    "duration": 45,
    "start_time": "2022-07-29T20:57:32.703Z"
   },
   {
    "duration": 8,
    "start_time": "2022-07-29T20:57:32.750Z"
   },
   {
    "duration": 13,
    "start_time": "2022-07-29T20:57:32.760Z"
   },
   {
    "duration": 14,
    "start_time": "2022-07-29T20:57:32.775Z"
   },
   {
    "duration": 40,
    "start_time": "2022-07-29T20:57:32.791Z"
   },
   {
    "duration": 3,
    "start_time": "2022-07-29T20:57:32.835Z"
   },
   {
    "duration": 12,
    "start_time": "2022-07-29T20:57:32.840Z"
   },
   {
    "duration": 7,
    "start_time": "2022-07-29T20:57:32.854Z"
   },
   {
    "duration": 11,
    "start_time": "2022-07-29T20:57:32.863Z"
   },
   {
    "duration": 12,
    "start_time": "2022-07-29T20:57:32.876Z"
   },
   {
    "duration": 45,
    "start_time": "2022-07-29T20:57:32.890Z"
   },
   {
    "duration": 6,
    "start_time": "2022-07-29T20:57:32.937Z"
   },
   {
    "duration": 208,
    "start_time": "2022-07-29T20:57:32.945Z"
   },
   {
    "duration": 125,
    "start_time": "2022-07-29T20:57:33.155Z"
   },
   {
    "duration": 7,
    "start_time": "2022-07-29T20:57:33.282Z"
   },
   {
    "duration": 9,
    "start_time": "2022-07-29T20:57:33.291Z"
   },
   {
    "duration": 270,
    "start_time": "2022-07-29T20:57:33.301Z"
   },
   {
    "duration": 200,
    "start_time": "2022-07-29T20:57:33.573Z"
   },
   {
    "duration": 365,
    "start_time": "2022-07-29T20:57:33.775Z"
   },
   {
    "duration": 232,
    "start_time": "2022-07-29T20:57:34.141Z"
   },
   {
    "duration": 333,
    "start_time": "2022-07-29T20:57:34.375Z"
   },
   {
    "duration": 7,
    "start_time": "2022-07-29T20:57:34.710Z"
   },
   {
    "duration": 116,
    "start_time": "2022-07-29T20:57:34.719Z"
   },
   {
    "duration": 118,
    "start_time": "2022-07-29T20:57:34.840Z"
   },
   {
    "duration": 6,
    "start_time": "2022-07-29T20:57:34.959Z"
   },
   {
    "duration": 167,
    "start_time": "2022-07-29T20:57:34.967Z"
   },
   {
    "duration": 191,
    "start_time": "2022-07-29T20:57:35.135Z"
   },
   {
    "duration": 6,
    "start_time": "2022-07-29T20:57:35.331Z"
   },
   {
    "duration": 164,
    "start_time": "2022-07-29T20:57:35.339Z"
   },
   {
    "duration": 111,
    "start_time": "2022-07-29T20:57:35.505Z"
   },
   {
    "duration": 26,
    "start_time": "2022-07-29T20:57:35.617Z"
   },
   {
    "duration": 135,
    "start_time": "2022-07-29T20:57:35.645Z"
   },
   {
    "duration": 7,
    "start_time": "2022-07-29T20:57:35.782Z"
   },
   {
    "duration": 22,
    "start_time": "2022-07-29T20:57:35.790Z"
   },
   {
    "duration": 6,
    "start_time": "2022-07-29T20:57:35.830Z"
   },
   {
    "duration": 13,
    "start_time": "2022-07-29T20:57:35.837Z"
   },
   {
    "duration": 7,
    "start_time": "2022-07-29T20:57:35.851Z"
   },
   {
    "duration": 6,
    "start_time": "2022-07-29T20:57:35.860Z"
   },
   {
    "duration": 11,
    "start_time": "2022-07-29T20:57:35.868Z"
   },
   {
    "duration": 11,
    "start_time": "2022-07-29T20:57:35.881Z"
   },
   {
    "duration": 58,
    "start_time": "2022-07-29T20:57:35.894Z"
   },
   {
    "duration": 4,
    "start_time": "2022-07-29T20:57:35.954Z"
   },
   {
    "duration": 16,
    "start_time": "2022-07-29T20:57:35.960Z"
   },
   {
    "duration": 11,
    "start_time": "2022-07-29T20:57:35.978Z"
   }
  ],
  "kernelspec": {
   "display_name": "Python 3 (ipykernel)",
   "language": "python",
   "name": "python3"
  },
  "language_info": {
   "codemirror_mode": {
    "name": "ipython",
    "version": 3
   },
   "file_extension": ".py",
   "mimetype": "text/x-python",
   "name": "python",
   "nbconvert_exporter": "python",
   "pygments_lexer": "ipython3",
   "version": "3.9.12"
  },
  "toc": {
   "base_numbering": 1,
   "nav_menu": {},
   "number_sections": true,
   "sideBar": true,
   "skip_h1_title": true,
   "title_cell": "Table of Contents",
   "title_sidebar": "Contents",
   "toc_cell": false,
   "toc_position": {
    "height": "calc(100% - 180px)",
    "left": "10px",
    "top": "150px",
    "width": "235.213px"
   },
   "toc_section_display": true,
   "toc_window_display": false
  }
 },
 "nbformat": 4,
 "nbformat_minor": 2
}
