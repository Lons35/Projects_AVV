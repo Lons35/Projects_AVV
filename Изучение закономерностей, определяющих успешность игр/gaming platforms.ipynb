{
 "cells": [
  {
   "cell_type": "markdown",
   "metadata": {},
   "source": [
    "# Закономерности определяющие успешность игры"
   ]
  },
  {
   "cell_type": "markdown",
   "metadata": {},
   "source": [
    "## Описание  \n",
    "  \n",
    "Из открытых источников доступны исторические данные о продажах игр, оценки пользователей и экспертов, жанры и платформы.   Необходимо выявить определяющие успешность игры закономерности. Это позволит сделать ставку на потенциально популярный продукт и спланировать рекламные кампании.  \n",
    "  \n",
    "*Примечание*  \n",
    "* Данные за 2016 год могут быть неполными.  \n",
    "  \n",
    "*Описание данных*  \n",
    "`Name` — название игры    \n",
    "`Platform` — платформа  \n",
    "`Year_of_Release` — год выпуска  \n",
    "`Genre` — жанр игры  \n",
    "`NA_sales` — продажи в Северной Америке (миллионы проданных копий)  \n",
    "`EU_sales` — продажи в Европе (миллионы проданных копий)  \n",
    "`JP_sales` — продажи в Японии (миллионы проданных копий)  \n",
    "`Other_sales` — продажи в других странах (миллионы проданных копий)  \n",
    "`Critic_Score` — оценка критиков (максимум 100)  \n",
    "`User_Score` — оценка пользователей (максимум 10)  \n",
    "`Rating` — рейтинг от организации ESRB (англ. Entertainment Software Rating Board). Эта ассоциация определяет рейтинг компьютерных игр и присваивает им подходящую возрастную категорию."
   ]
  },
  {
   "cell_type": "markdown",
   "metadata": {},
   "source": [
    "## Шаг 1. Изучение данных из файла"
   ]
  },
  {
   "cell_type": "code",
   "execution_count": 1,
   "metadata": {},
   "outputs": [],
   "source": [
    "#импорт таблиц и библиотек\n",
    "\n",
    "import pandas as pd\n",
    "import numpy as np\n",
    "import matplotlib.pyplot as plt\n",
    "import seaborn as sns\n",
    "import warnings\n",
    "from scipy import stats as st\n",
    "\n",
    "warnings.filterwarnings(\"ignore\") # игнорировать сообщение об ошибке\n",
    "\n",
    "df = pd.read_csv('/datasets/games.csv')"
   ]
  },
  {
   "cell_type": "code",
   "execution_count": 2,
   "metadata": {
    "scrolled": false
   },
   "outputs": [
    {
     "name": "stdout",
     "output_type": "stream",
     "text": [
      "Общая информация \n",
      "\n",
      "<class 'pandas.core.frame.DataFrame'>\n",
      "RangeIndex: 16715 entries, 0 to 16714\n",
      "Data columns (total 11 columns):\n",
      " #   Column           Non-Null Count  Dtype  \n",
      "---  ------           --------------  -----  \n",
      " 0   Name             16713 non-null  object \n",
      " 1   Platform         16715 non-null  object \n",
      " 2   Year_of_Release  16446 non-null  float64\n",
      " 3   Genre            16713 non-null  object \n",
      " 4   NA_sales         16715 non-null  float64\n",
      " 5   EU_sales         16715 non-null  float64\n",
      " 6   JP_sales         16715 non-null  float64\n",
      " 7   Other_sales      16715 non-null  float64\n",
      " 8   Critic_Score     8137 non-null   float64\n",
      " 9   User_Score       10014 non-null  object \n",
      " 10  Rating           9949 non-null   object \n",
      "dtypes: float64(6), object(5)\n",
      "memory usage: 1.4+ MB\n",
      "= = = = = = = = = = = = = = = = = = = = = = = = = = = = = = \n",
      "Первые 5 строк датафрейма\n"
     ]
    },
    {
     "data": {
      "text/html": [
       "<div>\n",
       "<style scoped>\n",
       "    .dataframe tbody tr th:only-of-type {\n",
       "        vertical-align: middle;\n",
       "    }\n",
       "\n",
       "    .dataframe tbody tr th {\n",
       "        vertical-align: top;\n",
       "    }\n",
       "\n",
       "    .dataframe thead th {\n",
       "        text-align: right;\n",
       "    }\n",
       "</style>\n",
       "<table border=\"1\" class=\"dataframe\">\n",
       "  <thead>\n",
       "    <tr style=\"text-align: right;\">\n",
       "      <th></th>\n",
       "      <th>Name</th>\n",
       "      <th>Platform</th>\n",
       "      <th>Year_of_Release</th>\n",
       "      <th>Genre</th>\n",
       "      <th>NA_sales</th>\n",
       "      <th>EU_sales</th>\n",
       "      <th>JP_sales</th>\n",
       "      <th>Other_sales</th>\n",
       "      <th>Critic_Score</th>\n",
       "      <th>User_Score</th>\n",
       "      <th>Rating</th>\n",
       "    </tr>\n",
       "  </thead>\n",
       "  <tbody>\n",
       "    <tr>\n",
       "      <th>0</th>\n",
       "      <td>Wii Sports</td>\n",
       "      <td>Wii</td>\n",
       "      <td>2006.0</td>\n",
       "      <td>Sports</td>\n",
       "      <td>41.36</td>\n",
       "      <td>28.96</td>\n",
       "      <td>3.77</td>\n",
       "      <td>8.45</td>\n",
       "      <td>76.0</td>\n",
       "      <td>8</td>\n",
       "      <td>E</td>\n",
       "    </tr>\n",
       "    <tr>\n",
       "      <th>1</th>\n",
       "      <td>Super Mario Bros.</td>\n",
       "      <td>NES</td>\n",
       "      <td>1985.0</td>\n",
       "      <td>Platform</td>\n",
       "      <td>29.08</td>\n",
       "      <td>3.58</td>\n",
       "      <td>6.81</td>\n",
       "      <td>0.77</td>\n",
       "      <td>NaN</td>\n",
       "      <td>NaN</td>\n",
       "      <td>NaN</td>\n",
       "    </tr>\n",
       "    <tr>\n",
       "      <th>2</th>\n",
       "      <td>Mario Kart Wii</td>\n",
       "      <td>Wii</td>\n",
       "      <td>2008.0</td>\n",
       "      <td>Racing</td>\n",
       "      <td>15.68</td>\n",
       "      <td>12.76</td>\n",
       "      <td>3.79</td>\n",
       "      <td>3.29</td>\n",
       "      <td>82.0</td>\n",
       "      <td>8.3</td>\n",
       "      <td>E</td>\n",
       "    </tr>\n",
       "    <tr>\n",
       "      <th>3</th>\n",
       "      <td>Wii Sports Resort</td>\n",
       "      <td>Wii</td>\n",
       "      <td>2009.0</td>\n",
       "      <td>Sports</td>\n",
       "      <td>15.61</td>\n",
       "      <td>10.93</td>\n",
       "      <td>3.28</td>\n",
       "      <td>2.95</td>\n",
       "      <td>80.0</td>\n",
       "      <td>8</td>\n",
       "      <td>E</td>\n",
       "    </tr>\n",
       "    <tr>\n",
       "      <th>4</th>\n",
       "      <td>Pokemon Red/Pokemon Blue</td>\n",
       "      <td>GB</td>\n",
       "      <td>1996.0</td>\n",
       "      <td>Role-Playing</td>\n",
       "      <td>11.27</td>\n",
       "      <td>8.89</td>\n",
       "      <td>10.22</td>\n",
       "      <td>1.00</td>\n",
       "      <td>NaN</td>\n",
       "      <td>NaN</td>\n",
       "      <td>NaN</td>\n",
       "    </tr>\n",
       "  </tbody>\n",
       "</table>\n",
       "</div>"
      ],
      "text/plain": [
       "                       Name Platform  Year_of_Release         Genre  NA_sales  \\\n",
       "0                Wii Sports      Wii           2006.0        Sports     41.36   \n",
       "1         Super Mario Bros.      NES           1985.0      Platform     29.08   \n",
       "2            Mario Kart Wii      Wii           2008.0        Racing     15.68   \n",
       "3         Wii Sports Resort      Wii           2009.0        Sports     15.61   \n",
       "4  Pokemon Red/Pokemon Blue       GB           1996.0  Role-Playing     11.27   \n",
       "\n",
       "   EU_sales  JP_sales  Other_sales  Critic_Score User_Score Rating  \n",
       "0     28.96      3.77         8.45          76.0          8      E  \n",
       "1      3.58      6.81         0.77           NaN        NaN    NaN  \n",
       "2     12.76      3.79         3.29          82.0        8.3      E  \n",
       "3     10.93      3.28         2.95          80.0          8      E  \n",
       "4      8.89     10.22         1.00           NaN        NaN    NaN  "
      ]
     },
     "metadata": {},
     "output_type": "display_data"
    },
    {
     "name": "stdout",
     "output_type": "stream",
     "text": [
      "= = = = = = = = = = = = = = = = = = = = = = = = = = = = = = \n",
      "Названия столбцов: ['Name', 'Platform', 'Year_of_Release', 'Genre', 'NA_sales', 'EU_sales', 'JP_sales', 'Other_sales', 'Critic_Score', 'User_Score', 'Rating']\n",
      "= = = = = = = = = = = = = = = = = = = = = = = = = = = = = = \n",
      "Инофрмация о пропусках\n"
     ]
    },
    {
     "data": {
      "text/plain": [
       "Name                  2\n",
       "Platform              0\n",
       "Year_of_Release     269\n",
       "Genre                 2\n",
       "NA_sales              0\n",
       "EU_sales              0\n",
       "JP_sales              0\n",
       "Other_sales           0\n",
       "Critic_Score       8578\n",
       "User_Score         6701\n",
       "Rating             6766\n",
       "dtype: int64"
      ]
     },
     "metadata": {},
     "output_type": "display_data"
    },
    {
     "name": "stdout",
     "output_type": "stream",
     "text": [
      "= = = = = = = = = = = = = = = = = = = = = = = = = = = = = = \n",
      "Полных дубликатов: 0\n",
      "============================================================\n"
     ]
    }
   ],
   "source": [
    "# Общая информация.\n",
    "print('Общая информация \\n')\n",
    "df.info()\n",
    "print(30 * '= ')\n",
    "\n",
    "# Вывод первых 5 строк датафрейма.\n",
    "print('Первые 5 строк датафрейма')\n",
    "display(df.head())\n",
    "print(30 * '= ')\n",
    "\n",
    "# Названия столбцов.\n",
    "print(f'Названия столбцов: {list(df.columns)}')\n",
    "print(30 * '= ')\n",
    "\n",
    "# Пропуски.\n",
    "print('Инофрмация о пропусках')\n",
    "display(df.isna().sum())\n",
    "print(30 * '= ')\n",
    "\n",
    "# Полные дубликаты.\n",
    "print(f'Полных дубликатов: {df.duplicated().sum()}')\n",
    "print(60*'=')\n",
    "\n"
   ]
  },
  {
   "cell_type": "code",
   "execution_count": 3,
   "metadata": {},
   "outputs": [
    {
     "data": {
      "text/html": [
       "<div>\n",
       "<style scoped>\n",
       "    .dataframe tbody tr th:only-of-type {\n",
       "        vertical-align: middle;\n",
       "    }\n",
       "\n",
       "    .dataframe tbody tr th {\n",
       "        vertical-align: top;\n",
       "    }\n",
       "\n",
       "    .dataframe thead th {\n",
       "        text-align: right;\n",
       "    }\n",
       "</style>\n",
       "<table border=\"1\" class=\"dataframe\">\n",
       "  <thead>\n",
       "    <tr style=\"text-align: right;\">\n",
       "      <th></th>\n",
       "      <th>Name</th>\n",
       "      <th>Platform</th>\n",
       "      <th>Year_of_Release</th>\n",
       "      <th>Genre</th>\n",
       "      <th>NA_sales</th>\n",
       "      <th>EU_sales</th>\n",
       "      <th>JP_sales</th>\n",
       "      <th>Other_sales</th>\n",
       "      <th>Critic_Score</th>\n",
       "      <th>User_Score</th>\n",
       "      <th>Rating</th>\n",
       "    </tr>\n",
       "  </thead>\n",
       "  <tbody>\n",
       "    <tr>\n",
       "      <th>659</th>\n",
       "      <td>NaN</td>\n",
       "      <td>GEN</td>\n",
       "      <td>1993.0</td>\n",
       "      <td>NaN</td>\n",
       "      <td>1.78</td>\n",
       "      <td>0.53</td>\n",
       "      <td>0.00</td>\n",
       "      <td>0.08</td>\n",
       "      <td>NaN</td>\n",
       "      <td>NaN</td>\n",
       "      <td>NaN</td>\n",
       "    </tr>\n",
       "    <tr>\n",
       "      <th>14244</th>\n",
       "      <td>NaN</td>\n",
       "      <td>GEN</td>\n",
       "      <td>1993.0</td>\n",
       "      <td>NaN</td>\n",
       "      <td>0.00</td>\n",
       "      <td>0.00</td>\n",
       "      <td>0.03</td>\n",
       "      <td>0.00</td>\n",
       "      <td>NaN</td>\n",
       "      <td>NaN</td>\n",
       "      <td>NaN</td>\n",
       "    </tr>\n",
       "  </tbody>\n",
       "</table>\n",
       "</div>"
      ],
      "text/plain": [
       "      Name Platform  Year_of_Release Genre  NA_sales  EU_sales  JP_sales  \\\n",
       "659    NaN      GEN           1993.0   NaN      1.78      0.53      0.00   \n",
       "14244  NaN      GEN           1993.0   NaN      0.00      0.00      0.03   \n",
       "\n",
       "       Other_sales  Critic_Score User_Score Rating  \n",
       "659           0.08           NaN        NaN    NaN  \n",
       "14244         0.00           NaN        NaN    NaN  "
      ]
     },
     "execution_count": 3,
     "metadata": {},
     "output_type": "execute_result"
    }
   ],
   "source": [
    "df.query('Name.isna()')"
   ]
  },
  {
   "cell_type": "code",
   "execution_count": 4,
   "metadata": {
    "scrolled": true
   },
   "outputs": [
    {
     "name": "stdout",
     "output_type": "stream",
     "text": [
      "Столбец Name\n",
      "['Wii Sports' 'Super Mario Bros.' 'Mario Kart Wii' ...\n",
      " 'Woody Woodpecker in Crazy Castle 5' 'LMA Manager 2007'\n",
      " 'Haitaka no Psychedelica']\n",
      "Столбец Platform\n",
      "['Wii' 'NES' 'GB' 'DS' 'X360' 'PS3' 'PS2' 'SNES' 'GBA' 'PS4' '3DS' 'N64'\n",
      " 'PS' 'XB' 'PC' '2600' 'PSP' 'XOne' 'WiiU' 'GC' 'GEN' 'DC' 'PSV' 'SAT'\n",
      " 'SCD' 'WS' 'NG' 'TG16' '3DO' 'GG' 'PCFX']\n",
      "Столбец Year_of_Release\n",
      "[2006. 1985. 2008. 2009. 1996. 1989. 1984. 2005. 1999. 2007. 2010. 2013.\n",
      " 2004. 1990. 1988. 2002. 2001. 2011. 1998. 2015. 2012. 2014. 1992. 1997.\n",
      " 1993. 1994. 1982. 2016. 2003. 1986. 2000.   nan 1995. 1991. 1981. 1987.\n",
      " 1980. 1983.]\n",
      "Столбец Genre\n",
      "['Sports' 'Platform' 'Racing' 'Role-Playing' 'Puzzle' 'Misc' 'Shooter'\n",
      " 'Simulation' 'Action' 'Fighting' 'Adventure' 'Strategy' nan]\n",
      "Столбец NA_sales\n",
      "[4.136e+01 2.908e+01 1.568e+01 1.561e+01 1.127e+01 2.320e+01 1.128e+01\n",
      " 1.396e+01 1.444e+01 2.693e+01 9.050e+00 9.710e+00 9.000e+00 8.920e+00\n",
      " 1.500e+01 9.010e+00 7.020e+00 9.430e+00 1.278e+01 4.740e+00 6.380e+00\n",
      " 1.083e+01 9.540e+00 9.660e+00 8.410e+00 6.060e+00 3.430e+00 5.510e+00\n",
      " 6.850e+00 9.040e+00 5.890e+00 6.030e+00 9.700e+00 5.280e+00 4.990e+00\n",
      " 8.250e+00 8.520e+00 5.540e+00 6.990e+00 6.620e+00 5.030e+00 5.990e+00\n",
      " 3.960e+00 2.500e+00 7.970e+00 6.910e+00 4.340e+00 4.350e+00 3.010e+00\n",
      " 6.160e+00 6.760e+00 4.020e+00 4.890e+00 2.960e+00 4.760e+00 5.010e+00\n",
      " 6.730e+00 5.950e+00 3.660e+00 5.550e+00 7.040e+00 6.650e+00 3.880e+00\n",
      " 5.800e+00 4.100e+00 5.930e+00 4.360e+00 5.700e+00 2.030e+00 4.400e+00\n",
      " 5.050e+00 3.540e+00 1.120e+00 6.820e+00 1.750e+00 3.740e+00 1.060e+00\n",
      " 2.790e+00 2.910e+00 9.900e-01 2.570e+00 2.990e+00 2.280e+00 7.280e+00\n",
      " 2.760e+00 2.900e+00 2.810e+00 6.600e-01 3.780e+00 3.270e+00 3.560e+00\n",
      " 5.390e+00 4.590e+00 4.810e+00 4.460e+00 3.480e+00 2.850e+00 2.530e+00\n",
      " 2.980e+00 3.680e+00 3.150e+00 4.410e+00 4.120e+00 2.710e+00 2.930e+00\n",
      " 3.230e+00 4.050e+00 4.150e+00 2.770e+00 3.450e+00 3.110e+00 8.400e-01\n",
      " 1.660e+00 7.800e-01 2.640e+00 3.170e+00 4.980e+00 2.550e+00 3.640e+00\n",
      " 3.700e+00 4.010e+00 2.470e+00 8.000e-02 3.920e+00 8.000e-01 2.450e+00\n",
      " 4.470e+00 3.180e+00 2.630e+00 1.880e+00 2.410e+00 2.800e+00 6.300e-01\n",
      " 2.260e+00 2.490e+00 3.570e+00 3.070e+00 2.970e+00 2.950e+00 2.540e+00\n",
      " 3.280e+00 3.140e+00 4.700e-01 2.620e+00 3.210e+00 2.070e+00 2.730e+00\n",
      " 1.850e+00 2.180e+00 1.740e+00 3.020e+00 1.620e+00 3.130e+00 1.920e+00\n",
      " 3.330e+00 3.220e+00 2.300e+00 4.260e+00 9.700e-01 6.500e-01 1.210e+00\n",
      " 1.090e+00 2.100e+00 2.440e+00 1.980e+00 3.810e+00 3.590e+00 1.630e+00\n",
      " 1.960e+00 3.400e+00 6.100e-01 2.050e+00 1.700e+00 3.420e+00 3.360e+00\n",
      " 3.490e+00 3.050e+00 1.830e+00 2.310e+00 3.980e+00 0.000e+00 2.600e+00\n",
      " 1.910e+00 2.740e+00 2.830e+00 2.360e+00 1.730e+00 1.940e+00 2.290e+00\n",
      " 1.820e+00 2.420e+00 3.040e+00 1.800e+00 2.080e+00 1.870e+00 4.180e+00\n",
      " 3.190e+00 4.210e+00 3.630e+00 2.780e+00 2.000e-01 1.610e+00 1.540e+00\n",
      " 2.520e+00 2.660e+00 1.000e-01 2.820e+00 2.190e+00 1.560e+00 3.030e+00\n",
      " 2.200e+00 2.090e+00 2.110e+00 1.480e+00 4.000e+00 5.800e-01 2.510e+00\n",
      " 3.000e+00 2.240e+00 1.460e+00 1.410e+00 9.200e-01 8.800e-01 1.280e+00\n",
      " 2.250e+00 3.380e+00 2.040e+00 3.790e+00 4.030e+00 1.650e+00 7.100e-01\n",
      " 1.420e+00 1.100e+00 2.320e+00 1.200e-01 2.350e+00 2.120e+00 1.400e+00\n",
      " 1.680e+00 1.130e+00 1.220e+00 2.670e+00 1.020e+00 1.190e+00 1.530e+00\n",
      " 2.150e+00 9.000e-01 1.970e+00 6.800e-01 1.160e+00 9.300e-01 1.440e+00\n",
      " 1.600e-01 2.130e+00 2.210e+00 1.780e+00 8.600e-01 1.350e+00 1.050e+00\n",
      " 2.230e+00 2.400e+00 1.370e+00 1.300e+00 1.950e+00 1.930e+00 1.330e+00\n",
      " 1.490e+00 1.580e+00 5.000e-02 6.000e-01 2.020e+00 2.380e+00 1.600e+00\n",
      " 2.010e+00 1.570e+00 1.230e+00 1.900e+00 2.140e+00 1.170e+00 2.270e+00\n",
      " 1.640e+00 5.900e-01 1.550e+00 4.600e-01 8.100e-01 1.450e+00 2.700e-01\n",
      " 1.470e+00 1.990e+00 1.500e+00 9.000e-02 2.610e+00 1.890e+00 5.000e-01\n",
      " 8.900e-01 9.500e-01 2.340e+00 7.200e-01 1.720e+00 1.180e+00 1.760e+00\n",
      " 7.300e-01 1.270e+00 2.060e+00 5.500e-01 1.520e+00 1.690e+00 2.170e+00\n",
      " 5.100e-01 1.000e+00 1.290e+00 1.380e+00 1.150e+00 1.670e+00 1.360e+00\n",
      " 1.010e+00 1.040e+00 1.840e+00 2.220e+00 7.900e-01 1.510e+00 1.070e+00\n",
      " 1.320e+00 1.590e+00 2.000e-02 2.900e-01 1.250e+00 2.560e+00 1.430e+00\n",
      " 1.200e+00 4.100e-01 2.800e-01 4.300e-01 6.900e-01 2.000e+00 7.600e-01\n",
      " 1.860e+00 4.800e-01 6.200e-01 1.310e+00 3.700e-01 1.500e-01 6.400e-01\n",
      " 2.600e-01 4.900e-01 1.110e+00 1.300e-01 1.810e+00 1.030e+00 1.260e+00\n",
      " 8.700e-01 7.700e-01 9.600e-01 1.390e+00 1.080e+00 8.500e-01 9.100e-01\n",
      " 3.000e-01 3.800e-01 9.400e-01 7.000e-02 1.340e+00 1.240e+00 3.400e-01\n",
      " 1.400e-01 1.000e-02 5.200e-01 8.200e-01 8.300e-01 1.100e-01 2.500e-01\n",
      " 1.770e+00 3.600e-01 7.500e-01 7.400e-01 1.800e-01 2.200e-01 5.300e-01\n",
      " 4.200e-01 3.200e-01 3.900e-01 2.400e-01 2.300e-01 6.000e-02 4.500e-01\n",
      " 7.000e-01 6.700e-01 3.500e-01 5.600e-01 1.140e+00 9.800e-01 5.700e-01\n",
      " 5.400e-01 4.000e-02 1.700e-01 4.400e-01 3.000e-02 3.300e-01 3.100e-01\n",
      " 4.000e-01 2.100e-01 1.900e-01]\n",
      "Столбец EU_sales\n",
      "[2.896e+01 3.580e+00 1.276e+01 1.093e+01 8.890e+00 2.260e+00 9.140e+00\n",
      " 9.180e+00 6.940e+00 6.300e-01 1.095e+01 7.470e+00 6.180e+00 8.030e+00\n",
      " 4.890e+00 8.490e+00 9.090e+00 4.000e-01 3.750e+00 9.200e+00 4.460e+00\n",
      " 2.710e+00 3.440e+00 5.140e+00 5.490e+00 3.900e+00 5.350e+00 3.170e+00\n",
      " 5.090e+00 4.240e+00 5.040e+00 5.860e+00 3.680e+00 4.190e+00 5.730e+00\n",
      " 3.590e+00 4.510e+00 2.550e+00 4.020e+00 4.370e+00 6.310e+00 3.450e+00\n",
      " 2.810e+00 2.850e+00 3.490e+00 1.000e-02 3.350e+00 2.040e+00 3.070e+00\n",
      " 3.870e+00 3.000e+00 4.820e+00 3.640e+00 2.150e+00 3.690e+00 2.650e+00\n",
      " 2.560e+00 3.110e+00 3.140e+00 1.940e+00 1.950e+00 2.470e+00 2.280e+00\n",
      " 3.420e+00 3.630e+00 2.360e+00 1.710e+00 1.850e+00 2.790e+00 1.240e+00\n",
      " 6.120e+00 1.530e+00 3.470e+00 2.240e+00 5.010e+00 2.010e+00 1.720e+00\n",
      " 2.070e+00 6.420e+00 3.860e+00 4.500e-01 3.480e+00 1.890e+00 5.750e+00\n",
      " 2.170e+00 1.370e+00 2.350e+00 1.180e+00 2.110e+00 1.880e+00 2.830e+00\n",
      " 2.990e+00 2.890e+00 3.270e+00 2.220e+00 2.140e+00 1.450e+00 1.750e+00\n",
      " 1.040e+00 1.770e+00 3.020e+00 2.750e+00 2.160e+00 1.900e+00 2.590e+00\n",
      " 2.200e+00 4.300e+00 9.300e-01 2.530e+00 2.520e+00 1.790e+00 1.300e+00\n",
      " 2.600e+00 1.580e+00 1.200e+00 1.560e+00 1.340e+00 1.260e+00 8.300e-01\n",
      " 6.210e+00 2.800e+00 1.590e+00 1.730e+00 4.330e+00 1.830e+00 0.000e+00\n",
      " 2.180e+00 1.980e+00 1.470e+00 6.700e-01 1.550e+00 1.910e+00 6.900e-01\n",
      " 6.000e-01 1.930e+00 1.640e+00 5.500e-01 2.190e+00 1.110e+00 2.290e+00\n",
      " 2.500e+00 9.600e-01 1.210e+00 1.120e+00 7.700e-01 1.690e+00 1.080e+00\n",
      " 7.900e-01 2.370e+00 2.460e+00 2.600e-01 7.500e-01 1.250e+00 2.430e+00\n",
      " 9.800e-01 7.400e-01 2.230e+00 6.100e-01 2.450e+00 1.410e+00 1.800e+00\n",
      " 3.280e+00 1.160e+00 1.990e+00 1.380e+00 1.360e+00 1.170e+00 1.190e+00\n",
      " 9.900e-01 1.680e+00 2.000e+00 1.330e+00 1.570e+00 1.480e+00 2.100e+00\n",
      " 1.270e+00 1.970e+00 9.100e-01 1.390e+00 1.960e+00 2.400e-01 1.510e+00\n",
      " 1.400e-01 1.290e+00 2.390e+00 1.030e+00 5.000e-01 5.800e-01 1.310e+00\n",
      " 2.020e+00 1.320e+00 1.010e+00 2.270e+00 2.300e+00 1.820e+00 2.780e+00\n",
      " 4.400e-01 4.800e-01 2.700e-01 2.100e-01 2.480e+00 5.100e-01 1.520e+00\n",
      " 4.000e-02 2.800e-01 1.350e+00 8.700e-01 2.130e+00 1.130e+00 1.760e+00\n",
      " 7.600e-01 2.120e+00 6.600e-01 1.600e+00 1.440e+00 1.430e+00 1.700e+00\n",
      " 4.700e-01 1.870e+00 8.600e-01 7.300e-01 1.280e+00 8.100e-01 1.090e+00\n",
      " 6.800e-01 1.220e+00 1.400e+00 1.020e+00 1.490e+00 1.140e+00 4.900e-01\n",
      " 9.000e-01 3.800e-01 1.420e+00 9.500e-01 1.620e+00 7.100e-01 1.050e+00\n",
      " 9.200e-01 3.300e-01 3.000e-01 1.670e+00 1.000e+00 8.900e-01 1.000e-01\n",
      " 7.200e-01 5.900e-01 5.600e-01 1.600e-01 9.700e-01 6.200e-01 8.500e-01\n",
      " 9.400e-01 8.800e-01 8.400e-01 1.060e+00 2.000e-01 1.150e+00 8.000e-01\n",
      " 1.100e+00 7.000e-01 1.920e+00 3.200e-01 1.500e-01 5.300e-01 9.000e-02\n",
      " 1.460e+00 2.900e-01 2.200e-01 1.230e+00 7.000e-02 1.700e-01 5.400e-01\n",
      " 3.600e-01 3.100e-01 1.840e+00 5.200e-01 1.100e-01 6.400e-01 1.200e-01\n",
      " 2.050e+00 1.630e+00 8.200e-01 8.000e-02 5.700e-01 1.650e+00 1.900e-01\n",
      " 2.000e-02 4.300e-01 2.500e-01 1.500e+00 1.800e-01 3.900e-01 1.300e-01\n",
      " 1.070e+00 4.600e-01 4.100e-01 6.000e-02 3.000e-02 3.700e-01 5.000e-02\n",
      " 2.300e-01 6.500e-01 4.200e-01 3.400e-01 3.500e-01 7.800e-01]\n",
      "Столбец JP_sales\n",
      "[3.770e+00 6.810e+00 3.790e+00 3.280e+00 1.022e+01 4.220e+00 6.500e+00\n",
      " 2.930e+00 4.700e+00 2.800e-01 1.930e+00 4.130e+00 7.200e+00 3.600e+00\n",
      " 2.400e-01 2.530e+00 9.800e-01 4.100e-01 3.540e+00 4.160e+00 6.040e+00\n",
      " 4.180e+00 3.840e+00 6.000e-02 4.700e-01 5.380e+00 5.320e+00 5.650e+00\n",
      " 1.870e+00 1.300e-01 3.120e+00 3.600e-01 1.100e-01 4.350e+00 6.500e-01\n",
      " 7.000e-02 8.000e-02 4.900e-01 3.000e-01 2.660e+00 2.690e+00 4.800e-01\n",
      " 3.800e-01 5.330e+00 1.910e+00 3.960e+00 3.100e+00 1.100e+00 1.200e+00\n",
      " 1.400e-01 2.540e+00 2.140e+00 8.100e-01 2.120e+00 4.400e-01 3.150e+00\n",
      " 1.250e+00 4.000e-02 0.000e+00 2.470e+00 2.230e+00 1.690e+00 1.000e-02\n",
      " 3.000e+00 2.000e-02 4.390e+00 1.980e+00 1.000e-01 3.810e+00 5.000e-02\n",
      " 2.490e+00 1.580e+00 3.140e+00 2.730e+00 6.600e-01 2.200e-01 3.630e+00\n",
      " 1.450e+00 1.310e+00 2.430e+00 7.000e-01 3.500e-01 1.400e+00 6.000e-01\n",
      " 2.260e+00 1.420e+00 1.280e+00 1.390e+00 8.700e-01 1.700e-01 9.400e-01\n",
      " 1.900e-01 2.100e-01 1.600e+00 1.600e-01 1.030e+00 2.500e-01 2.060e+00\n",
      " 1.490e+00 1.290e+00 9.000e-02 2.870e+00 3.000e-02 7.800e-01 8.300e-01\n",
      " 2.330e+00 2.020e+00 1.360e+00 1.810e+00 1.970e+00 9.100e-01 9.900e-01\n",
      " 9.500e-01 2.000e+00 1.010e+00 2.780e+00 2.110e+00 1.090e+00 2.000e-01\n",
      " 1.900e+00 1.270e+00 3.610e+00 1.570e+00 2.200e+00 1.700e+00 1.080e+00\n",
      " 1.500e-01 1.110e+00 2.900e-01 1.540e+00 1.200e-01 8.900e-01 4.870e+00\n",
      " 1.520e+00 1.320e+00 1.150e+00 4.100e+00 1.460e+00 4.600e-01 1.050e+00\n",
      " 1.610e+00 2.600e-01 1.380e+00 6.200e-01 7.300e-01 5.700e-01 3.100e-01\n",
      " 5.800e-01 1.760e+00 2.100e+00 9.000e-01 5.100e-01 6.400e-01 2.460e+00\n",
      " 2.300e-01 3.700e-01 9.200e-01 1.070e+00 2.620e+00 1.120e+00 5.400e-01\n",
      " 2.700e-01 5.900e-01 3.670e+00 5.500e-01 1.750e+00 3.440e+00 3.300e-01\n",
      " 2.550e+00 2.320e+00 2.790e+00 7.400e-01 3.180e+00 8.200e-01 7.700e-01\n",
      " 4.000e-01 2.350e+00 3.190e+00 8.000e-01 7.600e-01 3.030e+00 8.800e-01\n",
      " 4.500e-01 1.160e+00 3.400e-01 1.190e+00 1.130e+00 2.130e+00 1.960e+00\n",
      " 7.100e-01 1.040e+00 2.680e+00 6.800e-01 2.650e+00 9.600e-01 2.410e+00\n",
      " 5.200e-01 1.800e-01 1.340e+00 1.480e+00 2.340e+00 1.060e+00 1.210e+00\n",
      " 2.290e+00 1.630e+00 2.050e+00 2.170e+00 1.560e+00 1.350e+00 1.330e+00\n",
      " 6.300e-01 7.900e-01 7.500e-01 5.300e-01 1.530e+00 1.300e+00 3.900e-01\n",
      " 6.900e-01 4.200e-01 9.300e-01 5.600e-01 8.400e-01 7.200e-01 3.200e-01\n",
      " 1.710e+00 1.650e+00 6.100e-01 1.510e+00 1.500e+00 1.440e+00 1.240e+00\n",
      " 1.180e+00 1.370e+00 1.000e+00 1.260e+00 8.500e-01 4.300e-01 6.700e-01\n",
      " 1.140e+00 8.600e-01 1.170e+00 5.000e-01 1.020e+00 9.700e-01]\n",
      "Столбец Other_sales\n",
      "[8.450e+00 7.700e-01 3.290e+00 2.950e+00 1.000e+00 5.800e-01 2.880e+00\n",
      " 2.840e+00 2.240e+00 4.700e-01 2.740e+00 1.900e+00 7.100e-01 2.150e+00\n",
      " 1.690e+00 1.770e+00 3.960e+00 1.057e+01 5.500e-01 2.040e+00 1.360e+00\n",
      " 4.200e-01 4.600e-01 1.410e+00 1.780e+00 5.000e-01 1.180e+00 8.000e-01\n",
      " 1.160e+00 1.320e+00 5.900e-01 2.380e+00 1.130e+00 7.800e-01 2.420e+00\n",
      " 1.120e+00 1.280e+00 1.570e+00 1.300e+00 1.010e+00 9.100e-01 1.790e+00\n",
      " 1.970e+00 8.600e-01 1.210e+00 2.300e-01 7.600e-01 7.400e-01 7.530e+00\n",
      " 2.900e-01 1.030e+00 5.200e-01 2.110e+00 1.600e+00 1.610e+00 3.500e-01\n",
      " 9.700e-01 1.060e+00 6.300e-01 1.500e-01 7.900e-01 9.600e-01 1.250e+00\n",
      " 9.000e-01 8.100e-01 3.900e-01 6.800e-01 8.500e-01 1.800e-01 8.000e-02\n",
      " 6.700e-01 7.000e-01 4.100e-01 3.300e-01 6.000e-01 5.400e-01 1.730e+00\n",
      " 1.230e+00 1.600e-01 1.110e+00 3.100e-01 4.800e-01 6.200e-01 1.900e-01\n",
      " 6.900e-01 1.020e+00 7.300e-01 1.080e+00 4.500e-01 2.800e-01 5.100e-01\n",
      " 2.200e-01 1.090e+00 9.900e-01 3.000e-01 6.400e-01 6.600e-01 9.800e-01\n",
      " 1.390e+00 1.400e-01 1.370e+00 7.000e-02 2.100e-01 6.100e-01 1.700e-01\n",
      " 1.200e-01 0.000e+00 7.200e-01 2.400e-01 8.200e-01 1.740e+00 8.700e-01\n",
      " 9.200e-01 5.700e-01 1.100e-01 4.000e-02 5.600e-01 2.000e-01 3.400e-01\n",
      " 9.000e-02 8.300e-01 4.400e-01 6.000e-02 3.200e-01 3.800e-01 1.480e+00\n",
      " 3.700e-01 1.000e-01 2.500e-01 3.600e-01 1.300e-01 4.300e-01 5.000e-02\n",
      " 2.000e-02 2.600e-01 4.000e-01 7.500e-01 1.930e+00 8.400e-01 5.300e-01\n",
      " 8.900e-01 1.670e+00 2.700e-01 2.930e+00 4.900e-01 1.000e-02 2.460e+00\n",
      " 3.000e-02 1.510e+00 2.050e+00 1.680e+00 1.820e+00 1.330e+00 9.400e-01\n",
      " 9.300e-01]\n",
      "Столбец Critic_Score\n",
      "[76. nan 82. 80. 89. 58. 87. 91. 61. 97. 95. 77. 88. 83. 94. 93. 85. 86.\n",
      " 98. 96. 90. 84. 73. 74. 78. 92. 71. 72. 68. 62. 49. 67. 81. 66. 56. 79.\n",
      " 70. 59. 64. 75. 60. 63. 69. 50. 25. 42. 44. 55. 48. 57. 29. 47. 65. 54.\n",
      " 20. 53. 37. 38. 33. 52. 30. 32. 43. 45. 51. 40. 46. 39. 34. 35. 41. 36.\n",
      " 28. 31. 27. 26. 19. 23. 24. 21. 17. 22. 13.]\n",
      "Столбец User_Score\n",
      "['8' nan '8.3' '8.5' '6.6' '8.4' '8.6' '7.7' '6.3' '7.4' '8.2' '9' '7.9'\n",
      " '8.1' '8.7' '7.1' '3.4' '5.3' '4.8' '3.2' '8.9' '6.4' '7.8' '7.5' '2.6'\n",
      " '7.2' '9.2' '7' '7.3' '4.3' '7.6' '5.7' '5' '9.1' '6.5' 'tbd' '8.8' '6.9'\n",
      " '9.4' '6.8' '6.1' '6.7' '5.4' '4' '4.9' '4.5' '9.3' '6.2' '4.2' '6' '3.7'\n",
      " '4.1' '5.8' '5.6' '5.5' '4.4' '4.6' '5.9' '3.9' '3.1' '2.9' '5.2' '3.3'\n",
      " '4.7' '5.1' '3.5' '2.5' '1.9' '3' '2.7' '2.2' '2' '9.5' '2.1' '3.6' '2.8'\n",
      " '1.8' '3.8' '0' '1.6' '9.6' '2.4' '1.7' '1.1' '0.3' '1.5' '0.7' '1.2'\n",
      " '2.3' '0.5' '1.3' '0.2' '0.6' '1.4' '0.9' '1' '9.7']\n",
      "Столбец Rating\n",
      "['E' nan 'M' 'T' 'E10+' 'K-A' 'AO' 'EC' 'RP']\n"
     ]
    }
   ],
   "source": [
    "def unique(data):\n",
    "    '''Функция для анализа уникальных значений в столбцах.'''\n",
    "    \n",
    "    for gg in data:\n",
    "        print(f'Столбец {data[gg].name}')\n",
    "        print(data[gg].unique())\n",
    "unique(df)"
   ]
  },
  {
   "cell_type": "markdown",
   "metadata": {},
   "source": [
    "### Вывод  \n",
    "  \n",
    "* DF содержит 16715 строк и 11 столбцов.  \n",
    "* Название столбцов необходимо привести к нижнему регистру.  \n",
    "* Пропуски есть в столбцах `name`, `Year_of_Release`, `Critic_Score`, `User_Score`, `Rating`.  \n",
    "* Строки с пустым значением в столбце `name`, так же не содержат данных в других важных для анализа столбцах(жанр, оценки).\n",
    "Поэтому их можно удалить.  \n",
    "* Пропуски в столбце `rating` можно заполнить RP (raiting pending - Ожидается присвоение рейтинга)\n",
    "* Пропуски в других столбцах лучше не заполнять, т.к. нет ориентира и можно исказить данные.  \n",
    "* В столбце `user_score` есть значение tbd. По всей видимости это \"to be determined\".  \n",
    "* В столбцах `year_of_release`, `critic_score` необходимо формат привести к Int64. \n",
    "* Продажи по регионам и пользовательские оценки не целые числа. Менять формат не нужно, иначе данные округлятся, что может повлиять на анализ"
   ]
  },
  {
   "cell_type": "markdown",
   "metadata": {},
   "source": [
    "## Шаг 2. Подготовка данных."
   ]
  },
  {
   "cell_type": "code",
   "execution_count": 5,
   "metadata": {},
   "outputs": [],
   "source": [
    "df.columns = map(str.lower, df.columns) # название столбцов к нижнему регистру"
   ]
  },
  {
   "cell_type": "code",
   "execution_count": 6,
   "metadata": {},
   "outputs": [],
   "source": [
    "# создание столбца с продажами по всем регионам\n",
    "df['world_sales'] = df.na_sales + df.eu_sales + df.jp_sales + df.other_sales "
   ]
  },
  {
   "cell_type": "code",
   "execution_count": 7,
   "metadata": {},
   "outputs": [],
   "source": [
    "df.dropna(subset = ['name'], inplace = True) # удаление строк с пусным name"
   ]
  },
  {
   "cell_type": "code",
   "execution_count": 8,
   "metadata": {},
   "outputs": [],
   "source": [
    "df['rating'] = df['rating'].fillna('RP') # заполнил пустоту в столбце rating"
   ]
  },
  {
   "cell_type": "code",
   "execution_count": 9,
   "metadata": {},
   "outputs": [],
   "source": [
    "# меняю формат столбцов на Int64\n",
    "df.year_of_release = df.year_of_release.astype('Int64')\n",
    "#df.critic_score = df.critic_score.astype('Int64')"
   ]
  },
  {
   "cell_type": "code",
   "execution_count": 10,
   "metadata": {},
   "outputs": [
    {
     "name": "stdout",
     "output_type": "stream",
     "text": [
      "<class 'pandas.core.frame.DataFrame'>\n",
      "Int64Index: 16713 entries, 0 to 16714\n",
      "Data columns (total 12 columns):\n",
      " #   Column           Non-Null Count  Dtype  \n",
      "---  ------           --------------  -----  \n",
      " 0   name             16713 non-null  object \n",
      " 1   platform         16713 non-null  object \n",
      " 2   year_of_release  16444 non-null  Int64  \n",
      " 3   genre            16713 non-null  object \n",
      " 4   na_sales         16713 non-null  float64\n",
      " 5   eu_sales         16713 non-null  float64\n",
      " 6   jp_sales         16713 non-null  float64\n",
      " 7   other_sales      16713 non-null  float64\n",
      " 8   critic_score     8137 non-null   float64\n",
      " 9   user_score       10014 non-null  object \n",
      " 10  rating           16713 non-null  object \n",
      " 11  world_sales      16713 non-null  float64\n",
      "dtypes: Int64(1), float64(6), object(5)\n",
      "memory usage: 1.7+ MB\n"
     ]
    }
   ],
   "source": [
    "df.info() # проверка изменений"
   ]
  },
  {
   "cell_type": "code",
   "execution_count": 11,
   "metadata": {
    "scrolled": true
   },
   "outputs": [
    {
     "data": {
      "text/plain": [
       "name                  0\n",
       "platform              0\n",
       "year_of_release     269\n",
       "genre                 0\n",
       "na_sales              0\n",
       "eu_sales              0\n",
       "jp_sales              0\n",
       "other_sales           0\n",
       "critic_score       8576\n",
       "user_score         6699\n",
       "rating                0\n",
       "world_sales           0\n",
       "dtype: int64"
      ]
     },
     "execution_count": 11,
     "metadata": {},
     "output_type": "execute_result"
    }
   ],
   "source": [
    "df.isna().sum() # проверка изменений"
   ]
  },
  {
   "cell_type": "markdown",
   "metadata": {},
   "source": [
    "## Шаг 3. Исследовательский анализ данных"
   ]
  },
  {
   "cell_type": "markdown",
   "metadata": {},
   "source": [
    "### Год выпуска"
   ]
  },
  {
   "cell_type": "code",
   "execution_count": 12,
   "metadata": {
    "scrolled": true
   },
   "outputs": [
    {
     "data": {
      "text/plain": [
       "<AxesSubplot:>"
      ]
     },
     "execution_count": 12,
     "metadata": {},
     "output_type": "execute_result"
    },
    {
     "data": {
      "image/png": "[encoded data removed]",
      "text/plain": [
       "<Figure size 432x288 with 1 Axes>"
      ]
     },
     "metadata": {
      "needs_background": "light"
     },
     "output_type": "display_data"
    }
   ],
   "source": [
    "df.year_of_release.hist(bins = 36) # гистограмма для год выпуска"
   ]
  },
  {
   "cell_type": "code",
   "execution_count": 13,
   "metadata": {},
   "outputs": [
    {
     "data": {
      "text/html": [
       "<div>\n",
       "<style scoped>\n",
       "    .dataframe tbody tr th:only-of-type {\n",
       "        vertical-align: middle;\n",
       "    }\n",
       "\n",
       "    .dataframe tbody tr th {\n",
       "        vertical-align: top;\n",
       "    }\n",
       "\n",
       "    .dataframe thead th {\n",
       "        text-align: right;\n",
       "    }\n",
       "</style>\n",
       "<table border=\"1\" class=\"dataframe\">\n",
       "  <thead>\n",
       "    <tr style=\"text-align: right;\">\n",
       "      <th></th>\n",
       "      <th>world_sales</th>\n",
       "    </tr>\n",
       "    <tr>\n",
       "      <th>platform</th>\n",
       "      <th></th>\n",
       "    </tr>\n",
       "  </thead>\n",
       "  <tbody>\n",
       "    <tr>\n",
       "      <th>PS2</th>\n",
       "      <td>1255.77</td>\n",
       "    </tr>\n",
       "    <tr>\n",
       "      <th>X360</th>\n",
       "      <td>971.42</td>\n",
       "    </tr>\n",
       "    <tr>\n",
       "      <th>PS3</th>\n",
       "      <td>939.65</td>\n",
       "    </tr>\n",
       "    <tr>\n",
       "      <th>Wii</th>\n",
       "      <td>907.51</td>\n",
       "    </tr>\n",
       "    <tr>\n",
       "      <th>DS</th>\n",
       "      <td>806.12</td>\n",
       "    </tr>\n",
       "    <tr>\n",
       "      <th>PS</th>\n",
       "      <td>730.86</td>\n",
       "    </tr>\n",
       "    <tr>\n",
       "      <th>GBA</th>\n",
       "      <td>317.85</td>\n",
       "    </tr>\n",
       "    <tr>\n",
       "      <th>PS4</th>\n",
       "      <td>314.14</td>\n",
       "    </tr>\n",
       "    <tr>\n",
       "      <th>PSP</th>\n",
       "      <td>294.05</td>\n",
       "    </tr>\n",
       "    <tr>\n",
       "      <th>PC</th>\n",
       "      <td>259.52</td>\n",
       "    </tr>\n",
       "    <tr>\n",
       "      <th>3DS</th>\n",
       "      <td>259.00</td>\n",
       "    </tr>\n",
       "    <tr>\n",
       "      <th>XB</th>\n",
       "      <td>257.74</td>\n",
       "    </tr>\n",
       "    <tr>\n",
       "      <th>GB</th>\n",
       "      <td>255.46</td>\n",
       "    </tr>\n",
       "    <tr>\n",
       "      <th>NES</th>\n",
       "      <td>251.05</td>\n",
       "    </tr>\n",
       "    <tr>\n",
       "      <th>N64</th>\n",
       "      <td>218.68</td>\n",
       "    </tr>\n",
       "    <tr>\n",
       "      <th>SNES</th>\n",
       "      <td>200.04</td>\n",
       "    </tr>\n",
       "    <tr>\n",
       "      <th>GC</th>\n",
       "      <td>198.93</td>\n",
       "    </tr>\n",
       "    <tr>\n",
       "      <th>XOne</th>\n",
       "      <td>159.32</td>\n",
       "    </tr>\n",
       "    <tr>\n",
       "      <th>2600</th>\n",
       "      <td>96.98</td>\n",
       "    </tr>\n",
       "    <tr>\n",
       "      <th>WiiU</th>\n",
       "      <td>82.19</td>\n",
       "    </tr>\n",
       "    <tr>\n",
       "      <th>PSV</th>\n",
       "      <td>54.07</td>\n",
       "    </tr>\n",
       "    <tr>\n",
       "      <th>SAT</th>\n",
       "      <td>33.59</td>\n",
       "    </tr>\n",
       "    <tr>\n",
       "      <th>GEN</th>\n",
       "      <td>28.35</td>\n",
       "    </tr>\n",
       "    <tr>\n",
       "      <th>DC</th>\n",
       "      <td>15.95</td>\n",
       "    </tr>\n",
       "    <tr>\n",
       "      <th>SCD</th>\n",
       "      <td>1.86</td>\n",
       "    </tr>\n",
       "    <tr>\n",
       "      <th>NG</th>\n",
       "      <td>1.44</td>\n",
       "    </tr>\n",
       "    <tr>\n",
       "      <th>WS</th>\n",
       "      <td>1.42</td>\n",
       "    </tr>\n",
       "    <tr>\n",
       "      <th>TG16</th>\n",
       "      <td>0.16</td>\n",
       "    </tr>\n",
       "    <tr>\n",
       "      <th>3DO</th>\n",
       "      <td>0.10</td>\n",
       "    </tr>\n",
       "    <tr>\n",
       "      <th>GG</th>\n",
       "      <td>0.04</td>\n",
       "    </tr>\n",
       "    <tr>\n",
       "      <th>PCFX</th>\n",
       "      <td>0.03</td>\n",
       "    </tr>\n",
       "  </tbody>\n",
       "</table>\n",
       "</div>"
      ],
      "text/plain": [
       "          world_sales\n",
       "platform             \n",
       "PS2           1255.77\n",
       "X360           971.42\n",
       "PS3            939.65\n",
       "Wii            907.51\n",
       "DS             806.12\n",
       "PS             730.86\n",
       "GBA            317.85\n",
       "PS4            314.14\n",
       "PSP            294.05\n",
       "PC             259.52\n",
       "3DS            259.00\n",
       "XB             257.74\n",
       "GB             255.46\n",
       "NES            251.05\n",
       "N64            218.68\n",
       "SNES           200.04\n",
       "GC             198.93\n",
       "XOne           159.32\n",
       "2600            96.98\n",
       "WiiU            82.19\n",
       "PSV             54.07\n",
       "SAT             33.59\n",
       "GEN             28.35\n",
       "DC              15.95\n",
       "SCD              1.86\n",
       "NG               1.44\n",
       "WS               1.42\n",
       "TG16             0.16\n",
       "3DO              0.10\n",
       "GG               0.04\n",
       "PCFX             0.03"
      ]
     },
     "execution_count": 13,
     "metadata": {},
     "output_type": "execute_result"
    }
   ],
   "source": [
    "# объем продаж для каждой платформы\n",
    "(df.pivot_table(index = 'platform', values = 'world_sales', aggfunc = ('sum'))\n",
    "                 .sort_values('world_sales', ascending = False))"
   ]
  },
  {
   "cell_type": "code",
   "execution_count": 14,
   "metadata": {},
   "outputs": [],
   "source": [
    "# создание таблицы для топ-6 платформ\n",
    "df_top6 = (\n",
    "    df.loc[df['platform']\n",
    "           .isin(\n",
    "               df.groupby('platform')['world_sales']\n",
    "               .sum()\n",
    "               .reset_index()\n",
    "               .sort_values('world_sales', ascending = False)\n",
    "               .head(6)['platform']\n",
    "           )])"
   ]
  },
  {
   "cell_type": "code",
   "execution_count": 15,
   "metadata": {},
   "outputs": [
    {
     "data": {
      "image/png": "[encoded data removed]",
      "text/plain": [
       "<Figure size 864x648 with 6 Axes>"
      ]
     },
     "metadata": {
      "needs_background": "light"
     },
     "output_type": "display_data"
    }
   ],
   "source": [
    "# гистаграмма для каждой платформы топ-6, год выпуска\n",
    "plt.figure(figsize=(12, 9))\n",
    "\n",
    "plt.subplot(3,2,1)\n",
    "plt.hist(df_top6.query('platform == \"PS2\" and year_of_release.isna() == False')['year_of_release'], bins = 12)\n",
    "plt.title('PS2')\n",
    "\n",
    "plt.subplot(3,2,2)\n",
    "plt.hist(df_top6.query('platform == \"X360\"and year_of_release.isna() == False')['year_of_release'], bins = 12)\n",
    "plt.title('X360')\n",
    "\n",
    "plt.subplot(3,2,3)\n",
    "plt.hist(df_top6.query('platform == \"PS3\" and year_of_release.isna() == False')['year_of_release'], bins = 11)\n",
    "plt.title('PS3')\n",
    "\n",
    "plt.subplot(3,2,4)\n",
    "plt.hist(df_top6.query('platform == \"Wii\"and year_of_release.isna() == False')['year_of_release'], bins = 11)\n",
    "plt.title('Wii')\n",
    "\n",
    "plt.subplot(3,2,5)\n",
    "plt.hist(df_top6.query('platform == \"DS\" and year_of_release.isna() == False')['year_of_release'], bins = 12)\n",
    "plt.title('DS')\n",
    "\n",
    "plt.subplot(3,2,6)\n",
    "plt.hist(df_top6.query('platform == \"PS\"and year_of_release.isna() == False')['year_of_release'], bins = 10)\n",
    "plt.title('PS')\n",
    "\n",
    "plt.show()\n"
   ]
  },
  {
   "cell_type": "code",
   "execution_count": 16,
   "metadata": {},
   "outputs": [
    {
     "data": {
      "text/plain": [
       "7.612903225806452"
      ]
     },
     "execution_count": 16,
     "metadata": {},
     "output_type": "execute_result"
    }
   ],
   "source": [
    "# мин и макс год выпуска для каждой платформы\n",
    "data = df.pivot_table(index = 'platform', values = 'year_of_release', aggfunc = (min, max)).reset_index()\n",
    "data['duration'] = data['max'] - data['min'] # диапозон между первым и последним выпуском\n",
    "data['duration'].mean() # среднее диапозона"
   ]
  },
  {
   "cell_type": "code",
   "execution_count": 17,
   "metadata": {
    "scrolled": false
   },
   "outputs": [
    {
     "data": {
      "image/png": "[encoded data removed]",
      "text/plain": [
       "<Figure size 1080x720 with 1 Axes>"
      ]
     },
     "metadata": {
      "needs_background": "light"
     },
     "output_type": "display_data"
    }
   ],
   "source": [
    "# график продаж для топ-6\n",
    "(\n",
    "    df_top6.pivot_table(index = 'year_of_release', columns = 'platform', values = 'world_sales', aggfunc = sum)\n",
    "    .plot(grid=True, figsize = (15,10), title = 'Продажи для топ-6 платформ'))\n",
    "plt.show()"
   ]
  },
  {
   "cell_type": "code",
   "execution_count": 18,
   "metadata": {},
   "outputs": [],
   "source": [
    "# отбросим игры выпущенные до 2012 года\n",
    "df_since_2012 = df.query('year_of_release >= 2012')"
   ]
  },
  {
   "cell_type": "markdown",
   "metadata": {},
   "source": [
    "#### Описание действий  \n",
    "  \n",
    "Построил гистаграмму распределение для \"Год выпуска\" по всей таблице.  \n",
    "Посчитал продажы для каждой платформы.  \n",
    "Для топ-6 платформ построил гистаграммы для \"Год выпуска\".  \n",
    "И посчитал среднюю продолжительность \"жизни\" по всем платформам.  \n",
    "\n",
    "#### Вывод  \n",
    "\n",
    "Судя по общей гистаграмме скачек продаж произошел примерно в 2002 году и рос до 2010 года включительно.  \n",
    "Топ-6 по продажам PS2, X360, PS3, Wii, DS, PS.  \n",
    "Распределения по году выпуска разные для каждой платформы:  \n",
    "* PS2 - первые 2 года рост, 4 года выпуск был равномерный, и потом плавный спад  \n",
    "* X360 - первые 6 лет рост, и потом резкий спад  \n",
    "* PS3 - постепенный рост и такой же спад  \n",
    "* Wii - постепенный рост 3 года и такой же спад, и потом резкий спад.  \n",
    "* DS - 20 лет выпускали очень мало игр, потом резкий рост в гачале 2000 и постепенный спад  \n",
    "* PS - постепенный рост и такой же спад  \n",
    "\n",
    "Жизнь топовых платформ 10-11 лет, активные годы меньше 6-7 лет. Кроме старейшей платформы DS.  \n",
    "Средняя продолжительность жизни всех платформ 7,5 лет  \n",
    "Рост и пик примерно 3-4 года\n",
    "  \n",
    "Исходя из этого для дальнейшего анализа возьмем данные за последние 4 года с 2012 года"
   ]
  },
  {
   "cell_type": "markdown",
   "metadata": {},
   "source": [
    "### Потенциально прибыльные платформы"
   ]
  },
  {
   "cell_type": "code",
   "execution_count": 19,
   "metadata": {},
   "outputs": [],
   "source": [
    "# уникальные значения платформ в 2016\n",
    "platforms_2016 = pd.DataFrame({'platform': df_since_2012.query('year_of_release == 2016')['platform'].unique()})\n",
    "\n",
    "# создание таблицы с видами платформ для живых платформ 2016\n",
    "type_platform = pd.DataFrame({'type_platform':\n",
    "    ['домашняя', 'портативная', 'домашняя', 'портативная', 'домашняя', 'компьютер', 'домашняя', 'портативная', 'домашняя']})\n",
    "\n",
    "platforms_2016 = platforms_2016.join(type_platform) # объединения таблиц.\n",
    "\n",
    "# объединение таблиц для создание столбца с видами платформ\n",
    "df_since_2012 = df_since_2012.merge(platforms_2016, how = 'left', on = 'platform') \n",
    "\n",
    "# отбросил платформы не \"живые\" в 2016\n",
    "df_since_2012 = df_since_2012.query('platform.isin(@platforms_2016[\"platform\"])')\n"
   ]
  },
  {
   "cell_type": "code",
   "execution_count": 20,
   "metadata": {},
   "outputs": [
    {
     "data": {
      "text/html": [
       "<div>\n",
       "<style scoped>\n",
       "    .dataframe tbody tr th:only-of-type {\n",
       "        vertical-align: middle;\n",
       "    }\n",
       "\n",
       "    .dataframe tbody tr th {\n",
       "        vertical-align: top;\n",
       "    }\n",
       "\n",
       "    .dataframe thead th {\n",
       "        text-align: right;\n",
       "    }\n",
       "</style>\n",
       "<table border=\"1\" class=\"dataframe\">\n",
       "  <thead>\n",
       "    <tr style=\"text-align: right;\">\n",
       "      <th></th>\n",
       "      <th></th>\n",
       "      <th>world_sales</th>\n",
       "    </tr>\n",
       "    <tr>\n",
       "      <th>platform</th>\n",
       "      <th>type_platform</th>\n",
       "      <th></th>\n",
       "    </tr>\n",
       "  </thead>\n",
       "  <tbody>\n",
       "    <tr>\n",
       "      <th>PS4</th>\n",
       "      <th>домашняя</th>\n",
       "      <td>314.14</td>\n",
       "    </tr>\n",
       "    <tr>\n",
       "      <th>PS3</th>\n",
       "      <th>домашняя</th>\n",
       "      <td>288.79</td>\n",
       "    </tr>\n",
       "    <tr>\n",
       "      <th>X360</th>\n",
       "      <th>домашняя</th>\n",
       "      <td>236.54</td>\n",
       "    </tr>\n",
       "    <tr>\n",
       "      <th>3DS</th>\n",
       "      <th>портативная</th>\n",
       "      <td>194.61</td>\n",
       "    </tr>\n",
       "    <tr>\n",
       "      <th>XOne</th>\n",
       "      <th>домашняя</th>\n",
       "      <td>159.32</td>\n",
       "    </tr>\n",
       "    <tr>\n",
       "      <th>WiiU</th>\n",
       "      <th>портативная</th>\n",
       "      <td>82.19</td>\n",
       "    </tr>\n",
       "    <tr>\n",
       "      <th>PC</th>\n",
       "      <th>компьютер</th>\n",
       "      <td>62.65</td>\n",
       "    </tr>\n",
       "    <tr>\n",
       "      <th>PSV</th>\n",
       "      <th>портативная</th>\n",
       "      <td>49.18</td>\n",
       "    </tr>\n",
       "    <tr>\n",
       "      <th>Wii</th>\n",
       "      <th>домашняя</th>\n",
       "      <td>35.37</td>\n",
       "    </tr>\n",
       "  </tbody>\n",
       "</table>\n",
       "</div>"
      ],
      "text/plain": [
       "                        world_sales\n",
       "platform type_platform             \n",
       "PS4      домашняя            314.14\n",
       "PS3      домашняя            288.79\n",
       "X360     домашняя            236.54\n",
       "3DS      портативная         194.61\n",
       "XOne     домашняя            159.32\n",
       "WiiU     портативная          82.19\n",
       "PC       компьютер            62.65\n",
       "PSV      портативная          49.18\n",
       "Wii      домашняя             35.37"
      ]
     },
     "execution_count": 20,
     "metadata": {},
     "output_type": "execute_result"
    }
   ],
   "source": [
    "# объем продаж для каждой платформы\n",
    "(df_since_2012.pivot_table(index = ['platform', 'type_platform'], values = 'world_sales', aggfunc = ('sum'))\n",
    "                 .sort_values('world_sales', ascending = False))"
   ]
  },
  {
   "cell_type": "code",
   "execution_count": 21,
   "metadata": {},
   "outputs": [
    {
     "data": {
      "text/html": [
       "<div>\n",
       "<style scoped>\n",
       "    .dataframe tbody tr th:only-of-type {\n",
       "        vertical-align: middle;\n",
       "    }\n",
       "\n",
       "    .dataframe tbody tr th {\n",
       "        vertical-align: top;\n",
       "    }\n",
       "\n",
       "    .dataframe thead th {\n",
       "        text-align: right;\n",
       "    }\n",
       "</style>\n",
       "<table border=\"1\" class=\"dataframe\">\n",
       "  <thead>\n",
       "    <tr style=\"text-align: right;\">\n",
       "      <th></th>\n",
       "      <th>platform</th>\n",
       "      <th>year_of_release</th>\n",
       "      <th>type_platform</th>\n",
       "      <th>count</th>\n",
       "      <th>sum</th>\n",
       "      <th>ratio</th>\n",
       "    </tr>\n",
       "  </thead>\n",
       "  <tbody>\n",
       "    <tr>\n",
       "      <th>0</th>\n",
       "      <td>3DS</td>\n",
       "      <td>2012</td>\n",
       "      <td>портативная</td>\n",
       "      <td>93</td>\n",
       "      <td>51.36</td>\n",
       "      <td>1.810748</td>\n",
       "    </tr>\n",
       "    <tr>\n",
       "      <th>1</th>\n",
       "      <td>3DS</td>\n",
       "      <td>2013</td>\n",
       "      <td>портативная</td>\n",
       "      <td>91</td>\n",
       "      <td>56.57</td>\n",
       "      <td>1.608626</td>\n",
       "    </tr>\n",
       "    <tr>\n",
       "      <th>2</th>\n",
       "      <td>3DS</td>\n",
       "      <td>2014</td>\n",
       "      <td>портативная</td>\n",
       "      <td>80</td>\n",
       "      <td>43.76</td>\n",
       "      <td>1.828154</td>\n",
       "    </tr>\n",
       "    <tr>\n",
       "      <th>3</th>\n",
       "      <td>3DS</td>\n",
       "      <td>2015</td>\n",
       "      <td>портативная</td>\n",
       "      <td>86</td>\n",
       "      <td>27.78</td>\n",
       "      <td>3.095752</td>\n",
       "    </tr>\n",
       "    <tr>\n",
       "      <th>4</th>\n",
       "      <td>3DS</td>\n",
       "      <td>2016</td>\n",
       "      <td>портативная</td>\n",
       "      <td>46</td>\n",
       "      <td>15.14</td>\n",
       "      <td>3.038309</td>\n",
       "    </tr>\n",
       "    <tr>\n",
       "      <th>5</th>\n",
       "      <td>PC</td>\n",
       "      <td>2012</td>\n",
       "      <td>компьютер</td>\n",
       "      <td>61</td>\n",
       "      <td>23.22</td>\n",
       "      <td>2.627046</td>\n",
       "    </tr>\n",
       "    <tr>\n",
       "      <th>6</th>\n",
       "      <td>PC</td>\n",
       "      <td>2013</td>\n",
       "      <td>компьютер</td>\n",
       "      <td>38</td>\n",
       "      <td>12.38</td>\n",
       "      <td>3.069467</td>\n",
       "    </tr>\n",
       "    <tr>\n",
       "      <th>7</th>\n",
       "      <td>PC</td>\n",
       "      <td>2014</td>\n",
       "      <td>компьютер</td>\n",
       "      <td>47</td>\n",
       "      <td>13.28</td>\n",
       "      <td>3.539157</td>\n",
       "    </tr>\n",
       "    <tr>\n",
       "      <th>8</th>\n",
       "      <td>PC</td>\n",
       "      <td>2015</td>\n",
       "      <td>компьютер</td>\n",
       "      <td>50</td>\n",
       "      <td>8.52</td>\n",
       "      <td>5.868545</td>\n",
       "    </tr>\n",
       "    <tr>\n",
       "      <th>9</th>\n",
       "      <td>PC</td>\n",
       "      <td>2016</td>\n",
       "      <td>компьютер</td>\n",
       "      <td>54</td>\n",
       "      <td>5.25</td>\n",
       "      <td>10.285714</td>\n",
       "    </tr>\n",
       "    <tr>\n",
       "      <th>10</th>\n",
       "      <td>PS3</td>\n",
       "      <td>2012</td>\n",
       "      <td>домашняя</td>\n",
       "      <td>148</td>\n",
       "      <td>107.36</td>\n",
       "      <td>1.378539</td>\n",
       "    </tr>\n",
       "    <tr>\n",
       "      <th>11</th>\n",
       "      <td>PS3</td>\n",
       "      <td>2013</td>\n",
       "      <td>домашняя</td>\n",
       "      <td>126</td>\n",
       "      <td>113.25</td>\n",
       "      <td>1.112583</td>\n",
       "    </tr>\n",
       "    <tr>\n",
       "      <th>12</th>\n",
       "      <td>PS3</td>\n",
       "      <td>2014</td>\n",
       "      <td>домашняя</td>\n",
       "      <td>108</td>\n",
       "      <td>47.76</td>\n",
       "      <td>2.261307</td>\n",
       "    </tr>\n",
       "    <tr>\n",
       "      <th>13</th>\n",
       "      <td>PS3</td>\n",
       "      <td>2015</td>\n",
       "      <td>домашняя</td>\n",
       "      <td>73</td>\n",
       "      <td>16.82</td>\n",
       "      <td>4.340071</td>\n",
       "    </tr>\n",
       "    <tr>\n",
       "      <th>14</th>\n",
       "      <td>PS3</td>\n",
       "      <td>2016</td>\n",
       "      <td>домашняя</td>\n",
       "      <td>38</td>\n",
       "      <td>3.60</td>\n",
       "      <td>10.555556</td>\n",
       "    </tr>\n",
       "    <tr>\n",
       "      <th>15</th>\n",
       "      <td>PS4</td>\n",
       "      <td>2013</td>\n",
       "      <td>домашняя</td>\n",
       "      <td>16</td>\n",
       "      <td>25.99</td>\n",
       "      <td>0.615621</td>\n",
       "    </tr>\n",
       "    <tr>\n",
       "      <th>16</th>\n",
       "      <td>PS4</td>\n",
       "      <td>2014</td>\n",
       "      <td>домашняя</td>\n",
       "      <td>75</td>\n",
       "      <td>100.00</td>\n",
       "      <td>0.750000</td>\n",
       "    </tr>\n",
       "    <tr>\n",
       "      <th>17</th>\n",
       "      <td>PS4</td>\n",
       "      <td>2015</td>\n",
       "      <td>домашняя</td>\n",
       "      <td>137</td>\n",
       "      <td>118.90</td>\n",
       "      <td>1.152229</td>\n",
       "    </tr>\n",
       "    <tr>\n",
       "      <th>18</th>\n",
       "      <td>PS4</td>\n",
       "      <td>2016</td>\n",
       "      <td>домашняя</td>\n",
       "      <td>164</td>\n",
       "      <td>69.25</td>\n",
       "      <td>2.368231</td>\n",
       "    </tr>\n",
       "    <tr>\n",
       "      <th>19</th>\n",
       "      <td>PSV</td>\n",
       "      <td>2012</td>\n",
       "      <td>портативная</td>\n",
       "      <td>53</td>\n",
       "      <td>16.19</td>\n",
       "      <td>3.273626</td>\n",
       "    </tr>\n",
       "    <tr>\n",
       "      <th>20</th>\n",
       "      <td>PSV</td>\n",
       "      <td>2013</td>\n",
       "      <td>портативная</td>\n",
       "      <td>63</td>\n",
       "      <td>10.59</td>\n",
       "      <td>5.949008</td>\n",
       "    </tr>\n",
       "    <tr>\n",
       "      <th>21</th>\n",
       "      <td>PSV</td>\n",
       "      <td>2014</td>\n",
       "      <td>портативная</td>\n",
       "      <td>100</td>\n",
       "      <td>11.90</td>\n",
       "      <td>8.403361</td>\n",
       "    </tr>\n",
       "    <tr>\n",
       "      <th>22</th>\n",
       "      <td>PSV</td>\n",
       "      <td>2015</td>\n",
       "      <td>портативная</td>\n",
       "      <td>110</td>\n",
       "      <td>6.25</td>\n",
       "      <td>17.600000</td>\n",
       "    </tr>\n",
       "    <tr>\n",
       "      <th>23</th>\n",
       "      <td>PSV</td>\n",
       "      <td>2016</td>\n",
       "      <td>портативная</td>\n",
       "      <td>85</td>\n",
       "      <td>4.25</td>\n",
       "      <td>20.000000</td>\n",
       "    </tr>\n",
       "    <tr>\n",
       "      <th>24</th>\n",
       "      <td>Wii</td>\n",
       "      <td>2012</td>\n",
       "      <td>домашняя</td>\n",
       "      <td>31</td>\n",
       "      <td>21.71</td>\n",
       "      <td>1.427913</td>\n",
       "    </tr>\n",
       "    <tr>\n",
       "      <th>25</th>\n",
       "      <td>Wii</td>\n",
       "      <td>2013</td>\n",
       "      <td>домашняя</td>\n",
       "      <td>12</td>\n",
       "      <td>8.59</td>\n",
       "      <td>1.396973</td>\n",
       "    </tr>\n",
       "    <tr>\n",
       "      <th>26</th>\n",
       "      <td>Wii</td>\n",
       "      <td>2014</td>\n",
       "      <td>домашняя</td>\n",
       "      <td>6</td>\n",
       "      <td>3.75</td>\n",
       "      <td>1.600000</td>\n",
       "    </tr>\n",
       "    <tr>\n",
       "      <th>27</th>\n",
       "      <td>Wii</td>\n",
       "      <td>2015</td>\n",
       "      <td>домашняя</td>\n",
       "      <td>4</td>\n",
       "      <td>1.14</td>\n",
       "      <td>3.508772</td>\n",
       "    </tr>\n",
       "    <tr>\n",
       "      <th>28</th>\n",
       "      <td>Wii</td>\n",
       "      <td>2016</td>\n",
       "      <td>домашняя</td>\n",
       "      <td>1</td>\n",
       "      <td>0.18</td>\n",
       "      <td>5.555556</td>\n",
       "    </tr>\n",
       "    <tr>\n",
       "      <th>29</th>\n",
       "      <td>WiiU</td>\n",
       "      <td>2012</td>\n",
       "      <td>портативная</td>\n",
       "      <td>32</td>\n",
       "      <td>17.56</td>\n",
       "      <td>1.822323</td>\n",
       "    </tr>\n",
       "    <tr>\n",
       "      <th>30</th>\n",
       "      <td>WiiU</td>\n",
       "      <td>2013</td>\n",
       "      <td>портативная</td>\n",
       "      <td>42</td>\n",
       "      <td>21.65</td>\n",
       "      <td>1.939954</td>\n",
       "    </tr>\n",
       "    <tr>\n",
       "      <th>31</th>\n",
       "      <td>WiiU</td>\n",
       "      <td>2014</td>\n",
       "      <td>портативная</td>\n",
       "      <td>31</td>\n",
       "      <td>22.03</td>\n",
       "      <td>1.407172</td>\n",
       "    </tr>\n",
       "    <tr>\n",
       "      <th>32</th>\n",
       "      <td>WiiU</td>\n",
       "      <td>2015</td>\n",
       "      <td>портативная</td>\n",
       "      <td>28</td>\n",
       "      <td>16.35</td>\n",
       "      <td>1.712538</td>\n",
       "    </tr>\n",
       "    <tr>\n",
       "      <th>33</th>\n",
       "      <td>WiiU</td>\n",
       "      <td>2016</td>\n",
       "      <td>портативная</td>\n",
       "      <td>14</td>\n",
       "      <td>4.60</td>\n",
       "      <td>3.043478</td>\n",
       "    </tr>\n",
       "    <tr>\n",
       "      <th>34</th>\n",
       "      <td>X360</td>\n",
       "      <td>2012</td>\n",
       "      <td>домашняя</td>\n",
       "      <td>106</td>\n",
       "      <td>99.74</td>\n",
       "      <td>1.062763</td>\n",
       "    </tr>\n",
       "    <tr>\n",
       "      <th>35</th>\n",
       "      <td>X360</td>\n",
       "      <td>2013</td>\n",
       "      <td>домашняя</td>\n",
       "      <td>75</td>\n",
       "      <td>88.58</td>\n",
       "      <td>0.846692</td>\n",
       "    </tr>\n",
       "    <tr>\n",
       "      <th>36</th>\n",
       "      <td>X360</td>\n",
       "      <td>2014</td>\n",
       "      <td>домашняя</td>\n",
       "      <td>63</td>\n",
       "      <td>34.74</td>\n",
       "      <td>1.813472</td>\n",
       "    </tr>\n",
       "    <tr>\n",
       "      <th>37</th>\n",
       "      <td>X360</td>\n",
       "      <td>2015</td>\n",
       "      <td>домашняя</td>\n",
       "      <td>35</td>\n",
       "      <td>11.96</td>\n",
       "      <td>2.926421</td>\n",
       "    </tr>\n",
       "    <tr>\n",
       "      <th>38</th>\n",
       "      <td>X360</td>\n",
       "      <td>2016</td>\n",
       "      <td>домашняя</td>\n",
       "      <td>13</td>\n",
       "      <td>1.52</td>\n",
       "      <td>8.552632</td>\n",
       "    </tr>\n",
       "    <tr>\n",
       "      <th>39</th>\n",
       "      <td>XOne</td>\n",
       "      <td>2013</td>\n",
       "      <td>домашняя</td>\n",
       "      <td>19</td>\n",
       "      <td>18.96</td>\n",
       "      <td>1.002110</td>\n",
       "    </tr>\n",
       "    <tr>\n",
       "      <th>40</th>\n",
       "      <td>XOne</td>\n",
       "      <td>2014</td>\n",
       "      <td>домашняя</td>\n",
       "      <td>61</td>\n",
       "      <td>54.07</td>\n",
       "      <td>1.128167</td>\n",
       "    </tr>\n",
       "    <tr>\n",
       "      <th>41</th>\n",
       "      <td>XOne</td>\n",
       "      <td>2015</td>\n",
       "      <td>домашняя</td>\n",
       "      <td>80</td>\n",
       "      <td>60.14</td>\n",
       "      <td>1.330229</td>\n",
       "    </tr>\n",
       "    <tr>\n",
       "      <th>42</th>\n",
       "      <td>XOne</td>\n",
       "      <td>2016</td>\n",
       "      <td>домашняя</td>\n",
       "      <td>87</td>\n",
       "      <td>26.15</td>\n",
       "      <td>3.326960</td>\n",
       "    </tr>\n",
       "  </tbody>\n",
       "</table>\n",
       "</div>"
      ],
      "text/plain": [
       "   platform  year_of_release type_platform  count     sum      ratio\n",
       "0       3DS             2012   портативная     93   51.36   1.810748\n",
       "1       3DS             2013   портативная     91   56.57   1.608626\n",
       "2       3DS             2014   портативная     80   43.76   1.828154\n",
       "3       3DS             2015   портативная     86   27.78   3.095752\n",
       "4       3DS             2016   портативная     46   15.14   3.038309\n",
       "5        PC             2012     компьютер     61   23.22   2.627046\n",
       "6        PC             2013     компьютер     38   12.38   3.069467\n",
       "7        PC             2014     компьютер     47   13.28   3.539157\n",
       "8        PC             2015     компьютер     50    8.52   5.868545\n",
       "9        PC             2016     компьютер     54    5.25  10.285714\n",
       "10      PS3             2012      домашняя    148  107.36   1.378539\n",
       "11      PS3             2013      домашняя    126  113.25   1.112583\n",
       "12      PS3             2014      домашняя    108   47.76   2.261307\n",
       "13      PS3             2015      домашняя     73   16.82   4.340071\n",
       "14      PS3             2016      домашняя     38    3.60  10.555556\n",
       "15      PS4             2013      домашняя     16   25.99   0.615621\n",
       "16      PS4             2014      домашняя     75  100.00   0.750000\n",
       "17      PS4             2015      домашняя    137  118.90   1.152229\n",
       "18      PS4             2016      домашняя    164   69.25   2.368231\n",
       "19      PSV             2012   портативная     53   16.19   3.273626\n",
       "20      PSV             2013   портативная     63   10.59   5.949008\n",
       "21      PSV             2014   портативная    100   11.90   8.403361\n",
       "22      PSV             2015   портативная    110    6.25  17.600000\n",
       "23      PSV             2016   портативная     85    4.25  20.000000\n",
       "24      Wii             2012      домашняя     31   21.71   1.427913\n",
       "25      Wii             2013      домашняя     12    8.59   1.396973\n",
       "26      Wii             2014      домашняя      6    3.75   1.600000\n",
       "27      Wii             2015      домашняя      4    1.14   3.508772\n",
       "28      Wii             2016      домашняя      1    0.18   5.555556\n",
       "29     WiiU             2012   портативная     32   17.56   1.822323\n",
       "30     WiiU             2013   портативная     42   21.65   1.939954\n",
       "31     WiiU             2014   портативная     31   22.03   1.407172\n",
       "32     WiiU             2015   портативная     28   16.35   1.712538\n",
       "33     WiiU             2016   портативная     14    4.60   3.043478\n",
       "34     X360             2012      домашняя    106   99.74   1.062763\n",
       "35     X360             2013      домашняя     75   88.58   0.846692\n",
       "36     X360             2014      домашняя     63   34.74   1.813472\n",
       "37     X360             2015      домашняя     35   11.96   2.926421\n",
       "38     X360             2016      домашняя     13    1.52   8.552632\n",
       "39     XOne             2013      домашняя     19   18.96   1.002110\n",
       "40     XOne             2014      домашняя     61   54.07   1.128167\n",
       "41     XOne             2015      домашняя     80   60.14   1.330229\n",
       "42     XOne             2016      домашняя     87   26.15   3.326960"
      ]
     },
     "execution_count": 21,
     "metadata": {},
     "output_type": "execute_result"
    }
   ],
   "source": [
    "# сводная таблица с подсчетом суммы продаж и количества выпущенных игр\n",
    "release_ratio = (\n",
    "    df_since_2012\n",
    "    .pivot_table(index = ['platform', 'year_of_release', 'type_platform'], values = 'world_sales', aggfunc = ('sum', 'count'))\n",
    "    .reset_index()\n",
    ")\n",
    "\n",
    "release_ratio['ratio'] = release_ratio['count'] / release_ratio['sum'] #создание столбца с коэф.\n",
    "\n",
    "release_ratio"
   ]
  },
  {
   "cell_type": "code",
   "execution_count": 22,
   "metadata": {
    "scrolled": true
   },
   "outputs": [
    {
     "data": {
      "image/png": "[encoded data removed]",
      "text/plain": [
       "<Figure size 1080x504 with 1 Axes>"
      ]
     },
     "metadata": {
      "needs_background": "light"
     },
     "output_type": "display_data"
    }
   ],
   "source": [
    "# график продаж с 2012 года\n",
    "(\n",
    "    df_since_2012.pivot_table(index = 'year_of_release', columns = 'platform', values = 'world_sales', aggfunc = ('sum'))\n",
    "    .plot(grid=True, figsize = (15,7), title = 'Продажи с 2012 года'))\n",
    "plt.show()"
   ]
  },
  {
   "cell_type": "code",
   "execution_count": 23,
   "metadata": {
    "scrolled": true
   },
   "outputs": [
    {
     "data": {
      "image/png": "[encoded data removed]",
      "text/plain": [
       "<Figure size 432x288 with 1 Axes>"
      ]
     },
     "metadata": {
      "needs_background": "light"
     },
     "output_type": "display_data"
    },
    {
     "data": {
      "image/png": "[encoded data removed]",
      "text/plain": [
       "<Figure size 432x288 with 1 Axes>"
      ]
     },
     "metadata": {
      "needs_background": "light"
     },
     "output_type": "display_data"
    },
    {
     "data": {
      "image/png": "[encoded data removed]",
      "text/plain": [
       "<Figure size 432x288 with 1 Axes>"
      ]
     },
     "metadata": {
      "needs_background": "light"
     },
     "output_type": "display_data"
    },
    {
     "data": {
      "image/png": "[encoded data removed]",
      "text/plain": [
       "<Figure size 432x288 with 1 Axes>"
      ]
     },
     "metadata": {
      "needs_background": "light"
     },
     "output_type": "display_data"
    },
    {
     "data": {
      "image/png": "[encoded data removed]",
      "text/plain": [
       "<Figure size 432x288 with 1 Axes>"
      ]
     },
     "metadata": {
      "needs_background": "light"
     },
     "output_type": "display_data"
    },
    {
     "data": {
      "image/png": "[encoded data removed]",
      "text/plain": [
       "<Figure size 432x288 with 1 Axes>"
      ]
     },
     "metadata": {
      "needs_background": "light"
     },
     "output_type": "display_data"
    },
    {
     "data": {
      "image/png": "[encoded data removed]",
      "text/plain": [
       "<Figure size 432x288 with 1 Axes>"
      ]
     },
     "metadata": {
      "needs_background": "light"
     },
     "output_type": "display_data"
    },
    {
     "data": {
      "image/png": "[encoded data removed]",
      "text/plain": [
       "<Figure size 432x288 with 1 Axes>"
      ]
     },
     "metadata": {
      "needs_background": "light"
     },
     "output_type": "display_data"
    },
    {
     "data": {
      "image/png": "[encoded data removed]",
      "text/plain": [
       "<Figure size 432x288 with 1 Axes>"
      ]
     },
     "metadata": {
      "needs_background": "light"
     },
     "output_type": "display_data"
    }
   ],
   "source": [
    "def bar(ff):\n",
    "    (df_since_2012.query('platform == @ff')\n",
    "     .pivot_table(index = 'year_of_release', values = 'world_sales', aggfunc = ('sum', 'count'))\n",
    "     .plot(kind = 'bar', title = ff))\n",
    "    \n",
    "platforms_2016['platform'].apply(bar)\n",
    "plt.show()\n"
   ]
  },
  {
   "cell_type": "code",
   "execution_count": 24,
   "metadata": {},
   "outputs": [],
   "source": [
    "promising = ['PS4', 'XOne', 'PC'] # список потенциально прибыльных платформ\n",
    "df_promising = df_since_2012.query('platform.isin(@promising)') # таблица отфильтрованная по списку пот-но приб-х платформ"
   ]
  },
  {
   "cell_type": "code",
   "execution_count": 25,
   "metadata": {},
   "outputs": [
    {
     "data": {
      "text/html": [
       "<div>\n",
       "<style scoped>\n",
       "    .dataframe tbody tr th:only-of-type {\n",
       "        vertical-align: middle;\n",
       "    }\n",
       "\n",
       "    .dataframe tbody tr th {\n",
       "        vertical-align: top;\n",
       "    }\n",
       "\n",
       "    .dataframe thead th {\n",
       "        text-align: right;\n",
       "    }\n",
       "</style>\n",
       "<table border=\"1\" class=\"dataframe\">\n",
       "  <thead>\n",
       "    <tr style=\"text-align: right;\">\n",
       "      <th></th>\n",
       "      <th>world_sales</th>\n",
       "    </tr>\n",
       "    <tr>\n",
       "      <th>platform</th>\n",
       "      <th></th>\n",
       "    </tr>\n",
       "  </thead>\n",
       "  <tbody>\n",
       "    <tr>\n",
       "      <th>PS4</th>\n",
       "      <td>314.14</td>\n",
       "    </tr>\n",
       "    <tr>\n",
       "      <th>XOne</th>\n",
       "      <td>159.32</td>\n",
       "    </tr>\n",
       "    <tr>\n",
       "      <th>PC</th>\n",
       "      <td>62.65</td>\n",
       "    </tr>\n",
       "  </tbody>\n",
       "</table>\n",
       "</div>"
      ],
      "text/plain": [
       "          world_sales\n",
       "platform             \n",
       "PS4            314.14\n",
       "XOne           159.32\n",
       "PC              62.65"
      ]
     },
     "execution_count": 25,
     "metadata": {},
     "output_type": "execute_result"
    }
   ],
   "source": [
    "# сумма продаж у каждой пот-но выг-й платформы\n",
    "(df_promising.pivot_table(index = 'platform', values = 'world_sales', aggfunc = ('sum'))\n",
    "                 .sort_values('world_sales', ascending = False))"
   ]
  },
  {
   "cell_type": "code",
   "execution_count": 26,
   "metadata": {},
   "outputs": [
    {
     "data": {
      "image/png": "[encoded data removed]",
      "text/plain": [
       "<Figure size 864x576 with 1 Axes>"
      ]
     },
     "metadata": {
      "needs_background": "light"
     },
     "output_type": "display_data"
    }
   ],
   "source": [
    "# боксплот \n",
    "df_promising.query('world_sales < 1.2').boxplot('world_sales', by = 'platform', figsize = (12,8))\n",
    "plt.show()"
   ]
  },
  {
   "cell_type": "code",
   "execution_count": 27,
   "metadata": {},
   "outputs": [
    {
     "data": {
      "text/html": [
       "<div>\n",
       "<style scoped>\n",
       "    .dataframe tbody tr th:only-of-type {\n",
       "        vertical-align: middle;\n",
       "    }\n",
       "\n",
       "    .dataframe tbody tr th {\n",
       "        vertical-align: top;\n",
       "    }\n",
       "\n",
       "    .dataframe thead tr th {\n",
       "        text-align: left;\n",
       "    }\n",
       "\n",
       "    .dataframe thead tr:last-of-type th {\n",
       "        text-align: right;\n",
       "    }\n",
       "</style>\n",
       "<table border=\"1\" class=\"dataframe\">\n",
       "  <thead>\n",
       "    <tr>\n",
       "      <th></th>\n",
       "      <th colspan=\"8\" halign=\"left\">world_sales</th>\n",
       "    </tr>\n",
       "    <tr>\n",
       "      <th></th>\n",
       "      <th colspan=\"8\" halign=\"left\">describe</th>\n",
       "    </tr>\n",
       "    <tr>\n",
       "      <th></th>\n",
       "      <th>count</th>\n",
       "      <th>mean</th>\n",
       "      <th>std</th>\n",
       "      <th>min</th>\n",
       "      <th>25%</th>\n",
       "      <th>50%</th>\n",
       "      <th>75%</th>\n",
       "      <th>max</th>\n",
       "    </tr>\n",
       "    <tr>\n",
       "      <th>platform</th>\n",
       "      <th></th>\n",
       "      <th></th>\n",
       "      <th></th>\n",
       "      <th></th>\n",
       "      <th></th>\n",
       "      <th></th>\n",
       "      <th></th>\n",
       "      <th></th>\n",
       "    </tr>\n",
       "  </thead>\n",
       "  <tbody>\n",
       "    <tr>\n",
       "      <th>PC</th>\n",
       "      <td>250.0</td>\n",
       "      <td>0.2506</td>\n",
       "      <td>0.4946</td>\n",
       "      <td>0.01</td>\n",
       "      <td>0.03</td>\n",
       "      <td>0.08</td>\n",
       "      <td>0.240</td>\n",
       "      <td>5.14</td>\n",
       "    </tr>\n",
       "    <tr>\n",
       "      <th>PS4</th>\n",
       "      <td>392.0</td>\n",
       "      <td>0.8014</td>\n",
       "      <td>1.6095</td>\n",
       "      <td>0.01</td>\n",
       "      <td>0.06</td>\n",
       "      <td>0.20</td>\n",
       "      <td>0.730</td>\n",
       "      <td>14.63</td>\n",
       "    </tr>\n",
       "    <tr>\n",
       "      <th>XOne</th>\n",
       "      <td>247.0</td>\n",
       "      <td>0.6450</td>\n",
       "      <td>1.0361</td>\n",
       "      <td>0.01</td>\n",
       "      <td>0.06</td>\n",
       "      <td>0.22</td>\n",
       "      <td>0.685</td>\n",
       "      <td>7.39</td>\n",
       "    </tr>\n",
       "  </tbody>\n",
       "</table>\n",
       "</div>"
      ],
      "text/plain": [
       "         world_sales                                                \n",
       "            describe                                                \n",
       "               count    mean     std   min   25%   50%    75%    max\n",
       "platform                                                            \n",
       "PC             250.0  0.2506  0.4946  0.01  0.03  0.08  0.240   5.14\n",
       "PS4            392.0  0.8014  1.6095  0.01  0.06  0.20  0.730  14.63\n",
       "XOne           247.0  0.6450  1.0361  0.01  0.06  0.22  0.685   7.39"
      ]
     },
     "execution_count": 27,
     "metadata": {},
     "output_type": "execute_result"
    }
   ],
   "source": [
    "# распределение\n",
    "agg_func_describe = {'world_sales': ['describe']}\n",
    "df_promising.groupby(['platform']).agg(agg_func_describe).round(4)"
   ]
  },
  {
   "cell_type": "code",
   "execution_count": 28,
   "metadata": {
    "scrolled": false
   },
   "outputs": [],
   "source": [
    "df_excl_tbd = df_promising.query('user_score != \"tbd\"') # таблица без tbd в user_score\n",
    "df_excl_tbd['user_score'] = df_excl_tbd['user_score'].astype('float64') # перевод формата в float64"
   ]
  },
  {
   "cell_type": "code",
   "execution_count": 29,
   "metadata": {},
   "outputs": [
    {
     "data": {
      "image/png": "[encoded data removed]",
      "text/plain": [
       "<Figure size 1224x432 with 2 Axes>"
      ]
     },
     "metadata": {
      "needs_background": "light"
     },
     "output_type": "display_data"
    },
    {
     "name": "stdout",
     "output_type": "stream",
     "text": [
      "Корреляция Оценки пользователей/Продажи. -0.031957110204556376\n",
      "Корреляция Оценки критиков/Продажи 0.40656790206178095\n"
     ]
    },
    {
     "data": {
      "image/png": "[encoded data removed]",
      "text/plain": [
       "<Figure size 1224x432 with 2 Axes>"
      ]
     },
     "metadata": {
      "needs_background": "light"
     },
     "output_type": "display_data"
    },
    {
     "name": "stdout",
     "output_type": "stream",
     "text": [
      "Корреляция Оценки пользователей/Продажи. -0.06892505328279414\n",
      "Корреляция Оценки критиков/Продажи 0.4169983280084017\n"
     ]
    },
    {
     "data": {
      "image/png": "[encoded data removed]",
      "text/plain": [
       "<Figure size 1224x432 with 2 Axes>"
      ]
     },
     "metadata": {
      "needs_background": "light"
     },
     "output_type": "display_data"
    },
    {
     "name": "stdout",
     "output_type": "stream",
     "text": [
      "Корреляция Оценки пользователей/Продажи. -0.12186747630735577\n",
      "Корреляция Оценки критиков/Продажи 0.23724324311567915\n"
     ]
    }
   ],
   "source": [
    "def scatter(platform):\n",
    "    '''\n",
    "    функция строит диаграмму рассеивания и корреляцию\n",
    "    '''\n",
    "    for i in platform:\n",
    "        fig = plt.figure(figsize=(17, 6))\n",
    "        ax1 = fig.add_subplot(121)\n",
    "        ax2 = fig.add_subplot(122)\n",
    "        ax1.set_title('user_score')\n",
    "        ax2.set_title('critic_score')\n",
    "        fig.suptitle(i)\n",
    "# диаграмма пользовательская оценка/продажы\n",
    "        ax1.scatter(\n",
    "            df_excl_tbd.query('platform == @i')['user_score'], \n",
    "            df_excl_tbd.query('platform == @i')['world_sales'], \n",
    "            alpha = 0.1)\n",
    "        \n",
    "# диаграмма оценка критиков/продажы        \n",
    "        ax2.scatter(\n",
    "            df_promising.query('platform == @i')['critic_score'], \n",
    "            df_promising.query('platform == @i')['world_sales'], \n",
    "            alpha = 0.1)\n",
    "        plt.show()\n",
    "        \n",
    "# корреляция пользовательская оценка/продажы        \n",
    "        print('Корреляция Оценки пользователей/Продажи.', \n",
    "      df_excl_tbd.query('platform == @i')['user_score']\n",
    "      .corr(df_excl_tbd.query('platform == @i')['world_sales']))\n",
    "        \n",
    "# корреляция оценка критиков/продажы                \n",
    "        print('Корреляция Оценки критиков/Продажи', \n",
    "      df_promising.query('platform == @i')['critic_score']\n",
    "      .corr(df_promising.query('platform == @i')['world_sales']))\n",
    "        \n",
    "\n",
    "scatter(promising) # запуск функции"
   ]
  },
  {
   "cell_type": "code",
   "execution_count": 30,
   "metadata": {
    "scrolled": false
   },
   "outputs": [
    {
     "data": {
      "text/plain": [
       "platform\n",
       "PC      183\n",
       "PS4     218\n",
       "XOne    148\n",
       "Name: name, dtype: int64"
      ]
     },
     "execution_count": 30,
     "metadata": {},
     "output_type": "execute_result"
    }
   ],
   "source": [
    "# количество игр с оценкой критиков выше 60\n",
    "df_promising.query('critic_score >= 60').groupby('platform')['name'].count()"
   ]
  },
  {
   "cell_type": "code",
   "execution_count": 31,
   "metadata": {},
   "outputs": [
    {
     "data": {
      "text/plain": [
       "platform\n",
       "PC      136\n",
       "PS4     203\n",
       "XOne    128\n",
       "Name: name, dtype: int64"
      ]
     },
     "execution_count": 31,
     "metadata": {},
     "output_type": "execute_result"
    }
   ],
   "source": [
    "# количество игр с оцнкой пользователей выше 6-ти\n",
    "df_excl_tbd.query('user_score >= 6').groupby('platform')['name'].count()"
   ]
  },
  {
   "cell_type": "code",
   "execution_count": 32,
   "metadata": {},
   "outputs": [
    {
     "data": {
      "text/plain": [
       "0.15860517435320584"
      ]
     },
     "execution_count": 32,
     "metadata": {},
     "output_type": "execute_result"
    }
   ],
   "source": [
    "# доля иггр с миллионными продажами. выпуск\n",
    "df_promising.query('world_sales >= 1')['name'].count() / df_promising['name'].count()"
   ]
  },
  {
   "cell_type": "code",
   "execution_count": 33,
   "metadata": {},
   "outputs": [
    {
     "data": {
      "text/plain": [
       "0.7117755684467739"
      ]
     },
     "execution_count": 33,
     "metadata": {},
     "output_type": "execute_result"
    }
   ],
   "source": [
    "# доля иггр с миллионными продажами. продажи\n",
    "df_promising.query('world_sales >= 1')['world_sales'].sum() / df_promising['world_sales'].sum()"
   ]
  },
  {
   "cell_type": "markdown",
   "metadata": {},
   "source": [
    "#### Описание действий  \n",
    "Убрал платформы не выпускавшие игры в 2016 году.  \n",
    "Посчитал суммарные продажи для каждой платформы с 2012 года.  \n",
    "Посчитал продажи и количество выпущенных игр для каждой платформы ежегодно с 2012 года.  \n",
    "Построил график продаж.\n",
    "Построил столбчаттые диаграммы для каждой платформы. Ежегодный выпуск игр и продажи.  \n",
    "Определил потенциально прибыльные платформы. И создал для них отдельный dataframe.  \n",
    "Построил боксплот и расспределение.  \n",
    "Построил диаграмму распределения для каждой платформы и корреляцию. Зависимость продаж от оценок критиков или покупателей.  \n",
    "#### Вывод  \n",
    "Для планирования компании в 2017 году, нет смысла анализировать платформы которые не выпускали игры в 2016. В 2016 году выпускали игры только 9 платформ: , '3DS', 'XOne', 'WiiU', 'Wii', 'PC', 'PSV'. \n",
    "  \n",
    "Анализ показал что портативные платформы ежегодно снижают выпуск игр, и продажи падают.  \n",
    "За исключением PSV. Но у этой платформы низкие продажи по сравнению с другими, 8 место из 9.  \n",
    "Возможно это связано с активным развитием игр на Смартфонах.\n",
    "  \n",
    "Из домашних платформ рост выпуска игр только у трех платформ 'PS3', 'X360', 'PC'.  \n",
    "На остальных платформах выпуск игр и продажи падают.  \n",
    "2016 год показывает падение продаж по всем платформам, но скорее всего потому что срок активных продаж дольше, и игры выпущенные в 2016 году будут продаваться и в 2017 году. Так же известно что данные 2016 года в dataframe не полные.  \n",
    "  \n",
    "Разброс продаж очень большой. Расспределение вправо. У XOne и PS4 Среднее на порядок выше медианы. У PC разброс меньше, но так же велик.\n",
    "\n",
    "Судя по диаграмме рассеивания и коэффициенту корреляции, продажи игр не сильно зависят от оценок.  \n",
    "Игр с оценкой выше 6-ти (пользователи) или 60-ти (критики), больше у PS4 (>200). PC на втором месте.  \n",
    "Доля игр с миллиоными продажами 0.15. по количеству игр  \n",
    "Доля игр с миллиоными продажами 0.71. по количеству продаж  "
   ]
  },
  {
   "cell_type": "markdown",
   "metadata": {},
   "source": [
    "### Жанры"
   ]
  },
  {
   "cell_type": "code",
   "execution_count": 34,
   "metadata": {},
   "outputs": [
    {
     "data": {
      "image/png": "[encoded data removed]",
      "text/plain": [
       "<Figure size 936x504 with 1 Axes>"
      ]
     },
     "metadata": {
      "needs_background": "light"
     },
     "output_type": "display_data"
    }
   ],
   "source": [
    "# столбчатая диаграмма\n",
    "(\n",
    "    df_promising.pivot_table(index = 'genre', values = 'world_sales', aggfunc = ('sum', 'count'))\n",
    "    .plot(kind = 'bar', figsize = (13, 7), title = 'Продажи и выпуск по жанрам')\n",
    ")\n",
    "plt.show()"
   ]
  },
  {
   "cell_type": "code",
   "execution_count": 35,
   "metadata": {},
   "outputs": [
    {
     "data": {
      "image/png": "[encoded data removed]",
      "text/plain": [
       "<Figure size 864x576 with 1 Axes>"
      ]
     },
     "metadata": {
      "needs_background": "light"
     },
     "output_type": "display_data"
    }
   ],
   "source": [
    "df_promising.query('world_sales < 1.2').boxplot('world_sales', by = 'genre', figsize = (12,8))\n",
    "plt.show()"
   ]
  },
  {
   "cell_type": "code",
   "execution_count": 36,
   "metadata": {
    "scrolled": true
   },
   "outputs": [
    {
     "data": {
      "text/html": [
       "<div>\n",
       "<style scoped>\n",
       "    .dataframe tbody tr th:only-of-type {\n",
       "        vertical-align: middle;\n",
       "    }\n",
       "\n",
       "    .dataframe tbody tr th {\n",
       "        vertical-align: top;\n",
       "    }\n",
       "\n",
       "    .dataframe thead th {\n",
       "        text-align: right;\n",
       "    }\n",
       "</style>\n",
       "<table border=\"1\" class=\"dataframe\">\n",
       "  <thead>\n",
       "    <tr style=\"text-align: right;\">\n",
       "      <th></th>\n",
       "      <th>world_sales</th>\n",
       "    </tr>\n",
       "    <tr>\n",
       "      <th>genre</th>\n",
       "      <th></th>\n",
       "    </tr>\n",
       "  </thead>\n",
       "  <tbody>\n",
       "    <tr>\n",
       "      <th>Shooter</th>\n",
       "      <td>163.16</td>\n",
       "    </tr>\n",
       "    <tr>\n",
       "      <th>Action</th>\n",
       "      <td>146.55</td>\n",
       "    </tr>\n",
       "    <tr>\n",
       "      <th>Sports</th>\n",
       "      <td>85.61</td>\n",
       "    </tr>\n",
       "    <tr>\n",
       "      <th>Role-Playing</th>\n",
       "      <td>53.19</td>\n",
       "    </tr>\n",
       "    <tr>\n",
       "      <th>Racing</th>\n",
       "      <td>23.16</td>\n",
       "    </tr>\n",
       "  </tbody>\n",
       "</table>\n",
       "</div>"
      ],
      "text/plain": [
       "              world_sales\n",
       "genre                    \n",
       "Shooter            163.16\n",
       "Action             146.55\n",
       "Sports              85.61\n",
       "Role-Playing        53.19\n",
       "Racing              23.16"
      ]
     },
     "execution_count": 36,
     "metadata": {},
     "output_type": "execute_result"
    }
   ],
   "source": [
    "df_promising.pivot_table(\n",
    "    index = 'genre', values = 'world_sales', aggfunc = sum\n",
    ").sort_values('world_sales', ascending = False ).head(5)"
   ]
  },
  {
   "cell_type": "code",
   "execution_count": 37,
   "metadata": {},
   "outputs": [
    {
     "data": {
      "text/plain": [
       "0.7373859842196565"
      ]
     },
     "execution_count": 37,
     "metadata": {},
     "output_type": "execute_result"
    }
   ],
   "source": [
    "(163.16 + 146.55 + 85.61) / df_promising.world_sales.sum()"
   ]
  },
  {
   "cell_type": "code",
   "execution_count": 38,
   "metadata": {},
   "outputs": [
    {
     "data": {
      "text/html": [
       "<div>\n",
       "<style scoped>\n",
       "    .dataframe tbody tr th:only-of-type {\n",
       "        vertical-align: middle;\n",
       "    }\n",
       "\n",
       "    .dataframe tbody tr th {\n",
       "        vertical-align: top;\n",
       "    }\n",
       "\n",
       "    .dataframe thead th {\n",
       "        text-align: right;\n",
       "    }\n",
       "</style>\n",
       "<table border=\"1\" class=\"dataframe\">\n",
       "  <thead>\n",
       "    <tr style=\"text-align: right;\">\n",
       "      <th></th>\n",
       "      <th>genre</th>\n",
       "      <th>world_sales</th>\n",
       "    </tr>\n",
       "  </thead>\n",
       "  <tbody>\n",
       "    <tr>\n",
       "      <th>0</th>\n",
       "      <td>Shooter</td>\n",
       "      <td>0.540</td>\n",
       "    </tr>\n",
       "    <tr>\n",
       "      <th>1</th>\n",
       "      <td>Sports</td>\n",
       "      <td>0.260</td>\n",
       "    </tr>\n",
       "    <tr>\n",
       "      <th>2</th>\n",
       "      <td>Role-Playing</td>\n",
       "      <td>0.190</td>\n",
       "    </tr>\n",
       "    <tr>\n",
       "      <th>3</th>\n",
       "      <td>Misc</td>\n",
       "      <td>0.165</td>\n",
       "    </tr>\n",
       "    <tr>\n",
       "      <th>4</th>\n",
       "      <td>Platform</td>\n",
       "      <td>0.160</td>\n",
       "    </tr>\n",
       "    <tr>\n",
       "      <th>5</th>\n",
       "      <td>Fighting</td>\n",
       "      <td>0.155</td>\n",
       "    </tr>\n",
       "    <tr>\n",
       "      <th>6</th>\n",
       "      <td>Action</td>\n",
       "      <td>0.140</td>\n",
       "    </tr>\n",
       "    <tr>\n",
       "      <th>7</th>\n",
       "      <td>Simulation</td>\n",
       "      <td>0.120</td>\n",
       "    </tr>\n",
       "    <tr>\n",
       "      <th>8</th>\n",
       "      <td>Racing</td>\n",
       "      <td>0.100</td>\n",
       "    </tr>\n",
       "    <tr>\n",
       "      <th>9</th>\n",
       "      <td>Strategy</td>\n",
       "      <td>0.080</td>\n",
       "    </tr>\n",
       "    <tr>\n",
       "      <th>10</th>\n",
       "      <td>Adventure</td>\n",
       "      <td>0.060</td>\n",
       "    </tr>\n",
       "    <tr>\n",
       "      <th>11</th>\n",
       "      <td>Puzzle</td>\n",
       "      <td>0.020</td>\n",
       "    </tr>\n",
       "  </tbody>\n",
       "</table>\n",
       "</div>"
      ],
      "text/plain": [
       "           genre  world_sales\n",
       "0        Shooter        0.540\n",
       "1         Sports        0.260\n",
       "2   Role-Playing        0.190\n",
       "3           Misc        0.165\n",
       "4       Platform        0.160\n",
       "5       Fighting        0.155\n",
       "6         Action        0.140\n",
       "7     Simulation        0.120\n",
       "8         Racing        0.100\n",
       "9       Strategy        0.080\n",
       "10     Adventure        0.060\n",
       "11        Puzzle        0.020"
      ]
     },
     "execution_count": 38,
     "metadata": {},
     "output_type": "execute_result"
    }
   ],
   "source": [
    "df_promising.groupby('genre')['world_sales'].median().sort_values(ascending = False).reset_index()"
   ]
  },
  {
   "cell_type": "markdown",
   "metadata": {},
   "source": [
    "#### Вывод  \n",
    "  \n",
    "Больше всего выпускают и продают Action, Shooter, Sports."
   ]
  },
  {
   "cell_type": "markdown",
   "metadata": {},
   "source": [
    "## Шаг 4. Портрет пользователя каждого региона"
   ]
  },
  {
   "cell_type": "code",
   "execution_count": 66,
   "metadata": {},
   "outputs": [],
   "source": [
    "regions = ['na_sales', 'eu_sales', 'jp_sales', 'other_sales'] #список регионов\n",
    "\n",
    "def pie(df, kind):\n",
    "    fig, ax = plt.subplots( nrows = 1, ncols = 4, figsize=(18,18))\n",
    "    for i in range(4):\n",
    "        \n",
    "        df1 = df.groupby(kind)[regions[i]].sum().sort_values(ascending=False).head(5).reset_index()\n",
    "        ax[i].pie(df1[regions[i]], labels = df1[kind], autopct = '%1.1f%%', startangle=90)\n",
    "        ax[i].set_title(df1.columns[1].split('_')[0].upper())\n"
   ]
  },
  {
   "cell_type": "code",
   "execution_count": 67,
   "metadata": {
    "scrolled": false
   },
   "outputs": [
    {
     "name": "stdout",
     "output_type": "stream",
     "text": [
      "\n",
      "Популярные платформы:\n"
     ]
    },
    {
     "data": {
      "image/png": "[encoded data removed]",
      "text/plain": [
       "<Figure size 1296x1296 with 4 Axes>"
      ]
     },
     "metadata": {},
     "output_type": "display_data"
    },
    {
     "data": {
      "text/html": [
       "<div>\n",
       "<style scoped>\n",
       "    .dataframe tbody tr th:only-of-type {\n",
       "        vertical-align: middle;\n",
       "    }\n",
       "\n",
       "    .dataframe tbody tr th {\n",
       "        vertical-align: top;\n",
       "    }\n",
       "\n",
       "    .dataframe thead th {\n",
       "        text-align: right;\n",
       "    }\n",
       "</style>\n",
       "<table border=\"1\" class=\"dataframe\">\n",
       "  <thead>\n",
       "    <tr style=\"text-align: right;\">\n",
       "      <th></th>\n",
       "      <th>platform</th>\n",
       "      <th>na_sales</th>\n",
       "    </tr>\n",
       "  </thead>\n",
       "  <tbody>\n",
       "    <tr>\n",
       "      <th>0</th>\n",
       "      <td>X360</td>\n",
       "      <td>140.05</td>\n",
       "    </tr>\n",
       "    <tr>\n",
       "      <th>1</th>\n",
       "      <td>PS4</td>\n",
       "      <td>108.74</td>\n",
       "    </tr>\n",
       "    <tr>\n",
       "      <th>2</th>\n",
       "      <td>PS3</td>\n",
       "      <td>103.38</td>\n",
       "    </tr>\n",
       "    <tr>\n",
       "      <th>3</th>\n",
       "      <td>XOne</td>\n",
       "      <td>93.12</td>\n",
       "    </tr>\n",
       "    <tr>\n",
       "      <th>4</th>\n",
       "      <td>3DS</td>\n",
       "      <td>55.31</td>\n",
       "    </tr>\n",
       "  </tbody>\n",
       "</table>\n",
       "</div>"
      ],
      "text/plain": [
       "  platform  na_sales\n",
       "0     X360    140.05\n",
       "1      PS4    108.74\n",
       "2      PS3    103.38\n",
       "3     XOne     93.12\n",
       "4      3DS     55.31"
      ]
     },
     "metadata": {},
     "output_type": "display_data"
    },
    {
     "data": {
      "text/html": [
       "<div>\n",
       "<style scoped>\n",
       "    .dataframe tbody tr th:only-of-type {\n",
       "        vertical-align: middle;\n",
       "    }\n",
       "\n",
       "    .dataframe tbody tr th {\n",
       "        vertical-align: top;\n",
       "    }\n",
       "\n",
       "    .dataframe thead th {\n",
       "        text-align: right;\n",
       "    }\n",
       "</style>\n",
       "<table border=\"1\" class=\"dataframe\">\n",
       "  <thead>\n",
       "    <tr style=\"text-align: right;\">\n",
       "      <th></th>\n",
       "      <th>platform</th>\n",
       "      <th>eu_sales</th>\n",
       "    </tr>\n",
       "  </thead>\n",
       "  <tbody>\n",
       "    <tr>\n",
       "      <th>0</th>\n",
       "      <td>PS4</td>\n",
       "      <td>141.09</td>\n",
       "    </tr>\n",
       "    <tr>\n",
       "      <th>1</th>\n",
       "      <td>PS3</td>\n",
       "      <td>106.86</td>\n",
       "    </tr>\n",
       "    <tr>\n",
       "      <th>2</th>\n",
       "      <td>X360</td>\n",
       "      <td>74.52</td>\n",
       "    </tr>\n",
       "    <tr>\n",
       "      <th>3</th>\n",
       "      <td>XOne</td>\n",
       "      <td>51.59</td>\n",
       "    </tr>\n",
       "    <tr>\n",
       "      <th>4</th>\n",
       "      <td>3DS</td>\n",
       "      <td>42.64</td>\n",
       "    </tr>\n",
       "  </tbody>\n",
       "</table>\n",
       "</div>"
      ],
      "text/plain": [
       "  platform  eu_sales\n",
       "0      PS4    141.09\n",
       "1      PS3    106.86\n",
       "2     X360     74.52\n",
       "3     XOne     51.59\n",
       "4      3DS     42.64"
      ]
     },
     "metadata": {},
     "output_type": "display_data"
    },
    {
     "data": {
      "text/html": [
       "<div>\n",
       "<style scoped>\n",
       "    .dataframe tbody tr th:only-of-type {\n",
       "        vertical-align: middle;\n",
       "    }\n",
       "\n",
       "    .dataframe tbody tr th {\n",
       "        vertical-align: top;\n",
       "    }\n",
       "\n",
       "    .dataframe thead th {\n",
       "        text-align: right;\n",
       "    }\n",
       "</style>\n",
       "<table border=\"1\" class=\"dataframe\">\n",
       "  <thead>\n",
       "    <tr style=\"text-align: right;\">\n",
       "      <th></th>\n",
       "      <th>platform</th>\n",
       "      <th>jp_sales</th>\n",
       "    </tr>\n",
       "  </thead>\n",
       "  <tbody>\n",
       "    <tr>\n",
       "      <th>0</th>\n",
       "      <td>3DS</td>\n",
       "      <td>87.79</td>\n",
       "    </tr>\n",
       "    <tr>\n",
       "      <th>1</th>\n",
       "      <td>PS3</td>\n",
       "      <td>35.29</td>\n",
       "    </tr>\n",
       "    <tr>\n",
       "      <th>2</th>\n",
       "      <td>PSV</td>\n",
       "      <td>21.04</td>\n",
       "    </tr>\n",
       "    <tr>\n",
       "      <th>3</th>\n",
       "      <td>PS4</td>\n",
       "      <td>15.96</td>\n",
       "    </tr>\n",
       "    <tr>\n",
       "      <th>4</th>\n",
       "      <td>WiiU</td>\n",
       "      <td>13.01</td>\n",
       "    </tr>\n",
       "  </tbody>\n",
       "</table>\n",
       "</div>"
      ],
      "text/plain": [
       "  platform  jp_sales\n",
       "0      3DS     87.79\n",
       "1      PS3     35.29\n",
       "2      PSV     21.04\n",
       "3      PS4     15.96\n",
       "4     WiiU     13.01"
      ]
     },
     "metadata": {},
     "output_type": "display_data"
    },
    {
     "data": {
      "text/html": [
       "<div>\n",
       "<style scoped>\n",
       "    .dataframe tbody tr th:only-of-type {\n",
       "        vertical-align: middle;\n",
       "    }\n",
       "\n",
       "    .dataframe tbody tr th {\n",
       "        vertical-align: top;\n",
       "    }\n",
       "\n",
       "    .dataframe thead th {\n",
       "        text-align: right;\n",
       "    }\n",
       "</style>\n",
       "<table border=\"1\" class=\"dataframe\">\n",
       "  <thead>\n",
       "    <tr style=\"text-align: right;\">\n",
       "      <th></th>\n",
       "      <th>platform</th>\n",
       "      <th>other_sales</th>\n",
       "    </tr>\n",
       "  </thead>\n",
       "  <tbody>\n",
       "    <tr>\n",
       "      <th>0</th>\n",
       "      <td>PS4</td>\n",
       "      <td>48.35</td>\n",
       "    </tr>\n",
       "    <tr>\n",
       "      <th>1</th>\n",
       "      <td>PS3</td>\n",
       "      <td>43.26</td>\n",
       "    </tr>\n",
       "    <tr>\n",
       "      <th>2</th>\n",
       "      <td>X360</td>\n",
       "      <td>20.40</td>\n",
       "    </tr>\n",
       "    <tr>\n",
       "      <th>3</th>\n",
       "      <td>XOne</td>\n",
       "      <td>14.27</td>\n",
       "    </tr>\n",
       "    <tr>\n",
       "      <th>4</th>\n",
       "      <td>3DS</td>\n",
       "      <td>8.87</td>\n",
       "    </tr>\n",
       "  </tbody>\n",
       "</table>\n",
       "</div>"
      ],
      "text/plain": [
       "  platform  other_sales\n",
       "0      PS4        48.35\n",
       "1      PS3        43.26\n",
       "2     X360        20.40\n",
       "3     XOne        14.27\n",
       "4      3DS         8.87"
      ]
     },
     "metadata": {},
     "output_type": "display_data"
    },
    {
     "name": "stdout",
     "output_type": "stream",
     "text": [
      "\n",
      "Популярные жанры:\n"
     ]
    },
    {
     "data": {
      "image/png": "[encoded data removed]",
      "text/plain": [
       "<Figure size 1296x1296 with 4 Axes>"
      ]
     },
     "metadata": {},
     "output_type": "display_data"
    },
    {
     "data": {
      "text/html": [
       "<div>\n",
       "<style scoped>\n",
       "    .dataframe tbody tr th:only-of-type {\n",
       "        vertical-align: middle;\n",
       "    }\n",
       "\n",
       "    .dataframe tbody tr th {\n",
       "        vertical-align: top;\n",
       "    }\n",
       "\n",
       "    .dataframe thead th {\n",
       "        text-align: right;\n",
       "    }\n",
       "</style>\n",
       "<table border=\"1\" class=\"dataframe\">\n",
       "  <thead>\n",
       "    <tr style=\"text-align: right;\">\n",
       "      <th></th>\n",
       "      <th>genre</th>\n",
       "      <th>na_sales</th>\n",
       "    </tr>\n",
       "  </thead>\n",
       "  <tbody>\n",
       "    <tr>\n",
       "      <th>0</th>\n",
       "      <td>Action</td>\n",
       "      <td>177.00</td>\n",
       "    </tr>\n",
       "    <tr>\n",
       "      <th>1</th>\n",
       "      <td>Shooter</td>\n",
       "      <td>144.77</td>\n",
       "    </tr>\n",
       "    <tr>\n",
       "      <th>2</th>\n",
       "      <td>Sports</td>\n",
       "      <td>81.38</td>\n",
       "    </tr>\n",
       "    <tr>\n",
       "      <th>3</th>\n",
       "      <td>Role-Playing</td>\n",
       "      <td>60.65</td>\n",
       "    </tr>\n",
       "    <tr>\n",
       "      <th>4</th>\n",
       "      <td>Misc</td>\n",
       "      <td>38.13</td>\n",
       "    </tr>\n",
       "  </tbody>\n",
       "</table>\n",
       "</div>"
      ],
      "text/plain": [
       "          genre  na_sales\n",
       "0        Action    177.00\n",
       "1       Shooter    144.77\n",
       "2        Sports     81.38\n",
       "3  Role-Playing     60.65\n",
       "4          Misc     38.13"
      ]
     },
     "metadata": {},
     "output_type": "display_data"
    },
    {
     "data": {
      "text/html": [
       "<div>\n",
       "<style scoped>\n",
       "    .dataframe tbody tr th:only-of-type {\n",
       "        vertical-align: middle;\n",
       "    }\n",
       "\n",
       "    .dataframe tbody tr th {\n",
       "        vertical-align: top;\n",
       "    }\n",
       "\n",
       "    .dataframe thead th {\n",
       "        text-align: right;\n",
       "    }\n",
       "</style>\n",
       "<table border=\"1\" class=\"dataframe\">\n",
       "  <thead>\n",
       "    <tr style=\"text-align: right;\">\n",
       "      <th></th>\n",
       "      <th>genre</th>\n",
       "      <th>eu_sales</th>\n",
       "    </tr>\n",
       "  </thead>\n",
       "  <tbody>\n",
       "    <tr>\n",
       "      <th>0</th>\n",
       "      <td>Action</td>\n",
       "      <td>158.43</td>\n",
       "    </tr>\n",
       "    <tr>\n",
       "      <th>1</th>\n",
       "      <td>Shooter</td>\n",
       "      <td>113.47</td>\n",
       "    </tr>\n",
       "    <tr>\n",
       "      <th>2</th>\n",
       "      <td>Sports</td>\n",
       "      <td>68.84</td>\n",
       "    </tr>\n",
       "    <tr>\n",
       "      <th>3</th>\n",
       "      <td>Role-Playing</td>\n",
       "      <td>46.76</td>\n",
       "    </tr>\n",
       "    <tr>\n",
       "      <th>4</th>\n",
       "      <td>Racing</td>\n",
       "      <td>27.29</td>\n",
       "    </tr>\n",
       "  </tbody>\n",
       "</table>\n",
       "</div>"
      ],
      "text/plain": [
       "          genre  eu_sales\n",
       "0        Action    158.43\n",
       "1       Shooter    113.47\n",
       "2        Sports     68.84\n",
       "3  Role-Playing     46.76\n",
       "4        Racing     27.29"
      ]
     },
     "metadata": {},
     "output_type": "display_data"
    },
    {
     "data": {
      "text/html": [
       "<div>\n",
       "<style scoped>\n",
       "    .dataframe tbody tr th:only-of-type {\n",
       "        vertical-align: middle;\n",
       "    }\n",
       "\n",
       "    .dataframe tbody tr th {\n",
       "        vertical-align: top;\n",
       "    }\n",
       "\n",
       "    .dataframe thead th {\n",
       "        text-align: right;\n",
       "    }\n",
       "</style>\n",
       "<table border=\"1\" class=\"dataframe\">\n",
       "  <thead>\n",
       "    <tr style=\"text-align: right;\">\n",
       "      <th></th>\n",
       "      <th>genre</th>\n",
       "      <th>jp_sales</th>\n",
       "    </tr>\n",
       "  </thead>\n",
       "  <tbody>\n",
       "    <tr>\n",
       "      <th>0</th>\n",
       "      <td>Role-Playing</td>\n",
       "      <td>59.12</td>\n",
       "    </tr>\n",
       "    <tr>\n",
       "      <th>1</th>\n",
       "      <td>Action</td>\n",
       "      <td>49.18</td>\n",
       "    </tr>\n",
       "    <tr>\n",
       "      <th>2</th>\n",
       "      <td>Misc</td>\n",
       "      <td>12.45</td>\n",
       "    </tr>\n",
       "    <tr>\n",
       "      <th>3</th>\n",
       "      <td>Simulation</td>\n",
       "      <td>10.35</td>\n",
       "    </tr>\n",
       "    <tr>\n",
       "      <th>4</th>\n",
       "      <td>Shooter</td>\n",
       "      <td>9.23</td>\n",
       "    </tr>\n",
       "  </tbody>\n",
       "</table>\n",
       "</div>"
      ],
      "text/plain": [
       "          genre  jp_sales\n",
       "0  Role-Playing     59.12\n",
       "1        Action     49.18\n",
       "2          Misc     12.45\n",
       "3    Simulation     10.35\n",
       "4       Shooter      9.23"
      ]
     },
     "metadata": {},
     "output_type": "display_data"
    },
    {
     "data": {
      "text/html": [
       "<div>\n",
       "<style scoped>\n",
       "    .dataframe tbody tr th:only-of-type {\n",
       "        vertical-align: middle;\n",
       "    }\n",
       "\n",
       "    .dataframe tbody tr th {\n",
       "        vertical-align: top;\n",
       "    }\n",
       "\n",
       "    .dataframe thead th {\n",
       "        text-align: right;\n",
       "    }\n",
       "</style>\n",
       "<table border=\"1\" class=\"dataframe\">\n",
       "  <thead>\n",
       "    <tr style=\"text-align: right;\">\n",
       "      <th></th>\n",
       "      <th>genre</th>\n",
       "      <th>other_sales</th>\n",
       "    </tr>\n",
       "  </thead>\n",
       "  <tbody>\n",
       "    <tr>\n",
       "      <th>0</th>\n",
       "      <td>Action</td>\n",
       "      <td>50.93</td>\n",
       "    </tr>\n",
       "    <tr>\n",
       "      <th>1</th>\n",
       "      <td>Shooter</td>\n",
       "      <td>37.26</td>\n",
       "    </tr>\n",
       "    <tr>\n",
       "      <th>2</th>\n",
       "      <td>Sports</td>\n",
       "      <td>22.35</td>\n",
       "    </tr>\n",
       "    <tr>\n",
       "      <th>3</th>\n",
       "      <td>Role-Playing</td>\n",
       "      <td>14.38</td>\n",
       "    </tr>\n",
       "    <tr>\n",
       "      <th>4</th>\n",
       "      <td>Misc</td>\n",
       "      <td>7.62</td>\n",
       "    </tr>\n",
       "  </tbody>\n",
       "</table>\n",
       "</div>"
      ],
      "text/plain": [
       "          genre  other_sales\n",
       "0        Action        50.93\n",
       "1       Shooter        37.26\n",
       "2        Sports        22.35\n",
       "3  Role-Playing        14.38\n",
       "4          Misc         7.62"
      ]
     },
     "metadata": {},
     "output_type": "display_data"
    },
    {
     "name": "stdout",
     "output_type": "stream",
     "text": [
      "\n",
      "Продажи по рейтингу:\n"
     ]
    },
    {
     "data": {
      "image/png": "[encoded data removed]",
      "text/plain": [
       "<Figure size 1296x1296 with 4 Axes>"
      ]
     },
     "metadata": {},
     "output_type": "display_data"
    },
    {
     "data": {
      "text/html": [
       "<div>\n",
       "<style scoped>\n",
       "    .dataframe tbody tr th:only-of-type {\n",
       "        vertical-align: middle;\n",
       "    }\n",
       "\n",
       "    .dataframe tbody tr th {\n",
       "        vertical-align: top;\n",
       "    }\n",
       "\n",
       "    .dataframe thead th {\n",
       "        text-align: right;\n",
       "    }\n",
       "</style>\n",
       "<table border=\"1\" class=\"dataframe\">\n",
       "  <thead>\n",
       "    <tr style=\"text-align: right;\">\n",
       "      <th></th>\n",
       "      <th>rating</th>\n",
       "      <th>na_sales</th>\n",
       "    </tr>\n",
       "  </thead>\n",
       "  <tbody>\n",
       "    <tr>\n",
       "      <th>0</th>\n",
       "      <td>M</td>\n",
       "      <td>231.57</td>\n",
       "    </tr>\n",
       "    <tr>\n",
       "      <th>1</th>\n",
       "      <td>E</td>\n",
       "      <td>113.44</td>\n",
       "    </tr>\n",
       "    <tr>\n",
       "      <th>2</th>\n",
       "      <td>RP</td>\n",
       "      <td>100.13</td>\n",
       "    </tr>\n",
       "    <tr>\n",
       "      <th>3</th>\n",
       "      <td>E10+</td>\n",
       "      <td>75.09</td>\n",
       "    </tr>\n",
       "    <tr>\n",
       "      <th>4</th>\n",
       "      <td>T</td>\n",
       "      <td>66.02</td>\n",
       "    </tr>\n",
       "  </tbody>\n",
       "</table>\n",
       "</div>"
      ],
      "text/plain": [
       "  rating  na_sales\n",
       "0      M    231.57\n",
       "1      E    113.44\n",
       "2     RP    100.13\n",
       "3   E10+     75.09\n",
       "4      T     66.02"
      ]
     },
     "metadata": {},
     "output_type": "display_data"
    },
    {
     "data": {
      "text/html": [
       "<div>\n",
       "<style scoped>\n",
       "    .dataframe tbody tr th:only-of-type {\n",
       "        vertical-align: middle;\n",
       "    }\n",
       "\n",
       "    .dataframe tbody tr th {\n",
       "        vertical-align: top;\n",
       "    }\n",
       "\n",
       "    .dataframe thead th {\n",
       "        text-align: right;\n",
       "    }\n",
       "</style>\n",
       "<table border=\"1\" class=\"dataframe\">\n",
       "  <thead>\n",
       "    <tr style=\"text-align: right;\">\n",
       "      <th></th>\n",
       "      <th>rating</th>\n",
       "      <th>eu_sales</th>\n",
       "    </tr>\n",
       "  </thead>\n",
       "  <tbody>\n",
       "    <tr>\n",
       "      <th>0</th>\n",
       "      <td>M</td>\n",
       "      <td>193.96</td>\n",
       "    </tr>\n",
       "    <tr>\n",
       "      <th>1</th>\n",
       "      <td>E</td>\n",
       "      <td>111.79</td>\n",
       "    </tr>\n",
       "    <tr>\n",
       "      <th>2</th>\n",
       "      <td>RP</td>\n",
       "      <td>89.32</td>\n",
       "    </tr>\n",
       "    <tr>\n",
       "      <th>3</th>\n",
       "      <td>E10+</td>\n",
       "      <td>54.84</td>\n",
       "    </tr>\n",
       "    <tr>\n",
       "      <th>4</th>\n",
       "      <td>T</td>\n",
       "      <td>52.96</td>\n",
       "    </tr>\n",
       "  </tbody>\n",
       "</table>\n",
       "</div>"
      ],
      "text/plain": [
       "  rating  eu_sales\n",
       "0      M    193.96\n",
       "1      E    111.79\n",
       "2     RP     89.32\n",
       "3   E10+     54.84\n",
       "4      T     52.96"
      ]
     },
     "metadata": {},
     "output_type": "display_data"
    },
    {
     "data": {
      "text/html": [
       "<div>\n",
       "<style scoped>\n",
       "    .dataframe tbody tr th:only-of-type {\n",
       "        vertical-align: middle;\n",
       "    }\n",
       "\n",
       "    .dataframe tbody tr th {\n",
       "        vertical-align: top;\n",
       "    }\n",
       "\n",
       "    .dataframe thead th {\n",
       "        text-align: right;\n",
       "    }\n",
       "</style>\n",
       "<table border=\"1\" class=\"dataframe\">\n",
       "  <thead>\n",
       "    <tr style=\"text-align: right;\">\n",
       "      <th></th>\n",
       "      <th>rating</th>\n",
       "      <th>jp_sales</th>\n",
       "    </tr>\n",
       "  </thead>\n",
       "  <tbody>\n",
       "    <tr>\n",
       "      <th>0</th>\n",
       "      <td>RP</td>\n",
       "      <td>95.62</td>\n",
       "    </tr>\n",
       "    <tr>\n",
       "      <th>1</th>\n",
       "      <td>E</td>\n",
       "      <td>27.62</td>\n",
       "    </tr>\n",
       "    <tr>\n",
       "      <th>2</th>\n",
       "      <td>T</td>\n",
       "      <td>25.76</td>\n",
       "    </tr>\n",
       "    <tr>\n",
       "      <th>3</th>\n",
       "      <td>M</td>\n",
       "      <td>21.20</td>\n",
       "    </tr>\n",
       "    <tr>\n",
       "      <th>4</th>\n",
       "      <td>E10+</td>\n",
       "      <td>8.19</td>\n",
       "    </tr>\n",
       "  </tbody>\n",
       "</table>\n",
       "</div>"
      ],
      "text/plain": [
       "  rating  jp_sales\n",
       "0     RP     95.62\n",
       "1      E     27.62\n",
       "2      T     25.76\n",
       "3      M     21.20\n",
       "4   E10+      8.19"
      ]
     },
     "metadata": {},
     "output_type": "display_data"
    },
    {
     "data": {
      "text/html": [
       "<div>\n",
       "<style scoped>\n",
       "    .dataframe tbody tr th:only-of-type {\n",
       "        vertical-align: middle;\n",
       "    }\n",
       "\n",
       "    .dataframe tbody tr th {\n",
       "        vertical-align: top;\n",
       "    }\n",
       "\n",
       "    .dataframe thead th {\n",
       "        text-align: right;\n",
       "    }\n",
       "</style>\n",
       "<table border=\"1\" class=\"dataframe\">\n",
       "  <thead>\n",
       "    <tr style=\"text-align: right;\">\n",
       "      <th></th>\n",
       "      <th>rating</th>\n",
       "      <th>other_sales</th>\n",
       "    </tr>\n",
       "  </thead>\n",
       "  <tbody>\n",
       "    <tr>\n",
       "      <th>0</th>\n",
       "      <td>M</td>\n",
       "      <td>63.38</td>\n",
       "    </tr>\n",
       "    <tr>\n",
       "      <th>1</th>\n",
       "      <td>E</td>\n",
       "      <td>31.13</td>\n",
       "    </tr>\n",
       "    <tr>\n",
       "      <th>2</th>\n",
       "      <td>RP</td>\n",
       "      <td>26.70</td>\n",
       "    </tr>\n",
       "    <tr>\n",
       "      <th>3</th>\n",
       "      <td>T</td>\n",
       "      <td>17.94</td>\n",
       "    </tr>\n",
       "    <tr>\n",
       "      <th>4</th>\n",
       "      <td>E10+</td>\n",
       "      <td>16.13</td>\n",
       "    </tr>\n",
       "  </tbody>\n",
       "</table>\n",
       "</div>"
      ],
      "text/plain": [
       "  rating  other_sales\n",
       "0      M        63.38\n",
       "1      E        31.13\n",
       "2     RP        26.70\n",
       "3      T        17.94\n",
       "4   E10+        16.13"
      ]
     },
     "metadata": {},
     "output_type": "display_data"
    }
   ],
   "source": [
    "print(f'\\nПопулярные платформы:')\n",
    "pie(df_since_2012, 'platform')\n",
    "plt.show()        \n",
    "for i in range(4):\n",
    "    display(df_since_2012.groupby('platform')[regions[i]].sum().sort_values(ascending=False).head(5).reset_index())\n",
    "\n",
    "print(f'\\nПопулярные жанры:')\n",
    "pie(df_since_2012, 'genre')\n",
    "plt.show()        \n",
    "for i in range(4):\n",
    "    display(df_since_2012.groupby('genre')[regions[i]].sum().sort_values(ascending=False).head(5).reset_index())\n",
    "    \n",
    "print(f'\\nПродажи по рейтингу:')\n",
    "pie(df_since_2012, 'rating')\n",
    "plt.show()        \n",
    "for i in range(4):\n",
    "    display(df_since_2012.groupby('rating')[regions[i]].sum().sort_values(ascending=False).head(5).reset_index())"
   ]
  },
  {
   "cell_type": "markdown",
   "metadata": {},
   "source": [
    "### Вывод  \n",
    "  \n",
    "Определил топ-5 платформ и жанров по регионам.  \n",
    "* Платформы - рейтинг в Европе и других странах не отличается. Лидирует PS 4я и 3я, затем Microsoft X360 и XOne, замыкает Nintendo 3DS.    \n",
    "В Северной Америке топ-5 такой-же, с другим порядком. *X360, PS 4я и 3я, XOne, 3DS.*  \n",
    "Выбор японцев отличяается. *3DS, PS3, PSV, PS4, WiiU.*  \n",
    "* Жанры - Северная Америка и другие страны солидарны в своем выборе. *Action, Shooter, Sports, Role-Playing, Misc.*  \n",
    "Европейци первые 4 позиции такие же, на пятое место вышел жанр *Racing*  \n",
    "В жанрах Япония так же не похожа на остальных. *Role-Playing, Action, Misc, Simulation, Shooter*  \n",
    "\n",
    "Провести анализ по ESRB проблематично. Слишком много игр с неопределенным рейтингом. Такие игры занимают 3-е места в рейтинге продаж, а в Японии 1-е.  \n",
    "Что точно можно сказать, игры с рейтингом M (для взрослых) лидируют везде кроме Японии. И с рейтингом E (для всех) так же имеют высокую популярность."
   ]
  },
  {
   "cell_type": "markdown",
   "metadata": {},
   "source": []
  },
  {
   "cell_type": "markdown",
   "metadata": {},
   "source": [
    "## Шаг 5. Проверка гипотез"
   ]
  },
  {
   "cell_type": "markdown",
   "metadata": {},
   "source": [
    "**Гипотеза 1**  \n",
    "H0: Средние пользовательские рейтинги платформ Xbox One и PC одинаковые  \n",
    "H1: Средние пользовательские рейтинги платформ Xbox One и PC разные"
   ]
  },
  {
   "cell_type": "code",
   "execution_count": 41,
   "metadata": {},
   "outputs": [
    {
     "name": "stdout",
     "output_type": "stream",
     "text": [
      "p-значение: 0.5489537965134912\n",
      "Не получилось отвергнуть нулевую гипотезу\n"
     ]
    }
   ],
   "source": [
    "alpha = 0.05 # пороговое значение\n",
    "\n",
    "results = st.ttest_ind(\n",
    "    df_excl_tbd.query('platform == \"XOne\" and user_score.isna() == False').user_score, \n",
    "    df_excl_tbd.query('platform == \"PC\" and user_score.isna() == False').user_score, \n",
    "    equal_var = False) # тест\n",
    "\n",
    "print('p-значение:', results.pvalue) # уровень значимости\n",
    "\n",
    "# сравнение уровня значимости и порогового значения\n",
    "if results.pvalue < alpha:\n",
    "    print(\"Отвергаем нулевую гипотезу\")\n",
    "else:\n",
    "    print(\"Не получилось отвергнуть нулевую гипотезу\") "
   ]
  },
  {
   "cell_type": "markdown",
   "metadata": {},
   "source": [
    "**Гипотеза 2**  \n",
    "H0: Средние пользовательские рейтинги жанров Action и Sports одинаковые.  \n",
    "H1: Средние пользовательские рейтинги жанров Action и Sports разные."
   ]
  },
  {
   "cell_type": "code",
   "execution_count": 42,
   "metadata": {
    "scrolled": true
   },
   "outputs": [
    {
     "name": "stdout",
     "output_type": "stream",
     "text": [
      "p-значение: 2.0473472331775313e-10\n",
      "Отвергаем нулевую гипотезу\n"
     ]
    }
   ],
   "source": [
    "alpha = 0.05 # пороговое значение\n",
    "\n",
    "results = st.ttest_ind(\n",
    "    df_excl_tbd.query('genre == \"Action\" and user_score.isna() == False').user_score, \n",
    "    df_excl_tbd.query('genre == \"Sports\" and user_score.isna() == False').user_score, \n",
    "    equal_var = False) # тест\n",
    "\n",
    "print('p-значение:', results.pvalue) # уровень значимости\n",
    "\n",
    "# сравнение уровня значимости и порогового значения\n",
    "if results.pvalue < alpha:\n",
    "    print(\"Отвергаем нулевую гипотезу\")\n",
    "else:\n",
    "    print(\"Не получилось отвергнуть нулевую гипотезу\")"
   ]
  },
  {
   "cell_type": "markdown",
   "metadata": {},
   "source": [
    "### Вывод  \n",
    "  \n",
    "Нулевая гипотеза всегда формулируется так, чтобы использовать знак равенства.  \n",
    "Т.к. обе гипотезы являются двухсторонними и независимыми я выбрал метод st.ttest_ind для проверки о равенстве среднего двух генеральных совокупностей по взятым из них выборкам.  \n",
    "  \n",
    "Тест подтвердил гипотезу о равенстве средних пользовательских рейтингов платформ Xbox One и PC.  \n",
    "И отверг гипотезу о равенстве средних пользовательских рейтингах жанров Action и Sports."
   ]
  },
  {
   "cell_type": "markdown",
   "metadata": {},
   "source": [
    "## Шаг 6. Общий вывод"
   ]
  },
  {
   "cell_type": "markdown",
   "metadata": {},
   "source": [
    "Платформы для игр имеют срок жизни. В среднем 7-8 лет. Рост популярности и падение 3-4 года.  \n",
    "В 2016 году действующих платформ 9 видов. 6 домашних и 3 портативных.  \n",
    "Портативные платформы показывают стабильный спад выпуска игр и продаж. Возможно это связано с развитием Смартфоном и планшетов.  \n",
    "  \n",
    "Самые популяпные платформы производства Sony Playstation и Microsoft.  У них две самые свежие платформы 2013 года PS4 и XOne.  На этих платформах растет количество выпускаемых игр. в 2016 году выпущено много игр, но их потенциал (количество продаж) еше не реализован.  \n",
    "Поэтому мои рекомендации сосредоточится именно на PS4 и XOne.  \n",
    "  \n",
    "Так же стоит рассмотреть PC, не смотря на не самый высокие продажи игр. Персональные компьютеры и ноутбуки не теряют свою актуальность, не наблюдается спадов по выпуску и продажам игр.  \n",
    "  \n",
    "Исключением является Япония, у них остаются популярными портативные платформы 3DS и PSP. И не входит в топ-5 XOne.\n",
    "Возможно для Японии стоит продумать отденльную стратегию и рекламную компанию.  \n",
    "  \n",
    "Возможно стоит сделать отдельный акцент на жанре игр. Самые активные продажи у Action, Shooter, Sports. Их доля для PS4, XOne и PC составляет 0,73. Но Action поддерживает большие продажи за счет большого выпуска игр, и 2-3 игр которые выстрелили. По медиане Action лиш на 6 месте.  \n",
    "Это релевантно для всех регионов, кроме Японии. Role-Playing на первом месте, Sports не входит в топ-5, а Shooter всего лиш на 5-м.  \n",
    "Что подтверждает предложение об отдельной компании для Японии.  \n",
    "  \n",
    "\n",
    "Ответить на вопрос стоит ли ориентироваться на рейтинг ESRB, не представляется возможным. Слишком много игр без рейтинга (или не присвоин, или нет информации).  \n",
    "  \n",
    "Рейтинги игр не влияют на увеличение продаж. Можно сказать что если рейтинг высокий, то ее купят, но не факт что больше миллиона копий. Игры с миллионными продажами это скорее исключение - блокбастеры в мире игр.  \n",
    "Количество игр с продажами больше 1 млн. копий 15%. При этом они генерируют 71% продаж.\n",
    "\n",
    "  "
   ]
  }
 ],
 "metadata": {
  "ExecuteTimeLog": [
   {
    "duration": 1449,
    "start_time": "2022-06-13T06:57:11.256Z"
   },
   {
    "duration": 101,
    "start_time": "2022-06-13T06:59:40.203Z"
   },
   {
    "duration": 49,
    "start_time": "2022-06-13T06:59:53.082Z"
   },
   {
    "duration": 53,
    "start_time": "2022-06-13T07:00:57.145Z"
   },
   {
    "duration": 54,
    "start_time": "2022-06-13T07:00:57.904Z"
   },
   {
    "duration": 4,
    "start_time": "2022-06-13T07:07:04.254Z"
   },
   {
    "duration": 22,
    "start_time": "2022-06-13T07:07:08.683Z"
   },
   {
    "duration": 22,
    "start_time": "2022-06-13T07:12:58.146Z"
   },
   {
    "duration": 18,
    "start_time": "2022-06-13T07:19:37.600Z"
   },
   {
    "duration": 18,
    "start_time": "2022-06-13T07:19:45.920Z"
   },
   {
    "duration": 15,
    "start_time": "2022-06-13T07:20:09.520Z"
   },
   {
    "duration": 5,
    "start_time": "2022-06-13T07:20:48.309Z"
   },
   {
    "duration": 6,
    "start_time": "2022-06-13T07:21:12.948Z"
   },
   {
    "duration": 37,
    "start_time": "2022-06-13T07:24:17.523Z"
   },
   {
    "duration": 54,
    "start_time": "2022-06-13T07:24:23.915Z"
   },
   {
    "duration": 21,
    "start_time": "2022-06-13T07:24:48.562Z"
   },
   {
    "duration": 28,
    "start_time": "2022-06-13T07:28:09.907Z"
   },
   {
    "duration": 28,
    "start_time": "2022-06-13T07:28:15.429Z"
   },
   {
    "duration": 14,
    "start_time": "2022-06-13T07:29:03.060Z"
   },
   {
    "duration": 12,
    "start_time": "2022-06-13T07:29:37.207Z"
   },
   {
    "duration": 9,
    "start_time": "2022-06-13T07:32:20.783Z"
   },
   {
    "duration": 21,
    "start_time": "2022-06-13T07:32:58.286Z"
   },
   {
    "duration": 10,
    "start_time": "2022-06-13T07:33:04.586Z"
   },
   {
    "duration": 10,
    "start_time": "2022-06-13T07:33:59.211Z"
   },
   {
    "duration": 59,
    "start_time": "2022-06-13T08:08:34.165Z"
   },
   {
    "duration": 48,
    "start_time": "2022-06-13T08:08:34.338Z"
   },
   {
    "duration": 3,
    "start_time": "2022-06-13T08:08:35.503Z"
   },
   {
    "duration": 9,
    "start_time": "2022-06-13T08:08:35.784Z"
   },
   {
    "duration": 5,
    "start_time": "2022-06-13T08:08:36.177Z"
   },
   {
    "duration": 9,
    "start_time": "2022-06-13T08:08:36.817Z"
   },
   {
    "duration": 11,
    "start_time": "2022-06-13T08:13:01.255Z"
   },
   {
    "duration": 9,
    "start_time": "2022-06-13T08:13:10.885Z"
   },
   {
    "duration": 9,
    "start_time": "2022-06-13T08:13:24.784Z"
   },
   {
    "duration": 6,
    "start_time": "2022-06-13T08:13:31.343Z"
   },
   {
    "duration": 504,
    "start_time": "2022-06-13T08:14:14.390Z"
   },
   {
    "duration": 8,
    "start_time": "2022-06-13T08:14:24.061Z"
   },
   {
    "duration": 6,
    "start_time": "2022-06-13T08:14:36.315Z"
   },
   {
    "duration": 24,
    "start_time": "2022-06-13T08:14:49.576Z"
   },
   {
    "duration": 15,
    "start_time": "2022-06-13T08:15:59.095Z"
   },
   {
    "duration": 15,
    "start_time": "2022-06-13T08:16:19.889Z"
   },
   {
    "duration": 15,
    "start_time": "2022-06-13T08:16:51.065Z"
   },
   {
    "duration": 6,
    "start_time": "2022-06-13T08:17:59.726Z"
   },
   {
    "duration": 12,
    "start_time": "2022-06-13T08:18:57.848Z"
   },
   {
    "duration": 9,
    "start_time": "2022-06-13T08:19:07.415Z"
   },
   {
    "duration": 10,
    "start_time": "2022-06-13T08:19:50.810Z"
   },
   {
    "duration": 20,
    "start_time": "2022-06-13T08:20:15.185Z"
   },
   {
    "duration": 5,
    "start_time": "2022-06-13T08:21:47.241Z"
   },
   {
    "duration": 24,
    "start_time": "2022-06-13T08:24:01.898Z"
   },
   {
    "duration": 19,
    "start_time": "2022-06-13T08:25:40.781Z"
   },
   {
    "duration": 22,
    "start_time": "2022-06-13T08:26:25.646Z"
   },
   {
    "duration": 10,
    "start_time": "2022-06-13T08:26:43.820Z"
   },
   {
    "duration": 18,
    "start_time": "2022-06-13T08:27:12.238Z"
   },
   {
    "duration": 21,
    "start_time": "2022-06-13T08:27:49.043Z"
   },
   {
    "duration": 19,
    "start_time": "2022-06-13T08:28:03.621Z"
   },
   {
    "duration": 11,
    "start_time": "2022-06-13T08:29:55.192Z"
   },
   {
    "duration": 24,
    "start_time": "2022-06-13T08:31:26.205Z"
   },
   {
    "duration": 18,
    "start_time": "2022-06-13T08:31:44.998Z"
   },
   {
    "duration": 19,
    "start_time": "2022-06-13T08:31:55.258Z"
   },
   {
    "duration": 20,
    "start_time": "2022-06-13T08:32:05.299Z"
   },
   {
    "duration": 8,
    "start_time": "2022-06-13T08:35:41.248Z"
   },
   {
    "duration": 8,
    "start_time": "2022-06-13T08:35:55.981Z"
   },
   {
    "duration": 6,
    "start_time": "2022-06-13T08:36:26.539Z"
   },
   {
    "duration": 7,
    "start_time": "2022-06-13T08:36:35.785Z"
   },
   {
    "duration": 12,
    "start_time": "2022-06-13T08:38:56.874Z"
   },
   {
    "duration": 4,
    "start_time": "2022-06-13T08:39:56.758Z"
   },
   {
    "duration": 18,
    "start_time": "2022-06-13T08:40:55.289Z"
   },
   {
    "duration": 23,
    "start_time": "2022-06-13T08:42:54.732Z"
   },
   {
    "duration": 4,
    "start_time": "2022-06-13T08:49:22.893Z"
   },
   {
    "duration": 18,
    "start_time": "2022-06-13T08:49:31.741Z"
   },
   {
    "duration": 15,
    "start_time": "2022-06-13T08:49:49.780Z"
   },
   {
    "duration": 5,
    "start_time": "2022-06-13T08:50:01.469Z"
   },
   {
    "duration": 4,
    "start_time": "2022-06-13T08:50:04.294Z"
   },
   {
    "duration": 55,
    "start_time": "2022-06-13T08:50:10.334Z"
   },
   {
    "duration": 56,
    "start_time": "2022-06-13T08:50:10.566Z"
   },
   {
    "duration": 3,
    "start_time": "2022-06-13T08:50:11.393Z"
   },
   {
    "duration": 5,
    "start_time": "2022-06-13T08:50:11.652Z"
   },
   {
    "duration": 18,
    "start_time": "2022-06-13T08:50:11.894Z"
   },
   {
    "duration": 5,
    "start_time": "2022-06-13T08:50:12.178Z"
   },
   {
    "duration": 4,
    "start_time": "2022-06-13T08:50:35.782Z"
   },
   {
    "duration": 19,
    "start_time": "2022-06-13T08:50:41.407Z"
   },
   {
    "duration": 6,
    "start_time": "2022-06-13T08:51:11.828Z"
   },
   {
    "duration": 7,
    "start_time": "2022-06-13T09:03:39.351Z"
   },
   {
    "duration": 12,
    "start_time": "2022-06-13T09:03:59.782Z"
   },
   {
    "duration": 19,
    "start_time": "2022-06-13T09:04:53.142Z"
   },
   {
    "duration": 11,
    "start_time": "2022-06-13T09:06:22.828Z"
   },
   {
    "duration": 14,
    "start_time": "2022-06-13T09:06:50.668Z"
   },
   {
    "duration": 16,
    "start_time": "2022-06-13T09:08:31.489Z"
   },
   {
    "duration": 25,
    "start_time": "2022-06-13T09:09:15.564Z"
   },
   {
    "duration": 29,
    "start_time": "2022-06-13T09:09:28.421Z"
   },
   {
    "duration": 12,
    "start_time": "2022-06-13T09:09:36.535Z"
   },
   {
    "duration": 7,
    "start_time": "2022-06-13T09:09:47.710Z"
   },
   {
    "duration": 11,
    "start_time": "2022-06-13T09:09:50.377Z"
   },
   {
    "duration": 7,
    "start_time": "2022-06-13T09:10:14.083Z"
   },
   {
    "duration": 11,
    "start_time": "2022-06-13T09:10:17.187Z"
   },
   {
    "duration": 7,
    "start_time": "2022-06-13T09:10:38.237Z"
   },
   {
    "duration": 14,
    "start_time": "2022-06-13T09:10:39.646Z"
   },
   {
    "duration": 6,
    "start_time": "2022-06-13T09:10:54.661Z"
   },
   {
    "duration": 27,
    "start_time": "2022-06-13T09:10:55.968Z"
   },
   {
    "duration": 7,
    "start_time": "2022-06-13T09:11:10.407Z"
   },
   {
    "duration": 10,
    "start_time": "2022-06-13T09:11:11.790Z"
   },
   {
    "duration": 8,
    "start_time": "2022-06-13T09:11:26.859Z"
   },
   {
    "duration": 61,
    "start_time": "2022-06-13T09:11:32.674Z"
   },
   {
    "duration": 43,
    "start_time": "2022-06-13T09:11:32.997Z"
   },
   {
    "duration": 3,
    "start_time": "2022-06-13T09:11:33.918Z"
   },
   {
    "duration": 6,
    "start_time": "2022-06-13T09:11:34.153Z"
   },
   {
    "duration": 12,
    "start_time": "2022-06-13T09:11:34.441Z"
   },
   {
    "duration": 14,
    "start_time": "2022-06-13T09:11:35.146Z"
   },
   {
    "duration": 20,
    "start_time": "2022-06-13T09:11:36.924Z"
   },
   {
    "duration": 19,
    "start_time": "2022-06-13T09:11:37.584Z"
   },
   {
    "duration": 14,
    "start_time": "2022-06-13T09:12:11.589Z"
   },
   {
    "duration": 30,
    "start_time": "2022-06-13T09:12:25.715Z"
   },
   {
    "duration": 20,
    "start_time": "2022-06-13T09:12:48.063Z"
   },
   {
    "duration": 14,
    "start_time": "2022-06-13T09:13:25.559Z"
   },
   {
    "duration": 1095,
    "start_time": "2022-06-13T09:13:41.482Z"
   },
   {
    "duration": 46,
    "start_time": "2022-06-13T09:13:42.579Z"
   },
   {
    "duration": 123,
    "start_time": "2022-06-13T09:13:42.626Z"
   },
   {
    "duration": 0,
    "start_time": "2022-06-13T09:13:42.751Z"
   },
   {
    "duration": 0,
    "start_time": "2022-06-13T09:13:42.752Z"
   },
   {
    "duration": 0,
    "start_time": "2022-06-13T09:13:42.753Z"
   },
   {
    "duration": 0,
    "start_time": "2022-06-13T09:13:42.753Z"
   },
   {
    "duration": 0,
    "start_time": "2022-06-13T09:13:42.755Z"
   },
   {
    "duration": 0,
    "start_time": "2022-06-13T09:13:42.756Z"
   },
   {
    "duration": 1,
    "start_time": "2022-06-13T09:13:42.756Z"
   },
   {
    "duration": 27,
    "start_time": "2022-06-13T09:14:21.630Z"
   },
   {
    "duration": 41,
    "start_time": "2022-06-13T09:14:26.539Z"
   },
   {
    "duration": 3,
    "start_time": "2022-06-13T09:14:29.168Z"
   },
   {
    "duration": 19,
    "start_time": "2022-06-13T09:14:29.944Z"
   },
   {
    "duration": 5,
    "start_time": "2022-06-13T09:15:16.708Z"
   },
   {
    "duration": 13,
    "start_time": "2022-06-13T09:15:17.274Z"
   },
   {
    "duration": 417,
    "start_time": "2022-06-13T09:16:32.815Z"
   },
   {
    "duration": 7,
    "start_time": "2022-06-13T09:16:58.772Z"
   },
   {
    "duration": 7,
    "start_time": "2022-06-13T09:18:37.312Z"
   },
   {
    "duration": 17,
    "start_time": "2022-06-13T09:18:45.236Z"
   },
   {
    "duration": 17,
    "start_time": "2022-06-13T09:19:53.638Z"
   },
   {
    "duration": 15,
    "start_time": "2022-06-13T09:21:52.692Z"
   },
   {
    "duration": 10,
    "start_time": "2022-06-13T09:22:14.285Z"
   },
   {
    "duration": 20,
    "start_time": "2022-06-13T09:22:15.596Z"
   },
   {
    "duration": 16,
    "start_time": "2022-06-13T09:22:43.836Z"
   },
   {
    "duration": 50,
    "start_time": "2022-06-13T09:23:07.576Z"
   },
   {
    "duration": 43,
    "start_time": "2022-06-13T09:23:07.842Z"
   },
   {
    "duration": 2,
    "start_time": "2022-06-13T09:23:08.912Z"
   },
   {
    "duration": 5,
    "start_time": "2022-06-13T09:23:09.187Z"
   },
   {
    "duration": 8,
    "start_time": "2022-06-13T09:23:09.474Z"
   },
   {
    "duration": 26,
    "start_time": "2022-06-13T09:23:10.014Z"
   },
   {
    "duration": 12,
    "start_time": "2022-06-13T09:23:15.042Z"
   },
   {
    "duration": 9,
    "start_time": "2022-06-13T09:23:48.235Z"
   },
   {
    "duration": 14,
    "start_time": "2022-06-13T09:23:50.242Z"
   },
   {
    "duration": 8,
    "start_time": "2022-06-13T09:24:06.285Z"
   },
   {
    "duration": 13,
    "start_time": "2022-06-13T09:24:08.074Z"
   },
   {
    "duration": 13,
    "start_time": "2022-06-13T09:24:21.226Z"
   },
   {
    "duration": 13,
    "start_time": "2022-06-13T09:24:21.774Z"
   },
   {
    "duration": 10,
    "start_time": "2022-06-13T09:24:35.045Z"
   },
   {
    "duration": 5,
    "start_time": "2022-06-13T09:29:15.401Z"
   },
   {
    "duration": 7,
    "start_time": "2022-06-13T09:29:52.132Z"
   },
   {
    "duration": 6,
    "start_time": "2022-06-13T09:30:06.926Z"
   },
   {
    "duration": 1090,
    "start_time": "2022-06-13T09:30:48.173Z"
   },
   {
    "duration": 45,
    "start_time": "2022-06-13T09:30:49.265Z"
   },
   {
    "duration": 21,
    "start_time": "2022-06-13T09:30:49.312Z"
   },
   {
    "duration": 10,
    "start_time": "2022-06-13T09:30:49.338Z"
   },
   {
    "duration": 13,
    "start_time": "2022-06-13T09:30:49.350Z"
   },
   {
    "duration": 5,
    "start_time": "2022-06-13T09:30:49.364Z"
   },
   {
    "duration": 11,
    "start_time": "2022-06-13T09:30:49.370Z"
   },
   {
    "duration": 2,
    "start_time": "2022-06-13T09:30:49.382Z"
   },
   {
    "duration": 10,
    "start_time": "2022-06-13T09:30:49.386Z"
   },
   {
    "duration": 2,
    "start_time": "2022-06-13T09:30:49.398Z"
   },
   {
    "duration": 5,
    "start_time": "2022-06-13T09:31:01.493Z"
   },
   {
    "duration": 7,
    "start_time": "2022-06-13T09:31:33.781Z"
   },
   {
    "duration": 9,
    "start_time": "2022-06-13T09:31:44.639Z"
   },
   {
    "duration": 8,
    "start_time": "2022-06-13T09:32:01.272Z"
   },
   {
    "duration": 7,
    "start_time": "2022-06-13T09:34:37.736Z"
   },
   {
    "duration": 19,
    "start_time": "2022-06-13T09:34:37.745Z"
   },
   {
    "duration": 1389,
    "start_time": "2022-06-13T09:34:47.271Z"
   },
   {
    "duration": 47,
    "start_time": "2022-06-13T09:34:48.662Z"
   },
   {
    "duration": 3,
    "start_time": "2022-06-13T09:34:48.710Z"
   },
   {
    "duration": 5,
    "start_time": "2022-06-13T09:34:48.728Z"
   },
   {
    "duration": 31,
    "start_time": "2022-06-13T09:34:48.734Z"
   },
   {
    "duration": 14,
    "start_time": "2022-06-13T09:34:48.766Z"
   },
   {
    "duration": 23,
    "start_time": "2022-06-13T09:34:48.782Z"
   },
   {
    "duration": 34,
    "start_time": "2022-06-13T09:34:48.807Z"
   },
   {
    "duration": 23,
    "start_time": "2022-06-13T09:34:48.842Z"
   },
   {
    "duration": 20,
    "start_time": "2022-06-13T09:34:48.866Z"
   },
   {
    "duration": 7,
    "start_time": "2022-06-13T09:35:19.355Z"
   },
   {
    "duration": 4,
    "start_time": "2022-06-13T09:35:42.211Z"
   },
   {
    "duration": 8,
    "start_time": "2022-06-13T09:35:44.412Z"
   },
   {
    "duration": 89,
    "start_time": "2022-06-13T09:37:13.611Z"
   },
   {
    "duration": 22,
    "start_time": "2022-06-13T09:37:22.566Z"
   },
   {
    "duration": 15,
    "start_time": "2022-06-13T09:38:57.715Z"
   },
   {
    "duration": 6,
    "start_time": "2022-06-13T09:39:18.900Z"
   },
   {
    "duration": 7,
    "start_time": "2022-06-13T09:39:36.718Z"
   },
   {
    "duration": 12,
    "start_time": "2022-06-13T09:40:22.960Z"
   },
   {
    "duration": 5,
    "start_time": "2022-06-13T09:40:40.947Z"
   },
   {
    "duration": 7,
    "start_time": "2022-06-13T09:40:44.248Z"
   },
   {
    "duration": 5,
    "start_time": "2022-06-13T09:40:44.573Z"
   },
   {
    "duration": 10,
    "start_time": "2022-06-13T09:40:45.416Z"
   },
   {
    "duration": 5,
    "start_time": "2022-06-13T09:41:05.714Z"
   },
   {
    "duration": 12,
    "start_time": "2022-06-13T09:45:48.232Z"
   },
   {
    "duration": 4,
    "start_time": "2022-06-13T09:45:56.863Z"
   },
   {
    "duration": 3,
    "start_time": "2022-06-13T09:46:05.190Z"
   },
   {
    "duration": 82,
    "start_time": "2022-06-13T09:47:08.009Z"
   },
   {
    "duration": 55,
    "start_time": "2022-06-13T09:47:08.252Z"
   },
   {
    "duration": 3,
    "start_time": "2022-06-13T09:47:08.980Z"
   },
   {
    "duration": 6,
    "start_time": "2022-06-13T09:47:09.258Z"
   },
   {
    "duration": 8,
    "start_time": "2022-06-13T09:47:09.766Z"
   },
   {
    "duration": 42,
    "start_time": "2022-06-13T09:47:09.793Z"
   },
   {
    "duration": 20,
    "start_time": "2022-06-13T09:47:09.837Z"
   },
   {
    "duration": 28,
    "start_time": "2022-06-13T09:47:09.859Z"
   },
   {
    "duration": 3,
    "start_time": "2022-06-13T09:47:09.943Z"
   },
   {
    "duration": 29,
    "start_time": "2022-06-13T09:47:09.948Z"
   },
   {
    "duration": 23,
    "start_time": "2022-06-13T09:47:09.979Z"
   },
   {
    "duration": 21,
    "start_time": "2022-06-13T09:47:18.224Z"
   },
   {
    "duration": 1219,
    "start_time": "2022-06-13T09:47:27.209Z"
   },
   {
    "duration": 62,
    "start_time": "2022-06-13T09:47:28.431Z"
   },
   {
    "duration": 3,
    "start_time": "2022-06-13T09:47:28.495Z"
   },
   {
    "duration": 33,
    "start_time": "2022-06-13T09:47:28.500Z"
   },
   {
    "duration": 12,
    "start_time": "2022-06-13T09:47:28.535Z"
   },
   {
    "duration": 10,
    "start_time": "2022-06-13T09:47:28.551Z"
   },
   {
    "duration": 14,
    "start_time": "2022-06-13T09:47:28.562Z"
   },
   {
    "duration": 5,
    "start_time": "2022-06-13T09:47:28.578Z"
   },
   {
    "duration": 126,
    "start_time": "2022-06-13T09:47:28.584Z"
   },
   {
    "duration": 0,
    "start_time": "2022-06-13T09:47:28.711Z"
   },
   {
    "duration": 0,
    "start_time": "2022-06-13T09:47:28.712Z"
   },
   {
    "duration": 7,
    "start_time": "2022-06-13T09:47:45.307Z"
   },
   {
    "duration": 13,
    "start_time": "2022-06-13T10:00:12.539Z"
   },
   {
    "duration": 4,
    "start_time": "2022-06-13T10:00:59.757Z"
   },
   {
    "duration": 7,
    "start_time": "2022-06-13T10:01:10.477Z"
   },
   {
    "duration": 9,
    "start_time": "2022-06-13T10:01:28.534Z"
   },
   {
    "duration": 8,
    "start_time": "2022-06-13T10:01:33.780Z"
   },
   {
    "duration": 9,
    "start_time": "2022-06-13T10:02:39.465Z"
   },
   {
    "duration": 19,
    "start_time": "2022-06-13T10:03:09.174Z"
   },
   {
    "duration": 10,
    "start_time": "2022-06-13T10:03:51.789Z"
   },
   {
    "duration": 8,
    "start_time": "2022-06-13T10:04:07.629Z"
   },
   {
    "duration": 7,
    "start_time": "2022-06-13T10:04:52.974Z"
   },
   {
    "duration": 144,
    "start_time": "2022-06-13T10:05:25.729Z"
   },
   {
    "duration": 134,
    "start_time": "2022-06-13T10:06:10.591Z"
   },
   {
    "duration": 125,
    "start_time": "2022-06-13T10:06:22.088Z"
   },
   {
    "duration": 42,
    "start_time": "2022-06-13T10:11:00.067Z"
   },
   {
    "duration": 8,
    "start_time": "2022-06-13T10:12:12.101Z"
   },
   {
    "duration": 4,
    "start_time": "2022-06-13T10:12:34.289Z"
   },
   {
    "duration": 289,
    "start_time": "2022-06-13T10:12:57.629Z"
   },
   {
    "duration": 268,
    "start_time": "2022-06-13T10:14:25.826Z"
   },
   {
    "duration": 312,
    "start_time": "2022-06-13T10:15:13.435Z"
   },
   {
    "duration": 67,
    "start_time": "2022-06-13T10:15:59.013Z"
   },
   {
    "duration": 298,
    "start_time": "2022-06-13T10:16:08.555Z"
   },
   {
    "duration": 416,
    "start_time": "2022-06-13T10:17:32.693Z"
   },
   {
    "duration": 38,
    "start_time": "2022-06-13T10:19:03.308Z"
   },
   {
    "duration": 25,
    "start_time": "2022-06-13T10:19:12.092Z"
   },
   {
    "duration": 22,
    "start_time": "2022-06-13T10:19:34.555Z"
   },
   {
    "duration": 23,
    "start_time": "2022-06-13T10:20:08.136Z"
   },
   {
    "duration": 1128,
    "start_time": "2022-06-13T10:22:43.759Z"
   },
   {
    "duration": 49,
    "start_time": "2022-06-13T10:22:44.889Z"
   },
   {
    "duration": 2,
    "start_time": "2022-06-13T10:22:44.940Z"
   },
   {
    "duration": 7,
    "start_time": "2022-06-13T10:22:44.944Z"
   },
   {
    "duration": 8,
    "start_time": "2022-06-13T10:22:44.952Z"
   },
   {
    "duration": 3,
    "start_time": "2022-06-13T10:22:44.961Z"
   },
   {
    "duration": 5,
    "start_time": "2022-06-13T10:22:44.965Z"
   },
   {
    "duration": 14,
    "start_time": "2022-06-13T10:22:44.972Z"
   },
   {
    "duration": 5,
    "start_time": "2022-06-13T10:22:44.988Z"
   },
   {
    "duration": 160,
    "start_time": "2022-06-13T10:22:44.995Z"
   },
   {
    "duration": 409,
    "start_time": "2022-06-13T10:22:45.157Z"
   },
   {
    "duration": 23,
    "start_time": "2022-06-13T10:22:45.568Z"
   },
   {
    "duration": 9,
    "start_time": "2022-06-13T10:23:17.959Z"
   },
   {
    "duration": 7,
    "start_time": "2022-06-13T10:23:32.135Z"
   },
   {
    "duration": 9,
    "start_time": "2022-06-13T10:23:33.657Z"
   },
   {
    "duration": 14,
    "start_time": "2022-06-13T10:23:47.689Z"
   },
   {
    "duration": 99,
    "start_time": "2022-06-13T10:25:40.069Z"
   },
   {
    "duration": 13,
    "start_time": "2022-06-13T10:25:50.068Z"
   },
   {
    "duration": 497,
    "start_time": "2022-06-13T10:49:07.891Z"
   },
   {
    "duration": 8,
    "start_time": "2022-06-13T10:55:38.580Z"
   },
   {
    "duration": 6,
    "start_time": "2022-06-13T10:56:20.925Z"
   },
   {
    "duration": 124,
    "start_time": "2022-06-13T10:56:44.526Z"
   },
   {
    "duration": 131,
    "start_time": "2022-06-13T10:57:32.882Z"
   },
   {
    "duration": 155,
    "start_time": "2022-06-13T10:57:45.273Z"
   },
   {
    "duration": 7,
    "start_time": "2022-06-13T10:59:12.607Z"
   },
   {
    "duration": 8,
    "start_time": "2022-06-13T11:00:43.742Z"
   },
   {
    "duration": 8,
    "start_time": "2022-06-13T11:02:53.202Z"
   },
   {
    "duration": 9,
    "start_time": "2022-06-13T11:03:03.959Z"
   },
   {
    "duration": 8,
    "start_time": "2022-06-13T11:03:28.731Z"
   },
   {
    "duration": 15,
    "start_time": "2022-06-13T11:03:36.400Z"
   },
   {
    "duration": 15,
    "start_time": "2022-06-13T11:05:26.431Z"
   },
   {
    "duration": 14,
    "start_time": "2022-06-13T11:05:45.418Z"
   },
   {
    "duration": 15,
    "start_time": "2022-06-13T11:10:04.238Z"
   },
   {
    "duration": 14,
    "start_time": "2022-06-13T11:11:09.004Z"
   },
   {
    "duration": 7,
    "start_time": "2022-06-13T11:11:21.485Z"
   },
   {
    "duration": 5,
    "start_time": "2022-06-13T11:13:08.073Z"
   },
   {
    "duration": 6,
    "start_time": "2022-06-13T11:13:11.907Z"
   },
   {
    "duration": 10,
    "start_time": "2022-06-13T11:13:22.645Z"
   },
   {
    "duration": 6,
    "start_time": "2022-06-13T11:13:56.348Z"
   },
   {
    "duration": 82,
    "start_time": "2022-06-13T11:14:38.729Z"
   },
   {
    "duration": 25,
    "start_time": "2022-06-13T11:15:11.117Z"
   },
   {
    "duration": 10,
    "start_time": "2022-06-13T11:16:34.558Z"
   },
   {
    "duration": 10,
    "start_time": "2022-06-13T11:20:51.518Z"
   },
   {
    "duration": 10,
    "start_time": "2022-06-13T11:21:39.516Z"
   },
   {
    "duration": 9,
    "start_time": "2022-06-13T11:21:45.097Z"
   },
   {
    "duration": 8,
    "start_time": "2022-06-13T11:22:21.087Z"
   },
   {
    "duration": 10,
    "start_time": "2022-06-13T11:26:07.499Z"
   },
   {
    "duration": 9,
    "start_time": "2022-06-13T11:26:34.467Z"
   },
   {
    "duration": 29,
    "start_time": "2022-06-13T11:28:43.645Z"
   },
   {
    "duration": 24,
    "start_time": "2022-06-13T11:29:00.082Z"
   },
   {
    "duration": 12,
    "start_time": "2022-06-13T11:29:14.776Z"
   },
   {
    "duration": 29,
    "start_time": "2022-06-13T11:29:16.830Z"
   },
   {
    "duration": 5,
    "start_time": "2022-06-13T11:29:25.337Z"
   },
   {
    "duration": 11,
    "start_time": "2022-06-13T11:29:59.797Z"
   },
   {
    "duration": 11,
    "start_time": "2022-06-13T11:30:12.321Z"
   },
   {
    "duration": 5,
    "start_time": "2022-06-13T11:30:14.717Z"
   },
   {
    "duration": 4,
    "start_time": "2022-06-13T11:30:18.484Z"
   },
   {
    "duration": 6,
    "start_time": "2022-06-13T11:30:40.163Z"
   },
   {
    "duration": 37,
    "start_time": "2022-06-13T11:30:40.655Z"
   },
   {
    "duration": 1061,
    "start_time": "2022-06-13T11:30:52.079Z"
   },
   {
    "duration": 44,
    "start_time": "2022-06-13T11:30:53.141Z"
   },
   {
    "duration": 3,
    "start_time": "2022-06-13T11:30:53.186Z"
   },
   {
    "duration": 10,
    "start_time": "2022-06-13T11:30:53.190Z"
   },
   {
    "duration": 6,
    "start_time": "2022-06-13T11:30:53.202Z"
   },
   {
    "duration": 27,
    "start_time": "2022-06-13T11:30:53.209Z"
   },
   {
    "duration": 121,
    "start_time": "2022-06-13T11:30:53.238Z"
   },
   {
    "duration": 0,
    "start_time": "2022-06-13T11:30:53.361Z"
   },
   {
    "duration": 0,
    "start_time": "2022-06-13T11:30:53.363Z"
   },
   {
    "duration": 0,
    "start_time": "2022-06-13T11:30:53.364Z"
   },
   {
    "duration": 0,
    "start_time": "2022-06-13T11:30:53.365Z"
   },
   {
    "duration": 0,
    "start_time": "2022-06-13T11:30:53.367Z"
   },
   {
    "duration": 0,
    "start_time": "2022-06-13T11:30:53.368Z"
   },
   {
    "duration": 0,
    "start_time": "2022-06-13T11:30:53.370Z"
   },
   {
    "duration": 0,
    "start_time": "2022-06-13T11:30:53.371Z"
   },
   {
    "duration": 20,
    "start_time": "2022-06-13T11:31:18.434Z"
   },
   {
    "duration": 173,
    "start_time": "2022-06-13T11:31:19.168Z"
   },
   {
    "duration": 15,
    "start_time": "2022-06-13T11:31:19.924Z"
   },
   {
    "duration": 8,
    "start_time": "2022-06-13T11:31:36.923Z"
   },
   {
    "duration": 26,
    "start_time": "2022-06-13T11:31:38.386Z"
   },
   {
    "duration": 12,
    "start_time": "2022-06-13T11:31:39.686Z"
   },
   {
    "duration": 5,
    "start_time": "2022-06-13T11:31:40.794Z"
   },
   {
    "duration": 7,
    "start_time": "2022-06-13T11:31:54.394Z"
   },
   {
    "duration": 24,
    "start_time": "2022-06-13T11:32:03.773Z"
   },
   {
    "duration": 28,
    "start_time": "2022-06-13T11:32:13.744Z"
   },
   {
    "duration": 21,
    "start_time": "2022-06-13T11:32:26.888Z"
   },
   {
    "duration": 29,
    "start_time": "2022-06-13T11:33:35.747Z"
   },
   {
    "duration": 8,
    "start_time": "2022-06-13T11:34:31.811Z"
   },
   {
    "duration": 24,
    "start_time": "2022-06-13T11:34:50.474Z"
   },
   {
    "duration": 8,
    "start_time": "2022-06-13T11:35:36.852Z"
   },
   {
    "duration": 6,
    "start_time": "2022-06-13T11:36:04.982Z"
   },
   {
    "duration": 11,
    "start_time": "2022-06-13T11:37:48.925Z"
   },
   {
    "duration": 11,
    "start_time": "2022-06-13T11:38:06.643Z"
   },
   {
    "duration": 5,
    "start_time": "2022-06-13T11:38:43.892Z"
   },
   {
    "duration": 9,
    "start_time": "2022-06-13T11:38:57.601Z"
   },
   {
    "duration": 11,
    "start_time": "2022-06-13T11:39:05.683Z"
   },
   {
    "duration": 7,
    "start_time": "2022-06-13T11:39:13.950Z"
   },
   {
    "duration": 5,
    "start_time": "2022-06-13T11:39:16.636Z"
   },
   {
    "duration": 10,
    "start_time": "2022-06-13T11:42:19.701Z"
   },
   {
    "duration": 8,
    "start_time": "2022-06-13T11:42:27.670Z"
   },
   {
    "duration": 39,
    "start_time": "2022-06-13T11:42:36.249Z"
   },
   {
    "duration": 10,
    "start_time": "2022-06-13T11:43:21.500Z"
   },
   {
    "duration": 213,
    "start_time": "2022-06-13T11:44:20.910Z"
   },
   {
    "duration": 270,
    "start_time": "2022-06-13T11:44:58.848Z"
   },
   {
    "duration": 259,
    "start_time": "2022-06-13T11:46:10.158Z"
   },
   {
    "duration": 247,
    "start_time": "2022-06-13T11:52:08.716Z"
   },
   {
    "duration": 13,
    "start_time": "2022-06-13T11:52:59.276Z"
   },
   {
    "duration": 13,
    "start_time": "2022-06-13T11:53:07.272Z"
   },
   {
    "duration": 27,
    "start_time": "2022-06-13T11:53:17.103Z"
   },
   {
    "duration": 38,
    "start_time": "2022-06-13T11:53:24.731Z"
   },
   {
    "duration": 18,
    "start_time": "2022-06-13T11:53:27.884Z"
   },
   {
    "duration": 11,
    "start_time": "2022-06-13T11:53:39.721Z"
   },
   {
    "duration": 18,
    "start_time": "2022-06-13T11:53:51.019Z"
   },
   {
    "duration": 32,
    "start_time": "2022-06-13T11:54:53.247Z"
   },
   {
    "duration": 21,
    "start_time": "2022-06-13T11:55:04.805Z"
   },
   {
    "duration": 20,
    "start_time": "2022-06-13T11:55:08.347Z"
   },
   {
    "duration": 16,
    "start_time": "2022-06-13T11:55:14.641Z"
   },
   {
    "duration": 339,
    "start_time": "2022-06-13T11:55:32.187Z"
   },
   {
    "duration": 17,
    "start_time": "2022-06-13T11:55:41.345Z"
   },
   {
    "duration": 17,
    "start_time": "2022-06-13T11:58:55.252Z"
   },
   {
    "duration": 12,
    "start_time": "2022-06-13T12:00:32.828Z"
   },
   {
    "duration": 16,
    "start_time": "2022-06-13T12:00:37.449Z"
   },
   {
    "duration": 13,
    "start_time": "2022-06-13T12:00:50.446Z"
   },
   {
    "duration": 17,
    "start_time": "2022-06-13T12:01:16.493Z"
   },
   {
    "duration": 13,
    "start_time": "2022-06-13T12:01:37.069Z"
   },
   {
    "duration": 17,
    "start_time": "2022-06-13T12:01:46.068Z"
   },
   {
    "duration": 23,
    "start_time": "2022-06-13T12:05:39.289Z"
   },
   {
    "duration": 19,
    "start_time": "2022-06-13T12:06:08.427Z"
   },
   {
    "duration": 6,
    "start_time": "2022-06-13T12:24:50.781Z"
   },
   {
    "duration": 34,
    "start_time": "2022-06-13T12:30:59.007Z"
   },
   {
    "duration": 12,
    "start_time": "2022-06-13T12:31:33.419Z"
   },
   {
    "duration": 607,
    "start_time": "2022-06-13T12:43:04.707Z"
   },
   {
    "duration": 243,
    "start_time": "2022-06-13T12:43:16.438Z"
   },
   {
    "duration": 20,
    "start_time": "2022-06-13T12:43:43.132Z"
   },
   {
    "duration": 7,
    "start_time": "2022-06-13T12:43:43.657Z"
   },
   {
    "duration": 9,
    "start_time": "2022-06-13T12:43:44.951Z"
   },
   {
    "duration": 246,
    "start_time": "2022-06-13T12:43:45.823Z"
   },
   {
    "duration": 19,
    "start_time": "2022-06-13T12:43:55.267Z"
   },
   {
    "duration": 6,
    "start_time": "2022-06-13T12:44:03.210Z"
   },
   {
    "duration": 160,
    "start_time": "2022-06-13T12:44:04.100Z"
   },
   {
    "duration": 211,
    "start_time": "2022-06-13T12:44:31.293Z"
   },
   {
    "duration": 14,
    "start_time": "2022-06-13T12:47:01.152Z"
   },
   {
    "duration": 97,
    "start_time": "2022-06-13T12:47:19.546Z"
   },
   {
    "duration": 151,
    "start_time": "2022-06-13T12:47:33.880Z"
   },
   {
    "duration": 172,
    "start_time": "2022-06-13T12:47:56.597Z"
   },
   {
    "duration": 180,
    "start_time": "2022-06-13T12:48:18.616Z"
   },
   {
    "duration": 214,
    "start_time": "2022-06-13T12:48:45.212Z"
   },
   {
    "duration": 9,
    "start_time": "2022-06-13T12:49:07.895Z"
   },
   {
    "duration": 293,
    "start_time": "2022-06-13T12:49:49.481Z"
   },
   {
    "duration": 214,
    "start_time": "2022-06-13T12:50:01.711Z"
   },
   {
    "duration": 9,
    "start_time": "2022-06-13T13:04:29.864Z"
   },
   {
    "duration": 31,
    "start_time": "2022-06-13T13:04:46.720Z"
   },
   {
    "duration": 46,
    "start_time": "2022-06-13T13:05:00.095Z"
   },
   {
    "duration": 217,
    "start_time": "2022-06-13T13:05:28.740Z"
   },
   {
    "duration": 239,
    "start_time": "2022-06-13T13:05:44.558Z"
   },
   {
    "duration": 207,
    "start_time": "2022-06-13T13:07:05.652Z"
   },
   {
    "duration": 192,
    "start_time": "2022-06-13T13:07:18.415Z"
   },
   {
    "duration": 12,
    "start_time": "2022-06-13T13:12:25.371Z"
   },
   {
    "duration": 8,
    "start_time": "2022-06-13T13:12:28.245Z"
   },
   {
    "duration": 5,
    "start_time": "2022-06-13T13:12:56.705Z"
   },
   {
    "duration": 255,
    "start_time": "2022-06-13T13:12:57.965Z"
   },
   {
    "duration": 26,
    "start_time": "2022-06-13T13:13:04.116Z"
   },
   {
    "duration": 5,
    "start_time": "2022-06-13T13:14:08.201Z"
   },
   {
    "duration": 9,
    "start_time": "2022-06-13T13:16:07.473Z"
   },
   {
    "duration": 12,
    "start_time": "2022-06-13T13:20:13.811Z"
   },
   {
    "duration": 6,
    "start_time": "2022-06-13T13:20:42.786Z"
   },
   {
    "duration": 13,
    "start_time": "2022-06-13T13:20:44.610Z"
   },
   {
    "duration": 10,
    "start_time": "2022-06-13T13:23:21.764Z"
   },
   {
    "duration": 48,
    "start_time": "2022-06-13T13:23:38.053Z"
   },
   {
    "duration": 5,
    "start_time": "2022-06-13T13:23:48.899Z"
   },
   {
    "duration": 4,
    "start_time": "2022-06-13T13:24:26.003Z"
   },
   {
    "duration": 20,
    "start_time": "2022-06-13T13:24:38.284Z"
   },
   {
    "duration": 32,
    "start_time": "2022-06-13T13:25:35.454Z"
   },
   {
    "duration": 26,
    "start_time": "2022-06-13T13:25:44.652Z"
   },
   {
    "duration": 11,
    "start_time": "2022-06-13T13:26:02.379Z"
   },
   {
    "duration": 19,
    "start_time": "2022-06-13T13:26:52.148Z"
   },
   {
    "duration": 12,
    "start_time": "2022-06-13T13:40:37.166Z"
   },
   {
    "duration": 18,
    "start_time": "2022-06-13T13:41:45.358Z"
   },
   {
    "duration": 18,
    "start_time": "2022-06-13T13:43:51.460Z"
   },
   {
    "duration": 6,
    "start_time": "2022-06-13T13:44:37.597Z"
   },
   {
    "duration": 276,
    "start_time": "2022-06-13T13:45:36.517Z"
   },
   {
    "duration": 35,
    "start_time": "2022-06-13T13:46:17.502Z"
   },
   {
    "duration": 33,
    "start_time": "2022-06-13T13:46:30.808Z"
   },
   {
    "duration": 156,
    "start_time": "2022-06-13T13:46:36.490Z"
   },
   {
    "duration": 143,
    "start_time": "2022-06-13T13:47:28.240Z"
   },
   {
    "duration": 336,
    "start_time": "2022-06-13T13:49:41.957Z"
   },
   {
    "duration": 274,
    "start_time": "2022-06-13T13:49:50.799Z"
   },
   {
    "duration": 249,
    "start_time": "2022-06-13T13:50:48.466Z"
   },
   {
    "duration": 253,
    "start_time": "2022-06-13T13:50:59.392Z"
   },
   {
    "duration": 211,
    "start_time": "2022-06-13T13:53:46.175Z"
   },
   {
    "duration": 162,
    "start_time": "2022-06-13T13:54:01.340Z"
   },
   {
    "duration": 32,
    "start_time": "2022-06-13T14:00:49.239Z"
   },
   {
    "duration": 227,
    "start_time": "2022-06-13T14:01:24.738Z"
   },
   {
    "duration": 244,
    "start_time": "2022-06-13T14:02:00.752Z"
   },
   {
    "duration": 299,
    "start_time": "2022-06-13T14:03:05.950Z"
   },
   {
    "duration": 1342,
    "start_time": "2022-06-14T08:07:46.997Z"
   },
   {
    "duration": 45,
    "start_time": "2022-06-14T08:07:48.341Z"
   },
   {
    "duration": 3,
    "start_time": "2022-06-14T08:07:48.387Z"
   },
   {
    "duration": 9,
    "start_time": "2022-06-14T08:07:48.391Z"
   },
   {
    "duration": 7,
    "start_time": "2022-06-14T08:07:48.401Z"
   },
   {
    "duration": 17,
    "start_time": "2022-06-14T08:07:48.410Z"
   },
   {
    "duration": 12,
    "start_time": "2022-06-14T08:07:48.428Z"
   },
   {
    "duration": 179,
    "start_time": "2022-06-14T08:07:48.442Z"
   },
   {
    "duration": 9,
    "start_time": "2022-06-14T08:07:48.623Z"
   },
   {
    "duration": 11,
    "start_time": "2022-06-14T08:07:48.635Z"
   },
   {
    "duration": 7,
    "start_time": "2022-06-14T08:07:48.647Z"
   },
   {
    "duration": 9,
    "start_time": "2022-06-14T08:07:48.655Z"
   },
   {
    "duration": 301,
    "start_time": "2022-06-14T08:07:48.665Z"
   },
   {
    "duration": 22,
    "start_time": "2022-06-14T08:07:48.968Z"
   },
   {
    "duration": 6,
    "start_time": "2022-06-14T08:07:48.991Z"
   },
   {
    "duration": 280,
    "start_time": "2022-06-14T08:07:48.998Z"
   },
   {
    "duration": 92,
    "start_time": "2022-06-14T08:07:49.280Z"
   },
   {
    "duration": 8,
    "start_time": "2022-06-14T08:08:39.137Z"
   },
   {
    "duration": 118,
    "start_time": "2022-06-14T08:08:57.830Z"
   },
   {
    "duration": 48,
    "start_time": "2022-06-14T08:09:16.601Z"
   },
   {
    "duration": 43,
    "start_time": "2022-06-14T08:09:17.038Z"
   },
   {
    "duration": 4,
    "start_time": "2022-06-14T08:09:17.965Z"
   },
   {
    "duration": 5,
    "start_time": "2022-06-14T08:09:18.175Z"
   },
   {
    "duration": 6,
    "start_time": "2022-06-14T08:09:18.374Z"
   },
   {
    "duration": 8,
    "start_time": "2022-06-14T08:09:18.599Z"
   },
   {
    "duration": 13,
    "start_time": "2022-06-14T08:09:19.159Z"
   },
   {
    "duration": 164,
    "start_time": "2022-06-14T08:09:19.477Z"
   },
   {
    "duration": 7,
    "start_time": "2022-06-14T08:09:19.882Z"
   },
   {
    "duration": 10,
    "start_time": "2022-06-14T08:09:20.230Z"
   },
   {
    "duration": 8,
    "start_time": "2022-06-14T08:09:20.675Z"
   },
   {
    "duration": 5,
    "start_time": "2022-06-14T08:09:21.057Z"
   },
   {
    "duration": 268,
    "start_time": "2022-06-14T08:09:23.525Z"
   },
   {
    "duration": 18,
    "start_time": "2022-06-14T08:09:24.423Z"
   },
   {
    "duration": 6,
    "start_time": "2022-06-14T08:09:25.074Z"
   },
   {
    "duration": 114,
    "start_time": "2022-06-14T08:09:26.113Z"
   },
   {
    "duration": 355,
    "start_time": "2022-06-14T08:15:23.948Z"
   },
   {
    "duration": 292,
    "start_time": "2022-06-14T08:15:44.311Z"
   },
   {
    "duration": 5,
    "start_time": "2022-06-14T08:17:22.366Z"
   },
   {
    "duration": 67,
    "start_time": "2022-06-14T08:20:08.799Z"
   },
   {
    "duration": 10,
    "start_time": "2022-06-14T08:20:16.849Z"
   },
   {
    "duration": 8,
    "start_time": "2022-06-14T08:20:26.594Z"
   },
   {
    "duration": 28,
    "start_time": "2022-06-14T08:20:38.198Z"
   },
   {
    "duration": 56,
    "start_time": "2022-06-14T08:21:23.997Z"
   },
   {
    "duration": 43,
    "start_time": "2022-06-14T08:21:24.280Z"
   },
   {
    "duration": 4,
    "start_time": "2022-06-14T08:21:25.100Z"
   },
   {
    "duration": 10,
    "start_time": "2022-06-14T08:21:25.328Z"
   },
   {
    "duration": 7,
    "start_time": "2022-06-14T08:21:25.540Z"
   },
   {
    "duration": 7,
    "start_time": "2022-06-14T08:21:25.718Z"
   },
   {
    "duration": 14,
    "start_time": "2022-06-14T08:21:26.139Z"
   },
   {
    "duration": 5,
    "start_time": "2022-06-14T08:21:26.360Z"
   },
   {
    "duration": 156,
    "start_time": "2022-06-14T08:21:26.839Z"
   },
   {
    "duration": 8,
    "start_time": "2022-06-14T08:21:27.535Z"
   },
   {
    "duration": 22,
    "start_time": "2022-06-14T08:21:28.079Z"
   },
   {
    "duration": 10,
    "start_time": "2022-06-14T08:21:38.992Z"
   },
   {
    "duration": 20,
    "start_time": "2022-06-14T08:22:56.085Z"
   },
   {
    "duration": 6,
    "start_time": "2022-06-14T08:23:32.595Z"
   },
   {
    "duration": 7,
    "start_time": "2022-06-14T08:23:49.824Z"
   },
   {
    "duration": 24,
    "start_time": "2022-06-14T08:23:54.104Z"
   },
   {
    "duration": 10,
    "start_time": "2022-06-14T08:24:08.872Z"
   },
   {
    "duration": 8,
    "start_time": "2022-06-14T08:24:58.453Z"
   },
   {
    "duration": 135,
    "start_time": "2022-06-14T08:34:00.055Z"
   },
   {
    "duration": 167,
    "start_time": "2022-06-14T08:34:13.826Z"
   },
   {
    "duration": 305,
    "start_time": "2022-06-14T08:35:04.976Z"
   },
   {
    "duration": 532,
    "start_time": "2022-06-14T08:36:26.247Z"
   },
   {
    "duration": 210,
    "start_time": "2022-06-14T08:39:42.786Z"
   },
   {
    "duration": 128,
    "start_time": "2022-06-14T08:40:01.342Z"
   },
   {
    "duration": 253,
    "start_time": "2022-06-14T08:40:37.540Z"
   },
   {
    "duration": 378,
    "start_time": "2022-06-14T08:41:43.193Z"
   },
   {
    "duration": 1217,
    "start_time": "2022-06-14T08:43:11.097Z"
   },
   {
    "duration": 13,
    "start_time": "2022-06-14T08:45:05.140Z"
   },
   {
    "duration": 237,
    "start_time": "2022-06-14T08:45:09.851Z"
   },
   {
    "duration": 1240,
    "start_time": "2022-06-14T08:45:17.239Z"
   },
   {
    "duration": 4,
    "start_time": "2022-06-14T08:58:31.333Z"
   },
   {
    "duration": 256,
    "start_time": "2022-06-14T09:17:17.782Z"
   },
   {
    "duration": 135,
    "start_time": "2022-06-14T09:19:19.571Z"
   },
   {
    "duration": 173,
    "start_time": "2022-06-14T09:21:19.141Z"
   },
   {
    "duration": 23,
    "start_time": "2022-06-14T09:22:58.058Z"
   },
   {
    "duration": 32,
    "start_time": "2022-06-14T09:23:05.464Z"
   },
   {
    "duration": 15,
    "start_time": "2022-06-14T09:25:03.918Z"
   },
   {
    "duration": 7,
    "start_time": "2022-06-14T09:25:15.100Z"
   },
   {
    "duration": 118,
    "start_time": "2022-06-14T09:25:16.761Z"
   },
   {
    "duration": 18,
    "start_time": "2022-06-14T09:31:28.558Z"
   },
   {
    "duration": 9,
    "start_time": "2022-06-14T09:32:27.879Z"
   },
   {
    "duration": 11,
    "start_time": "2022-06-14T09:32:53.259Z"
   },
   {
    "duration": 9,
    "start_time": "2022-06-14T09:33:05.082Z"
   },
   {
    "duration": 18,
    "start_time": "2022-06-14T09:33:15.905Z"
   },
   {
    "duration": 139,
    "start_time": "2022-06-14T09:33:21.683Z"
   },
   {
    "duration": 134,
    "start_time": "2022-06-14T09:36:35.762Z"
   },
   {
    "duration": 13,
    "start_time": "2022-06-14T09:38:44.279Z"
   },
   {
    "duration": 28,
    "start_time": "2022-06-14T09:39:02.667Z"
   },
   {
    "duration": 275,
    "start_time": "2022-06-14T09:39:28.287Z"
   },
   {
    "duration": 25,
    "start_time": "2022-06-14T09:41:11.665Z"
   },
   {
    "duration": 637,
    "start_time": "2022-06-14T09:41:38.848Z"
   },
   {
    "duration": 137,
    "start_time": "2022-06-14T09:41:54.616Z"
   },
   {
    "duration": 253,
    "start_time": "2022-06-14T09:42:41.218Z"
   },
   {
    "duration": 181,
    "start_time": "2022-06-14T09:44:02.961Z"
   },
   {
    "duration": 135,
    "start_time": "2022-06-14T09:49:33.645Z"
   },
   {
    "duration": 13,
    "start_time": "2022-06-14T09:50:09.809Z"
   },
   {
    "duration": 11,
    "start_time": "2022-06-14T09:50:54.457Z"
   },
   {
    "duration": 301,
    "start_time": "2022-06-14T10:18:02.773Z"
   },
   {
    "duration": 217,
    "start_time": "2022-06-14T10:20:40.889Z"
   },
   {
    "duration": 62,
    "start_time": "2022-06-14T10:21:29.430Z"
   },
   {
    "duration": 58,
    "start_time": "2022-06-14T10:21:54.626Z"
   },
   {
    "duration": 232,
    "start_time": "2022-06-14T10:22:16.221Z"
   },
   {
    "duration": 302,
    "start_time": "2022-06-14T10:23:58.419Z"
   },
   {
    "duration": 307,
    "start_time": "2022-06-14T10:24:58.401Z"
   },
   {
    "duration": 325,
    "start_time": "2022-06-14T10:26:21.552Z"
   },
   {
    "duration": 152,
    "start_time": "2022-06-14T10:41:48.853Z"
   },
   {
    "duration": 56,
    "start_time": "2022-06-14T10:41:49.650Z"
   },
   {
    "duration": 7,
    "start_time": "2022-06-14T10:41:54.655Z"
   },
   {
    "duration": 12,
    "start_time": "2022-06-14T10:41:55.555Z"
   },
   {
    "duration": 14,
    "start_time": "2022-06-14T10:41:56.029Z"
   },
   {
    "duration": 7,
    "start_time": "2022-06-14T10:41:57.168Z"
   },
   {
    "duration": 42,
    "start_time": "2022-06-14T10:43:53.453Z"
   },
   {
    "duration": 10,
    "start_time": "2022-06-14T10:44:09.465Z"
   },
   {
    "duration": 6,
    "start_time": "2022-06-14T10:44:26.322Z"
   },
   {
    "duration": 90,
    "start_time": "2022-06-14T10:45:57.028Z"
   },
   {
    "duration": 22,
    "start_time": "2022-06-14T10:46:04.003Z"
   },
   {
    "duration": 26,
    "start_time": "2022-06-14T10:46:24.690Z"
   },
   {
    "duration": 15,
    "start_time": "2022-06-14T10:47:07.355Z"
   },
   {
    "duration": 42,
    "start_time": "2022-06-14T10:47:12.268Z"
   },
   {
    "duration": 36,
    "start_time": "2022-06-14T10:48:05.780Z"
   },
   {
    "duration": 22,
    "start_time": "2022-06-14T10:48:35.849Z"
   },
   {
    "duration": 30,
    "start_time": "2022-06-14T10:49:51.564Z"
   },
   {
    "duration": 10,
    "start_time": "2022-06-14T10:49:51.991Z"
   },
   {
    "duration": 14,
    "start_time": "2022-06-14T10:49:52.491Z"
   },
   {
    "duration": 210,
    "start_time": "2022-06-14T10:49:52.895Z"
   },
   {
    "duration": 8,
    "start_time": "2022-06-14T10:49:53.404Z"
   },
   {
    "duration": 17,
    "start_time": "2022-06-14T10:49:53.474Z"
   },
   {
    "duration": 14,
    "start_time": "2022-06-14T10:49:53.493Z"
   },
   {
    "duration": 1731,
    "start_time": "2022-06-14T10:49:53.509Z"
   },
   {
    "duration": 12,
    "start_time": "2022-06-14T10:49:55.247Z"
   },
   {
    "duration": 349,
    "start_time": "2022-06-14T10:49:55.261Z"
   },
   {
    "duration": 53,
    "start_time": "2022-06-14T10:49:55.614Z"
   },
   {
    "duration": 20,
    "start_time": "2022-06-14T10:49:55.669Z"
   },
   {
    "duration": 370,
    "start_time": "2022-06-14T10:49:55.693Z"
   },
   {
    "duration": 385,
    "start_time": "2022-06-14T10:49:56.070Z"
   },
   {
    "duration": 23,
    "start_time": "2022-06-14T10:49:56.456Z"
   },
   {
    "duration": 405,
    "start_time": "2022-06-14T10:49:56.481Z"
   },
   {
    "duration": 353,
    "start_time": "2022-06-14T10:49:56.893Z"
   },
   {
    "duration": 14,
    "start_time": "2022-06-14T10:49:57.251Z"
   },
   {
    "duration": 11,
    "start_time": "2022-06-14T10:50:18.398Z"
   },
   {
    "duration": 10,
    "start_time": "2022-06-14T10:50:25.683Z"
   },
   {
    "duration": 20,
    "start_time": "2022-06-14T10:51:15.084Z"
   },
   {
    "duration": 12,
    "start_time": "2022-06-14T10:52:47.649Z"
   },
   {
    "duration": 7,
    "start_time": "2022-06-14T10:53:21.611Z"
   },
   {
    "duration": 9,
    "start_time": "2022-06-14T10:54:01.499Z"
   },
   {
    "duration": 27,
    "start_time": "2022-06-14T10:54:16.135Z"
   },
   {
    "duration": 126,
    "start_time": "2022-06-14T10:55:03.155Z"
   },
   {
    "duration": 90,
    "start_time": "2022-06-14T10:55:04.222Z"
   },
   {
    "duration": 3,
    "start_time": "2022-06-14T10:55:05.614Z"
   },
   {
    "duration": 19,
    "start_time": "2022-06-14T10:55:05.858Z"
   },
   {
    "duration": 19,
    "start_time": "2022-06-14T10:55:06.212Z"
   },
   {
    "duration": 11,
    "start_time": "2022-06-14T10:55:06.485Z"
   },
   {
    "duration": 12,
    "start_time": "2022-06-14T10:55:06.998Z"
   },
   {
    "duration": 420,
    "start_time": "2022-06-14T10:55:22.498Z"
   },
   {
    "duration": 17,
    "start_time": "2022-06-14T10:55:23.862Z"
   },
   {
    "duration": 8,
    "start_time": "2022-06-14T10:55:40.389Z"
   },
   {
    "duration": 11,
    "start_time": "2022-06-14T10:56:00.214Z"
   },
   {
    "duration": 14,
    "start_time": "2022-06-14T10:56:04.966Z"
   },
   {
    "duration": 31,
    "start_time": "2022-06-14T10:56:19.448Z"
   },
   {
    "duration": 24,
    "start_time": "2022-06-14T10:56:21.345Z"
   },
   {
    "duration": 1102,
    "start_time": "2022-06-14T10:57:41.280Z"
   },
   {
    "duration": 5,
    "start_time": "2022-06-14T10:57:53.787Z"
   },
   {
    "duration": 334,
    "start_time": "2022-06-14T10:58:04.062Z"
   },
   {
    "duration": 53,
    "start_time": "2022-06-14T10:58:19.219Z"
   },
   {
    "duration": 13,
    "start_time": "2022-06-14T10:58:43.467Z"
   },
   {
    "duration": 81,
    "start_time": "2022-06-14T10:59:27.628Z"
   },
   {
    "duration": 91,
    "start_time": "2022-06-14T10:59:27.967Z"
   },
   {
    "duration": 3,
    "start_time": "2022-06-14T10:59:28.917Z"
   },
   {
    "duration": 5,
    "start_time": "2022-06-14T10:59:29.202Z"
   },
   {
    "duration": 10,
    "start_time": "2022-06-14T10:59:29.455Z"
   },
   {
    "duration": 6,
    "start_time": "2022-06-14T10:59:29.710Z"
   },
   {
    "duration": 9,
    "start_time": "2022-06-14T10:59:30.064Z"
   },
   {
    "duration": 203,
    "start_time": "2022-06-14T10:59:31.968Z"
   },
   {
    "duration": 17,
    "start_time": "2022-06-14T10:59:32.746Z"
   },
   {
    "duration": 12,
    "start_time": "2022-06-14T10:59:33.487Z"
   },
   {
    "duration": 11,
    "start_time": "2022-06-14T10:59:34.020Z"
   },
   {
    "duration": 1228,
    "start_time": "2022-06-14T10:59:34.690Z"
   },
   {
    "duration": 6,
    "start_time": "2022-06-14T10:59:37.082Z"
   },
   {
    "duration": 438,
    "start_time": "2022-06-14T10:59:38.487Z"
   },
   {
    "duration": 19,
    "start_time": "2022-06-14T10:59:44.383Z"
   },
   {
    "duration": 8,
    "start_time": "2022-06-14T11:00:00.179Z"
   },
   {
    "duration": 354,
    "start_time": "2022-06-14T11:00:06.670Z"
   },
   {
    "duration": 11,
    "start_time": "2022-06-14T11:04:46.056Z"
   },
   {
    "duration": 379,
    "start_time": "2022-06-14T11:05:02.183Z"
   },
   {
    "duration": 76,
    "start_time": "2022-06-14T11:08:19.602Z"
   },
   {
    "duration": 10,
    "start_time": "2022-06-14T11:08:30.769Z"
   },
   {
    "duration": 18,
    "start_time": "2022-06-14T11:10:42.920Z"
   },
   {
    "duration": 6,
    "start_time": "2022-06-14T11:10:51.868Z"
   },
   {
    "duration": 71,
    "start_time": "2022-06-14T11:11:39.874Z"
   },
   {
    "duration": 7,
    "start_time": "2022-06-14T11:12:05.165Z"
   },
   {
    "duration": 84,
    "start_time": "2022-06-14T11:20:15.604Z"
   },
   {
    "duration": 4,
    "start_time": "2022-06-14T11:20:53.290Z"
   },
   {
    "duration": 418,
    "start_time": "2022-06-14T11:20:57.884Z"
   },
   {
    "duration": 335,
    "start_time": "2022-06-14T11:21:29.581Z"
   },
   {
    "duration": 345,
    "start_time": "2022-06-14T11:40:02.456Z"
   },
   {
    "duration": 36,
    "start_time": "2022-06-14T11:46:49.884Z"
   },
   {
    "duration": 7,
    "start_time": "2022-06-14T11:46:54.286Z"
   },
   {
    "duration": 218,
    "start_time": "2022-06-14T11:48:24.102Z"
   },
   {
    "duration": 141,
    "start_time": "2022-06-14T11:49:02.788Z"
   },
   {
    "duration": 238,
    "start_time": "2022-06-14T11:49:55.386Z"
   },
   {
    "duration": 262,
    "start_time": "2022-06-14T11:50:18.658Z"
   },
   {
    "duration": 470,
    "start_time": "2022-06-14T11:50:41.256Z"
   },
   {
    "duration": 245,
    "start_time": "2022-06-14T11:51:21.665Z"
   },
   {
    "duration": 34,
    "start_time": "2022-06-14T11:52:01.219Z"
   },
   {
    "duration": 13,
    "start_time": "2022-06-14T11:52:02.980Z"
   },
   {
    "duration": 20,
    "start_time": "2022-06-14T11:53:21.749Z"
   },
   {
    "duration": 9,
    "start_time": "2022-06-14T11:53:23.403Z"
   },
   {
    "duration": 10,
    "start_time": "2022-06-14T11:55:01.806Z"
   },
   {
    "duration": 399,
    "start_time": "2022-06-14T11:55:02.156Z"
   },
   {
    "duration": 17,
    "start_time": "2022-06-14T11:55:02.870Z"
   },
   {
    "duration": 26,
    "start_time": "2022-06-14T11:55:03.783Z"
   },
   {
    "duration": 13,
    "start_time": "2022-06-14T11:55:04.521Z"
   },
   {
    "duration": 240,
    "start_time": "2022-06-14T11:55:05.383Z"
   },
   {
    "duration": 313,
    "start_time": "2022-06-14T11:55:07.321Z"
   },
   {
    "duration": 10,
    "start_time": "2022-06-14T11:55:29.454Z"
   },
   {
    "duration": 476,
    "start_time": "2022-06-14T11:55:30.491Z"
   },
   {
    "duration": 11,
    "start_time": "2022-06-14T11:55:30.969Z"
   },
   {
    "duration": 51,
    "start_time": "2022-06-14T11:55:31.354Z"
   },
   {
    "duration": 21,
    "start_time": "2022-06-14T11:55:32.146Z"
   },
   {
    "duration": 231,
    "start_time": "2022-06-14T11:55:34.908Z"
   },
   {
    "duration": 309,
    "start_time": "2022-06-14T11:55:36.312Z"
   },
   {
    "duration": 276,
    "start_time": "2022-06-14T12:06:07.895Z"
   },
   {
    "duration": 278,
    "start_time": "2022-06-14T12:06:24.556Z"
   },
   {
    "duration": 345,
    "start_time": "2022-06-14T12:08:04.753Z"
   },
   {
    "duration": 312,
    "start_time": "2022-06-14T12:08:17.399Z"
   },
   {
    "duration": 321,
    "start_time": "2022-06-14T12:08:25.499Z"
   },
   {
    "duration": 168,
    "start_time": "2022-06-14T12:09:30.554Z"
   },
   {
    "duration": 358,
    "start_time": "2022-06-14T12:09:39.750Z"
   },
   {
    "duration": 350,
    "start_time": "2022-06-14T12:12:09.024Z"
   },
   {
    "duration": 355,
    "start_time": "2022-06-14T12:13:12.448Z"
   },
   {
    "duration": 12,
    "start_time": "2022-06-14T12:28:35.642Z"
   },
   {
    "duration": 11,
    "start_time": "2022-06-14T12:28:43.922Z"
   },
   {
    "duration": 172,
    "start_time": "2022-06-14T12:29:01.721Z"
   },
   {
    "duration": 169,
    "start_time": "2022-06-14T12:29:16.339Z"
   },
   {
    "duration": 339,
    "start_time": "2022-06-14T12:30:02.058Z"
   },
   {
    "duration": 329,
    "start_time": "2022-06-14T12:31:14.888Z"
   },
   {
    "duration": 348,
    "start_time": "2022-06-14T12:31:31.868Z"
   },
   {
    "duration": 8,
    "start_time": "2022-06-14T12:38:39.354Z"
   },
   {
    "duration": 286,
    "start_time": "2022-06-14T12:38:47.484Z"
   },
   {
    "duration": 269,
    "start_time": "2022-06-14T12:38:48.275Z"
   },
   {
    "duration": 1367,
    "start_time": "2022-06-14T12:39:57.914Z"
   },
   {
    "duration": 55,
    "start_time": "2022-06-14T12:39:59.283Z"
   },
   {
    "duration": 45,
    "start_time": "2022-06-14T12:39:59.340Z"
   },
   {
    "duration": 30,
    "start_time": "2022-06-14T12:39:59.387Z"
   },
   {
    "duration": 43,
    "start_time": "2022-06-14T12:39:59.419Z"
   },
   {
    "duration": 25,
    "start_time": "2022-06-14T12:39:59.467Z"
   },
   {
    "duration": 23,
    "start_time": "2022-06-14T12:39:59.495Z"
   },
   {
    "duration": 241,
    "start_time": "2022-06-14T12:39:59.519Z"
   },
   {
    "duration": 19,
    "start_time": "2022-06-14T12:39:59.761Z"
   },
   {
    "duration": 20,
    "start_time": "2022-06-14T12:39:59.784Z"
   },
   {
    "duration": 22,
    "start_time": "2022-06-14T12:39:59.806Z"
   },
   {
    "duration": 1057,
    "start_time": "2022-06-14T12:39:59.838Z"
   },
   {
    "duration": 8,
    "start_time": "2022-06-14T12:40:00.897Z"
   },
   {
    "duration": 450,
    "start_time": "2022-06-14T12:40:00.907Z"
   },
   {
    "duration": 37,
    "start_time": "2022-06-14T12:40:01.361Z"
   },
   {
    "duration": 12,
    "start_time": "2022-06-14T12:40:01.399Z"
   },
   {
    "duration": 512,
    "start_time": "2022-06-14T12:40:01.413Z"
   },
   {
    "duration": 27,
    "start_time": "2022-06-14T12:40:01.938Z"
   },
   {
    "duration": 15,
    "start_time": "2022-06-14T12:40:01.973Z"
   },
   {
    "duration": 240,
    "start_time": "2022-06-14T12:40:01.990Z"
   },
   {
    "duration": 9,
    "start_time": "2022-06-14T12:40:02.232Z"
   },
   {
    "duration": 490,
    "start_time": "2022-06-14T12:40:02.244Z"
   },
   {
    "duration": 370,
    "start_time": "2022-06-14T12:40:02.742Z"
   },
   {
    "duration": 13,
    "start_time": "2022-06-14T12:40:03.115Z"
   },
   {
    "duration": 1100,
    "start_time": "2022-06-14T12:42:09.148Z"
   },
   {
    "duration": 1065,
    "start_time": "2022-06-14T12:42:38.009Z"
   },
   {
    "duration": 1025,
    "start_time": "2022-06-14T12:43:18.816Z"
   },
   {
    "duration": 1011,
    "start_time": "2022-06-14T12:44:28.668Z"
   },
   {
    "duration": 65,
    "start_time": "2022-06-14T12:45:11.950Z"
   },
   {
    "duration": 58,
    "start_time": "2022-06-14T12:45:12.242Z"
   },
   {
    "duration": 4,
    "start_time": "2022-06-14T12:45:13.480Z"
   },
   {
    "duration": 5,
    "start_time": "2022-06-14T12:45:13.793Z"
   },
   {
    "duration": 12,
    "start_time": "2022-06-14T12:45:14.168Z"
   },
   {
    "duration": 7,
    "start_time": "2022-06-14T12:45:14.405Z"
   },
   {
    "duration": 4,
    "start_time": "2022-06-14T12:45:14.704Z"
   },
   {
    "duration": 293,
    "start_time": "2022-06-14T12:45:15.695Z"
   },
   {
    "duration": 7,
    "start_time": "2022-06-14T12:45:16.693Z"
   },
   {
    "duration": 16,
    "start_time": "2022-06-14T12:45:17.435Z"
   },
   {
    "duration": 8,
    "start_time": "2022-06-14T12:45:18.175Z"
   },
   {
    "duration": 976,
    "start_time": "2022-06-14T12:45:18.714Z"
   },
   {
    "duration": 10,
    "start_time": "2022-06-14T12:45:34.155Z"
   },
   {
    "duration": 252,
    "start_time": "2022-06-14T12:45:35.771Z"
   },
   {
    "duration": 20,
    "start_time": "2022-06-14T12:45:37.074Z"
   },
   {
    "duration": 8,
    "start_time": "2022-06-14T12:45:38.234Z"
   },
   {
    "duration": 373,
    "start_time": "2022-06-14T12:45:39.467Z"
   },
   {
    "duration": 10,
    "start_time": "2022-06-14T12:45:40.974Z"
   },
   {
    "duration": 8,
    "start_time": "2022-06-14T12:45:42.963Z"
   },
   {
    "duration": 224,
    "start_time": "2022-06-14T12:45:43.731Z"
   },
   {
    "duration": 14,
    "start_time": "2022-06-14T12:45:47.265Z"
   },
   {
    "duration": 367,
    "start_time": "2022-06-14T12:45:53.891Z"
   },
   {
    "duration": 400,
    "start_time": "2022-06-14T12:46:12.786Z"
   },
   {
    "duration": 45,
    "start_time": "2022-06-14T12:58:19.268Z"
   },
   {
    "duration": 25,
    "start_time": "2022-06-14T12:58:50.079Z"
   },
   {
    "duration": 343,
    "start_time": "2022-06-14T13:00:16.473Z"
   },
   {
    "duration": 29,
    "start_time": "2022-06-14T13:00:24.273Z"
   },
   {
    "duration": 104384,
    "start_time": "2022-06-14T13:00:40.695Z"
   },
   {
    "duration": 47,
    "start_time": "2022-06-14T13:03:23.927Z"
   },
   {
    "duration": 464,
    "start_time": "2022-06-14T13:03:36.148Z"
   },
   {
    "duration": 472,
    "start_time": "2022-06-14T13:04:03.742Z"
   },
   {
    "duration": 390,
    "start_time": "2022-06-14T13:04:12.299Z"
   },
   {
    "duration": 234,
    "start_time": "2022-06-14T13:04:36.317Z"
   },
   {
    "duration": 236,
    "start_time": "2022-06-14T13:05:13.324Z"
   },
   {
    "duration": 53,
    "start_time": "2022-06-14T13:05:56.050Z"
   },
   {
    "duration": 65,
    "start_time": "2022-06-14T13:05:56.294Z"
   },
   {
    "duration": 4,
    "start_time": "2022-06-14T13:05:57.278Z"
   },
   {
    "duration": 12,
    "start_time": "2022-06-14T13:05:57.532Z"
   },
   {
    "duration": 7,
    "start_time": "2022-06-14T13:05:57.772Z"
   },
   {
    "duration": 8,
    "start_time": "2022-06-14T13:05:58.010Z"
   },
   {
    "duration": 5,
    "start_time": "2022-06-14T13:05:58.503Z"
   },
   {
    "duration": 187,
    "start_time": "2022-06-14T13:05:59.521Z"
   },
   {
    "duration": 15,
    "start_time": "2022-06-14T13:06:00.250Z"
   },
   {
    "duration": 7,
    "start_time": "2022-06-14T13:06:00.768Z"
   },
   {
    "duration": 259,
    "start_time": "2022-06-14T13:06:01.347Z"
   },
   {
    "duration": 1201,
    "start_time": "2022-06-14T13:06:15.780Z"
   },
   {
    "duration": 7,
    "start_time": "2022-06-14T13:06:16.986Z"
   },
   {
    "duration": 222,
    "start_time": "2022-06-14T13:06:16.995Z"
   },
   {
    "duration": 23,
    "start_time": "2022-06-14T13:06:17.226Z"
   },
   {
    "duration": 7,
    "start_time": "2022-06-14T13:06:17.866Z"
   },
   {
    "duration": 390,
    "start_time": "2022-06-14T13:06:19.052Z"
   },
   {
    "duration": 54,
    "start_time": "2022-06-14T13:06:51.141Z"
   },
   {
    "duration": 244,
    "start_time": "2022-06-14T13:07:07.773Z"
   },
   {
    "duration": 237,
    "start_time": "2022-06-14T13:07:22.876Z"
   },
   {
    "duration": 302,
    "start_time": "2022-06-14T13:10:16.185Z"
   },
   {
    "duration": 311,
    "start_time": "2022-06-14T13:10:46.567Z"
   },
   {
    "duration": 274,
    "start_time": "2022-06-14T13:11:01.554Z"
   },
   {
    "duration": 349,
    "start_time": "2022-06-14T13:12:17.783Z"
   },
   {
    "duration": 8,
    "start_time": "2022-06-14T13:12:40.198Z"
   },
   {
    "duration": 6,
    "start_time": "2022-06-14T13:12:40.579Z"
   },
   {
    "duration": 167,
    "start_time": "2022-06-14T13:12:41.144Z"
   },
   {
    "duration": 22,
    "start_time": "2022-06-14T13:13:50.320Z"
   },
   {
    "duration": 294,
    "start_time": "2022-06-14T13:14:10.322Z"
   },
   {
    "duration": 328,
    "start_time": "2022-06-14T13:14:26.937Z"
   },
   {
    "duration": 62,
    "start_time": "2022-06-14T13:16:12.184Z"
   },
   {
    "duration": 44,
    "start_time": "2022-06-14T13:16:12.470Z"
   },
   {
    "duration": 3,
    "start_time": "2022-06-14T13:16:13.468Z"
   },
   {
    "duration": 5,
    "start_time": "2022-06-14T13:16:13.707Z"
   },
   {
    "duration": 7,
    "start_time": "2022-06-14T13:16:13.981Z"
   },
   {
    "duration": 8,
    "start_time": "2022-06-14T13:16:14.290Z"
   },
   {
    "duration": 5,
    "start_time": "2022-06-14T13:16:14.596Z"
   },
   {
    "duration": 198,
    "start_time": "2022-06-14T13:16:15.321Z"
   },
   {
    "duration": 11,
    "start_time": "2022-06-14T13:16:15.695Z"
   },
   {
    "duration": 7,
    "start_time": "2022-06-14T13:16:16.099Z"
   },
   {
    "duration": 1035,
    "start_time": "2022-06-14T13:16:16.497Z"
   },
   {
    "duration": 18,
    "start_time": "2022-06-14T13:16:17.546Z"
   },
   {
    "duration": 340,
    "start_time": "2022-06-14T13:16:17.574Z"
   },
   {
    "duration": 32,
    "start_time": "2022-06-14T13:16:17.916Z"
   },
   {
    "duration": 9,
    "start_time": "2022-06-14T13:16:18.057Z"
   },
   {
    "duration": 372,
    "start_time": "2022-06-14T13:16:18.473Z"
   },
   {
    "duration": 8,
    "start_time": "2022-06-14T13:16:18.918Z"
   },
   {
    "duration": 12,
    "start_time": "2022-06-14T13:16:19.356Z"
   },
   {
    "duration": 216,
    "start_time": "2022-06-14T13:16:19.833Z"
   },
   {
    "duration": 8,
    "start_time": "2022-06-14T13:16:20.253Z"
   },
   {
    "duration": 305,
    "start_time": "2022-06-14T13:16:20.671Z"
   },
   {
    "duration": 322,
    "start_time": "2022-06-14T13:16:21.103Z"
   },
   {
    "duration": 5,
    "start_time": "2022-06-14T13:16:21.596Z"
   },
   {
    "duration": 51,
    "start_time": "2022-06-14T13:17:04.058Z"
   },
   {
    "duration": 74,
    "start_time": "2022-06-14T13:17:04.111Z"
   },
   {
    "duration": 19,
    "start_time": "2022-06-14T13:17:04.187Z"
   },
   {
    "duration": 23,
    "start_time": "2022-06-14T13:17:04.208Z"
   },
   {
    "duration": 55,
    "start_time": "2022-06-14T13:17:04.235Z"
   },
   {
    "duration": 31,
    "start_time": "2022-06-14T13:17:04.292Z"
   },
   {
    "duration": 61,
    "start_time": "2022-06-14T13:17:04.324Z"
   },
   {
    "duration": 215,
    "start_time": "2022-06-14T13:17:04.388Z"
   },
   {
    "duration": 11,
    "start_time": "2022-06-14T13:17:04.605Z"
   },
   {
    "duration": 43,
    "start_time": "2022-06-14T13:17:04.628Z"
   },
   {
    "duration": 1047,
    "start_time": "2022-06-14T13:17:04.673Z"
   },
   {
    "duration": 19,
    "start_time": "2022-06-14T13:17:05.722Z"
   },
   {
    "duration": 306,
    "start_time": "2022-06-14T13:17:05.743Z"
   },
   {
    "duration": 26,
    "start_time": "2022-06-14T13:17:06.052Z"
   },
   {
    "duration": 43,
    "start_time": "2022-06-14T13:17:06.079Z"
   },
   {
    "duration": 478,
    "start_time": "2022-06-14T13:17:06.124Z"
   },
   {
    "duration": 10,
    "start_time": "2022-06-14T13:17:06.605Z"
   },
   {
    "duration": 101,
    "start_time": "2022-06-14T13:17:06.631Z"
   },
   {
    "duration": 260,
    "start_time": "2022-06-14T13:17:06.735Z"
   },
   {
    "duration": 7,
    "start_time": "2022-06-14T13:17:06.997Z"
   },
   {
    "duration": 288,
    "start_time": "2022-06-14T13:17:07.006Z"
   },
   {
    "duration": 366,
    "start_time": "2022-06-14T13:17:07.296Z"
   },
   {
    "duration": 12,
    "start_time": "2022-06-14T13:17:07.664Z"
   },
   {
    "duration": 26,
    "start_time": "2022-06-14T13:17:24.763Z"
   },
   {
    "duration": 1596,
    "start_time": "2022-06-14T16:42:43.322Z"
   },
   {
    "duration": 61,
    "start_time": "2022-06-14T16:42:44.921Z"
   },
   {
    "duration": 4,
    "start_time": "2022-06-14T16:42:44.983Z"
   },
   {
    "duration": 10,
    "start_time": "2022-06-14T16:42:44.989Z"
   },
   {
    "duration": 8,
    "start_time": "2022-06-14T16:42:45.000Z"
   },
   {
    "duration": 11,
    "start_time": "2022-06-14T16:42:45.010Z"
   },
   {
    "duration": 13,
    "start_time": "2022-06-14T16:42:45.023Z"
   },
   {
    "duration": 260,
    "start_time": "2022-06-14T16:42:45.038Z"
   },
   {
    "duration": 17,
    "start_time": "2022-06-14T16:42:45.300Z"
   },
   {
    "duration": 11,
    "start_time": "2022-06-14T16:42:45.320Z"
   },
   {
    "duration": 1098,
    "start_time": "2022-06-14T16:42:45.333Z"
   },
   {
    "duration": 5,
    "start_time": "2022-06-14T16:42:46.433Z"
   },
   {
    "duration": 301,
    "start_time": "2022-06-14T16:42:46.440Z"
   },
   {
    "duration": 28,
    "start_time": "2022-06-14T16:42:46.743Z"
   },
   {
    "duration": 7,
    "start_time": "2022-06-14T16:42:46.772Z"
   },
   {
    "duration": 390,
    "start_time": "2022-06-14T16:42:46.780Z"
   },
   {
    "duration": 8,
    "start_time": "2022-06-14T16:42:47.172Z"
   },
   {
    "duration": 8,
    "start_time": "2022-06-14T16:42:47.182Z"
   },
   {
    "duration": 26,
    "start_time": "2022-06-14T16:42:47.192Z"
   },
   {
    "duration": 204,
    "start_time": "2022-06-14T16:42:47.220Z"
   },
   {
    "duration": 7,
    "start_time": "2022-06-14T16:42:47.427Z"
   },
   {
    "duration": 380,
    "start_time": "2022-06-14T16:42:47.436Z"
   },
   {
    "duration": 370,
    "start_time": "2022-06-14T16:42:47.819Z"
   },
   {
    "duration": 6,
    "start_time": "2022-06-14T16:42:48.191Z"
   },
   {
    "duration": 58,
    "start_time": "2022-06-14T16:43:03.178Z"
   },
   {
    "duration": 50,
    "start_time": "2022-06-14T16:43:03.393Z"
   },
   {
    "duration": 4,
    "start_time": "2022-06-14T16:43:04.310Z"
   },
   {
    "duration": 6,
    "start_time": "2022-06-14T16:43:04.511Z"
   },
   {
    "duration": 7,
    "start_time": "2022-06-14T16:43:04.764Z"
   },
   {
    "duration": 9,
    "start_time": "2022-06-14T16:43:04.984Z"
   },
   {
    "duration": 6,
    "start_time": "2022-06-14T16:43:05.333Z"
   },
   {
    "duration": 199,
    "start_time": "2022-06-14T16:43:06.270Z"
   },
   {
    "duration": 12,
    "start_time": "2022-06-14T16:43:06.950Z"
   },
   {
    "duration": 9,
    "start_time": "2022-06-14T16:43:07.561Z"
   },
   {
    "duration": 5,
    "start_time": "2022-06-14T16:43:19.492Z"
   },
   {
    "duration": 22,
    "start_time": "2022-06-14T16:43:36.634Z"
   },
   {
    "duration": 19,
    "start_time": "2022-06-14T16:43:48.454Z"
   },
   {
    "duration": 55,
    "start_time": "2022-06-14T16:44:20.050Z"
   },
   {
    "duration": 69,
    "start_time": "2022-06-14T16:44:20.531Z"
   },
   {
    "duration": 4,
    "start_time": "2022-06-14T16:44:27.600Z"
   },
   {
    "duration": 6,
    "start_time": "2022-06-14T16:44:27.906Z"
   },
   {
    "duration": 9,
    "start_time": "2022-06-14T16:44:28.280Z"
   },
   {
    "duration": 11,
    "start_time": "2022-06-14T16:44:28.679Z"
   },
   {
    "duration": 7,
    "start_time": "2022-06-14T16:44:30.046Z"
   },
   {
    "duration": 11,
    "start_time": "2022-06-14T16:44:48.513Z"
   },
   {
    "duration": 25,
    "start_time": "2022-06-14T16:45:23.301Z"
   },
   {
    "duration": 6,
    "start_time": "2022-06-14T16:46:02.405Z"
   },
   {
    "duration": 7,
    "start_time": "2022-06-14T16:46:35.932Z"
   },
   {
    "duration": 73,
    "start_time": "2022-06-14T16:46:41.990Z"
   },
   {
    "duration": 76,
    "start_time": "2022-06-14T16:46:42.219Z"
   },
   {
    "duration": 132,
    "start_time": "2022-06-14T16:46:42.716Z"
   },
   {
    "duration": 5,
    "start_time": "2022-06-14T16:46:55.001Z"
   },
   {
    "duration": 5,
    "start_time": "2022-06-14T16:47:04.593Z"
   },
   {
    "duration": 5,
    "start_time": "2022-06-14T16:47:15.929Z"
   },
   {
    "duration": 6,
    "start_time": "2022-06-14T16:47:28.954Z"
   },
   {
    "duration": 3,
    "start_time": "2022-06-14T16:47:41.134Z"
   },
   {
    "duration": 6,
    "start_time": "2022-06-14T16:47:41.542Z"
   },
   {
    "duration": 6,
    "start_time": "2022-06-14T16:47:42.227Z"
   },
   {
    "duration": 10,
    "start_time": "2022-06-14T16:47:45.868Z"
   },
   {
    "duration": 7,
    "start_time": "2022-06-14T16:47:46.183Z"
   },
   {
    "duration": 17,
    "start_time": "2022-06-14T16:47:47.133Z"
   },
   {
    "duration": 11,
    "start_time": "2022-06-14T16:47:54.055Z"
   },
   {
    "duration": 6,
    "start_time": "2022-06-14T16:47:54.501Z"
   },
   {
    "duration": 210,
    "start_time": "2022-06-14T16:47:58.392Z"
   },
   {
    "duration": 17,
    "start_time": "2022-06-14T16:48:03.402Z"
   },
   {
    "duration": 23,
    "start_time": "2022-06-14T16:50:24.081Z"
   },
   {
    "duration": 12,
    "start_time": "2022-06-14T16:51:27.340Z"
   },
   {
    "duration": 13,
    "start_time": "2022-06-14T16:51:28.136Z"
   },
   {
    "duration": 906,
    "start_time": "2022-06-14T16:51:51.075Z"
   },
   {
    "duration": 11,
    "start_time": "2022-06-14T16:52:22.491Z"
   },
   {
    "duration": 6,
    "start_time": "2022-06-14T16:52:26.893Z"
   },
   {
    "duration": 257,
    "start_time": "2022-06-14T16:52:27.505Z"
   },
   {
    "duration": 40,
    "start_time": "2022-06-14T16:52:53.644Z"
   },
   {
    "duration": 39,
    "start_time": "2022-06-14T16:53:47.981Z"
   },
   {
    "duration": 25,
    "start_time": "2022-06-14T16:55:01.289Z"
   },
   {
    "duration": 26,
    "start_time": "2022-06-14T16:55:07.176Z"
   },
   {
    "duration": 16,
    "start_time": "2022-06-14T16:55:17.014Z"
   },
   {
    "duration": 114,
    "start_time": "2022-06-14T16:55:44.278Z"
   },
   {
    "duration": 178,
    "start_time": "2022-06-14T16:56:38.343Z"
   },
   {
    "duration": 146,
    "start_time": "2022-06-14T16:57:23.133Z"
   },
   {
    "duration": 17,
    "start_time": "2022-06-14T16:57:58.277Z"
   },
   {
    "duration": 6,
    "start_time": "2022-06-14T16:58:28.323Z"
   },
   {
    "duration": 359,
    "start_time": "2022-06-14T16:58:37.602Z"
   },
   {
    "duration": 7,
    "start_time": "2022-06-14T16:59:31.256Z"
   },
   {
    "duration": 10,
    "start_time": "2022-06-14T16:59:55.402Z"
   },
   {
    "duration": 26,
    "start_time": "2022-06-14T17:00:02.489Z"
   },
   {
    "duration": 168,
    "start_time": "2022-06-14T17:00:25.497Z"
   },
   {
    "duration": 8,
    "start_time": "2022-06-14T17:07:14.389Z"
   },
   {
    "duration": 295,
    "start_time": "2022-06-14T17:08:18.598Z"
   },
   {
    "duration": 24,
    "start_time": "2022-06-14T17:08:57.791Z"
   },
   {
    "duration": 358,
    "start_time": "2022-06-14T17:09:42.526Z"
   },
   {
    "duration": 14,
    "start_time": "2022-06-14T17:12:13.502Z"
   },
   {
    "duration": 26,
    "start_time": "2022-06-14T17:12:28.044Z"
   },
   {
    "duration": 20,
    "start_time": "2022-06-14T17:13:09.512Z"
   },
   {
    "duration": 16,
    "start_time": "2022-06-14T17:15:16.375Z"
   },
   {
    "duration": 170,
    "start_time": "2022-06-14T17:15:56.761Z"
   },
   {
    "duration": 6,
    "start_time": "2022-06-14T17:16:02.339Z"
   },
   {
    "duration": 316,
    "start_time": "2022-06-14T17:16:58.371Z"
   },
   {
    "duration": 439,
    "start_time": "2022-06-14T17:17:48.056Z"
   },
   {
    "duration": 13,
    "start_time": "2022-06-14T17:20:26.493Z"
   },
   {
    "duration": 178,
    "start_time": "2022-06-14T17:21:30.948Z"
   },
   {
    "duration": 13,
    "start_time": "2022-06-14T17:23:42.532Z"
   },
   {
    "duration": 147,
    "start_time": "2022-06-14T17:23:51.007Z"
   },
   {
    "duration": 15,
    "start_time": "2022-06-14T17:24:04.378Z"
   },
   {
    "duration": 195,
    "start_time": "2022-06-14T17:24:09.907Z"
   },
   {
    "duration": 14,
    "start_time": "2022-06-14T17:24:29.254Z"
   },
   {
    "duration": 10,
    "start_time": "2022-06-14T17:24:48.391Z"
   },
   {
    "duration": 197,
    "start_time": "2022-06-14T17:25:03.056Z"
   },
   {
    "duration": 199,
    "start_time": "2022-06-14T17:25:14.638Z"
   },
   {
    "duration": 34,
    "start_time": "2022-06-14T17:25:55.642Z"
   },
   {
    "duration": 36,
    "start_time": "2022-06-14T17:26:08.236Z"
   },
   {
    "duration": 211,
    "start_time": "2022-06-14T17:26:18.669Z"
   },
   {
    "duration": 231,
    "start_time": "2022-06-14T17:26:58.796Z"
   },
   {
    "duration": 232,
    "start_time": "2022-06-14T17:27:15.886Z"
   },
   {
    "duration": 209,
    "start_time": "2022-06-14T17:28:41.258Z"
   },
   {
    "duration": 7,
    "start_time": "2022-06-14T17:35:58.577Z"
   },
   {
    "duration": 254,
    "start_time": "2022-06-14T17:36:14.886Z"
   },
   {
    "duration": 13,
    "start_time": "2022-06-14T17:36:46.282Z"
   },
   {
    "duration": 144,
    "start_time": "2022-06-14T17:37:04.354Z"
   },
   {
    "duration": 10,
    "start_time": "2022-06-14T17:37:12.647Z"
   },
   {
    "duration": 12,
    "start_time": "2022-06-14T17:39:29.647Z"
   },
   {
    "duration": 11,
    "start_time": "2022-06-14T17:41:01.667Z"
   },
   {
    "duration": 54,
    "start_time": "2022-06-14T17:41:52.082Z"
   },
   {
    "duration": 20,
    "start_time": "2022-06-14T17:41:57.939Z"
   },
   {
    "duration": 12,
    "start_time": "2022-06-14T17:44:16.433Z"
   },
   {
    "duration": 10,
    "start_time": "2022-06-14T17:44:25.558Z"
   },
   {
    "duration": 6,
    "start_time": "2022-06-14T17:45:32.888Z"
   },
   {
    "duration": 7,
    "start_time": "2022-06-14T17:45:52.443Z"
   },
   {
    "duration": 9,
    "start_time": "2022-06-14T17:46:31.309Z"
   },
   {
    "duration": 1380,
    "start_time": "2022-06-15T07:33:03.811Z"
   },
   {
    "duration": 57,
    "start_time": "2022-06-15T07:33:05.193Z"
   },
   {
    "duration": 3,
    "start_time": "2022-06-15T07:33:05.252Z"
   },
   {
    "duration": 24,
    "start_time": "2022-06-15T07:33:05.257Z"
   },
   {
    "duration": 30,
    "start_time": "2022-06-15T07:33:05.283Z"
   },
   {
    "duration": 37,
    "start_time": "2022-06-15T07:33:05.315Z"
   },
   {
    "duration": 19,
    "start_time": "2022-06-15T07:33:05.354Z"
   },
   {
    "duration": 32,
    "start_time": "2022-06-15T07:33:05.374Z"
   },
   {
    "duration": 12,
    "start_time": "2022-06-15T07:33:05.407Z"
   },
   {
    "duration": 40,
    "start_time": "2022-06-15T07:33:05.421Z"
   },
   {
    "duration": 171,
    "start_time": "2022-06-15T07:33:05.462Z"
   },
   {
    "duration": 30,
    "start_time": "2022-06-15T07:33:05.636Z"
   },
   {
    "duration": 28,
    "start_time": "2022-06-15T07:33:05.668Z"
   },
   {
    "duration": 37,
    "start_time": "2022-06-15T07:33:05.698Z"
   },
   {
    "duration": 696,
    "start_time": "2022-06-15T07:33:05.737Z"
   },
   {
    "duration": 7,
    "start_time": "2022-06-15T07:33:06.435Z"
   },
   {
    "duration": 336,
    "start_time": "2022-06-15T07:33:06.443Z"
   },
   {
    "duration": 17,
    "start_time": "2022-06-15T07:33:06.782Z"
   },
   {
    "duration": 18,
    "start_time": "2022-06-15T07:33:06.800Z"
   },
   {
    "duration": 297,
    "start_time": "2022-06-15T07:33:06.820Z"
   },
   {
    "duration": 11,
    "start_time": "2022-06-15T07:33:07.118Z"
   },
   {
    "duration": 16,
    "start_time": "2022-06-15T07:33:07.131Z"
   },
   {
    "duration": 36,
    "start_time": "2022-06-15T07:33:07.149Z"
   },
   {
    "duration": 131,
    "start_time": "2022-06-15T07:33:07.187Z"
   },
   {
    "duration": 7,
    "start_time": "2022-06-15T07:33:07.325Z"
   },
   {
    "duration": 378,
    "start_time": "2022-06-15T07:33:07.334Z"
   },
   {
    "duration": 337,
    "start_time": "2022-06-15T07:33:07.725Z"
   },
   {
    "duration": 12,
    "start_time": "2022-06-15T07:33:08.066Z"
   },
   {
    "duration": 228,
    "start_time": "2022-06-15T07:33:08.080Z"
   },
   {
    "duration": 27,
    "start_time": "2022-06-15T07:33:08.309Z"
   },
   {
    "duration": 5,
    "start_time": "2022-06-15T07:33:08.337Z"
   },
   {
    "duration": 11,
    "start_time": "2022-06-15T07:44:35.027Z"
   },
   {
    "duration": 9,
    "start_time": "2022-06-15T07:46:15.142Z"
   },
   {
    "duration": 110,
    "start_time": "2022-06-15T07:47:44.372Z"
   },
   {
    "duration": 14,
    "start_time": "2022-06-15T07:48:43.167Z"
   },
   {
    "duration": 9,
    "start_time": "2022-06-15T07:49:06.891Z"
   },
   {
    "duration": 9,
    "start_time": "2022-06-15T07:52:37.055Z"
   },
   {
    "duration": 10,
    "start_time": "2022-06-15T07:57:03.954Z"
   },
   {
    "duration": 12,
    "start_time": "2022-06-15T07:57:22.555Z"
   },
   {
    "duration": 9,
    "start_time": "2022-06-15T07:57:48.098Z"
   },
   {
    "duration": 9,
    "start_time": "2022-06-15T07:58:16.781Z"
   },
   {
    "duration": 6,
    "start_time": "2022-06-15T07:58:43.799Z"
   },
   {
    "duration": 17,
    "start_time": "2022-06-15T07:58:47.406Z"
   },
   {
    "duration": 6,
    "start_time": "2022-06-15T07:59:03.863Z"
   },
   {
    "duration": 12,
    "start_time": "2022-06-15T08:02:37.782Z"
   },
   {
    "duration": 41,
    "start_time": "2022-06-15T08:02:43.957Z"
   },
   {
    "duration": 12,
    "start_time": "2022-06-15T08:03:03.943Z"
   },
   {
    "duration": 13,
    "start_time": "2022-06-15T08:04:11.186Z"
   },
   {
    "duration": 6,
    "start_time": "2022-06-15T08:05:16.147Z"
   },
   {
    "duration": 7,
    "start_time": "2022-06-15T08:05:26.417Z"
   },
   {
    "duration": 9,
    "start_time": "2022-06-15T08:07:25.442Z"
   },
   {
    "duration": 17,
    "start_time": "2022-06-15T08:07:41.291Z"
   },
   {
    "duration": 7,
    "start_time": "2022-06-15T08:08:40.062Z"
   },
   {
    "duration": 16,
    "start_time": "2022-06-15T08:09:02.339Z"
   },
   {
    "duration": 17,
    "start_time": "2022-06-15T08:09:42.621Z"
   },
   {
    "duration": 17,
    "start_time": "2022-06-15T08:10:03.189Z"
   },
   {
    "duration": 13,
    "start_time": "2022-06-15T08:11:13.126Z"
   },
   {
    "duration": 16,
    "start_time": "2022-06-15T08:11:55.782Z"
   },
   {
    "duration": 14,
    "start_time": "2022-06-15T08:13:35.438Z"
   },
   {
    "duration": 20,
    "start_time": "2022-06-15T08:13:45.040Z"
   },
   {
    "duration": 13,
    "start_time": "2022-06-15T08:14:13.464Z"
   },
   {
    "duration": 19,
    "start_time": "2022-06-15T08:14:28.142Z"
   },
   {
    "duration": 13,
    "start_time": "2022-06-15T08:14:40.671Z"
   },
   {
    "duration": 38,
    "start_time": "2022-06-15T08:15:33.993Z"
   },
   {
    "duration": 13,
    "start_time": "2022-06-15T08:15:40.859Z"
   },
   {
    "duration": 16,
    "start_time": "2022-06-15T08:16:01.957Z"
   },
   {
    "duration": 28,
    "start_time": "2022-06-15T08:16:24.702Z"
   },
   {
    "duration": 17,
    "start_time": "2022-06-15T08:16:33.345Z"
   },
   {
    "duration": 28,
    "start_time": "2022-06-15T08:16:55.908Z"
   },
   {
    "duration": 33,
    "start_time": "2022-06-15T08:17:10.084Z"
   },
   {
    "duration": 32,
    "start_time": "2022-06-15T08:17:32.807Z"
   },
   {
    "duration": 35,
    "start_time": "2022-06-15T08:18:51.298Z"
   },
   {
    "duration": 13,
    "start_time": "2022-06-15T08:19:05.267Z"
   },
   {
    "duration": 13,
    "start_time": "2022-06-15T08:19:10.715Z"
   },
   {
    "duration": 13,
    "start_time": "2022-06-15T08:19:19.502Z"
   },
   {
    "duration": 14,
    "start_time": "2022-06-15T08:19:34.324Z"
   },
   {
    "duration": 15,
    "start_time": "2022-06-15T08:21:09.592Z"
   },
   {
    "duration": 18,
    "start_time": "2022-06-15T08:22:02.806Z"
   },
   {
    "duration": 2700,
    "start_time": "2022-06-15T08:23:44.864Z"
   },
   {
    "duration": 470,
    "start_time": "2022-06-15T08:24:38.607Z"
   },
   {
    "duration": 156,
    "start_time": "2022-06-15T08:25:01.050Z"
   },
   {
    "duration": 474,
    "start_time": "2022-06-15T08:25:12.840Z"
   },
   {
    "duration": 373,
    "start_time": "2022-06-15T08:25:37.884Z"
   },
   {
    "duration": 591,
    "start_time": "2022-06-15T08:26:28.545Z"
   },
   {
    "duration": 17,
    "start_time": "2022-06-15T08:27:24.871Z"
   },
   {
    "duration": 15,
    "start_time": "2022-06-15T08:39:32.707Z"
   },
   {
    "duration": 8,
    "start_time": "2022-06-15T08:42:45.190Z"
   },
   {
    "duration": 130,
    "start_time": "2022-06-15T08:42:49.633Z"
   },
   {
    "duration": 19,
    "start_time": "2022-06-15T08:43:10.754Z"
   },
   {
    "duration": 80418,
    "start_time": "2022-06-15T08:43:13.929Z"
   },
   {
    "duration": 138,
    "start_time": "2022-06-15T08:45:19.645Z"
   },
   {
    "duration": 144,
    "start_time": "2022-06-15T08:45:43.678Z"
   },
   {
    "duration": 192,
    "start_time": "2022-06-15T08:46:26.913Z"
   },
   {
    "duration": 175,
    "start_time": "2022-06-15T08:46:53.086Z"
   },
   {
    "duration": 19,
    "start_time": "2022-06-15T08:48:15.103Z"
   },
   {
    "duration": 13,
    "start_time": "2022-06-15T08:48:32.098Z"
   },
   {
    "duration": 13,
    "start_time": "2022-06-15T08:48:44.501Z"
   },
   {
    "duration": 187,
    "start_time": "2022-06-15T08:48:44.854Z"
   },
   {
    "duration": 227,
    "start_time": "2022-06-15T08:49:27.327Z"
   },
   {
    "duration": 29,
    "start_time": "2022-06-15T09:00:40.927Z"
   },
   {
    "duration": 59,
    "start_time": "2022-06-15T09:00:59.881Z"
   },
   {
    "duration": 53,
    "start_time": "2022-06-15T09:02:55.731Z"
   },
   {
    "duration": 45,
    "start_time": "2022-06-15T09:03:30.144Z"
   },
   {
    "duration": 5,
    "start_time": "2022-06-15T09:06:12.981Z"
   },
   {
    "duration": 269,
    "start_time": "2022-06-15T09:06:34.642Z"
   },
   {
    "duration": 9,
    "start_time": "2022-06-15T09:06:44.723Z"
   },
   {
    "duration": 10,
    "start_time": "2022-06-15T09:08:20.753Z"
   },
   {
    "duration": 11,
    "start_time": "2022-06-15T09:11:10.168Z"
   },
   {
    "duration": 25,
    "start_time": "2022-06-15T09:12:09.103Z"
   },
   {
    "duration": 10,
    "start_time": "2022-06-15T09:12:58.204Z"
   },
   {
    "duration": 10,
    "start_time": "2022-06-15T09:13:59.525Z"
   },
   {
    "duration": 10,
    "start_time": "2022-06-15T09:14:35.004Z"
   },
   {
    "duration": 11,
    "start_time": "2022-06-15T09:15:01.514Z"
   },
   {
    "duration": 11,
    "start_time": "2022-06-15T09:16:18.385Z"
   },
   {
    "duration": 8,
    "start_time": "2022-06-15T09:17:47.164Z"
   },
   {
    "duration": 12,
    "start_time": "2022-06-15T09:17:58.748Z"
   },
   {
    "duration": 8,
    "start_time": "2022-06-15T09:18:09.981Z"
   },
   {
    "duration": 8,
    "start_time": "2022-06-15T09:19:56.394Z"
   },
   {
    "duration": 11,
    "start_time": "2022-06-15T09:20:54.428Z"
   },
   {
    "duration": 8,
    "start_time": "2022-06-15T09:21:07.263Z"
   },
   {
    "duration": 7,
    "start_time": "2022-06-15T09:21:23.270Z"
   },
   {
    "duration": 9,
    "start_time": "2022-06-15T09:21:23.725Z"
   },
   {
    "duration": 15,
    "start_time": "2022-06-15T09:32:38.614Z"
   },
   {
    "duration": 49,
    "start_time": "2022-06-15T09:52:21.355Z"
   },
   {
    "duration": 39,
    "start_time": "2022-06-15T09:52:24.638Z"
   },
   {
    "duration": 1054,
    "start_time": "2022-06-15T09:53:18.989Z"
   },
   {
    "duration": 42,
    "start_time": "2022-06-15T09:53:20.044Z"
   },
   {
    "duration": 3,
    "start_time": "2022-06-15T09:53:20.087Z"
   },
   {
    "duration": 9,
    "start_time": "2022-06-15T09:53:20.091Z"
   },
   {
    "duration": 31,
    "start_time": "2022-06-15T09:53:20.102Z"
   },
   {
    "duration": 11,
    "start_time": "2022-06-15T09:53:20.135Z"
   },
   {
    "duration": 4,
    "start_time": "2022-06-15T09:53:20.148Z"
   },
   {
    "duration": 14,
    "start_time": "2022-06-15T09:53:20.154Z"
   },
   {
    "duration": 7,
    "start_time": "2022-06-15T09:53:20.169Z"
   },
   {
    "duration": 2,
    "start_time": "2022-06-15T09:53:20.178Z"
   },
   {
    "duration": 171,
    "start_time": "2022-06-15T09:53:20.182Z"
   },
   {
    "duration": 14,
    "start_time": "2022-06-15T09:53:20.354Z"
   },
   {
    "duration": 22,
    "start_time": "2022-06-15T09:53:20.369Z"
   },
   {
    "duration": 6,
    "start_time": "2022-06-15T09:53:20.394Z"
   },
   {
    "duration": 697,
    "start_time": "2022-06-15T09:53:20.401Z"
   },
   {
    "duration": 6,
    "start_time": "2022-06-15T09:53:21.099Z"
   },
   {
    "duration": 234,
    "start_time": "2022-06-15T09:53:21.106Z"
   },
   {
    "duration": 16,
    "start_time": "2022-06-15T09:53:21.341Z"
   },
   {
    "duration": 5,
    "start_time": "2022-06-15T09:53:21.358Z"
   },
   {
    "duration": 282,
    "start_time": "2022-06-15T09:53:21.364Z"
   },
   {
    "duration": 7,
    "start_time": "2022-06-15T09:53:21.647Z"
   },
   {
    "duration": 6,
    "start_time": "2022-06-15T09:53:21.655Z"
   },
   {
    "duration": 12,
    "start_time": "2022-06-15T09:53:21.662Z"
   },
   {
    "duration": 142,
    "start_time": "2022-06-15T09:53:21.676Z"
   },
   {
    "duration": 13,
    "start_time": "2022-06-15T09:53:21.824Z"
   },
   {
    "duration": 339,
    "start_time": "2022-06-15T09:53:21.840Z"
   },
   {
    "duration": 281,
    "start_time": "2022-06-15T09:53:22.180Z"
   },
   {
    "duration": 9,
    "start_time": "2022-06-15T09:53:22.463Z"
   },
   {
    "duration": 206,
    "start_time": "2022-06-15T09:53:22.473Z"
   },
   {
    "duration": 19,
    "start_time": "2022-06-15T09:53:22.680Z"
   },
   {
    "duration": 5,
    "start_time": "2022-06-15T09:53:22.700Z"
   },
   {
    "duration": 23,
    "start_time": "2022-06-15T09:53:22.706Z"
   },
   {
    "duration": 29,
    "start_time": "2022-06-15T09:53:22.730Z"
   },
   {
    "duration": 13,
    "start_time": "2022-06-15T09:53:22.761Z"
   },
   {
    "duration": 12,
    "start_time": "2022-06-15T09:53:22.776Z"
   },
   {
    "duration": 12,
    "start_time": "2022-06-15T09:53:22.789Z"
   },
   {
    "duration": 27,
    "start_time": "2022-06-15T09:53:22.802Z"
   },
   {
    "duration": 8,
    "start_time": "2022-06-15T09:53:22.834Z"
   },
   {
    "duration": 14,
    "start_time": "2022-06-15T09:53:22.843Z"
   },
   {
    "duration": 12,
    "start_time": "2022-06-15T09:53:22.859Z"
   },
   {
    "duration": 19,
    "start_time": "2022-06-15T09:58:37.942Z"
   },
   {
    "duration": 53,
    "start_time": "2022-06-15T09:59:26.815Z"
   },
   {
    "duration": 41,
    "start_time": "2022-06-15T09:59:27.418Z"
   },
   {
    "duration": 19,
    "start_time": "2022-06-15T09:59:29.392Z"
   },
   {
    "duration": 16,
    "start_time": "2022-06-15T10:04:07.536Z"
   },
   {
    "duration": 52,
    "start_time": "2022-06-15T10:38:11.010Z"
   },
   {
    "duration": 50,
    "start_time": "2022-06-15T10:38:11.692Z"
   },
   {
    "duration": 20,
    "start_time": "2022-06-15T10:38:12.313Z"
   },
   {
    "duration": 21,
    "start_time": "2022-06-15T10:38:13.186Z"
   },
   {
    "duration": 3,
    "start_time": "2022-06-15T10:38:15.345Z"
   },
   {
    "duration": 5,
    "start_time": "2022-06-15T10:38:15.884Z"
   },
   {
    "duration": 2,
    "start_time": "2022-06-15T10:38:16.951Z"
   },
   {
    "duration": 8,
    "start_time": "2022-06-15T10:38:17.647Z"
   },
   {
    "duration": 5,
    "start_time": "2022-06-15T10:38:18.238Z"
   },
   {
    "duration": 16,
    "start_time": "2022-06-15T10:38:25.822Z"
   },
   {
    "duration": 9,
    "start_time": "2022-06-15T10:38:38.005Z"
   },
   {
    "duration": 5,
    "start_time": "2022-06-15T10:42:57.797Z"
   },
   {
    "duration": 12,
    "start_time": "2022-06-15T10:43:02.314Z"
   },
   {
    "duration": 5,
    "start_time": "2022-06-15T10:43:41.661Z"
   },
   {
    "duration": 13,
    "start_time": "2022-06-15T10:43:46.791Z"
   },
   {
    "duration": 3,
    "start_time": "2022-06-15T10:49:55.288Z"
   },
   {
    "duration": 5,
    "start_time": "2022-06-15T10:49:55.516Z"
   },
   {
    "duration": 9,
    "start_time": "2022-06-15T10:49:55.789Z"
   },
   {
    "duration": 5,
    "start_time": "2022-06-15T10:49:56.050Z"
   },
   {
    "duration": 4,
    "start_time": "2022-06-15T10:49:56.300Z"
   },
   {
    "duration": 18,
    "start_time": "2022-06-15T10:49:56.496Z"
   },
   {
    "duration": 8,
    "start_time": "2022-06-15T10:49:56.945Z"
   },
   {
    "duration": 14,
    "start_time": "2022-06-15T10:54:05.493Z"
   },
   {
    "duration": 16,
    "start_time": "2022-06-15T10:55:26.432Z"
   },
   {
    "duration": 170,
    "start_time": "2022-06-15T10:55:50.635Z"
   },
   {
    "duration": 16,
    "start_time": "2022-06-15T10:55:51.444Z"
   },
   {
    "duration": 12,
    "start_time": "2022-06-15T10:57:49.923Z"
   },
   {
    "duration": 7,
    "start_time": "2022-06-15T10:57:50.300Z"
   },
   {
    "duration": 715,
    "start_time": "2022-06-15T10:58:56.824Z"
   },
   {
    "duration": 379,
    "start_time": "2022-06-15T11:10:03.363Z"
   },
   {
    "duration": 281,
    "start_time": "2022-06-15T11:13:54.557Z"
   },
   {
    "duration": 4,
    "start_time": "2022-06-15T11:16:00.993Z"
   },
   {
    "duration": 313,
    "start_time": "2022-06-15T11:16:10.594Z"
   },
   {
    "duration": 534,
    "start_time": "2022-06-15T11:17:18.084Z"
   },
   {
    "duration": 255,
    "start_time": "2022-06-15T11:17:42.014Z"
   },
   {
    "duration": 174,
    "start_time": "2022-06-15T11:21:01.315Z"
   },
   {
    "duration": 205,
    "start_time": "2022-06-15T11:21:33.793Z"
   },
   {
    "duration": 202,
    "start_time": "2022-06-15T11:21:40.443Z"
   },
   {
    "duration": 385,
    "start_time": "2022-06-15T11:22:28.064Z"
   },
   {
    "duration": 298,
    "start_time": "2022-06-15T11:22:56.016Z"
   },
   {
    "duration": 400,
    "start_time": "2022-06-15T11:24:19.714Z"
   },
   {
    "duration": 432,
    "start_time": "2022-06-15T11:25:04.222Z"
   },
   {
    "duration": 373,
    "start_time": "2022-06-15T11:25:39.566Z"
   },
   {
    "duration": 13,
    "start_time": "2022-06-15T11:26:27.525Z"
   },
   {
    "duration": 261,
    "start_time": "2022-06-15T11:26:37.594Z"
   },
   {
    "duration": 391,
    "start_time": "2022-06-15T11:26:59.729Z"
   },
   {
    "duration": 206,
    "start_time": "2022-06-15T11:27:07.191Z"
   },
   {
    "duration": 364,
    "start_time": "2022-06-15T11:27:40.820Z"
   },
   {
    "duration": 201,
    "start_time": "2022-06-15T11:27:45.946Z"
   },
   {
    "duration": 208,
    "start_time": "2022-06-15T11:29:34.812Z"
   },
   {
    "duration": 15,
    "start_time": "2022-06-15T11:34:20.029Z"
   },
   {
    "duration": 10,
    "start_time": "2022-06-15T11:34:47.794Z"
   },
   {
    "duration": 7,
    "start_time": "2022-06-15T11:34:48.725Z"
   },
   {
    "duration": 3,
    "start_time": "2022-06-15T11:35:14.848Z"
   },
   {
    "duration": 17,
    "start_time": "2022-06-15T11:35:25.459Z"
   },
   {
    "duration": 23,
    "start_time": "2022-06-15T11:35:34.216Z"
   },
   {
    "duration": 14,
    "start_time": "2022-06-15T11:35:48.946Z"
   },
   {
    "duration": 4,
    "start_time": "2022-06-15T11:36:29.793Z"
   },
   {
    "duration": 37,
    "start_time": "2022-06-15T11:36:58.174Z"
   },
   {
    "duration": 7,
    "start_time": "2022-06-15T11:37:46.917Z"
   },
   {
    "duration": 379,
    "start_time": "2022-06-15T11:38:15.588Z"
   },
   {
    "duration": 11,
    "start_time": "2022-06-15T11:38:47.126Z"
   },
   {
    "duration": 51,
    "start_time": "2022-06-15T11:39:40.703Z"
   },
   {
    "duration": 52,
    "start_time": "2022-06-15T11:39:40.902Z"
   },
   {
    "duration": 17,
    "start_time": "2022-06-15T11:39:41.348Z"
   },
   {
    "duration": 22,
    "start_time": "2022-06-15T11:39:41.916Z"
   },
   {
    "duration": 4,
    "start_time": "2022-06-15T11:39:43.850Z"
   },
   {
    "duration": 6,
    "start_time": "2022-06-15T11:39:44.191Z"
   },
   {
    "duration": 9,
    "start_time": "2022-06-15T11:39:44.633Z"
   },
   {
    "duration": 6,
    "start_time": "2022-06-15T11:39:44.992Z"
   },
   {
    "duration": 6,
    "start_time": "2022-06-15T11:39:45.269Z"
   },
   {
    "duration": 13,
    "start_time": "2022-06-15T11:39:46.201Z"
   },
   {
    "duration": 9,
    "start_time": "2022-06-15T11:39:48.991Z"
   },
   {
    "duration": 159,
    "start_time": "2022-06-15T11:39:51.436Z"
   },
   {
    "duration": 28,
    "start_time": "2022-06-15T11:39:54.301Z"
   },
   {
    "duration": 8,
    "start_time": "2022-06-15T11:40:04.163Z"
   },
   {
    "duration": 8,
    "start_time": "2022-06-15T11:40:05.667Z"
   },
   {
    "duration": 15,
    "start_time": "2022-06-15T11:41:11.225Z"
   },
   {
    "duration": 31,
    "start_time": "2022-06-15T11:41:12.630Z"
   },
   {
    "duration": 8,
    "start_time": "2022-06-15T11:41:45.225Z"
   },
   {
    "duration": 22,
    "start_time": "2022-06-15T11:41:46.859Z"
   },
   {
    "duration": 5,
    "start_time": "2022-06-15T11:42:09.050Z"
   },
   {
    "duration": 493,
    "start_time": "2022-06-15T11:42:23.563Z"
   },
   {
    "duration": 47,
    "start_time": "2022-06-15T11:43:05.609Z"
   },
   {
    "duration": 39,
    "start_time": "2022-06-15T11:43:05.769Z"
   },
   {
    "duration": 21,
    "start_time": "2022-06-15T11:43:05.946Z"
   },
   {
    "duration": 29,
    "start_time": "2022-06-15T11:43:06.112Z"
   },
   {
    "duration": 3,
    "start_time": "2022-06-15T11:43:06.914Z"
   },
   {
    "duration": 6,
    "start_time": "2022-06-15T11:43:07.091Z"
   },
   {
    "duration": 10,
    "start_time": "2022-06-15T11:43:07.514Z"
   },
   {
    "duration": 6,
    "start_time": "2022-06-15T11:43:07.690Z"
   },
   {
    "duration": 7,
    "start_time": "2022-06-15T11:43:07.864Z"
   },
   {
    "duration": 19,
    "start_time": "2022-06-15T11:43:08.046Z"
   },
   {
    "duration": 12,
    "start_time": "2022-06-15T11:43:08.254Z"
   },
   {
    "duration": 178,
    "start_time": "2022-06-15T11:43:09.693Z"
   },
   {
    "duration": 14,
    "start_time": "2022-06-15T11:43:10.147Z"
   },
   {
    "duration": 8,
    "start_time": "2022-06-15T11:43:10.756Z"
   },
   {
    "duration": 364,
    "start_time": "2022-06-15T11:43:11.328Z"
   },
   {
    "duration": 195,
    "start_time": "2022-06-15T11:43:15.159Z"
   },
   {
    "duration": 17,
    "start_time": "2022-06-15T11:46:54.800Z"
   },
   {
    "duration": 6,
    "start_time": "2022-06-15T11:47:38.936Z"
   },
   {
    "duration": 369,
    "start_time": "2022-06-15T12:08:25.675Z"
   },
   {
    "duration": 365,
    "start_time": "2022-06-15T12:08:57.311Z"
   },
   {
    "duration": 519,
    "start_time": "2022-06-15T12:09:46.660Z"
   },
   {
    "duration": 388,
    "start_time": "2022-06-15T12:10:17.364Z"
   },
   {
    "duration": 380,
    "start_time": "2022-06-15T12:10:40.571Z"
   },
   {
    "duration": 382,
    "start_time": "2022-06-15T12:11:07.041Z"
   },
   {
    "duration": 513,
    "start_time": "2022-06-15T12:11:55.475Z"
   },
   {
    "duration": 35,
    "start_time": "2022-06-15T12:12:36.547Z"
   },
   {
    "duration": 8,
    "start_time": "2022-06-15T12:12:58.479Z"
   },
   {
    "duration": 504,
    "start_time": "2022-06-15T12:13:17.460Z"
   },
   {
    "duration": 15,
    "start_time": "2022-06-15T12:14:43.269Z"
   },
   {
    "duration": 15,
    "start_time": "2022-06-15T12:15:07.816Z"
   },
   {
    "duration": 13,
    "start_time": "2022-06-15T12:15:23.809Z"
   },
   {
    "duration": 14,
    "start_time": "2022-06-15T12:15:54.462Z"
   },
   {
    "duration": 11,
    "start_time": "2022-06-15T12:16:09.150Z"
   },
   {
    "duration": 391,
    "start_time": "2022-06-15T12:16:28.257Z"
   },
   {
    "duration": 371,
    "start_time": "2022-06-15T12:17:33.283Z"
   },
   {
    "duration": 362,
    "start_time": "2022-06-15T12:17:55.946Z"
   },
   {
    "duration": 583,
    "start_time": "2022-06-15T12:18:09.912Z"
   },
   {
    "duration": 215,
    "start_time": "2022-06-15T12:18:30.337Z"
   },
   {
    "duration": 208,
    "start_time": "2022-06-15T12:18:35.935Z"
   },
   {
    "duration": 302,
    "start_time": "2022-06-15T12:18:42.018Z"
   },
   {
    "duration": 207,
    "start_time": "2022-06-15T12:18:47.560Z"
   },
   {
    "duration": 218,
    "start_time": "2022-06-15T12:18:51.420Z"
   },
   {
    "duration": 6,
    "start_time": "2022-06-15T12:28:19.534Z"
   },
   {
    "duration": 298,
    "start_time": "2022-06-15T12:40:27.602Z"
   },
   {
    "duration": 8,
    "start_time": "2022-06-15T12:41:44.476Z"
   },
   {
    "duration": 7,
    "start_time": "2022-06-15T12:41:53.588Z"
   },
   {
    "duration": 9,
    "start_time": "2022-06-15T12:45:19.878Z"
   },
   {
    "duration": 13,
    "start_time": "2022-06-15T12:45:25.902Z"
   },
   {
    "duration": 16,
    "start_time": "2022-06-15T12:47:43.480Z"
   },
   {
    "duration": 14,
    "start_time": "2022-06-15T12:48:05.278Z"
   },
   {
    "duration": 13,
    "start_time": "2022-06-15T12:49:04.220Z"
   },
   {
    "duration": 10,
    "start_time": "2022-06-15T12:49:39.189Z"
   },
   {
    "duration": 134,
    "start_time": "2022-06-15T12:51:19.881Z"
   },
   {
    "duration": 180,
    "start_time": "2022-06-15T12:52:42.683Z"
   },
   {
    "duration": 297,
    "start_time": "2022-06-15T12:53:02.962Z"
   },
   {
    "duration": 175,
    "start_time": "2022-06-15T12:53:37.097Z"
   },
   {
    "duration": 151,
    "start_time": "2022-06-15T12:53:43.352Z"
   },
   {
    "duration": 26,
    "start_time": "2022-06-15T12:54:32.602Z"
   },
   {
    "duration": 12,
    "start_time": "2022-06-15T12:56:18.691Z"
   },
   {
    "duration": 10,
    "start_time": "2022-06-15T12:56:38.859Z"
   },
   {
    "duration": 11,
    "start_time": "2022-06-15T12:56:59.688Z"
   },
   {
    "duration": 10,
    "start_time": "2022-06-15T12:59:42.921Z"
   },
   {
    "duration": 9,
    "start_time": "2022-06-15T13:00:02.643Z"
   },
   {
    "duration": 34,
    "start_time": "2022-06-15T13:09:07.453Z"
   },
   {
    "duration": 34,
    "start_time": "2022-06-15T13:10:11.816Z"
   },
   {
    "duration": 12,
    "start_time": "2022-06-15T13:10:20.205Z"
   },
   {
    "duration": 164,
    "start_time": "2022-06-15T13:11:43.790Z"
   },
   {
    "duration": 27,
    "start_time": "2022-06-15T13:11:48.332Z"
   },
   {
    "duration": 14,
    "start_time": "2022-06-15T13:12:53.058Z"
   },
   {
    "duration": 13,
    "start_time": "2022-06-15T13:14:05.497Z"
   },
   {
    "duration": 5,
    "start_time": "2022-06-15T13:14:33.566Z"
   },
   {
    "duration": 266,
    "start_time": "2022-06-15T13:14:40.868Z"
   },
   {
    "duration": 8,
    "start_time": "2022-06-15T13:14:50.921Z"
   },
   {
    "duration": 15,
    "start_time": "2022-06-15T13:14:55.736Z"
   },
   {
    "duration": 7,
    "start_time": "2022-06-15T13:16:31.287Z"
   },
   {
    "duration": 13,
    "start_time": "2022-06-15T13:16:48.286Z"
   },
   {
    "duration": 7,
    "start_time": "2022-06-15T13:16:49.364Z"
   },
   {
    "duration": 13,
    "start_time": "2022-06-15T13:16:52.599Z"
   },
   {
    "duration": 178,
    "start_time": "2022-06-15T13:16:57.082Z"
   },
   {
    "duration": 34,
    "start_time": "2022-06-15T13:17:06.356Z"
   },
   {
    "duration": 213,
    "start_time": "2022-06-15T13:19:15.888Z"
   },
   {
    "duration": 6,
    "start_time": "2022-06-15T13:21:25.873Z"
   },
   {
    "duration": 288,
    "start_time": "2022-06-15T13:21:38.386Z"
   },
   {
    "duration": 8,
    "start_time": "2022-06-15T13:21:49.079Z"
   },
   {
    "duration": 13,
    "start_time": "2022-06-15T13:21:57.330Z"
   },
   {
    "duration": 6,
    "start_time": "2022-06-15T13:22:08.187Z"
   },
   {
    "duration": 13,
    "start_time": "2022-06-15T13:22:14.242Z"
   },
   {
    "duration": 458,
    "start_time": "2022-06-15T13:23:07.532Z"
   },
   {
    "duration": 48,
    "start_time": "2022-06-15T13:23:46.731Z"
   },
   {
    "duration": 172,
    "start_time": "2022-06-15T13:23:53.157Z"
   },
   {
    "duration": 24,
    "start_time": "2022-06-15T13:26:18.164Z"
   },
   {
    "duration": 18,
    "start_time": "2022-06-15T13:27:01.274Z"
   },
   {
    "duration": 232,
    "start_time": "2022-06-15T13:27:03.563Z"
   },
   {
    "duration": 7,
    "start_time": "2022-06-15T13:27:05.158Z"
   },
   {
    "duration": 297,
    "start_time": "2022-06-15T13:27:07.398Z"
   },
   {
    "duration": 7,
    "start_time": "2022-06-15T13:27:08.589Z"
   },
   {
    "duration": 18,
    "start_time": "2022-06-15T13:27:10.067Z"
   },
   {
    "duration": 27,
    "start_time": "2022-06-15T13:27:11.368Z"
   },
   {
    "duration": 10,
    "start_time": "2022-06-15T13:27:24.806Z"
   },
   {
    "duration": 20,
    "start_time": "2022-06-15T13:27:41.956Z"
   },
   {
    "duration": 12,
    "start_time": "2022-06-15T13:28:16.917Z"
   },
   {
    "duration": 29,
    "start_time": "2022-06-15T13:28:22.493Z"
   },
   {
    "duration": 27,
    "start_time": "2022-06-15T13:28:44.414Z"
   },
   {
    "duration": 13,
    "start_time": "2022-06-15T13:29:11.068Z"
   },
   {
    "duration": 7,
    "start_time": "2022-06-15T13:31:40.789Z"
   },
   {
    "duration": 12,
    "start_time": "2022-06-15T13:31:42.693Z"
   },
   {
    "duration": 150,
    "start_time": "2022-06-15T13:31:44.723Z"
   },
   {
    "duration": 25,
    "start_time": "2022-06-15T13:31:48.127Z"
   },
   {
    "duration": 8,
    "start_time": "2022-06-15T13:31:57.182Z"
   },
   {
    "duration": 430,
    "start_time": "2022-06-15T13:31:58.163Z"
   },
   {
    "duration": 264,
    "start_time": "2022-06-15T13:32:48.970Z"
   },
   {
    "duration": 14,
    "start_time": "2022-06-15T13:36:00.580Z"
   },
   {
    "duration": 163,
    "start_time": "2022-06-15T13:36:10.789Z"
   },
   {
    "duration": 2003,
    "start_time": "2022-06-15T13:51:05.183Z"
   },
   {
    "duration": 165,
    "start_time": "2022-06-15T13:51:32.937Z"
   },
   {
    "duration": 1878,
    "start_time": "2022-06-15T13:52:00.648Z"
   },
   {
    "duration": 12,
    "start_time": "2022-06-15T13:52:56.693Z"
   },
   {
    "duration": 2199,
    "start_time": "2022-06-15T13:56:05.321Z"
   },
   {
    "duration": 30,
    "start_time": "2022-06-15T13:59:22.920Z"
   },
   {
    "duration": 494,
    "start_time": "2022-06-15T13:59:34.078Z"
   },
   {
    "duration": 167,
    "start_time": "2022-06-15T13:59:50.234Z"
   },
   {
    "duration": 5,
    "start_time": "2022-06-15T14:00:40.558Z"
   },
   {
    "duration": 1303,
    "start_time": "2022-06-15T14:01:12.974Z"
   },
   {
    "duration": 50,
    "start_time": "2022-06-15T14:01:14.279Z"
   },
   {
    "duration": 17,
    "start_time": "2022-06-15T14:01:14.331Z"
   },
   {
    "duration": 23,
    "start_time": "2022-06-15T14:01:14.351Z"
   },
   {
    "duration": 4,
    "start_time": "2022-06-15T14:01:14.377Z"
   },
   {
    "duration": 15,
    "start_time": "2022-06-15T14:01:14.384Z"
   },
   {
    "duration": 31,
    "start_time": "2022-06-15T14:01:14.401Z"
   },
   {
    "duration": 5,
    "start_time": "2022-06-15T14:01:14.434Z"
   },
   {
    "duration": 8,
    "start_time": "2022-06-15T14:01:14.441Z"
   },
   {
    "duration": 17,
    "start_time": "2022-06-15T14:01:14.453Z"
   },
   {
    "duration": 10,
    "start_time": "2022-06-15T14:01:14.472Z"
   },
   {
    "duration": 262,
    "start_time": "2022-06-15T14:01:14.484Z"
   },
   {
    "duration": 17,
    "start_time": "2022-06-15T14:01:14.748Z"
   },
   {
    "duration": 9,
    "start_time": "2022-06-15T14:01:14.767Z"
   },
   {
    "duration": 493,
    "start_time": "2022-06-15T14:01:14.778Z"
   },
   {
    "duration": 239,
    "start_time": "2022-06-15T14:01:15.272Z"
   },
   {
    "duration": 23,
    "start_time": "2022-06-15T14:01:15.513Z"
   },
   {
    "duration": 318,
    "start_time": "2022-06-15T14:01:15.538Z"
   },
   {
    "duration": 8,
    "start_time": "2022-06-15T14:01:15.858Z"
   },
   {
    "duration": 325,
    "start_time": "2022-06-15T14:01:15.868Z"
   },
   {
    "duration": 9,
    "start_time": "2022-06-15T14:01:16.194Z"
   },
   {
    "duration": 34,
    "start_time": "2022-06-15T14:01:16.205Z"
   },
   {
    "duration": 11,
    "start_time": "2022-06-15T14:01:16.241Z"
   },
   {
    "duration": 8,
    "start_time": "2022-06-15T14:01:16.253Z"
   },
   {
    "duration": 13,
    "start_time": "2022-06-15T14:01:16.263Z"
   },
   {
    "duration": 192,
    "start_time": "2022-06-15T14:01:16.278Z"
   },
   {
    "duration": 35,
    "start_time": "2022-06-15T14:01:16.472Z"
   },
   {
    "duration": 9,
    "start_time": "2022-06-15T14:01:16.525Z"
   },
   {
    "duration": 413,
    "start_time": "2022-06-15T14:01:16.537Z"
   },
   {
    "duration": 0,
    "start_time": "2022-06-15T14:01:16.951Z"
   },
   {
    "duration": 0,
    "start_time": "2022-06-15T14:01:16.953Z"
   },
   {
    "duration": 0,
    "start_time": "2022-06-15T14:01:16.954Z"
   },
   {
    "duration": 0,
    "start_time": "2022-06-15T14:01:16.955Z"
   },
   {
    "duration": 1,
    "start_time": "2022-06-15T14:01:16.955Z"
   },
   {
    "duration": 0,
    "start_time": "2022-06-15T14:01:16.957Z"
   },
   {
    "duration": 0,
    "start_time": "2022-06-15T14:01:16.958Z"
   },
   {
    "duration": 0,
    "start_time": "2022-06-15T14:01:16.959Z"
   },
   {
    "duration": 0,
    "start_time": "2022-06-15T14:01:16.960Z"
   },
   {
    "duration": 0,
    "start_time": "2022-06-15T14:01:16.961Z"
   },
   {
    "duration": 0,
    "start_time": "2022-06-15T14:01:16.962Z"
   },
   {
    "duration": 0,
    "start_time": "2022-06-15T14:01:16.963Z"
   },
   {
    "duration": 0,
    "start_time": "2022-06-15T14:01:16.963Z"
   },
   {
    "duration": 0,
    "start_time": "2022-06-15T14:01:16.964Z"
   },
   {
    "duration": 7,
    "start_time": "2022-06-15T14:05:35.310Z"
   },
   {
    "duration": 252,
    "start_time": "2022-06-15T14:05:36.084Z"
   },
   {
    "duration": 61,
    "start_time": "2022-06-15T14:06:10.731Z"
   },
   {
    "duration": 46,
    "start_time": "2022-06-15T14:06:10.902Z"
   },
   {
    "duration": 17,
    "start_time": "2022-06-15T14:06:11.080Z"
   },
   {
    "duration": 21,
    "start_time": "2022-06-15T14:06:11.248Z"
   },
   {
    "duration": 3,
    "start_time": "2022-06-15T14:06:11.812Z"
   },
   {
    "duration": 5,
    "start_time": "2022-06-15T14:06:11.980Z"
   },
   {
    "duration": 8,
    "start_time": "2022-06-15T14:06:12.145Z"
   },
   {
    "duration": 4,
    "start_time": "2022-06-15T14:06:12.312Z"
   },
   {
    "duration": 6,
    "start_time": "2022-06-15T14:06:12.465Z"
   },
   {
    "duration": 13,
    "start_time": "2022-06-15T14:06:12.638Z"
   },
   {
    "duration": 11,
    "start_time": "2022-06-15T14:06:12.821Z"
   },
   {
    "duration": 157,
    "start_time": "2022-06-15T14:06:13.347Z"
   },
   {
    "duration": 17,
    "start_time": "2022-06-15T14:06:13.543Z"
   },
   {
    "duration": 9,
    "start_time": "2022-06-15T14:06:13.728Z"
   },
   {
    "duration": 433,
    "start_time": "2022-06-15T14:06:13.908Z"
   },
   {
    "duration": 228,
    "start_time": "2022-06-15T14:06:14.343Z"
   },
   {
    "duration": 18,
    "start_time": "2022-06-15T14:06:14.573Z"
   },
   {
    "duration": 258,
    "start_time": "2022-06-15T14:06:14.715Z"
   },
   {
    "duration": 8,
    "start_time": "2022-06-15T14:06:15.001Z"
   },
   {
    "duration": 301,
    "start_time": "2022-06-15T14:06:15.871Z"
   },
   {
    "duration": 10,
    "start_time": "2022-06-15T14:06:16.174Z"
   },
   {
    "duration": 19,
    "start_time": "2022-06-15T14:06:16.504Z"
   },
   {
    "duration": 19,
    "start_time": "2022-06-15T14:06:16.757Z"
   },
   {
    "duration": 9,
    "start_time": "2022-06-15T14:06:16.994Z"
   },
   {
    "duration": 13,
    "start_time": "2022-06-15T14:06:17.288Z"
   },
   {
    "duration": 158,
    "start_time": "2022-06-15T14:06:17.708Z"
   },
   {
    "duration": 30,
    "start_time": "2022-06-15T14:06:18.064Z"
   },
   {
    "duration": 6,
    "start_time": "2022-06-15T14:06:18.453Z"
   },
   {
    "duration": 351,
    "start_time": "2022-06-15T14:06:18.921Z"
   },
   {
    "duration": 247,
    "start_time": "2022-06-15T14:06:19.871Z"
   },
   {
    "duration": 268,
    "start_time": "2022-06-15T14:08:41.105Z"
   },
   {
    "duration": 294,
    "start_time": "2022-06-15T14:09:06.709Z"
   },
   {
    "duration": 15,
    "start_time": "2022-06-15T14:10:00.909Z"
   },
   {
    "duration": 16,
    "start_time": "2022-06-15T14:10:22.539Z"
   },
   {
    "duration": 15,
    "start_time": "2022-06-15T14:10:30.954Z"
   },
   {
    "duration": 238,
    "start_time": "2022-06-15T14:10:34.529Z"
   },
   {
    "duration": 18,
    "start_time": "2022-06-15T14:12:26.539Z"
   },
   {
    "duration": 15,
    "start_time": "2022-06-15T14:18:30.166Z"
   },
   {
    "duration": 257,
    "start_time": "2022-06-15T14:18:32.703Z"
   },
   {
    "duration": 296,
    "start_time": "2022-06-15T14:22:02.163Z"
   },
   {
    "duration": 273,
    "start_time": "2022-06-15T14:22:14.905Z"
   },
   {
    "duration": 251,
    "start_time": "2022-06-15T14:22:45.619Z"
   },
   {
    "duration": 49,
    "start_time": "2022-06-15T14:26:36.201Z"
   },
   {
    "duration": 43,
    "start_time": "2022-06-15T14:26:36.274Z"
   },
   {
    "duration": 15,
    "start_time": "2022-06-15T14:26:36.319Z"
   },
   {
    "duration": 26,
    "start_time": "2022-06-15T14:26:36.336Z"
   },
   {
    "duration": 3,
    "start_time": "2022-06-15T14:26:36.383Z"
   },
   {
    "duration": 5,
    "start_time": "2022-06-15T14:26:36.411Z"
   },
   {
    "duration": 8,
    "start_time": "2022-06-15T14:26:36.444Z"
   },
   {
    "duration": 5,
    "start_time": "2022-06-15T14:26:36.474Z"
   },
   {
    "duration": 6,
    "start_time": "2022-06-15T14:26:36.501Z"
   },
   {
    "duration": 15,
    "start_time": "2022-06-15T14:26:36.543Z"
   },
   {
    "duration": 13,
    "start_time": "2022-06-15T14:26:36.567Z"
   },
   {
    "duration": 180,
    "start_time": "2022-06-15T14:26:36.674Z"
   },
   {
    "duration": 14,
    "start_time": "2022-06-15T14:26:36.856Z"
   },
   {
    "duration": 17,
    "start_time": "2022-06-15T14:26:36.872Z"
   },
   {
    "duration": 485,
    "start_time": "2022-06-15T14:26:36.891Z"
   },
   {
    "duration": 213,
    "start_time": "2022-06-15T14:26:37.378Z"
   },
   {
    "duration": 17,
    "start_time": "2022-06-15T14:26:37.592Z"
   },
   {
    "duration": 258,
    "start_time": "2022-06-15T14:26:37.611Z"
   },
   {
    "duration": 7,
    "start_time": "2022-06-15T14:26:37.871Z"
   },
   {
    "duration": 312,
    "start_time": "2022-06-15T14:26:37.938Z"
   },
   {
    "duration": 8,
    "start_time": "2022-06-15T14:26:38.394Z"
   },
   {
    "duration": 16,
    "start_time": "2022-06-15T14:26:39.142Z"
   },
   {
    "duration": 12,
    "start_time": "2022-06-15T14:26:39.691Z"
   },
   {
    "duration": 8,
    "start_time": "2022-06-15T14:26:39.933Z"
   },
   {
    "duration": 13,
    "start_time": "2022-06-15T14:26:40.203Z"
   },
   {
    "duration": 154,
    "start_time": "2022-06-15T14:26:40.476Z"
   },
   {
    "duration": 28,
    "start_time": "2022-06-15T14:26:40.711Z"
   },
   {
    "duration": 14,
    "start_time": "2022-06-15T14:26:40.922Z"
   },
   {
    "duration": 309,
    "start_time": "2022-06-15T14:26:41.138Z"
   },
   {
    "duration": 395,
    "start_time": "2022-06-15T14:26:41.449Z"
   },
   {
    "duration": 15,
    "start_time": "2022-06-15T14:26:41.846Z"
   },
   {
    "duration": 224,
    "start_time": "2022-06-15T14:26:42.527Z"
   },
   {
    "duration": 8,
    "start_time": "2022-06-15T14:29:55.698Z"
   },
   {
    "duration": 320,
    "start_time": "2022-06-15T14:29:56.538Z"
   },
   {
    "duration": 303,
    "start_time": "2022-06-15T14:29:58.258Z"
   },
   {
    "duration": 33,
    "start_time": "2022-06-15T14:31:42.760Z"
   },
   {
    "duration": 26,
    "start_time": "2022-06-15T14:31:47.481Z"
   },
   {
    "duration": 7,
    "start_time": "2022-06-15T14:33:37.384Z"
   },
   {
    "duration": 6,
    "start_time": "2022-06-15T14:33:50.182Z"
   },
   {
    "duration": 6,
    "start_time": "2022-06-15T14:34:03.164Z"
   },
   {
    "duration": 28,
    "start_time": "2022-06-15T14:34:17.159Z"
   },
   {
    "duration": 6,
    "start_time": "2022-06-15T14:34:19.258Z"
   },
   {
    "duration": 9,
    "start_time": "2022-06-15T14:34:35.319Z"
   },
   {
    "duration": 6,
    "start_time": "2022-06-15T14:34:45.306Z"
   },
   {
    "duration": 9,
    "start_time": "2022-06-15T14:34:56.415Z"
   },
   {
    "duration": 9,
    "start_time": "2022-06-15T14:35:03.437Z"
   },
   {
    "duration": 6,
    "start_time": "2022-06-15T14:36:23.923Z"
   },
   {
    "duration": 514,
    "start_time": "2022-06-15T14:36:24.456Z"
   },
   {
    "duration": 6,
    "start_time": "2022-06-15T14:36:39.806Z"
   },
   {
    "duration": 8,
    "start_time": "2022-06-15T14:37:19.713Z"
   },
   {
    "duration": 252,
    "start_time": "2022-06-15T14:37:22.687Z"
   },
   {
    "duration": 442,
    "start_time": "2022-06-15T14:40:30.077Z"
   },
   {
    "duration": 102,
    "start_time": "2022-06-15T14:43:01.696Z"
   },
   {
    "duration": 129,
    "start_time": "2022-06-15T14:48:34.752Z"
   },
   {
    "duration": 9,
    "start_time": "2022-06-15T14:57:39.097Z"
   },
   {
    "duration": 105,
    "start_time": "2022-06-15T15:00:11.643Z"
   },
   {
    "duration": 101,
    "start_time": "2022-06-15T15:00:50.216Z"
   },
   {
    "duration": 103,
    "start_time": "2022-06-15T15:01:05.371Z"
   },
   {
    "duration": 1474,
    "start_time": "2022-06-15T15:02:07.062Z"
   },
   {
    "duration": 287,
    "start_time": "2022-06-15T15:02:25.871Z"
   },
   {
    "duration": 103,
    "start_time": "2022-06-15T15:02:35.453Z"
   },
   {
    "duration": 159,
    "start_time": "2022-06-15T15:03:20.632Z"
   },
   {
    "duration": 54,
    "start_time": "2022-06-15T16:52:13.502Z"
   },
   {
    "duration": 1478,
    "start_time": "2022-06-15T16:52:26.602Z"
   },
   {
    "duration": 48,
    "start_time": "2022-06-15T16:52:28.082Z"
   },
   {
    "duration": 15,
    "start_time": "2022-06-15T16:52:28.131Z"
   },
   {
    "duration": 18,
    "start_time": "2022-06-15T16:52:28.147Z"
   },
   {
    "duration": 35,
    "start_time": "2022-06-15T16:52:28.167Z"
   },
   {
    "duration": 10,
    "start_time": "2022-06-15T16:52:28.205Z"
   },
   {
    "duration": 7,
    "start_time": "2022-06-15T16:52:28.345Z"
   },
   {
    "duration": 5,
    "start_time": "2022-06-15T16:52:28.574Z"
   },
   {
    "duration": 5,
    "start_time": "2022-06-15T16:52:28.781Z"
   },
   {
    "duration": 13,
    "start_time": "2022-06-15T16:52:29.011Z"
   },
   {
    "duration": 13,
    "start_time": "2022-06-15T16:52:29.269Z"
   },
   {
    "duration": 185,
    "start_time": "2022-06-15T16:52:29.957Z"
   },
   {
    "duration": 16,
    "start_time": "2022-06-15T16:52:30.174Z"
   },
   {
    "duration": 8,
    "start_time": "2022-06-15T16:52:30.365Z"
   },
   {
    "duration": 394,
    "start_time": "2022-06-15T16:52:30.673Z"
   },
   {
    "duration": 217,
    "start_time": "2022-06-15T16:52:31.069Z"
   },
   {
    "duration": 28,
    "start_time": "2022-06-15T16:52:31.291Z"
   },
   {
    "duration": 311,
    "start_time": "2022-06-15T16:52:31.674Z"
   },
   {
    "duration": 7,
    "start_time": "2022-06-15T16:52:32.077Z"
   },
   {
    "duration": 279,
    "start_time": "2022-06-15T16:52:33.565Z"
   },
   {
    "duration": 8,
    "start_time": "2022-06-15T16:52:33.860Z"
   },
   {
    "duration": 13,
    "start_time": "2022-06-15T16:52:34.253Z"
   },
   {
    "duration": 13,
    "start_time": "2022-06-15T16:52:34.783Z"
   },
   {
    "duration": 6,
    "start_time": "2022-06-15T16:52:35.249Z"
   },
   {
    "duration": 13,
    "start_time": "2022-06-15T16:52:36.168Z"
   },
   {
    "duration": 161,
    "start_time": "2022-06-15T16:52:36.657Z"
   },
   {
    "duration": 32,
    "start_time": "2022-06-15T16:52:36.953Z"
   },
   {
    "duration": 6,
    "start_time": "2022-06-15T16:52:37.467Z"
   },
   {
    "duration": 302,
    "start_time": "2022-06-15T16:52:38.016Z"
   },
   {
    "duration": 167,
    "start_time": "2022-06-15T16:53:09.596Z"
   },
   {
    "duration": 160,
    "start_time": "2022-06-15T16:53:31.329Z"
   },
   {
    "duration": 88,
    "start_time": "2022-06-15T16:53:36.773Z"
   },
   {
    "duration": 176,
    "start_time": "2022-06-15T16:54:02.990Z"
   },
   {
    "duration": 170,
    "start_time": "2022-06-15T16:55:00.556Z"
   },
   {
    "duration": 255,
    "start_time": "2022-06-15T16:55:27.663Z"
   },
   {
    "duration": 175,
    "start_time": "2022-06-15T16:55:35.662Z"
   },
   {
    "duration": 85,
    "start_time": "2022-06-15T16:55:41.856Z"
   },
   {
    "duration": 164,
    "start_time": "2022-06-15T16:55:46.705Z"
   },
   {
    "duration": 244,
    "start_time": "2022-06-15T16:59:52.879Z"
   },
   {
    "duration": 258,
    "start_time": "2022-06-15T17:01:28.693Z"
   },
   {
    "duration": 250,
    "start_time": "2022-06-15T17:02:01.646Z"
   },
   {
    "duration": 266,
    "start_time": "2022-06-15T17:02:21.880Z"
   },
   {
    "duration": 258,
    "start_time": "2022-06-15T17:02:26.098Z"
   },
   {
    "duration": 252,
    "start_time": "2022-06-15T17:03:19.282Z"
   },
   {
    "duration": 254,
    "start_time": "2022-06-15T17:04:32.243Z"
   },
   {
    "duration": 244,
    "start_time": "2022-06-15T17:05:10.397Z"
   },
   {
    "duration": 342,
    "start_time": "2022-06-15T17:06:27.850Z"
   },
   {
    "duration": 283,
    "start_time": "2022-06-15T17:09:42.593Z"
   },
   {
    "duration": 297,
    "start_time": "2022-06-15T17:10:00.432Z"
   },
   {
    "duration": 197,
    "start_time": "2022-06-15T17:12:19.638Z"
   },
   {
    "duration": 182,
    "start_time": "2022-06-15T17:13:29.003Z"
   },
   {
    "duration": 197,
    "start_time": "2022-06-15T17:14:08.902Z"
   },
   {
    "duration": 31,
    "start_time": "2022-06-15T17:14:26.091Z"
   },
   {
    "duration": 10,
    "start_time": "2022-06-15T17:15:02.907Z"
   },
   {
    "duration": 191,
    "start_time": "2022-06-15T17:16:19.308Z"
   },
   {
    "duration": 190,
    "start_time": "2022-06-15T17:17:09.361Z"
   },
   {
    "duration": 10,
    "start_time": "2022-06-15T17:18:45.314Z"
   },
   {
    "duration": 5,
    "start_time": "2022-06-15T17:19:17.321Z"
   },
   {
    "duration": 6,
    "start_time": "2022-06-15T17:20:07.719Z"
   },
   {
    "duration": 101,
    "start_time": "2022-06-15T17:22:24.359Z"
   },
   {
    "duration": 5,
    "start_time": "2022-06-15T17:22:56.547Z"
   },
   {
    "duration": 137,
    "start_time": "2022-06-15T17:23:50.101Z"
   },
   {
    "duration": 232,
    "start_time": "2022-06-15T17:24:04.326Z"
   },
   {
    "duration": 109,
    "start_time": "2022-06-15T17:25:09.850Z"
   },
   {
    "duration": 4,
    "start_time": "2022-06-15T17:28:26.502Z"
   },
   {
    "duration": 12,
    "start_time": "2022-06-15T17:28:27.804Z"
   },
   {
    "duration": 8,
    "start_time": "2022-06-15T17:28:28.005Z"
   },
   {
    "duration": 152,
    "start_time": "2022-06-15T17:28:28.489Z"
   },
   {
    "duration": 15,
    "start_time": "2022-06-15T17:28:28.650Z"
   },
   {
    "duration": 9,
    "start_time": "2022-06-15T17:28:28.817Z"
   },
   {
    "duration": 377,
    "start_time": "2022-06-15T17:28:28.980Z"
   },
   {
    "duration": 201,
    "start_time": "2022-06-15T17:28:29.359Z"
   },
   {
    "duration": 16,
    "start_time": "2022-06-15T17:28:29.561Z"
   },
   {
    "duration": 217,
    "start_time": "2022-06-15T17:28:29.578Z"
   },
   {
    "duration": 6,
    "start_time": "2022-06-15T17:28:29.797Z"
   },
   {
    "duration": 259,
    "start_time": "2022-06-15T17:28:30.351Z"
   },
   {
    "duration": 6,
    "start_time": "2022-06-15T17:28:30.645Z"
   },
   {
    "duration": 13,
    "start_time": "2022-06-15T17:28:30.948Z"
   },
   {
    "duration": 10,
    "start_time": "2022-06-15T17:28:31.141Z"
   },
   {
    "duration": 6,
    "start_time": "2022-06-15T17:28:31.508Z"
   },
   {
    "duration": 13,
    "start_time": "2022-06-15T17:28:31.741Z"
   },
   {
    "duration": 142,
    "start_time": "2022-06-15T17:28:32.008Z"
   },
   {
    "duration": 23,
    "start_time": "2022-06-15T17:28:32.253Z"
   },
   {
    "duration": 6,
    "start_time": "2022-06-15T17:28:32.453Z"
   },
   {
    "duration": 256,
    "start_time": "2022-06-15T17:28:32.647Z"
   },
   {
    "duration": 0,
    "start_time": "2022-06-15T17:28:32.905Z"
   },
   {
    "duration": 290,
    "start_time": "2022-06-15T17:28:33.182Z"
   },
   {
    "duration": 104,
    "start_time": "2022-06-15T17:28:33.775Z"
   },
   {
    "duration": 5,
    "start_time": "2022-06-15T17:29:19.976Z"
   },
   {
    "duration": 3,
    "start_time": "2022-06-15T17:29:26.807Z"
   },
   {
    "duration": 255,
    "start_time": "2022-06-15T17:29:41.961Z"
   },
   {
    "duration": 10,
    "start_time": "2022-06-15T17:30:58.798Z"
   },
   {
    "duration": 239,
    "start_time": "2022-06-15T17:32:32.476Z"
   },
   {
    "duration": 5,
    "start_time": "2022-06-15T17:33:05.759Z"
   },
   {
    "duration": 10,
    "start_time": "2022-06-15T17:33:06.332Z"
   },
   {
    "duration": 280,
    "start_time": "2022-06-15T17:33:06.953Z"
   },
   {
    "duration": 10,
    "start_time": "2022-06-15T17:33:28.892Z"
   },
   {
    "duration": 7,
    "start_time": "2022-06-15T17:33:37.638Z"
   },
   {
    "duration": 10,
    "start_time": "2022-06-15T17:33:39.640Z"
   },
   {
    "duration": 264,
    "start_time": "2022-06-15T17:33:46.737Z"
   },
   {
    "duration": 4,
    "start_time": "2022-06-15T17:33:59.001Z"
   },
   {
    "duration": 13,
    "start_time": "2022-06-15T17:33:59.238Z"
   },
   {
    "duration": 10,
    "start_time": "2022-06-15T17:33:59.398Z"
   },
   {
    "duration": 160,
    "start_time": "2022-06-15T17:34:00.207Z"
   },
   {
    "duration": 14,
    "start_time": "2022-06-15T17:34:00.369Z"
   },
   {
    "duration": 9,
    "start_time": "2022-06-15T17:34:00.391Z"
   },
   {
    "duration": 400,
    "start_time": "2022-06-15T17:34:00.402Z"
   },
   {
    "duration": 210,
    "start_time": "2022-06-15T17:34:00.803Z"
   },
   {
    "duration": 16,
    "start_time": "2022-06-15T17:34:01.015Z"
   },
   {
    "duration": 344,
    "start_time": "2022-06-15T17:34:01.033Z"
   },
   {
    "duration": 14,
    "start_time": "2022-06-15T17:34:01.380Z"
   },
   {
    "duration": 280,
    "start_time": "2022-06-15T17:34:01.396Z"
   },
   {
    "duration": 13,
    "start_time": "2022-06-15T17:34:01.678Z"
   },
   {
    "duration": 12,
    "start_time": "2022-06-15T17:34:01.692Z"
   },
   {
    "duration": 33,
    "start_time": "2022-06-15T17:34:01.705Z"
   },
   {
    "duration": 11,
    "start_time": "2022-06-15T17:34:01.740Z"
   },
   {
    "duration": 19,
    "start_time": "2022-06-15T17:34:01.753Z"
   },
   {
    "duration": 164,
    "start_time": "2022-06-15T17:34:01.774Z"
   },
   {
    "duration": 25,
    "start_time": "2022-06-15T17:34:01.940Z"
   },
   {
    "duration": 6,
    "start_time": "2022-06-15T17:34:01.966Z"
   },
   {
    "duration": 281,
    "start_time": "2022-06-15T17:34:01.974Z"
   },
   {
    "duration": 0,
    "start_time": "2022-06-15T17:34:02.257Z"
   },
   {
    "duration": 0,
    "start_time": "2022-06-15T17:34:02.259Z"
   },
   {
    "duration": 0,
    "start_time": "2022-06-15T17:34:02.260Z"
   },
   {
    "duration": 0,
    "start_time": "2022-06-15T17:34:02.262Z"
   },
   {
    "duration": 45,
    "start_time": "2022-06-15T17:34:29.643Z"
   },
   {
    "duration": 38,
    "start_time": "2022-06-15T17:34:29.784Z"
   },
   {
    "duration": 14,
    "start_time": "2022-06-15T17:34:29.844Z"
   },
   {
    "duration": 19,
    "start_time": "2022-06-15T17:34:29.878Z"
   },
   {
    "duration": 4,
    "start_time": "2022-06-15T17:34:29.961Z"
   },
   {
    "duration": 5,
    "start_time": "2022-06-15T17:34:29.967Z"
   },
   {
    "duration": 7,
    "start_time": "2022-06-15T17:34:29.995Z"
   },
   {
    "duration": 4,
    "start_time": "2022-06-15T17:34:30.022Z"
   },
   {
    "duration": 4,
    "start_time": "2022-06-15T17:34:30.039Z"
   },
   {
    "duration": 12,
    "start_time": "2022-06-15T17:34:30.069Z"
   },
   {
    "duration": 9,
    "start_time": "2022-06-15T17:34:30.099Z"
   },
   {
    "duration": 165,
    "start_time": "2022-06-15T17:34:30.144Z"
   },
   {
    "duration": 16,
    "start_time": "2022-06-15T17:34:30.311Z"
   },
   {
    "duration": 14,
    "start_time": "2022-06-15T17:34:30.329Z"
   },
   {
    "duration": 400,
    "start_time": "2022-06-15T17:34:30.346Z"
   },
   {
    "duration": 201,
    "start_time": "2022-06-15T17:34:30.747Z"
   },
   {
    "duration": 17,
    "start_time": "2022-06-15T17:34:30.950Z"
   },
   {
    "duration": 222,
    "start_time": "2022-06-15T17:34:30.969Z"
   },
   {
    "duration": 6,
    "start_time": "2022-06-15T17:34:31.192Z"
   },
   {
    "duration": 402,
    "start_time": "2022-06-15T17:34:31.652Z"
   },
   {
    "duration": 7,
    "start_time": "2022-06-15T17:34:32.056Z"
   },
   {
    "duration": 27,
    "start_time": "2022-06-15T17:34:32.065Z"
   },
   {
    "duration": 12,
    "start_time": "2022-06-15T17:34:32.227Z"
   },
   {
    "duration": 6,
    "start_time": "2022-06-15T17:34:32.428Z"
   },
   {
    "duration": 11,
    "start_time": "2022-06-15T17:34:32.621Z"
   },
   {
    "duration": 144,
    "start_time": "2022-06-15T17:34:32.828Z"
   },
   {
    "duration": 24,
    "start_time": "2022-06-15T17:34:33.014Z"
   },
   {
    "duration": 6,
    "start_time": "2022-06-15T17:34:33.185Z"
   },
   {
    "duration": 254,
    "start_time": "2022-06-15T17:34:33.393Z"
   },
   {
    "duration": 255,
    "start_time": "2022-06-15T17:34:34.211Z"
   },
   {
    "duration": 195,
    "start_time": "2022-06-15T17:34:34.830Z"
   },
   {
    "duration": 16,
    "start_time": "2022-06-15T17:35:28.509Z"
   },
   {
    "duration": 15,
    "start_time": "2022-06-15T17:35:28.785Z"
   },
   {
    "duration": 15,
    "start_time": "2022-06-15T17:35:29.483Z"
   },
   {
    "duration": 11,
    "start_time": "2022-06-15T17:44:28.303Z"
   },
   {
    "duration": 6,
    "start_time": "2022-06-15T17:44:42.877Z"
   },
   {
    "duration": 9,
    "start_time": "2022-06-15T17:44:53.545Z"
   },
   {
    "duration": 12,
    "start_time": "2022-06-15T17:45:25.340Z"
   },
   {
    "duration": 12,
    "start_time": "2022-06-15T17:45:26.544Z"
   },
   {
    "duration": 9,
    "start_time": "2022-06-15T17:45:27.208Z"
   },
   {
    "duration": 11,
    "start_time": "2022-06-15T17:58:03.263Z"
   },
   {
    "duration": 750,
    "start_time": "2022-06-15T17:58:21.717Z"
   },
   {
    "duration": 859,
    "start_time": "2022-06-15T17:59:19.086Z"
   },
   {
    "duration": 799,
    "start_time": "2022-06-15T17:59:58.430Z"
   },
   {
    "duration": 724,
    "start_time": "2022-06-15T18:01:13.001Z"
   },
   {
    "duration": 762,
    "start_time": "2022-06-15T18:01:27.094Z"
   },
   {
    "duration": 809,
    "start_time": "2022-06-15T18:01:47.603Z"
   },
   {
    "duration": 289,
    "start_time": "2022-06-15T18:02:23.876Z"
   },
   {
    "duration": 163,
    "start_time": "2022-06-15T18:02:56.907Z"
   },
   {
    "duration": 725,
    "start_time": "2022-06-15T18:03:07.541Z"
   },
   {
    "duration": 809,
    "start_time": "2022-06-15T18:03:18.398Z"
   },
   {
    "duration": 739,
    "start_time": "2022-06-15T18:05:35.283Z"
   },
   {
    "duration": 1372,
    "start_time": "2022-06-16T07:51:17.428Z"
   },
   {
    "duration": 53,
    "start_time": "2022-06-16T07:51:18.802Z"
   },
   {
    "duration": 15,
    "start_time": "2022-06-16T07:51:18.857Z"
   },
   {
    "duration": 40,
    "start_time": "2022-06-16T07:51:18.874Z"
   },
   {
    "duration": 3,
    "start_time": "2022-06-16T07:51:18.915Z"
   },
   {
    "duration": 5,
    "start_time": "2022-06-16T07:51:18.926Z"
   },
   {
    "duration": 8,
    "start_time": "2022-06-16T07:51:18.932Z"
   },
   {
    "duration": 15,
    "start_time": "2022-06-16T07:51:18.942Z"
   },
   {
    "duration": 16,
    "start_time": "2022-06-16T07:51:18.958Z"
   },
   {
    "duration": 15,
    "start_time": "2022-06-16T07:51:18.977Z"
   },
   {
    "duration": 9,
    "start_time": "2022-06-16T07:51:18.994Z"
   },
   {
    "duration": 200,
    "start_time": "2022-06-16T07:51:19.005Z"
   },
   {
    "duration": 26,
    "start_time": "2022-06-16T07:51:19.207Z"
   },
   {
    "duration": 9,
    "start_time": "2022-06-16T07:51:19.235Z"
   },
   {
    "duration": 460,
    "start_time": "2022-06-16T07:51:19.245Z"
   },
   {
    "duration": 292,
    "start_time": "2022-06-16T07:51:19.707Z"
   },
   {
    "duration": 31,
    "start_time": "2022-06-16T07:51:20.001Z"
   },
   {
    "duration": 319,
    "start_time": "2022-06-16T07:51:20.034Z"
   },
   {
    "duration": 8,
    "start_time": "2022-06-16T07:51:20.355Z"
   },
   {
    "duration": 340,
    "start_time": "2022-06-16T07:51:20.364Z"
   },
   {
    "duration": 9,
    "start_time": "2022-06-16T07:51:20.706Z"
   },
   {
    "duration": 18,
    "start_time": "2022-06-16T07:51:20.726Z"
   },
   {
    "duration": 21,
    "start_time": "2022-06-16T07:51:20.746Z"
   },
   {
    "duration": 13,
    "start_time": "2022-06-16T07:51:20.769Z"
   },
   {
    "duration": 16,
    "start_time": "2022-06-16T07:51:20.784Z"
   },
   {
    "duration": 256,
    "start_time": "2022-06-16T07:51:20.802Z"
   },
   {
    "duration": 38,
    "start_time": "2022-06-16T07:51:21.060Z"
   },
   {
    "duration": 24,
    "start_time": "2022-06-16T07:51:21.102Z"
   },
   {
    "duration": 905,
    "start_time": "2022-06-16T07:51:21.128Z"
   },
   {
    "duration": 329,
    "start_time": "2022-06-16T07:51:22.034Z"
   },
   {
    "duration": 309,
    "start_time": "2022-06-16T07:51:22.364Z"
   },
   {
    "duration": 242,
    "start_time": "2022-06-16T07:51:22.675Z"
   },
   {
    "duration": 235,
    "start_time": "2022-06-16T07:51:22.919Z"
   },
   {
    "duration": 0,
    "start_time": "2022-06-16T07:51:23.156Z"
   },
   {
    "duration": 0,
    "start_time": "2022-06-16T07:51:23.157Z"
   },
   {
    "duration": 0,
    "start_time": "2022-06-16T07:51:23.159Z"
   },
   {
    "duration": 0,
    "start_time": "2022-06-16T07:51:23.160Z"
   },
   {
    "duration": 0,
    "start_time": "2022-06-16T07:51:23.161Z"
   },
   {
    "duration": 0,
    "start_time": "2022-06-16T07:51:23.163Z"
   },
   {
    "duration": 24,
    "start_time": "2022-06-16T07:55:23.397Z"
   },
   {
    "duration": 16,
    "start_time": "2022-06-16T07:55:28.191Z"
   },
   {
    "duration": 45,
    "start_time": "2022-06-16T07:55:43.808Z"
   },
   {
    "duration": 33,
    "start_time": "2022-06-16T07:55:59.504Z"
   },
   {
    "duration": 59,
    "start_time": "2022-06-16T07:56:13.871Z"
   },
   {
    "duration": 67,
    "start_time": "2022-06-16T07:57:28.415Z"
   },
   {
    "duration": 49,
    "start_time": "2022-06-16T07:58:02.212Z"
   },
   {
    "duration": 44,
    "start_time": "2022-06-16T07:58:20.474Z"
   },
   {
    "duration": 35,
    "start_time": "2022-06-16T07:58:37.895Z"
   },
   {
    "duration": 44,
    "start_time": "2022-06-16T07:58:42.698Z"
   },
   {
    "duration": 30,
    "start_time": "2022-06-16T07:59:16.329Z"
   },
   {
    "duration": 30,
    "start_time": "2022-06-16T08:01:18.120Z"
   },
   {
    "duration": 38,
    "start_time": "2022-06-16T08:01:35.965Z"
   },
   {
    "duration": 26,
    "start_time": "2022-06-16T08:01:42.708Z"
   },
   {
    "duration": 21,
    "start_time": "2022-06-16T08:02:04.452Z"
   },
   {
    "duration": 517,
    "start_time": "2022-06-16T08:02:40.047Z"
   },
   {
    "duration": 31,
    "start_time": "2022-06-16T08:03:09.301Z"
   },
   {
    "duration": 16,
    "start_time": "2022-06-16T08:03:13.549Z"
   },
   {
    "duration": 16,
    "start_time": "2022-06-16T08:03:18.120Z"
   },
   {
    "duration": 8,
    "start_time": "2022-06-16T08:04:54.590Z"
   },
   {
    "duration": 29,
    "start_time": "2022-06-16T08:05:33.739Z"
   },
   {
    "duration": 9,
    "start_time": "2022-06-16T08:05:34.967Z"
   },
   {
    "duration": 7,
    "start_time": "2022-06-16T08:05:55.795Z"
   },
   {
    "duration": 41,
    "start_time": "2022-06-16T08:07:17.924Z"
   },
   {
    "duration": 31,
    "start_time": "2022-06-16T08:07:23.409Z"
   },
   {
    "duration": 44,
    "start_time": "2022-06-16T08:10:02.371Z"
   },
   {
    "duration": 28,
    "start_time": "2022-06-16T08:10:23.942Z"
   },
   {
    "duration": 15,
    "start_time": "2022-06-16T08:11:34.096Z"
   },
   {
    "duration": 17,
    "start_time": "2022-06-16T08:12:08.600Z"
   },
   {
    "duration": 10,
    "start_time": "2022-06-16T08:12:59.055Z"
   },
   {
    "duration": 13,
    "start_time": "2022-06-16T08:14:28.275Z"
   },
   {
    "duration": 10,
    "start_time": "2022-06-16T08:14:57.673Z"
   },
   {
    "duration": 8,
    "start_time": "2022-06-16T08:22:42.410Z"
   },
   {
    "duration": 38,
    "start_time": "2022-06-16T08:25:47.403Z"
   },
   {
    "duration": 3,
    "start_time": "2022-06-16T08:48:15.313Z"
   },
   {
    "duration": 10,
    "start_time": "2022-06-16T08:50:06.932Z"
   },
   {
    "duration": 54,
    "start_time": "2022-06-16T08:50:23.362Z"
   },
   {
    "duration": 11,
    "start_time": "2022-06-16T08:50:33.788Z"
   },
   {
    "duration": 9,
    "start_time": "2022-06-16T08:50:58.059Z"
   },
   {
    "duration": 9,
    "start_time": "2022-06-16T08:51:09.656Z"
   },
   {
    "duration": 9,
    "start_time": "2022-06-16T08:51:41.125Z"
   },
   {
    "duration": 12,
    "start_time": "2022-06-16T08:51:47.320Z"
   },
   {
    "duration": 11,
    "start_time": "2022-06-16T08:51:55.931Z"
   },
   {
    "duration": 11,
    "start_time": "2022-06-16T08:52:03.949Z"
   },
   {
    "duration": 14,
    "start_time": "2022-06-16T08:54:44.688Z"
   },
   {
    "duration": 11,
    "start_time": "2022-06-16T08:55:20.726Z"
   },
   {
    "duration": 6,
    "start_time": "2022-06-16T08:55:53.246Z"
   },
   {
    "duration": 15,
    "start_time": "2022-06-16T08:55:55.601Z"
   },
   {
    "duration": 14,
    "start_time": "2022-06-16T08:56:17.191Z"
   },
   {
    "duration": 7,
    "start_time": "2022-06-16T08:56:29.852Z"
   },
   {
    "duration": 12,
    "start_time": "2022-06-16T08:57:33.399Z"
   },
   {
    "duration": 9,
    "start_time": "2022-06-16T08:57:36.967Z"
   },
   {
    "duration": 9,
    "start_time": "2022-06-16T08:57:37.790Z"
   },
   {
    "duration": 7,
    "start_time": "2022-06-16T08:58:17.272Z"
   },
   {
    "duration": 5,
    "start_time": "2022-06-16T08:58:23.362Z"
   },
   {
    "duration": 9,
    "start_time": "2022-06-16T08:58:24.774Z"
   },
   {
    "duration": 9,
    "start_time": "2022-06-16T08:59:32.959Z"
   },
   {
    "duration": 9,
    "start_time": "2022-06-16T08:59:36.682Z"
   },
   {
    "duration": 29,
    "start_time": "2022-06-16T08:59:44.850Z"
   },
   {
    "duration": 27,
    "start_time": "2022-06-16T09:00:14.074Z"
   },
   {
    "duration": 30,
    "start_time": "2022-06-16T09:00:20.299Z"
   },
   {
    "duration": 35,
    "start_time": "2022-06-16T09:00:31.922Z"
   },
   {
    "duration": 54,
    "start_time": "2022-06-16T09:00:41.505Z"
   },
   {
    "duration": 71,
    "start_time": "2022-06-16T09:00:41.561Z"
   },
   {
    "duration": 17,
    "start_time": "2022-06-16T09:00:41.635Z"
   },
   {
    "duration": 29,
    "start_time": "2022-06-16T09:00:41.653Z"
   },
   {
    "duration": 3,
    "start_time": "2022-06-16T09:00:41.698Z"
   },
   {
    "duration": 6,
    "start_time": "2022-06-16T09:00:42.113Z"
   },
   {
    "duration": 9,
    "start_time": "2022-06-16T09:00:42.294Z"
   },
   {
    "duration": 5,
    "start_time": "2022-06-16T09:00:42.441Z"
   },
   {
    "duration": 4,
    "start_time": "2022-06-16T09:00:42.598Z"
   },
   {
    "duration": 16,
    "start_time": "2022-06-16T09:00:42.768Z"
   },
   {
    "duration": 10,
    "start_time": "2022-06-16T09:00:42.911Z"
   },
   {
    "duration": 187,
    "start_time": "2022-06-16T09:00:43.446Z"
   },
   {
    "duration": 19,
    "start_time": "2022-06-16T09:00:43.761Z"
   },
   {
    "duration": 10,
    "start_time": "2022-06-16T09:00:44.125Z"
   },
   {
    "duration": 540,
    "start_time": "2022-06-16T09:00:44.689Z"
   },
   {
    "duration": 244,
    "start_time": "2022-06-16T09:00:45.231Z"
   },
   {
    "duration": 19,
    "start_time": "2022-06-16T09:00:45.477Z"
   },
   {
    "duration": 266,
    "start_time": "2022-06-16T09:02:07.815Z"
   },
   {
    "duration": 23,
    "start_time": "2022-06-16T09:02:17.600Z"
   },
   {
    "duration": 6,
    "start_time": "2022-06-16T09:02:27.188Z"
   },
   {
    "duration": 319,
    "start_time": "2022-06-16T09:02:38.328Z"
   },
   {
    "duration": 10,
    "start_time": "2022-06-16T09:02:49.037Z"
   },
   {
    "duration": 7,
    "start_time": "2022-06-16T09:02:49.933Z"
   },
   {
    "duration": 6,
    "start_time": "2022-06-16T09:02:52.425Z"
   },
   {
    "duration": 38,
    "start_time": "2022-06-16T09:02:54.365Z"
   },
   {
    "duration": 4,
    "start_time": "2022-06-16T09:03:48.695Z"
   },
   {
    "duration": 8,
    "start_time": "2022-06-16T09:03:56.877Z"
   },
   {
    "duration": 5,
    "start_time": "2022-06-16T09:04:00.357Z"
   },
   {
    "duration": 31,
    "start_time": "2022-06-16T09:04:01.778Z"
   },
   {
    "duration": 19,
    "start_time": "2022-06-16T09:04:44.020Z"
   },
   {
    "duration": 29,
    "start_time": "2022-06-16T09:05:06.273Z"
   },
   {
    "duration": 27,
    "start_time": "2022-06-16T09:05:29.258Z"
   },
   {
    "duration": 20,
    "start_time": "2022-06-16T09:06:02.994Z"
   },
   {
    "duration": 27,
    "start_time": "2022-06-16T09:06:30.904Z"
   },
   {
    "duration": 41,
    "start_time": "2022-06-16T09:06:53.221Z"
   },
   {
    "duration": 36,
    "start_time": "2022-06-16T09:07:14.939Z"
   },
   {
    "duration": 49,
    "start_time": "2022-06-16T09:09:06.796Z"
   },
   {
    "duration": 10,
    "start_time": "2022-06-16T09:11:38.510Z"
   },
   {
    "duration": 21,
    "start_time": "2022-06-16T09:15:31.672Z"
   },
   {
    "duration": 52,
    "start_time": "2022-06-16T09:20:07.113Z"
   },
   {
    "duration": 49,
    "start_time": "2022-06-16T09:20:07.298Z"
   },
   {
    "duration": 18,
    "start_time": "2022-06-16T09:20:07.448Z"
   },
   {
    "duration": 24,
    "start_time": "2022-06-16T09:20:07.613Z"
   },
   {
    "duration": 4,
    "start_time": "2022-06-16T09:20:08.186Z"
   },
   {
    "duration": 5,
    "start_time": "2022-06-16T09:20:08.367Z"
   },
   {
    "duration": 9,
    "start_time": "2022-06-16T09:20:08.553Z"
   },
   {
    "duration": 6,
    "start_time": "2022-06-16T09:20:08.714Z"
   },
   {
    "duration": 5,
    "start_time": "2022-06-16T09:20:08.879Z"
   },
   {
    "duration": 15,
    "start_time": "2022-06-16T09:20:09.053Z"
   },
   {
    "duration": 11,
    "start_time": "2022-06-16T09:20:09.237Z"
   },
   {
    "duration": 224,
    "start_time": "2022-06-16T09:20:09.893Z"
   },
   {
    "duration": 25,
    "start_time": "2022-06-16T09:20:10.139Z"
   },
   {
    "duration": 12,
    "start_time": "2022-06-16T09:20:10.463Z"
   },
   {
    "duration": 460,
    "start_time": "2022-06-16T09:20:10.704Z"
   },
   {
    "duration": 277,
    "start_time": "2022-06-16T09:20:11.166Z"
   },
   {
    "duration": 22,
    "start_time": "2022-06-16T09:20:11.445Z"
   },
   {
    "duration": 384,
    "start_time": "2022-06-16T09:20:15.726Z"
   },
   {
    "duration": 14,
    "start_time": "2022-06-16T09:20:16.112Z"
   },
   {
    "duration": 18,
    "start_time": "2022-06-16T09:20:18.311Z"
   },
   {
    "duration": 18,
    "start_time": "2022-06-16T09:20:18.774Z"
   },
   {
    "duration": 62,
    "start_time": "2022-06-16T09:20:19.062Z"
   },
   {
    "duration": 318,
    "start_time": "2022-06-16T09:20:19.324Z"
   },
   {
    "duration": 66,
    "start_time": "2022-06-16T09:21:01.327Z"
   },
   {
    "duration": 28,
    "start_time": "2022-06-16T09:21:11.536Z"
   },
   {
    "duration": 566,
    "start_time": "2022-06-16T09:21:27.368Z"
   },
   {
    "duration": 317,
    "start_time": "2022-06-16T09:21:37.584Z"
   },
   {
    "duration": 11,
    "start_time": "2022-06-16T09:22:38.808Z"
   },
   {
    "duration": 41,
    "start_time": "2022-06-16T09:23:42.063Z"
   },
   {
    "duration": 169,
    "start_time": "2022-06-16T09:27:22.482Z"
   },
   {
    "duration": 345,
    "start_time": "2022-06-16T09:27:49.859Z"
   },
   {
    "duration": 491,
    "start_time": "2022-06-16T09:29:09.369Z"
   },
   {
    "duration": 41,
    "start_time": "2022-06-16T09:30:05.495Z"
   },
   {
    "duration": 296,
    "start_time": "2022-06-16T09:30:10.791Z"
   },
   {
    "duration": 397,
    "start_time": "2022-06-16T09:30:11.105Z"
   },
   {
    "duration": 347,
    "start_time": "2022-06-16T09:30:16.501Z"
   },
   {
    "duration": 349,
    "start_time": "2022-06-16T09:30:50.641Z"
   },
   {
    "duration": 419,
    "start_time": "2022-06-16T09:31:16.993Z"
   },
   {
    "duration": 160,
    "start_time": "2022-06-16T09:31:34.632Z"
   },
   {
    "duration": 798,
    "start_time": "2022-06-16T09:36:18.755Z"
   },
   {
    "duration": 4,
    "start_time": "2022-06-16T09:37:05.213Z"
   },
   {
    "duration": 4,
    "start_time": "2022-06-16T09:37:10.194Z"
   },
   {
    "duration": 689,
    "start_time": "2022-06-16T09:37:15.660Z"
   },
   {
    "duration": 32,
    "start_time": "2022-06-16T09:45:28.519Z"
   },
   {
    "duration": 6082,
    "start_time": "2022-06-16T09:45:46.099Z"
   },
   {
    "duration": 144,
    "start_time": "2022-06-16T09:47:07.243Z"
   },
   {
    "duration": 401,
    "start_time": "2022-06-16T09:48:15.878Z"
   },
   {
    "duration": 152,
    "start_time": "2022-06-16T09:48:50.508Z"
   },
   {
    "duration": 36,
    "start_time": "2022-06-16T09:50:03.270Z"
   },
   {
    "duration": 1392,
    "start_time": "2022-06-16T09:50:35.747Z"
   },
   {
    "duration": 1648,
    "start_time": "2022-06-16T09:50:56.816Z"
   },
   {
    "duration": 1561,
    "start_time": "2022-06-16T09:51:30.185Z"
   },
   {
    "duration": 15,
    "start_time": "2022-06-16T09:54:07.309Z"
   },
   {
    "duration": 17,
    "start_time": "2022-06-16T09:54:31.335Z"
   },
   {
    "duration": 59,
    "start_time": "2022-06-16T09:54:45.054Z"
   },
   {
    "duration": 52,
    "start_time": "2022-06-16T09:54:45.354Z"
   },
   {
    "duration": 17,
    "start_time": "2022-06-16T09:54:45.822Z"
   },
   {
    "duration": 24,
    "start_time": "2022-06-16T09:54:46.520Z"
   },
   {
    "duration": 4,
    "start_time": "2022-06-16T09:54:50.126Z"
   },
   {
    "duration": 6,
    "start_time": "2022-06-16T09:54:50.386Z"
   },
   {
    "duration": 10,
    "start_time": "2022-06-16T09:54:50.686Z"
   },
   {
    "duration": 5,
    "start_time": "2022-06-16T09:54:50.976Z"
   },
   {
    "duration": 6,
    "start_time": "2022-06-16T09:54:51.196Z"
   },
   {
    "duration": 21,
    "start_time": "2022-06-16T09:54:51.456Z"
   },
   {
    "duration": 15,
    "start_time": "2022-06-16T09:54:52.014Z"
   },
   {
    "duration": 188,
    "start_time": "2022-06-16T09:54:53.987Z"
   },
   {
    "duration": 19,
    "start_time": "2022-06-16T09:54:54.279Z"
   },
   {
    "duration": 12,
    "start_time": "2022-06-16T09:54:54.707Z"
   },
   {
    "duration": 489,
    "start_time": "2022-06-16T09:54:55.150Z"
   },
   {
    "duration": 400,
    "start_time": "2022-06-16T09:54:55.733Z"
   },
   {
    "duration": 20,
    "start_time": "2022-06-16T09:54:56.136Z"
   },
   {
    "duration": 278,
    "start_time": "2022-06-16T09:54:56.391Z"
   },
   {
    "duration": 15,
    "start_time": "2022-06-16T09:54:56.807Z"
   },
   {
    "duration": 1270,
    "start_time": "2022-06-16T09:55:17.691Z"
   },
   {
    "duration": 62,
    "start_time": "2022-06-16T09:55:18.964Z"
   },
   {
    "duration": 21,
    "start_time": "2022-06-16T09:55:19.028Z"
   },
   {
    "duration": 26,
    "start_time": "2022-06-16T09:55:19.052Z"
   },
   {
    "duration": 5,
    "start_time": "2022-06-16T09:55:19.080Z"
   },
   {
    "duration": 7,
    "start_time": "2022-06-16T09:55:19.087Z"
   },
   {
    "duration": 35,
    "start_time": "2022-06-16T09:55:19.095Z"
   },
   {
    "duration": 7,
    "start_time": "2022-06-16T09:55:19.132Z"
   },
   {
    "duration": 7,
    "start_time": "2022-06-16T09:55:19.141Z"
   },
   {
    "duration": 25,
    "start_time": "2022-06-16T09:55:19.151Z"
   },
   {
    "duration": 13,
    "start_time": "2022-06-16T09:55:19.178Z"
   },
   {
    "duration": 217,
    "start_time": "2022-06-16T09:55:19.193Z"
   },
   {
    "duration": 23,
    "start_time": "2022-06-16T09:55:19.411Z"
   },
   {
    "duration": 24,
    "start_time": "2022-06-16T09:55:19.436Z"
   },
   {
    "duration": 464,
    "start_time": "2022-06-16T09:55:19.462Z"
   },
   {
    "duration": 266,
    "start_time": "2022-06-16T09:55:19.928Z"
   },
   {
    "duration": 21,
    "start_time": "2022-06-16T09:55:20.196Z"
   },
   {
    "duration": 335,
    "start_time": "2022-06-16T09:55:20.226Z"
   },
   {
    "duration": 107,
    "start_time": "2022-06-16T09:55:20.563Z"
   },
   {
    "duration": 0,
    "start_time": "2022-06-16T09:55:20.672Z"
   },
   {
    "duration": 0,
    "start_time": "2022-06-16T09:55:20.673Z"
   },
   {
    "duration": 0,
    "start_time": "2022-06-16T09:55:20.674Z"
   },
   {
    "duration": 0,
    "start_time": "2022-06-16T09:55:20.676Z"
   },
   {
    "duration": 0,
    "start_time": "2022-06-16T09:55:20.677Z"
   },
   {
    "duration": 0,
    "start_time": "2022-06-16T09:55:20.678Z"
   },
   {
    "duration": 0,
    "start_time": "2022-06-16T09:55:20.679Z"
   },
   {
    "duration": 0,
    "start_time": "2022-06-16T09:55:20.681Z"
   },
   {
    "duration": 0,
    "start_time": "2022-06-16T09:55:20.682Z"
   },
   {
    "duration": 0,
    "start_time": "2022-06-16T09:55:20.683Z"
   },
   {
    "duration": 0,
    "start_time": "2022-06-16T09:55:20.684Z"
   },
   {
    "duration": 0,
    "start_time": "2022-06-16T09:55:20.685Z"
   },
   {
    "duration": 0,
    "start_time": "2022-06-16T09:55:20.686Z"
   },
   {
    "duration": 0,
    "start_time": "2022-06-16T09:55:20.688Z"
   },
   {
    "duration": 0,
    "start_time": "2022-06-16T09:55:20.689Z"
   },
   {
    "duration": 0,
    "start_time": "2022-06-16T09:55:20.690Z"
   },
   {
    "duration": 0,
    "start_time": "2022-06-16T09:55:20.691Z"
   },
   {
    "duration": 0,
    "start_time": "2022-06-16T09:55:20.692Z"
   },
   {
    "duration": 0,
    "start_time": "2022-06-16T09:55:20.726Z"
   },
   {
    "duration": 0,
    "start_time": "2022-06-16T09:55:20.728Z"
   },
   {
    "duration": 0,
    "start_time": "2022-06-16T09:55:20.729Z"
   },
   {
    "duration": 0,
    "start_time": "2022-06-16T09:55:20.730Z"
   },
   {
    "duration": 0,
    "start_time": "2022-06-16T09:55:20.731Z"
   },
   {
    "duration": 67,
    "start_time": "2022-06-16T09:55:41.788Z"
   },
   {
    "duration": 47,
    "start_time": "2022-06-16T09:55:42.019Z"
   },
   {
    "duration": 16,
    "start_time": "2022-06-16T09:55:42.245Z"
   },
   {
    "duration": 23,
    "start_time": "2022-06-16T09:55:42.473Z"
   },
   {
    "duration": 4,
    "start_time": "2022-06-16T09:55:43.138Z"
   },
   {
    "duration": 5,
    "start_time": "2022-06-16T09:55:43.366Z"
   },
   {
    "duration": 8,
    "start_time": "2022-06-16T09:55:43.583Z"
   },
   {
    "duration": 6,
    "start_time": "2022-06-16T09:55:43.820Z"
   },
   {
    "duration": 5,
    "start_time": "2022-06-16T09:55:44.004Z"
   },
   {
    "duration": 20,
    "start_time": "2022-06-16T09:55:44.270Z"
   },
   {
    "duration": 11,
    "start_time": "2022-06-16T09:55:44.792Z"
   },
   {
    "duration": 297,
    "start_time": "2022-06-16T09:55:46.170Z"
   },
   {
    "duration": 19,
    "start_time": "2022-06-16T09:55:46.471Z"
   },
   {
    "duration": 10,
    "start_time": "2022-06-16T09:55:46.728Z"
   },
   {
    "duration": 438,
    "start_time": "2022-06-16T09:55:47.065Z"
   },
   {
    "duration": 237,
    "start_time": "2022-06-16T09:55:47.504Z"
   },
   {
    "duration": 20,
    "start_time": "2022-06-16T09:55:47.744Z"
   },
   {
    "duration": 263,
    "start_time": "2022-06-16T09:55:47.765Z"
   },
   {
    "duration": 13,
    "start_time": "2022-06-16T09:55:48.141Z"
   },
   {
    "duration": 26,
    "start_time": "2022-06-16T09:56:02.149Z"
   },
   {
    "duration": 15,
    "start_time": "2022-06-16T09:56:10.987Z"
   },
   {
    "duration": 15,
    "start_time": "2022-06-16T09:56:42.861Z"
   },
   {
    "duration": 9,
    "start_time": "2022-06-16T09:56:54.330Z"
   },
   {
    "duration": 13,
    "start_time": "2022-06-16T09:57:17.435Z"
   },
   {
    "duration": 9,
    "start_time": "2022-06-16T09:57:23.886Z"
   },
   {
    "duration": 16,
    "start_time": "2022-06-16T09:57:31.836Z"
   },
   {
    "duration": 453,
    "start_time": "2022-06-16T09:58:11.701Z"
   },
   {
    "duration": 17,
    "start_time": "2022-06-16T09:58:19.094Z"
   },
   {
    "duration": 16,
    "start_time": "2022-06-16T09:59:06.548Z"
   },
   {
    "duration": 15,
    "start_time": "2022-06-16T09:59:44.364Z"
   },
   {
    "duration": 10,
    "start_time": "2022-06-16T09:59:45.852Z"
   },
   {
    "duration": 22,
    "start_time": "2022-06-16T09:59:58.951Z"
   },
   {
    "duration": 10,
    "start_time": "2022-06-16T10:00:32.947Z"
   },
   {
    "duration": 7,
    "start_time": "2022-06-16T10:05:43.755Z"
   },
   {
    "duration": 17,
    "start_time": "2022-06-16T10:07:38.798Z"
   },
   {
    "duration": 7,
    "start_time": "2022-06-16T10:07:46.804Z"
   },
   {
    "duration": 18,
    "start_time": "2022-06-16T10:07:55.599Z"
   },
   {
    "duration": 6,
    "start_time": "2022-06-16T10:08:38.317Z"
   },
   {
    "duration": 18,
    "start_time": "2022-06-16T10:08:58.763Z"
   },
   {
    "duration": 20,
    "start_time": "2022-06-16T10:09:12.085Z"
   },
   {
    "duration": 59,
    "start_time": "2022-06-16T10:09:27.823Z"
   },
   {
    "duration": 366,
    "start_time": "2022-06-16T10:10:01.062Z"
   },
   {
    "duration": 154,
    "start_time": "2022-06-16T10:10:05.365Z"
   },
   {
    "duration": 1596,
    "start_time": "2022-06-16T10:10:05.715Z"
   },
   {
    "duration": 5,
    "start_time": "2022-06-16T10:11:10.480Z"
   },
   {
    "duration": 6,
    "start_time": "2022-06-16T10:12:47.622Z"
   },
   {
    "duration": 11,
    "start_time": "2022-06-16T10:14:03.910Z"
   },
   {
    "duration": 15,
    "start_time": "2022-06-16T10:14:49.259Z"
   },
   {
    "duration": 5,
    "start_time": "2022-06-16T10:14:49.770Z"
   },
   {
    "duration": 23,
    "start_time": "2022-06-16T10:14:55.512Z"
   },
   {
    "duration": 30,
    "start_time": "2022-06-16T10:15:30.505Z"
   },
   {
    "duration": 1200,
    "start_time": "2022-06-16T10:15:47.689Z"
   },
   {
    "duration": 71,
    "start_time": "2022-06-16T10:15:48.892Z"
   },
   {
    "duration": 17,
    "start_time": "2022-06-16T10:15:48.964Z"
   },
   {
    "duration": 45,
    "start_time": "2022-06-16T10:15:48.983Z"
   },
   {
    "duration": 7,
    "start_time": "2022-06-16T10:15:49.029Z"
   },
   {
    "duration": 32,
    "start_time": "2022-06-16T10:15:49.037Z"
   },
   {
    "duration": 11,
    "start_time": "2022-06-16T10:15:49.070Z"
   },
   {
    "duration": 4,
    "start_time": "2022-06-16T10:15:49.083Z"
   },
   {
    "duration": 20,
    "start_time": "2022-06-16T10:15:49.089Z"
   },
   {
    "duration": 23,
    "start_time": "2022-06-16T10:15:49.112Z"
   },
   {
    "duration": 41,
    "start_time": "2022-06-16T10:15:49.137Z"
   },
   {
    "duration": 248,
    "start_time": "2022-06-16T10:15:49.180Z"
   },
   {
    "duration": 29,
    "start_time": "2022-06-16T10:15:49.431Z"
   },
   {
    "duration": 16,
    "start_time": "2022-06-16T10:15:49.463Z"
   },
   {
    "duration": 555,
    "start_time": "2022-06-16T10:15:49.481Z"
   },
   {
    "duration": 265,
    "start_time": "2022-06-16T10:15:50.037Z"
   },
   {
    "duration": 41,
    "start_time": "2022-06-16T10:15:50.303Z"
   },
   {
    "duration": 303,
    "start_time": "2022-06-16T10:15:50.352Z"
   },
   {
    "duration": 117,
    "start_time": "2022-06-16T10:15:50.657Z"
   },
   {
    "duration": 0,
    "start_time": "2022-06-16T10:15:50.776Z"
   },
   {
    "duration": 0,
    "start_time": "2022-06-16T10:15:50.778Z"
   },
   {
    "duration": 0,
    "start_time": "2022-06-16T10:15:50.779Z"
   },
   {
    "duration": 0,
    "start_time": "2022-06-16T10:15:50.780Z"
   },
   {
    "duration": 0,
    "start_time": "2022-06-16T10:15:50.781Z"
   },
   {
    "duration": 0,
    "start_time": "2022-06-16T10:15:50.783Z"
   },
   {
    "duration": 0,
    "start_time": "2022-06-16T10:15:50.784Z"
   },
   {
    "duration": 0,
    "start_time": "2022-06-16T10:15:50.785Z"
   },
   {
    "duration": 0,
    "start_time": "2022-06-16T10:15:50.787Z"
   },
   {
    "duration": 1,
    "start_time": "2022-06-16T10:15:50.787Z"
   },
   {
    "duration": 0,
    "start_time": "2022-06-16T10:15:50.789Z"
   },
   {
    "duration": 0,
    "start_time": "2022-06-16T10:15:50.790Z"
   },
   {
    "duration": 0,
    "start_time": "2022-06-16T10:15:50.791Z"
   },
   {
    "duration": 0,
    "start_time": "2022-06-16T10:15:50.792Z"
   },
   {
    "duration": 0,
    "start_time": "2022-06-16T10:15:50.793Z"
   },
   {
    "duration": 0,
    "start_time": "2022-06-16T10:15:50.794Z"
   },
   {
    "duration": 0,
    "start_time": "2022-06-16T10:15:50.795Z"
   },
   {
    "duration": 0,
    "start_time": "2022-06-16T10:15:50.796Z"
   },
   {
    "duration": 0,
    "start_time": "2022-06-16T10:15:50.826Z"
   },
   {
    "duration": 0,
    "start_time": "2022-06-16T10:15:50.826Z"
   },
   {
    "duration": 0,
    "start_time": "2022-06-16T10:15:50.827Z"
   },
   {
    "duration": 0,
    "start_time": "2022-06-16T10:15:50.828Z"
   },
   {
    "duration": 0,
    "start_time": "2022-06-16T10:15:50.833Z"
   },
   {
    "duration": 9,
    "start_time": "2022-06-16T10:17:44.559Z"
   },
   {
    "duration": 17,
    "start_time": "2022-06-16T10:17:46.767Z"
   },
   {
    "duration": 32,
    "start_time": "2022-06-16T10:17:49.675Z"
   },
   {
    "duration": 25,
    "start_time": "2022-06-16T10:18:02.709Z"
   },
   {
    "duration": 72,
    "start_time": "2022-06-16T10:18:10.385Z"
   },
   {
    "duration": 373,
    "start_time": "2022-06-16T10:18:11.825Z"
   },
   {
    "duration": 251,
    "start_time": "2022-06-16T10:18:12.572Z"
   },
   {
    "duration": 1637,
    "start_time": "2022-06-16T10:18:13.318Z"
   },
   {
    "duration": 1642,
    "start_time": "2022-06-16T10:18:40.626Z"
   },
   {
    "duration": 33,
    "start_time": "2022-06-16T10:52:53.866Z"
   },
   {
    "duration": 17,
    "start_time": "2022-06-16T10:53:05.188Z"
   },
   {
    "duration": 6,
    "start_time": "2022-06-16T10:53:29.688Z"
   },
   {
    "duration": 46,
    "start_time": "2022-06-16T10:54:40.057Z"
   },
   {
    "duration": 32,
    "start_time": "2022-06-16T10:54:50.516Z"
   },
   {
    "duration": 75,
    "start_time": "2022-06-16T10:55:55.248Z"
   },
   {
    "duration": 33,
    "start_time": "2022-06-16T10:56:03.221Z"
   },
   {
    "duration": 60,
    "start_time": "2022-06-16T10:56:14.362Z"
   },
   {
    "duration": 27,
    "start_time": "2022-06-16T10:56:19.270Z"
   },
   {
    "duration": 64,
    "start_time": "2022-06-16T10:56:38.093Z"
   },
   {
    "duration": 29,
    "start_time": "2022-06-16T10:56:50.109Z"
   },
   {
    "duration": 49,
    "start_time": "2022-06-16T10:57:35.417Z"
   },
   {
    "duration": 334,
    "start_time": "2022-06-16T10:57:48.783Z"
   },
   {
    "duration": 1626,
    "start_time": "2022-06-16T10:58:37.455Z"
   },
   {
    "duration": 925,
    "start_time": "2022-06-16T10:59:21.274Z"
   },
   {
    "duration": 12,
    "start_time": "2022-06-16T10:59:29.683Z"
   },
   {
    "duration": 9,
    "start_time": "2022-06-16T10:59:46.000Z"
   },
   {
    "duration": 15,
    "start_time": "2022-06-16T11:02:13.182Z"
   },
   {
    "duration": 10,
    "start_time": "2022-06-16T11:02:13.879Z"
   },
   {
    "duration": 27,
    "start_time": "2022-06-16T11:02:19.028Z"
   },
   {
    "duration": 264,
    "start_time": "2022-06-16T11:02:32.827Z"
   },
   {
    "duration": 39,
    "start_time": "2022-06-16T11:02:37.773Z"
   },
   {
    "duration": 14,
    "start_time": "2022-06-16T11:02:41.341Z"
   },
   {
    "duration": 1100,
    "start_time": "2022-06-16T11:02:43.668Z"
   },
   {
    "duration": 1231,
    "start_time": "2022-06-16T11:03:33.293Z"
   },
   {
    "duration": 1166,
    "start_time": "2022-06-16T11:05:28.187Z"
   },
   {
    "duration": 297,
    "start_time": "2022-06-16T11:13:12.751Z"
   },
   {
    "duration": 283,
    "start_time": "2022-06-16T11:14:52.678Z"
   },
   {
    "duration": 406,
    "start_time": "2022-06-16T11:15:01.473Z"
   },
   {
    "duration": 335,
    "start_time": "2022-06-16T11:15:29.283Z"
   },
   {
    "duration": 44,
    "start_time": "2022-06-16T11:17:03.978Z"
   },
   {
    "duration": 410,
    "start_time": "2022-06-16T11:17:10.673Z"
   },
   {
    "duration": 454,
    "start_time": "2022-06-16T11:17:21.395Z"
   },
   {
    "duration": 40,
    "start_time": "2022-06-16T11:17:52.375Z"
   },
   {
    "duration": 378,
    "start_time": "2022-06-16T11:18:21.789Z"
   },
   {
    "duration": 475,
    "start_time": "2022-06-16T11:18:34.108Z"
   },
   {
    "duration": 449,
    "start_time": "2022-06-16T11:18:42.893Z"
   },
   {
    "duration": 438,
    "start_time": "2022-06-16T11:18:52.278Z"
   },
   {
    "duration": 353,
    "start_time": "2022-06-16T11:18:59.209Z"
   },
   {
    "duration": 431,
    "start_time": "2022-06-16T11:19:42.314Z"
   },
   {
    "duration": 436,
    "start_time": "2022-06-16T11:20:41.297Z"
   },
   {
    "duration": 682,
    "start_time": "2022-06-16T11:23:15.196Z"
   },
   {
    "duration": 486,
    "start_time": "2022-06-16T11:23:34.597Z"
   },
   {
    "duration": 441,
    "start_time": "2022-06-16T11:23:45.392Z"
   },
   {
    "duration": 324,
    "start_time": "2022-06-16T11:31:45.384Z"
   },
   {
    "duration": 317,
    "start_time": "2022-06-16T11:32:02.521Z"
   },
   {
    "duration": 13,
    "start_time": "2022-06-16T11:37:16.563Z"
   },
   {
    "duration": 10,
    "start_time": "2022-06-16T11:37:32.289Z"
   },
   {
    "duration": 14,
    "start_time": "2022-06-16T11:37:55.878Z"
   },
   {
    "duration": 14,
    "start_time": "2022-06-16T11:39:33.170Z"
   },
   {
    "duration": 333,
    "start_time": "2022-06-16T11:40:22.089Z"
   },
   {
    "duration": 1174,
    "start_time": "2022-06-16T11:42:00.012Z"
   },
   {
    "duration": 1390,
    "start_time": "2022-06-16T11:44:15.610Z"
   },
   {
    "duration": 481,
    "start_time": "2022-06-16T11:45:09.960Z"
   },
   {
    "duration": 1056,
    "start_time": "2022-06-16T11:46:58.081Z"
   },
   {
    "duration": 1037,
    "start_time": "2022-06-16T11:48:48.992Z"
   },
   {
    "duration": 1063,
    "start_time": "2022-06-16T11:49:24.595Z"
   },
   {
    "duration": 1267,
    "start_time": "2022-06-16T11:51:12.426Z"
   },
   {
    "duration": 1153,
    "start_time": "2022-06-16T11:51:47.422Z"
   },
   {
    "duration": 306,
    "start_time": "2022-06-16T11:52:43.588Z"
   },
   {
    "duration": 971,
    "start_time": "2022-06-16T12:03:04.862Z"
   },
   {
    "duration": 31,
    "start_time": "2022-06-16T12:05:20.767Z"
   },
   {
    "duration": 169,
    "start_time": "2022-06-16T12:06:16.649Z"
   },
   {
    "duration": 38,
    "start_time": "2022-06-16T12:06:42.642Z"
   },
   {
    "duration": 34,
    "start_time": "2022-06-16T12:07:07.510Z"
   },
   {
    "duration": 32,
    "start_time": "2022-06-16T12:07:17.452Z"
   },
   {
    "duration": 30,
    "start_time": "2022-06-16T12:07:25.685Z"
   },
   {
    "duration": 28,
    "start_time": "2022-06-16T12:09:08.879Z"
   },
   {
    "duration": 31,
    "start_time": "2022-06-16T12:10:22.914Z"
   },
   {
    "duration": 61,
    "start_time": "2022-06-16T12:13:04.649Z"
   },
   {
    "duration": 33,
    "start_time": "2022-06-16T12:13:19.340Z"
   },
   {
    "duration": 43,
    "start_time": "2022-06-16T12:16:55.903Z"
   },
   {
    "duration": 30,
    "start_time": "2022-06-16T12:18:10.586Z"
   },
   {
    "duration": 33,
    "start_time": "2022-06-16T12:20:11.481Z"
   },
   {
    "duration": 31,
    "start_time": "2022-06-16T12:20:19.046Z"
   },
   {
    "duration": 32,
    "start_time": "2022-06-16T12:21:21.090Z"
   },
   {
    "duration": 35,
    "start_time": "2022-06-16T12:22:37.125Z"
   },
   {
    "duration": 32,
    "start_time": "2022-06-16T12:22:53.646Z"
   },
   {
    "duration": 33,
    "start_time": "2022-06-16T12:24:27.845Z"
   },
   {
    "duration": 39,
    "start_time": "2022-06-16T12:25:02.125Z"
   },
   {
    "duration": 29,
    "start_time": "2022-06-16T12:27:13.646Z"
   },
   {
    "duration": 23,
    "start_time": "2022-06-16T12:27:41.850Z"
   },
   {
    "duration": 38,
    "start_time": "2022-06-16T12:28:01.421Z"
   },
   {
    "duration": 23,
    "start_time": "2022-06-16T12:28:26.478Z"
   },
   {
    "duration": 61,
    "start_time": "2022-06-16T12:28:37.213Z"
   },
   {
    "duration": 1395,
    "start_time": "2022-06-17T08:32:51.119Z"
   },
   {
    "duration": 65,
    "start_time": "2022-06-17T08:32:52.516Z"
   },
   {
    "duration": 19,
    "start_time": "2022-06-17T08:32:52.583Z"
   },
   {
    "duration": 42,
    "start_time": "2022-06-17T08:32:52.604Z"
   },
   {
    "duration": 3,
    "start_time": "2022-06-17T08:32:52.649Z"
   },
   {
    "duration": 11,
    "start_time": "2022-06-17T08:32:52.654Z"
   },
   {
    "duration": 10,
    "start_time": "2022-06-17T08:32:52.667Z"
   },
   {
    "duration": 6,
    "start_time": "2022-06-17T08:32:52.679Z"
   },
   {
    "duration": 16,
    "start_time": "2022-06-17T08:32:52.687Z"
   },
   {
    "duration": 30,
    "start_time": "2022-06-17T08:32:52.705Z"
   },
   {
    "duration": 12,
    "start_time": "2022-06-17T08:32:52.737Z"
   },
   {
    "duration": 205,
    "start_time": "2022-06-17T08:32:52.750Z"
   },
   {
    "duration": 16,
    "start_time": "2022-06-17T08:32:52.956Z"
   },
   {
    "duration": 8,
    "start_time": "2022-06-17T08:32:52.975Z"
   },
   {
    "duration": 484,
    "start_time": "2022-06-17T08:32:52.984Z"
   },
   {
    "duration": 228,
    "start_time": "2022-06-17T08:32:53.469Z"
   },
   {
    "duration": 32,
    "start_time": "2022-06-17T08:32:53.699Z"
   },
   {
    "duration": 271,
    "start_time": "2022-06-17T08:32:53.732Z"
   },
   {
    "duration": 6,
    "start_time": "2022-06-17T08:32:54.005Z"
   },
   {
    "duration": 127,
    "start_time": "2022-06-17T08:32:54.012Z"
   },
   {
    "duration": 16,
    "start_time": "2022-06-17T08:32:54.141Z"
   },
   {
    "duration": 29,
    "start_time": "2022-06-17T08:32:54.158Z"
   },
   {
    "duration": 410,
    "start_time": "2022-06-17T08:32:54.189Z"
   },
   {
    "duration": 1400,
    "start_time": "2022-06-17T08:32:54.601Z"
   },
   {
    "duration": 6,
    "start_time": "2022-06-17T08:32:56.002Z"
   },
   {
    "duration": 28,
    "start_time": "2022-06-17T08:32:56.010Z"
   },
   {
    "duration": 167,
    "start_time": "2022-06-17T08:32:56.040Z"
   },
   {
    "duration": 34,
    "start_time": "2022-06-17T08:32:56.208Z"
   },
   {
    "duration": 6,
    "start_time": "2022-06-17T08:32:56.243Z"
   },
   {
    "duration": 798,
    "start_time": "2022-06-17T08:32:56.251Z"
   },
   {
    "duration": 26,
    "start_time": "2022-06-17T08:32:57.050Z"
   },
   {
    "duration": 257,
    "start_time": "2022-06-17T08:32:57.077Z"
   },
   {
    "duration": 5,
    "start_time": "2022-06-17T08:32:57.336Z"
   },
   {
    "duration": 0,
    "start_time": "2022-06-17T08:32:57.343Z"
   },
   {
    "duration": 0,
    "start_time": "2022-06-17T08:32:57.344Z"
   },
   {
    "duration": 0,
    "start_time": "2022-06-17T08:32:57.345Z"
   },
   {
    "duration": 0,
    "start_time": "2022-06-17T08:32:57.347Z"
   },
   {
    "duration": 0,
    "start_time": "2022-06-17T08:32:57.348Z"
   },
   {
    "duration": 0,
    "start_time": "2022-06-17T08:32:57.349Z"
   },
   {
    "duration": 0,
    "start_time": "2022-06-17T08:32:57.351Z"
   },
   {
    "duration": 4,
    "start_time": "2022-06-17T08:33:08.571Z"
   },
   {
    "duration": 17,
    "start_time": "2022-06-17T08:33:14.175Z"
   },
   {
    "duration": 18,
    "start_time": "2022-06-17T08:33:15.139Z"
   },
   {
    "duration": 15,
    "start_time": "2022-06-17T08:33:38.761Z"
   },
   {
    "duration": 396,
    "start_time": "2022-06-17T08:35:53.704Z"
   },
   {
    "duration": 1343,
    "start_time": "2022-06-17T08:38:58.824Z"
   },
   {
    "duration": 95,
    "start_time": "2022-06-17T08:39:00.169Z"
   },
   {
    "duration": 29,
    "start_time": "2022-06-17T08:39:00.267Z"
   },
   {
    "duration": 51,
    "start_time": "2022-06-17T08:39:00.298Z"
   },
   {
    "duration": 21,
    "start_time": "2022-06-17T08:39:00.351Z"
   },
   {
    "duration": 27,
    "start_time": "2022-06-17T08:39:00.375Z"
   },
   {
    "duration": 56,
    "start_time": "2022-06-17T08:39:00.405Z"
   },
   {
    "duration": 24,
    "start_time": "2022-06-17T08:39:00.463Z"
   },
   {
    "duration": 25,
    "start_time": "2022-06-17T08:39:00.490Z"
   },
   {
    "duration": 75,
    "start_time": "2022-06-17T08:39:00.518Z"
   },
   {
    "duration": 26,
    "start_time": "2022-06-17T08:39:00.596Z"
   },
   {
    "duration": 286,
    "start_time": "2022-06-17T08:39:00.628Z"
   },
   {
    "duration": 44,
    "start_time": "2022-06-17T08:39:00.922Z"
   },
   {
    "duration": 63,
    "start_time": "2022-06-17T08:39:00.971Z"
   },
   {
    "duration": 705,
    "start_time": "2022-06-17T08:39:01.051Z"
   },
   {
    "duration": 320,
    "start_time": "2022-06-17T08:39:01.758Z"
   },
   {
    "duration": 28,
    "start_time": "2022-06-17T08:39:02.081Z"
   },
   {
    "duration": 311,
    "start_time": "2022-06-17T08:39:02.112Z"
   },
   {
    "duration": 13,
    "start_time": "2022-06-17T08:39:02.425Z"
   },
   {
    "duration": 130,
    "start_time": "2022-06-17T08:39:02.440Z"
   },
   {
    "duration": 21,
    "start_time": "2022-06-17T08:39:02.572Z"
   },
   {
    "duration": 54,
    "start_time": "2022-06-17T08:39:02.595Z"
   },
   {
    "duration": 418,
    "start_time": "2022-06-17T08:39:02.651Z"
   },
   {
    "duration": 1793,
    "start_time": "2022-06-17T08:39:03.071Z"
   },
   {
    "duration": 13,
    "start_time": "2022-06-17T08:39:04.866Z"
   },
   {
    "duration": 30,
    "start_time": "2022-06-17T08:39:04.882Z"
   },
   {
    "duration": 284,
    "start_time": "2022-06-17T08:39:04.914Z"
   },
   {
    "duration": 43,
    "start_time": "2022-06-17T08:39:05.201Z"
   },
   {
    "duration": 7,
    "start_time": "2022-06-17T08:39:05.248Z"
   },
   {
    "duration": 899,
    "start_time": "2022-06-17T08:39:05.257Z"
   },
   {
    "duration": 27,
    "start_time": "2022-06-17T08:39:06.158Z"
   },
   {
    "duration": 275,
    "start_time": "2022-06-17T08:39:06.187Z"
   },
   {
    "duration": 4,
    "start_time": "2022-06-17T08:39:06.464Z"
   },
   {
    "duration": 0,
    "start_time": "2022-06-17T08:39:06.469Z"
   },
   {
    "duration": 0,
    "start_time": "2022-06-17T08:39:06.471Z"
   },
   {
    "duration": 0,
    "start_time": "2022-06-17T08:39:06.472Z"
   },
   {
    "duration": 0,
    "start_time": "2022-06-17T08:39:06.473Z"
   },
   {
    "duration": 0,
    "start_time": "2022-06-17T08:39:06.475Z"
   },
   {
    "duration": 0,
    "start_time": "2022-06-17T08:39:06.476Z"
   },
   {
    "duration": 0,
    "start_time": "2022-06-17T08:39:06.477Z"
   },
   {
    "duration": 456,
    "start_time": "2022-06-17T08:39:13.391Z"
   },
   {
    "duration": 4,
    "start_time": "2022-06-17T08:39:37.092Z"
   },
   {
    "duration": 5,
    "start_time": "2022-06-17T08:40:07.575Z"
   },
   {
    "duration": 9,
    "start_time": "2022-06-17T08:40:25.760Z"
   },
   {
    "duration": 33,
    "start_time": "2022-06-17T08:40:50.458Z"
   },
   {
    "duration": 7,
    "start_time": "2022-06-17T08:41:13.994Z"
   },
   {
    "duration": 13,
    "start_time": "2022-06-17T08:41:29.473Z"
   },
   {
    "duration": 12,
    "start_time": "2022-06-17T08:42:03.399Z"
   },
   {
    "duration": 6,
    "start_time": "2022-06-17T08:42:16.836Z"
   },
   {
    "duration": 1942,
    "start_time": "2022-06-17T08:42:24.384Z"
   },
   {
    "duration": 17,
    "start_time": "2022-06-17T08:44:44.918Z"
   },
   {
    "duration": 24,
    "start_time": "2022-06-17T08:44:45.491Z"
   },
   {
    "duration": 17,
    "start_time": "2022-06-17T08:44:46.780Z"
   },
   {
    "duration": 208,
    "start_time": "2022-06-17T08:54:25.263Z"
   },
   {
    "duration": 212,
    "start_time": "2022-06-17T08:55:15.315Z"
   },
   {
    "duration": 11,
    "start_time": "2022-06-17T08:57:05.215Z"
   },
   {
    "duration": 5,
    "start_time": "2022-06-17T08:57:21.172Z"
   },
   {
    "duration": 12,
    "start_time": "2022-06-17T08:57:47.662Z"
   },
   {
    "duration": 166,
    "start_time": "2022-06-17T08:57:59.989Z"
   },
   {
    "duration": 304,
    "start_time": "2022-06-17T08:58:26.171Z"
   },
   {
    "duration": 11,
    "start_time": "2022-06-17T08:58:57.436Z"
   },
   {
    "duration": 221,
    "start_time": "2022-06-17T08:59:41.340Z"
   },
   {
    "duration": 154,
    "start_time": "2022-06-17T09:00:35.914Z"
   },
   {
    "duration": 268,
    "start_time": "2022-06-17T09:08:21.307Z"
   },
   {
    "duration": 17,
    "start_time": "2022-06-17T09:10:28.898Z"
   },
   {
    "duration": 452,
    "start_time": "2022-06-17T09:11:24.968Z"
   },
   {
    "duration": 195,
    "start_time": "2022-06-17T09:11:56.194Z"
   },
   {
    "duration": 5,
    "start_time": "2022-06-17T09:13:42.606Z"
   },
   {
    "duration": 9,
    "start_time": "2022-06-17T09:19:17.280Z"
   },
   {
    "duration": 222,
    "start_time": "2022-06-17T09:21:14.927Z"
   },
   {
    "duration": 362,
    "start_time": "2022-06-17T09:21:33.213Z"
   },
   {
    "duration": 373,
    "start_time": "2022-06-17T09:22:01.259Z"
   },
   {
    "duration": 217,
    "start_time": "2022-06-17T09:22:07.955Z"
   },
   {
    "duration": 394,
    "start_time": "2022-06-17T09:22:33.514Z"
   },
   {
    "duration": 483,
    "start_time": "2022-06-17T09:23:39.766Z"
   },
   {
    "duration": 368,
    "start_time": "2022-06-17T09:23:47.746Z"
   },
   {
    "duration": 580,
    "start_time": "2022-06-17T09:24:05.484Z"
   },
   {
    "duration": 602,
    "start_time": "2022-06-17T09:24:58.963Z"
   },
   {
    "duration": 451,
    "start_time": "2022-06-17T09:26:14.649Z"
   },
   {
    "duration": 486,
    "start_time": "2022-06-17T09:31:32.262Z"
   },
   {
    "duration": 129,
    "start_time": "2022-06-17T09:32:23.567Z"
   },
   {
    "duration": 203,
    "start_time": "2022-06-17T09:32:41.597Z"
   },
   {
    "duration": 451,
    "start_time": "2022-06-17T09:32:59.478Z"
   },
   {
    "duration": 478,
    "start_time": "2022-06-17T09:33:16.293Z"
   },
   {
    "duration": 154,
    "start_time": "2022-06-17T09:37:08.751Z"
   },
   {
    "duration": 622,
    "start_time": "2022-06-17T09:37:32.580Z"
   },
   {
    "duration": 23,
    "start_time": "2022-06-17T09:39:25.062Z"
   },
   {
    "duration": 100,
    "start_time": "2022-06-17T09:39:38.803Z"
   },
   {
    "duration": 17,
    "start_time": "2022-06-17T09:40:20.948Z"
   },
   {
    "duration": 20,
    "start_time": "2022-06-17T09:40:52.606Z"
   },
   {
    "duration": 13,
    "start_time": "2022-06-17T09:41:48.008Z"
   },
   {
    "duration": 263,
    "start_time": "2022-06-17T09:42:51.164Z"
   },
   {
    "duration": 272,
    "start_time": "2022-06-17T09:43:10.687Z"
   },
   {
    "duration": 280,
    "start_time": "2022-06-17T09:44:10.363Z"
   },
   {
    "duration": 284,
    "start_time": "2022-06-17T09:45:58.851Z"
   },
   {
    "duration": 224,
    "start_time": "2022-06-17T09:48:56.435Z"
   },
   {
    "duration": 327,
    "start_time": "2022-06-17T09:50:39.562Z"
   },
   {
    "duration": 811,
    "start_time": "2022-06-17T09:52:00.196Z"
   },
   {
    "duration": 12,
    "start_time": "2022-06-17T10:42:22.468Z"
   },
   {
    "duration": 352,
    "start_time": "2022-06-17T10:42:37.810Z"
   },
   {
    "duration": 5,
    "start_time": "2022-06-17T10:47:02.050Z"
   },
   {
    "duration": 5,
    "start_time": "2022-06-17T10:47:29.358Z"
   },
   {
    "duration": 13,
    "start_time": "2022-06-17T10:47:39.020Z"
   },
   {
    "duration": 5,
    "start_time": "2022-06-17T10:47:52.293Z"
   },
   {
    "duration": 59,
    "start_time": "2022-06-17T10:50:13.213Z"
   },
   {
    "duration": 47,
    "start_time": "2022-06-17T10:50:13.451Z"
   },
   {
    "duration": 16,
    "start_time": "2022-06-17T10:50:13.650Z"
   },
   {
    "duration": 24,
    "start_time": "2022-06-17T10:50:13.831Z"
   },
   {
    "duration": 3,
    "start_time": "2022-06-17T10:50:14.399Z"
   },
   {
    "duration": 5,
    "start_time": "2022-06-17T10:50:14.434Z"
   },
   {
    "duration": 7,
    "start_time": "2022-06-17T10:50:14.460Z"
   },
   {
    "duration": 5,
    "start_time": "2022-06-17T10:50:14.488Z"
   },
   {
    "duration": 6,
    "start_time": "2022-06-17T10:50:14.522Z"
   },
   {
    "duration": 18,
    "start_time": "2022-06-17T10:50:15.032Z"
   },
   {
    "duration": 10,
    "start_time": "2022-06-17T10:50:15.263Z"
   },
   {
    "duration": 199,
    "start_time": "2022-06-17T10:50:16.391Z"
   },
   {
    "duration": 17,
    "start_time": "2022-06-17T10:50:16.594Z"
   },
   {
    "duration": 10,
    "start_time": "2022-06-17T10:50:16.800Z"
   },
   {
    "duration": 706,
    "start_time": "2022-06-17T10:50:16.985Z"
   },
   {
    "duration": 38,
    "start_time": "2022-06-17T10:50:17.694Z"
   },
   {
    "duration": 273,
    "start_time": "2022-06-17T10:50:17.734Z"
   },
   {
    "duration": 16,
    "start_time": "2022-06-17T10:50:18.010Z"
   },
   {
    "duration": 33,
    "start_time": "2022-06-17T10:50:18.400Z"
   },
   {
    "duration": 26,
    "start_time": "2022-06-17T10:50:18.881Z"
   },
   {
    "duration": 45,
    "start_time": "2022-06-17T10:50:19.219Z"
   },
   {
    "duration": 329,
    "start_time": "2022-06-17T10:50:19.506Z"
   },
   {
    "duration": 1673,
    "start_time": "2022-06-17T10:50:19.839Z"
   },
   {
    "duration": 22,
    "start_time": "2022-06-17T10:50:21.514Z"
   },
   {
    "duration": 22,
    "start_time": "2022-06-17T10:50:21.538Z"
   },
   {
    "duration": 179,
    "start_time": "2022-06-17T10:50:21.562Z"
   },
   {
    "duration": 32,
    "start_time": "2022-06-17T10:50:21.743Z"
   },
   {
    "duration": 9,
    "start_time": "2022-06-17T10:50:22.571Z"
   },
   {
    "duration": 921,
    "start_time": "2022-06-17T10:50:22.844Z"
   },
   {
    "duration": 26,
    "start_time": "2022-06-17T10:50:23.767Z"
   },
   {
    "duration": 289,
    "start_time": "2022-06-17T10:50:23.795Z"
   },
   {
    "duration": 4,
    "start_time": "2022-06-17T10:50:24.086Z"
   },
   {
    "duration": 332,
    "start_time": "2022-06-17T10:50:28.557Z"
   },
   {
    "duration": 11,
    "start_time": "2022-06-17T10:51:47.283Z"
   },
   {
    "duration": 354,
    "start_time": "2022-06-17T10:52:22.018Z"
   },
   {
    "duration": 489,
    "start_time": "2022-06-17T10:52:38.863Z"
   },
   {
    "duration": 633,
    "start_time": "2022-06-17T10:53:13.686Z"
   },
   {
    "duration": 350,
    "start_time": "2022-06-17T10:55:44.209Z"
   },
   {
    "duration": 313,
    "start_time": "2022-06-17T10:58:24.093Z"
   },
   {
    "duration": 395,
    "start_time": "2022-06-17T11:04:02.709Z"
   },
   {
    "duration": 334,
    "start_time": "2022-06-17T11:04:29.491Z"
   },
   {
    "duration": 16,
    "start_time": "2022-06-17T11:04:53.387Z"
   },
   {
    "duration": 188,
    "start_time": "2022-06-17T11:05:23.905Z"
   },
   {
    "duration": 330,
    "start_time": "2022-06-17T11:07:18.648Z"
   },
   {
    "duration": 313,
    "start_time": "2022-06-17T11:10:20.236Z"
   },
   {
    "duration": 581,
    "start_time": "2022-06-17T11:10:31.087Z"
   },
   {
    "duration": 373,
    "start_time": "2022-06-17T11:12:07.422Z"
   },
   {
    "duration": 348,
    "start_time": "2022-06-17T11:13:18.652Z"
   },
   {
    "duration": 325,
    "start_time": "2022-06-17T11:14:24.119Z"
   },
   {
    "duration": 305,
    "start_time": "2022-06-17T11:16:11.204Z"
   },
   {
    "duration": 392,
    "start_time": "2022-06-17T11:17:42.596Z"
   },
   {
    "duration": 353,
    "start_time": "2022-06-17T11:21:32.336Z"
   },
   {
    "duration": 327,
    "start_time": "2022-06-17T11:22:52.911Z"
   },
   {
    "duration": 500,
    "start_time": "2022-06-17T11:23:23.405Z"
   },
   {
    "duration": 470,
    "start_time": "2022-06-17T11:24:51.685Z"
   },
   {
    "duration": 513,
    "start_time": "2022-06-17T11:25:07.187Z"
   },
   {
    "duration": 385,
    "start_time": "2022-06-17T11:26:54.581Z"
   },
   {
    "duration": 505,
    "start_time": "2022-06-17T11:27:05.037Z"
   },
   {
    "duration": 387,
    "start_time": "2022-06-17T11:28:00.600Z"
   },
   {
    "duration": 1165,
    "start_time": "2022-06-17T11:28:23.478Z"
   },
   {
    "duration": 330,
    "start_time": "2022-06-17T11:28:37.279Z"
   },
   {
    "duration": 496,
    "start_time": "2022-06-17T11:34:30.982Z"
   },
   {
    "duration": 360,
    "start_time": "2022-06-17T11:35:18.103Z"
   },
   {
    "duration": 498,
    "start_time": "2022-06-17T11:35:46.645Z"
   },
   {
    "duration": 356,
    "start_time": "2022-06-17T11:38:58.750Z"
   },
   {
    "duration": 378,
    "start_time": "2022-06-17T11:39:59.104Z"
   },
   {
    "duration": 564,
    "start_time": "2022-06-17T11:40:33.218Z"
   },
   {
    "duration": 762,
    "start_time": "2022-06-17T11:43:17.696Z"
   },
   {
    "duration": 902,
    "start_time": "2022-06-17T11:43:25.261Z"
   },
   {
    "duration": 478,
    "start_time": "2022-06-17T11:43:53.595Z"
   },
   {
    "duration": 290,
    "start_time": "2022-06-17T11:46:08.424Z"
   },
   {
    "duration": 512,
    "start_time": "2022-06-17T11:57:52.731Z"
   },
   {
    "duration": 26,
    "start_time": "2022-06-17T11:58:23.539Z"
   },
   {
    "duration": 780,
    "start_time": "2022-06-17T11:58:31.785Z"
   },
   {
    "duration": 460,
    "start_time": "2022-06-17T11:58:43.209Z"
   },
   {
    "duration": 463,
    "start_time": "2022-06-17T11:59:17.379Z"
   },
   {
    "duration": 463,
    "start_time": "2022-06-17T11:59:42.153Z"
   },
   {
    "duration": 441,
    "start_time": "2022-06-17T11:59:55.597Z"
   },
   {
    "duration": 635,
    "start_time": "2022-06-17T12:00:06.064Z"
   },
   {
    "duration": 433,
    "start_time": "2022-06-17T12:00:19.817Z"
   },
   {
    "duration": 465,
    "start_time": "2022-06-17T12:00:34.246Z"
   },
   {
    "duration": 431,
    "start_time": "2022-06-17T12:00:44.314Z"
   },
   {
    "duration": 500,
    "start_time": "2022-06-17T12:07:07.317Z"
   },
   {
    "duration": 460,
    "start_time": "2022-06-17T12:07:32.960Z"
   },
   {
    "duration": 634,
    "start_time": "2022-06-17T12:07:43.040Z"
   },
   {
    "duration": 457,
    "start_time": "2022-06-17T12:07:55.836Z"
   },
   {
    "duration": 461,
    "start_time": "2022-06-17T12:08:06.116Z"
   },
   {
    "duration": 442,
    "start_time": "2022-06-17T12:11:24.772Z"
   },
   {
    "duration": 398,
    "start_time": "2022-06-17T12:11:58.304Z"
   },
   {
    "duration": 463,
    "start_time": "2022-06-17T12:12:47.102Z"
   },
   {
    "duration": 5,
    "start_time": "2022-06-17T12:30:06.181Z"
   },
   {
    "duration": 1057,
    "start_time": "2022-06-17T12:43:17.990Z"
   },
   {
    "duration": 497,
    "start_time": "2022-06-17T12:43:24.061Z"
   },
   {
    "duration": 525,
    "start_time": "2022-06-17T12:43:32.313Z"
   },
   {
    "duration": 24,
    "start_time": "2022-06-17T12:44:56.087Z"
   },
   {
    "duration": 22,
    "start_time": "2022-06-17T12:45:27.804Z"
   },
   {
    "duration": 409,
    "start_time": "2022-06-17T12:45:38.653Z"
   },
   {
    "duration": 26,
    "start_time": "2022-06-17T12:46:10.055Z"
   },
   {
    "duration": 397,
    "start_time": "2022-06-17T12:46:41.006Z"
   },
   {
    "duration": 37,
    "start_time": "2022-06-17T12:46:48.500Z"
   },
   {
    "duration": 25,
    "start_time": "2022-06-17T12:47:06.256Z"
   },
   {
    "duration": 19,
    "start_time": "2022-06-17T12:47:29.902Z"
   },
   {
    "duration": 30,
    "start_time": "2022-06-17T12:47:44.907Z"
   },
   {
    "duration": 23,
    "start_time": "2022-06-17T12:47:58.836Z"
   },
   {
    "duration": 35,
    "start_time": "2022-06-17T12:48:12.320Z"
   },
   {
    "duration": 611,
    "start_time": "2022-06-17T12:48:36.231Z"
   },
   {
    "duration": 467,
    "start_time": "2022-06-17T12:48:53.077Z"
   },
   {
    "duration": 293,
    "start_time": "2022-06-17T12:49:20.891Z"
   },
   {
    "duration": 290,
    "start_time": "2022-06-17T12:49:34.863Z"
   },
   {
    "duration": 318,
    "start_time": "2022-06-17T12:50:00.387Z"
   },
   {
    "duration": 393,
    "start_time": "2022-06-17T12:50:37.394Z"
   },
   {
    "duration": 516,
    "start_time": "2022-06-17T12:50:59.899Z"
   },
   {
    "duration": 740,
    "start_time": "2022-06-17T12:51:16.558Z"
   },
   {
    "duration": 405,
    "start_time": "2022-06-17T12:52:07.539Z"
   },
   {
    "duration": 455,
    "start_time": "2022-06-17T12:52:35.448Z"
   },
   {
    "duration": 454,
    "start_time": "2022-06-17T12:56:07.011Z"
   },
   {
    "duration": 505,
    "start_time": "2022-06-17T12:56:31.633Z"
   },
   {
    "duration": 34,
    "start_time": "2022-06-17T12:56:48.590Z"
   },
   {
    "duration": 661,
    "start_time": "2022-06-17T12:57:03.054Z"
   },
   {
    "duration": 337,
    "start_time": "2022-06-17T12:57:37.523Z"
   },
   {
    "duration": 323,
    "start_time": "2022-06-17T12:57:51.989Z"
   },
   {
    "duration": 332,
    "start_time": "2022-06-17T12:58:16.339Z"
   },
   {
    "duration": 48,
    "start_time": "2022-06-17T12:58:41.691Z"
   },
   {
    "duration": 483,
    "start_time": "2022-06-17T12:59:03.063Z"
   },
   {
    "duration": 40,
    "start_time": "2022-06-17T13:02:18.409Z"
   },
   {
    "duration": 409,
    "start_time": "2022-06-17T13:03:57.741Z"
   },
   {
    "duration": 398,
    "start_time": "2022-06-17T13:04:34.021Z"
   },
   {
    "duration": 647,
    "start_time": "2022-06-17T13:04:45.729Z"
   },
   {
    "duration": 331,
    "start_time": "2022-06-17T13:05:03.236Z"
   },
   {
    "duration": 314,
    "start_time": "2022-06-17T13:05:14.955Z"
   },
   {
    "duration": 317,
    "start_time": "2022-06-17T13:05:34.272Z"
   },
   {
    "duration": 37,
    "start_time": "2022-06-17T13:06:45.175Z"
   },
   {
    "duration": 45,
    "start_time": "2022-06-17T13:06:56.375Z"
   },
   {
    "duration": 323,
    "start_time": "2022-06-17T13:07:10.076Z"
   },
   {
    "duration": 469,
    "start_time": "2022-06-17T13:07:28.736Z"
   },
   {
    "duration": 41,
    "start_time": "2022-06-17T17:29:45.934Z"
   },
   {
    "duration": 1336,
    "start_time": "2022-06-17T17:30:01.950Z"
   },
   {
    "duration": 48,
    "start_time": "2022-06-17T17:30:03.288Z"
   },
   {
    "duration": 15,
    "start_time": "2022-06-17T17:30:03.338Z"
   },
   {
    "duration": 18,
    "start_time": "2022-06-17T17:30:03.355Z"
   },
   {
    "duration": 3,
    "start_time": "2022-06-17T17:30:03.374Z"
   },
   {
    "duration": 8,
    "start_time": "2022-06-17T17:30:03.378Z"
   },
   {
    "duration": 7,
    "start_time": "2022-06-17T17:30:03.387Z"
   },
   {
    "duration": 32,
    "start_time": "2022-06-17T17:30:03.396Z"
   },
   {
    "duration": 7,
    "start_time": "2022-06-17T17:30:03.429Z"
   },
   {
    "duration": 12,
    "start_time": "2022-06-17T17:30:03.438Z"
   },
   {
    "duration": 7,
    "start_time": "2022-06-17T17:30:03.451Z"
   },
   {
    "duration": 191,
    "start_time": "2022-06-17T17:30:03.460Z"
   },
   {
    "duration": 15,
    "start_time": "2022-06-17T17:30:03.653Z"
   },
   {
    "duration": 8,
    "start_time": "2022-06-17T17:30:03.669Z"
   },
   {
    "duration": 585,
    "start_time": "2022-06-17T17:30:03.678Z"
   },
   {
    "duration": 17,
    "start_time": "2022-06-17T17:30:04.265Z"
   },
   {
    "duration": 263,
    "start_time": "2022-06-17T17:30:04.283Z"
   },
   {
    "duration": 6,
    "start_time": "2022-06-17T17:30:04.548Z"
   },
   {
    "duration": 124,
    "start_time": "2022-06-17T17:30:04.555Z"
   },
   {
    "duration": 15,
    "start_time": "2022-06-17T17:30:04.681Z"
   },
   {
    "duration": 43,
    "start_time": "2022-06-17T17:30:04.697Z"
   },
   {
    "duration": 284,
    "start_time": "2022-06-17T17:30:04.742Z"
   },
   {
    "duration": 1319,
    "start_time": "2022-06-17T17:30:05.028Z"
   },
   {
    "duration": 6,
    "start_time": "2022-06-17T17:30:06.348Z"
   },
   {
    "duration": 20,
    "start_time": "2022-06-17T17:30:06.356Z"
   },
   {
    "duration": 158,
    "start_time": "2022-06-17T17:30:06.377Z"
   },
   {
    "duration": 27,
    "start_time": "2022-06-17T17:30:06.537Z"
   },
   {
    "duration": 7,
    "start_time": "2022-06-17T17:30:06.568Z"
   },
   {
    "duration": 854,
    "start_time": "2022-06-17T17:30:06.577Z"
   },
   {
    "duration": 13,
    "start_time": "2022-06-17T17:30:07.433Z"
   },
   {
    "duration": 0,
    "start_time": "2022-06-17T17:30:07.447Z"
   },
   {
    "duration": 0,
    "start_time": "2022-06-17T17:30:07.449Z"
   },
   {
    "duration": 0,
    "start_time": "2022-06-17T17:30:07.450Z"
   },
   {
    "duration": 0,
    "start_time": "2022-06-17T17:30:07.452Z"
   },
   {
    "duration": 0,
    "start_time": "2022-06-17T17:30:07.453Z"
   },
   {
    "duration": 0,
    "start_time": "2022-06-17T17:30:07.455Z"
   },
   {
    "duration": 0,
    "start_time": "2022-06-17T17:30:07.456Z"
   },
   {
    "duration": 0,
    "start_time": "2022-06-17T17:30:07.458Z"
   },
   {
    "duration": 0,
    "start_time": "2022-06-17T17:30:07.459Z"
   },
   {
    "duration": 27,
    "start_time": "2022-06-17T17:30:34.220Z"
   },
   {
    "duration": 34,
    "start_time": "2022-06-17T17:30:52.304Z"
   },
   {
    "duration": 23,
    "start_time": "2022-06-17T17:31:20.197Z"
   },
   {
    "duration": 7,
    "start_time": "2022-06-17T17:31:40.243Z"
   },
   {
    "duration": 9,
    "start_time": "2022-06-17T17:31:46.526Z"
   },
   {
    "duration": 174,
    "start_time": "2022-06-17T17:32:22.918Z"
   },
   {
    "duration": 24,
    "start_time": "2022-06-17T17:32:40.902Z"
   },
   {
    "duration": 8,
    "start_time": "2022-06-17T17:33:48.929Z"
   },
   {
    "duration": 9,
    "start_time": "2022-06-17T17:35:28.622Z"
   },
   {
    "duration": 7,
    "start_time": "2022-06-17T17:35:50.381Z"
   },
   {
    "duration": 11,
    "start_time": "2022-06-17T17:36:17.570Z"
   },
   {
    "duration": 5,
    "start_time": "2022-06-17T17:47:28.505Z"
   },
   {
    "duration": 10,
    "start_time": "2022-06-17T17:49:44.423Z"
   },
   {
    "duration": 7,
    "start_time": "2022-06-17T17:51:47.596Z"
   },
   {
    "duration": 1282,
    "start_time": "2022-06-18T08:14:39.831Z"
   },
   {
    "duration": 47,
    "start_time": "2022-06-18T08:14:41.115Z"
   },
   {
    "duration": 15,
    "start_time": "2022-06-18T08:14:41.166Z"
   },
   {
    "duration": 45,
    "start_time": "2022-06-18T08:14:41.183Z"
   },
   {
    "duration": 3,
    "start_time": "2022-06-18T08:14:41.230Z"
   },
   {
    "duration": 8,
    "start_time": "2022-06-18T08:14:41.234Z"
   },
   {
    "duration": 6,
    "start_time": "2022-06-18T08:14:41.244Z"
   },
   {
    "duration": 4,
    "start_time": "2022-06-18T08:14:41.252Z"
   },
   {
    "duration": 6,
    "start_time": "2022-06-18T08:14:41.258Z"
   },
   {
    "duration": 16,
    "start_time": "2022-06-18T08:14:41.265Z"
   },
   {
    "duration": 8,
    "start_time": "2022-06-18T08:14:41.282Z"
   },
   {
    "duration": 213,
    "start_time": "2022-06-18T08:14:41.291Z"
   },
   {
    "duration": 19,
    "start_time": "2022-06-18T08:14:41.506Z"
   },
   {
    "duration": 13,
    "start_time": "2022-06-18T08:14:41.527Z"
   },
   {
    "duration": 602,
    "start_time": "2022-06-18T08:14:41.542Z"
   },
   {
    "duration": 20,
    "start_time": "2022-06-18T08:14:42.145Z"
   },
   {
    "duration": 280,
    "start_time": "2022-06-18T08:14:42.167Z"
   },
   {
    "duration": 6,
    "start_time": "2022-06-18T08:14:42.449Z"
   },
   {
    "duration": 135,
    "start_time": "2022-06-18T08:14:42.457Z"
   },
   {
    "duration": 22,
    "start_time": "2022-06-18T08:14:42.594Z"
   },
   {
    "duration": 31,
    "start_time": "2022-06-18T08:14:42.622Z"
   },
   {
    "duration": 290,
    "start_time": "2022-06-18T08:14:42.655Z"
   },
   {
    "duration": 1382,
    "start_time": "2022-06-18T08:14:42.946Z"
   },
   {
    "duration": 6,
    "start_time": "2022-06-18T08:14:44.330Z"
   },
   {
    "duration": 16,
    "start_time": "2022-06-18T08:14:44.338Z"
   },
   {
    "duration": 171,
    "start_time": "2022-06-18T08:14:44.355Z"
   },
   {
    "duration": 25,
    "start_time": "2022-06-18T08:14:44.530Z"
   },
   {
    "duration": 6,
    "start_time": "2022-06-18T08:14:44.556Z"
   },
   {
    "duration": 760,
    "start_time": "2022-06-18T08:14:44.564Z"
   },
   {
    "duration": 7,
    "start_time": "2022-06-18T08:14:45.326Z"
   },
   {
    "duration": 10,
    "start_time": "2022-06-18T08:14:45.335Z"
   },
   {
    "duration": 8,
    "start_time": "2022-06-18T08:14:45.346Z"
   },
   {
    "duration": 10,
    "start_time": "2022-06-18T08:14:45.356Z"
   },
   {
    "duration": 243,
    "start_time": "2022-06-18T08:14:45.367Z"
   },
   {
    "duration": 415,
    "start_time": "2022-06-18T08:14:45.611Z"
   },
   {
    "duration": 545,
    "start_time": "2022-06-18T08:14:46.028Z"
   },
   {
    "duration": 17,
    "start_time": "2022-06-18T08:14:46.574Z"
   },
   {
    "duration": 37,
    "start_time": "2022-06-18T08:14:46.593Z"
   },
   {
    "duration": 16,
    "start_time": "2022-06-18T08:14:46.632Z"
   },
   {
    "duration": 13,
    "start_time": "2022-06-18T08:14:46.649Z"
   },
   {
    "duration": 15,
    "start_time": "2022-06-18T08:14:46.664Z"
   },
   {
    "duration": 49,
    "start_time": "2022-06-18T08:14:46.681Z"
   },
   {
    "duration": 19,
    "start_time": "2022-06-18T08:19:58.932Z"
   },
   {
    "duration": 30,
    "start_time": "2022-06-18T08:37:25.318Z"
   },
   {
    "duration": 23,
    "start_time": "2022-06-18T08:37:44.419Z"
   },
   {
    "duration": 610,
    "start_time": "2022-06-18T08:37:52.625Z"
   },
   {
    "duration": 615,
    "start_time": "2022-06-18T08:38:53.274Z"
   },
   {
    "duration": 553,
    "start_time": "2022-06-18T08:39:23.142Z"
   },
   {
    "duration": 684,
    "start_time": "2022-06-18T08:40:04.675Z"
   },
   {
    "duration": 545,
    "start_time": "2022-06-18T08:40:44.644Z"
   },
   {
    "duration": 975,
    "start_time": "2022-06-18T08:44:33.679Z"
   },
   {
    "duration": 957,
    "start_time": "2022-06-18T08:45:43.265Z"
   },
   {
    "duration": 847,
    "start_time": "2022-06-18T08:46:41.703Z"
   },
   {
    "duration": 527,
    "start_time": "2022-06-18T08:47:33.931Z"
   },
   {
    "duration": 289,
    "start_time": "2022-06-18T08:48:28.141Z"
   },
   {
    "duration": 48,
    "start_time": "2022-06-18T08:48:36.788Z"
   },
   {
    "duration": 46,
    "start_time": "2022-06-18T08:48:36.956Z"
   },
   {
    "duration": 15,
    "start_time": "2022-06-18T08:48:37.152Z"
   },
   {
    "duration": 24,
    "start_time": "2022-06-18T08:48:37.339Z"
   },
   {
    "duration": 4,
    "start_time": "2022-06-18T08:48:37.969Z"
   },
   {
    "duration": 5,
    "start_time": "2022-06-18T08:48:38.177Z"
   },
   {
    "duration": 8,
    "start_time": "2022-06-18T08:48:38.403Z"
   },
   {
    "duration": 5,
    "start_time": "2022-06-18T08:48:38.616Z"
   },
   {
    "duration": 4,
    "start_time": "2022-06-18T08:48:38.857Z"
   },
   {
    "duration": 13,
    "start_time": "2022-06-18T08:48:39.053Z"
   },
   {
    "duration": 9,
    "start_time": "2022-06-18T08:48:39.304Z"
   },
   {
    "duration": 174,
    "start_time": "2022-06-18T08:48:40.088Z"
   },
   {
    "duration": 16,
    "start_time": "2022-06-18T08:48:40.544Z"
   },
   {
    "duration": 10,
    "start_time": "2022-06-18T08:48:40.958Z"
   },
   {
    "duration": 683,
    "start_time": "2022-06-18T08:48:41.485Z"
   },
   {
    "duration": 18,
    "start_time": "2022-06-18T08:48:42.170Z"
   },
   {
    "duration": 252,
    "start_time": "2022-06-18T08:48:42.189Z"
   },
   {
    "duration": 6,
    "start_time": "2022-06-18T08:48:42.442Z"
   },
   {
    "duration": 25,
    "start_time": "2022-06-18T08:48:42.729Z"
   },
   {
    "duration": 16,
    "start_time": "2022-06-18T08:48:42.934Z"
   },
   {
    "duration": 29,
    "start_time": "2022-06-18T08:48:43.132Z"
   },
   {
    "duration": 276,
    "start_time": "2022-06-18T08:48:43.302Z"
   },
   {
    "duration": 1280,
    "start_time": "2022-06-18T08:48:43.579Z"
   },
   {
    "duration": 8,
    "start_time": "2022-06-18T08:48:44.861Z"
   },
   {
    "duration": 17,
    "start_time": "2022-06-18T08:48:44.870Z"
   },
   {
    "duration": 171,
    "start_time": "2022-06-18T08:48:44.890Z"
   },
   {
    "duration": 28,
    "start_time": "2022-06-18T08:48:45.063Z"
   },
   {
    "duration": 6,
    "start_time": "2022-06-18T08:48:45.092Z"
   },
   {
    "duration": 936,
    "start_time": "2022-06-18T08:48:45.100Z"
   },
   {
    "duration": 12,
    "start_time": "2022-06-18T08:48:46.038Z"
   },
   {
    "duration": 9,
    "start_time": "2022-06-18T08:48:46.053Z"
   },
   {
    "duration": 8,
    "start_time": "2022-06-18T08:48:46.064Z"
   },
   {
    "duration": 27,
    "start_time": "2022-06-18T08:48:46.074Z"
   },
   {
    "duration": 219,
    "start_time": "2022-06-18T08:48:46.685Z"
   },
   {
    "duration": 287,
    "start_time": "2022-06-18T08:48:47.669Z"
   },
   {
    "duration": 0,
    "start_time": "2022-06-18T08:48:47.957Z"
   },
   {
    "duration": 17,
    "start_time": "2022-06-18T08:48:48.220Z"
   },
   {
    "duration": 16,
    "start_time": "2022-06-18T08:48:48.503Z"
   },
   {
    "duration": 16,
    "start_time": "2022-06-18T08:48:48.780Z"
   },
   {
    "duration": 7,
    "start_time": "2022-06-18T08:50:02.102Z"
   },
   {
    "duration": 8,
    "start_time": "2022-06-18T08:50:25.809Z"
   },
   {
    "duration": 8,
    "start_time": "2022-06-18T08:51:05.775Z"
   },
   {
    "duration": 8,
    "start_time": "2022-06-18T08:51:15.478Z"
   },
   {
    "duration": 8,
    "start_time": "2022-06-18T08:51:39.983Z"
   },
   {
    "duration": 325,
    "start_time": "2022-06-18T08:52:19.065Z"
   },
   {
    "duration": 328,
    "start_time": "2022-06-18T08:53:08.150Z"
   },
   {
    "duration": 11,
    "start_time": "2022-06-18T08:53:43.811Z"
   },
   {
    "duration": 10,
    "start_time": "2022-06-18T08:53:58.068Z"
   },
   {
    "duration": 334,
    "start_time": "2022-06-18T08:54:57.763Z"
   },
   {
    "duration": 432,
    "start_time": "2022-06-18T08:55:15.749Z"
   },
   {
    "duration": 318,
    "start_time": "2022-06-18T08:58:18.939Z"
   },
   {
    "duration": 316,
    "start_time": "2022-06-18T08:59:49.814Z"
   },
   {
    "duration": 372,
    "start_time": "2022-06-18T09:01:52.569Z"
   },
   {
    "duration": 349,
    "start_time": "2022-06-18T09:02:13.373Z"
   },
   {
    "duration": 506,
    "start_time": "2022-06-18T09:02:51.128Z"
   },
   {
    "duration": 364,
    "start_time": "2022-06-18T09:03:20.286Z"
   },
   {
    "duration": 309,
    "start_time": "2022-06-18T09:04:26.832Z"
   },
   {
    "duration": 360,
    "start_time": "2022-06-18T09:04:34.933Z"
   },
   {
    "duration": 335,
    "start_time": "2022-06-18T09:06:12.890Z"
   },
   {
    "duration": 40,
    "start_time": "2022-06-18T09:06:52.590Z"
   },
   {
    "duration": 23,
    "start_time": "2022-06-18T09:07:33.584Z"
   },
   {
    "duration": 18,
    "start_time": "2022-06-18T09:14:37.009Z"
   },
   {
    "duration": 16,
    "start_time": "2022-06-18T09:15:03.653Z"
   },
   {
    "duration": 15,
    "start_time": "2022-06-18T09:16:20.250Z"
   },
   {
    "duration": 14,
    "start_time": "2022-06-18T09:17:21.500Z"
   },
   {
    "duration": 24,
    "start_time": "2022-06-18T09:51:00.860Z"
   },
   {
    "duration": 13,
    "start_time": "2022-06-18T09:51:09.626Z"
   },
   {
    "duration": 13,
    "start_time": "2022-06-18T09:51:11.150Z"
   },
   {
    "duration": 60,
    "start_time": "2022-06-18T09:52:11.874Z"
   },
   {
    "duration": 59,
    "start_time": "2022-06-18T09:53:07.732Z"
   },
   {
    "duration": 21,
    "start_time": "2022-06-18T09:54:50.048Z"
   },
   {
    "duration": 18,
    "start_time": "2022-06-18T09:55:31.948Z"
   },
   {
    "duration": 47,
    "start_time": "2022-06-18T09:55:50.128Z"
   },
   {
    "duration": 52,
    "start_time": "2022-06-18T09:56:31.283Z"
   },
   {
    "duration": 104,
    "start_time": "2022-06-18T09:59:56.924Z"
   },
   {
    "duration": 112,
    "start_time": "2022-06-18T10:01:00.570Z"
   },
   {
    "duration": 105,
    "start_time": "2022-06-18T10:01:47.447Z"
   },
   {
    "duration": 33,
    "start_time": "2022-06-18T10:02:12.758Z"
   },
   {
    "duration": 94,
    "start_time": "2022-06-18T10:02:25.585Z"
   },
   {
    "duration": 37,
    "start_time": "2022-06-18T10:02:59.143Z"
   },
   {
    "duration": 4,
    "start_time": "2022-06-18T10:03:47.211Z"
   },
   {
    "duration": 49,
    "start_time": "2022-06-18T10:04:19.365Z"
   },
   {
    "duration": 47,
    "start_time": "2022-06-18T10:04:54.776Z"
   },
   {
    "duration": 14,
    "start_time": "2022-06-18T10:05:17.441Z"
   },
   {
    "duration": 7,
    "start_time": "2022-06-18T10:54:52.346Z"
   },
   {
    "duration": 4,
    "start_time": "2022-06-18T10:55:22.164Z"
   },
   {
    "duration": 7,
    "start_time": "2022-06-18T10:55:32.970Z"
   },
   {
    "duration": 10,
    "start_time": "2022-06-18T10:55:47.842Z"
   },
   {
    "duration": 8,
    "start_time": "2022-06-18T10:56:04.404Z"
   },
   {
    "duration": 13,
    "start_time": "2022-06-18T10:56:36.347Z"
   },
   {
    "duration": 11,
    "start_time": "2022-06-18T10:57:04.805Z"
   },
   {
    "duration": 13,
    "start_time": "2022-06-18T10:57:36.595Z"
   },
   {
    "duration": 16,
    "start_time": "2022-06-18T10:59:08.929Z"
   },
   {
    "duration": 14,
    "start_time": "2022-06-18T10:59:15.604Z"
   },
   {
    "duration": 15,
    "start_time": "2022-06-18T11:00:11.273Z"
   },
   {
    "duration": 13,
    "start_time": "2022-06-18T11:01:05.456Z"
   },
   {
    "duration": 7,
    "start_time": "2022-06-18T11:01:50.017Z"
   },
   {
    "duration": 1278,
    "start_time": "2022-06-18T11:15:30.720Z"
   },
   {
    "duration": 83,
    "start_time": "2022-06-18T11:15:32.003Z"
   },
   {
    "duration": 20,
    "start_time": "2022-06-18T11:15:32.088Z"
   },
   {
    "duration": 41,
    "start_time": "2022-06-18T11:15:32.110Z"
   },
   {
    "duration": 19,
    "start_time": "2022-06-18T11:15:32.159Z"
   },
   {
    "duration": 14,
    "start_time": "2022-06-18T11:15:32.180Z"
   },
   {
    "duration": 24,
    "start_time": "2022-06-18T11:15:32.196Z"
   },
   {
    "duration": 44,
    "start_time": "2022-06-18T11:15:32.223Z"
   },
   {
    "duration": 19,
    "start_time": "2022-06-18T11:15:32.269Z"
   },
   {
    "duration": 40,
    "start_time": "2022-06-18T11:15:32.291Z"
   },
   {
    "duration": 71,
    "start_time": "2022-06-18T11:15:32.333Z"
   },
   {
    "duration": 243,
    "start_time": "2022-06-18T11:15:32.405Z"
   },
   {
    "duration": 29,
    "start_time": "2022-06-18T11:15:32.650Z"
   },
   {
    "duration": 18,
    "start_time": "2022-06-18T11:15:32.682Z"
   },
   {
    "duration": 888,
    "start_time": "2022-06-18T11:15:32.703Z"
   },
   {
    "duration": 34,
    "start_time": "2022-06-18T11:15:33.594Z"
   },
   {
    "duration": 316,
    "start_time": "2022-06-18T11:15:33.630Z"
   },
   {
    "duration": 8,
    "start_time": "2022-06-18T11:15:33.948Z"
   },
   {
    "duration": 209,
    "start_time": "2022-06-18T11:15:33.957Z"
   },
   {
    "duration": 22,
    "start_time": "2022-06-18T11:15:34.168Z"
   },
   {
    "duration": 59,
    "start_time": "2022-06-18T11:15:34.191Z"
   },
   {
    "duration": 322,
    "start_time": "2022-06-18T11:15:34.252Z"
   },
   {
    "duration": 1598,
    "start_time": "2022-06-18T11:15:34.575Z"
   },
   {
    "duration": 9,
    "start_time": "2022-06-18T11:15:36.175Z"
   },
   {
    "duration": 25,
    "start_time": "2022-06-18T11:15:36.186Z"
   },
   {
    "duration": 260,
    "start_time": "2022-06-18T11:15:36.212Z"
   },
   {
    "duration": 30,
    "start_time": "2022-06-18T11:15:36.473Z"
   },
   {
    "duration": 31,
    "start_time": "2022-06-18T11:15:36.506Z"
   },
   {
    "duration": 925,
    "start_time": "2022-06-18T11:15:36.538Z"
   },
   {
    "duration": 9,
    "start_time": "2022-06-18T11:15:37.465Z"
   },
   {
    "duration": 16,
    "start_time": "2022-06-18T11:15:37.477Z"
   },
   {
    "duration": 30,
    "start_time": "2022-06-18T11:15:37.495Z"
   },
   {
    "duration": 42,
    "start_time": "2022-06-18T11:15:37.531Z"
   },
   {
    "duration": 321,
    "start_time": "2022-06-18T11:15:37.575Z"
   },
   {
    "duration": 14,
    "start_time": "2022-06-18T11:15:37.898Z"
   },
   {
    "duration": 14,
    "start_time": "2022-06-18T11:15:37.913Z"
   },
   {
    "duration": 67,
    "start_time": "2022-06-18T11:15:37.930Z"
   },
   {
    "duration": 34,
    "start_time": "2022-06-18T11:15:37.999Z"
   },
   {
    "duration": 50,
    "start_time": "2022-06-18T11:15:38.034Z"
   },
   {
    "duration": 13,
    "start_time": "2022-06-18T11:15:38.086Z"
   },
   {
    "duration": 14,
    "start_time": "2022-06-18T11:15:38.100Z"
   },
   {
    "duration": 1488,
    "start_time": "2022-06-18T12:13:08.616Z"
   },
   {
    "duration": 46,
    "start_time": "2022-06-18T12:13:10.106Z"
   },
   {
    "duration": 15,
    "start_time": "2022-06-18T12:13:10.154Z"
   },
   {
    "duration": 19,
    "start_time": "2022-06-18T12:13:10.171Z"
   },
   {
    "duration": 2,
    "start_time": "2022-06-18T12:13:10.192Z"
   },
   {
    "duration": 34,
    "start_time": "2022-06-18T12:13:10.195Z"
   },
   {
    "duration": 11,
    "start_time": "2022-06-18T12:13:10.231Z"
   },
   {
    "duration": 5,
    "start_time": "2022-06-18T12:13:10.244Z"
   },
   {
    "duration": 7,
    "start_time": "2022-06-18T12:13:10.250Z"
   },
   {
    "duration": 14,
    "start_time": "2022-06-18T12:13:10.259Z"
   },
   {
    "duration": 8,
    "start_time": "2022-06-18T12:13:10.275Z"
   },
   {
    "duration": 240,
    "start_time": "2022-06-18T12:13:10.285Z"
   },
   {
    "duration": 15,
    "start_time": "2022-06-18T12:13:10.527Z"
   },
   {
    "duration": 8,
    "start_time": "2022-06-18T12:13:10.544Z"
   },
   {
    "duration": 627,
    "start_time": "2022-06-18T12:13:10.553Z"
   },
   {
    "duration": 20,
    "start_time": "2022-06-18T12:13:11.181Z"
   },
   {
    "duration": 308,
    "start_time": "2022-06-18T12:13:11.203Z"
   },
   {
    "duration": 8,
    "start_time": "2022-06-18T12:13:11.521Z"
   },
   {
    "duration": 127,
    "start_time": "2022-06-18T12:13:11.531Z"
   },
   {
    "duration": 18,
    "start_time": "2022-06-18T12:13:11.659Z"
   },
   {
    "duration": 52,
    "start_time": "2022-06-18T12:13:11.679Z"
   },
   {
    "duration": 314,
    "start_time": "2022-06-18T12:13:11.732Z"
   },
   {
    "duration": 1528,
    "start_time": "2022-06-18T12:13:12.048Z"
   },
   {
    "duration": 6,
    "start_time": "2022-06-18T12:13:13.578Z"
   },
   {
    "duration": 18,
    "start_time": "2022-06-18T12:13:13.586Z"
   },
   {
    "duration": 198,
    "start_time": "2022-06-18T12:13:13.606Z"
   },
   {
    "duration": 41,
    "start_time": "2022-06-18T12:13:13.806Z"
   },
   {
    "duration": 6,
    "start_time": "2022-06-18T12:13:13.850Z"
   },
   {
    "duration": 949,
    "start_time": "2022-06-18T12:13:13.858Z"
   },
   {
    "duration": 21,
    "start_time": "2022-06-18T12:13:14.810Z"
   },
   {
    "duration": 12,
    "start_time": "2022-06-18T12:13:14.832Z"
   },
   {
    "duration": 23,
    "start_time": "2022-06-18T12:13:14.846Z"
   },
   {
    "duration": 21,
    "start_time": "2022-06-18T12:13:14.871Z"
   },
   {
    "duration": 257,
    "start_time": "2022-06-18T12:13:14.894Z"
   },
   {
    "duration": 13,
    "start_time": "2022-06-18T12:13:15.153Z"
   },
   {
    "duration": 3,
    "start_time": "2022-06-18T12:13:15.168Z"
   },
   {
    "duration": 35,
    "start_time": "2022-06-18T12:13:15.173Z"
   },
   {
    "duration": 20,
    "start_time": "2022-06-18T12:13:15.210Z"
   },
   {
    "duration": 13,
    "start_time": "2022-06-18T12:13:15.231Z"
   },
   {
    "duration": 15,
    "start_time": "2022-06-18T12:13:15.246Z"
   },
   {
    "duration": 26,
    "start_time": "2022-06-18T12:13:15.263Z"
   },
   {
    "duration": 47,
    "start_time": "2022-06-18T16:42:55.099Z"
   },
   {
    "duration": 1543,
    "start_time": "2022-06-18T16:43:06.746Z"
   },
   {
    "duration": 58,
    "start_time": "2022-06-18T16:43:08.291Z"
   },
   {
    "duration": 19,
    "start_time": "2022-06-18T16:43:08.351Z"
   },
   {
    "duration": 35,
    "start_time": "2022-06-18T16:43:08.373Z"
   },
   {
    "duration": 3,
    "start_time": "2022-06-18T16:43:08.410Z"
   },
   {
    "duration": 45,
    "start_time": "2022-06-18T16:43:08.415Z"
   },
   {
    "duration": 12,
    "start_time": "2022-06-18T16:43:08.461Z"
   },
   {
    "duration": 5,
    "start_time": "2022-06-18T16:43:08.475Z"
   },
   {
    "duration": 13,
    "start_time": "2022-06-18T16:43:08.481Z"
   },
   {
    "duration": 16,
    "start_time": "2022-06-18T16:43:08.497Z"
   },
   {
    "duration": 9,
    "start_time": "2022-06-18T16:43:08.515Z"
   },
   {
    "duration": 208,
    "start_time": "2022-06-18T16:43:08.542Z"
   },
   {
    "duration": 19,
    "start_time": "2022-06-18T16:43:08.752Z"
   },
   {
    "duration": 9,
    "start_time": "2022-06-18T16:43:08.773Z"
   },
   {
    "duration": 705,
    "start_time": "2022-06-18T16:43:08.784Z"
   },
   {
    "duration": 24,
    "start_time": "2022-06-18T16:43:09.491Z"
   },
   {
    "duration": 320,
    "start_time": "2022-06-18T16:43:09.518Z"
   },
   {
    "duration": 7,
    "start_time": "2022-06-18T16:43:09.840Z"
   },
   {
    "duration": 130,
    "start_time": "2022-06-18T16:43:09.848Z"
   },
   {
    "duration": 18,
    "start_time": "2022-06-18T16:43:09.980Z"
   },
   {
    "duration": 53,
    "start_time": "2022-06-18T16:43:10.000Z"
   },
   {
    "duration": 328,
    "start_time": "2022-06-18T16:43:10.054Z"
   },
   {
    "duration": 1586,
    "start_time": "2022-06-18T16:43:10.384Z"
   },
   {
    "duration": 9,
    "start_time": "2022-06-18T16:43:11.971Z"
   },
   {
    "duration": 14,
    "start_time": "2022-06-18T16:43:11.982Z"
   },
   {
    "duration": 217,
    "start_time": "2022-06-18T16:43:11.998Z"
   },
   {
    "duration": 41,
    "start_time": "2022-06-18T16:43:12.217Z"
   },
   {
    "duration": 7,
    "start_time": "2022-06-18T16:43:12.262Z"
   },
   {
    "duration": 962,
    "start_time": "2022-06-18T16:43:12.271Z"
   },
   {
    "duration": 16,
    "start_time": "2022-06-18T16:43:13.235Z"
   },
   {
    "duration": 14,
    "start_time": "2022-06-18T16:43:13.253Z"
   },
   {
    "duration": 11,
    "start_time": "2022-06-18T16:43:13.269Z"
   },
   {
    "duration": 10,
    "start_time": "2022-06-18T16:43:13.282Z"
   },
   {
    "duration": 265,
    "start_time": "2022-06-18T16:43:13.294Z"
   },
   {
    "duration": 289,
    "start_time": "2022-06-18T16:43:13.561Z"
   },
   {
    "duration": 15,
    "start_time": "2022-06-18T16:43:13.852Z"
   },
   {
    "duration": 8,
    "start_time": "2022-06-18T16:43:13.869Z"
   },
   {
    "duration": 16,
    "start_time": "2022-06-18T16:43:13.878Z"
   },
   {
    "duration": 15,
    "start_time": "2022-06-18T16:43:13.896Z"
   },
   {
    "duration": 16,
    "start_time": "2022-06-18T16:43:13.942Z"
   },
   {
    "duration": 169,
    "start_time": "2022-06-18T16:43:13.960Z"
   },
   {
    "duration": 15,
    "start_time": "2022-06-18T16:43:14.141Z"
   },
   {
    "duration": 253,
    "start_time": "2022-06-18T16:47:23.892Z"
   },
   {
    "duration": 247,
    "start_time": "2022-06-18T16:51:40.213Z"
   },
   {
    "duration": 274,
    "start_time": "2022-06-18T16:52:11.209Z"
   },
   {
    "duration": 26313,
    "start_time": "2022-06-18T16:54:05.341Z"
   },
   {
    "duration": 306,
    "start_time": "2022-06-18T16:55:00.434Z"
   },
   {
    "duration": 280,
    "start_time": "2022-06-18T16:55:20.778Z"
   },
   {
    "duration": 4,
    "start_time": "2022-06-18T16:59:25.886Z"
   },
   {
    "duration": 8,
    "start_time": "2022-06-18T16:59:33.210Z"
   },
   {
    "duration": 23,
    "start_time": "2022-06-18T17:00:04.303Z"
   },
   {
    "duration": 3,
    "start_time": "2022-06-18T17:02:00.693Z"
   },
   {
    "duration": 10,
    "start_time": "2022-06-18T17:02:09.709Z"
   },
   {
    "duration": 294,
    "start_time": "2022-06-18T17:02:13.625Z"
   },
   {
    "duration": 11,
    "start_time": "2022-06-18T17:02:49.660Z"
   },
   {
    "duration": 5,
    "start_time": "2022-06-18T17:03:50.784Z"
   },
   {
    "duration": 7,
    "start_time": "2022-06-18T17:04:29.127Z"
   },
   {
    "duration": 15,
    "start_time": "2022-06-18T17:04:40.691Z"
   },
   {
    "duration": 578,
    "start_time": "2022-06-18T17:04:59.772Z"
   },
   {
    "duration": 641,
    "start_time": "2022-06-18T17:05:16.354Z"
   },
   {
    "duration": 20,
    "start_time": "2022-06-18T17:05:31.239Z"
   },
   {
    "duration": 258,
    "start_time": "2022-06-18T17:05:34.958Z"
   },
   {
    "duration": 5,
    "start_time": "2022-06-18T17:06:12.765Z"
   },
   {
    "duration": 4,
    "start_time": "2022-06-18T17:06:24.197Z"
   },
   {
    "duration": 58,
    "start_time": "2022-06-18T17:08:19.804Z"
   },
   {
    "duration": 40,
    "start_time": "2022-06-18T17:08:44.097Z"
   },
   {
    "duration": 241,
    "start_time": "2022-06-18T17:11:48.691Z"
   },
   {
    "duration": 35,
    "start_time": "2022-06-18T17:12:02.008Z"
   },
   {
    "duration": 28,
    "start_time": "2022-06-18T17:12:13.530Z"
   },
   {
    "duration": 24,
    "start_time": "2022-06-18T17:12:32.331Z"
   },
   {
    "duration": 18,
    "start_time": "2022-06-18T17:13:55.970Z"
   },
   {
    "duration": 257,
    "start_time": "2022-06-18T17:14:18.961Z"
   },
   {
    "duration": 4,
    "start_time": "2022-06-18T17:17:48.619Z"
   },
   {
    "duration": 252,
    "start_time": "2022-06-18T17:17:56.170Z"
   },
   {
    "duration": 285,
    "start_time": "2022-06-18T17:18:36.098Z"
   },
   {
    "duration": 261,
    "start_time": "2022-06-18T17:18:54.872Z"
   },
   {
    "duration": 487,
    "start_time": "2022-06-18T17:20:26.422Z"
   },
   {
    "duration": 398,
    "start_time": "2022-06-18T17:20:42.286Z"
   },
   {
    "duration": 372,
    "start_time": "2022-06-18T17:21:20.011Z"
   },
   {
    "duration": 10,
    "start_time": "2022-06-18T17:21:42.857Z"
   },
   {
    "duration": 27,
    "start_time": "2022-06-18T17:21:51.533Z"
   },
   {
    "duration": 330,
    "start_time": "2022-06-18T17:22:11.548Z"
   },
   {
    "duration": 385,
    "start_time": "2022-06-18T17:24:05.067Z"
   },
   {
    "duration": 859,
    "start_time": "2022-06-18T17:24:40.385Z"
   },
   {
    "duration": 974,
    "start_time": "2022-06-18T17:24:51.789Z"
   },
   {
    "duration": 888,
    "start_time": "2022-06-18T17:25:11.683Z"
   },
   {
    "duration": 613,
    "start_time": "2022-06-18T17:27:26.186Z"
   },
   {
    "duration": 981,
    "start_time": "2022-06-18T17:27:54.123Z"
   },
   {
    "duration": 530,
    "start_time": "2022-06-18T17:28:33.011Z"
   },
   {
    "duration": 376,
    "start_time": "2022-06-18T17:28:44.448Z"
   },
   {
    "duration": 599,
    "start_time": "2022-06-18T17:28:52.379Z"
   },
   {
    "duration": 508,
    "start_time": "2022-06-18T17:29:06.865Z"
   },
   {
    "duration": 267,
    "start_time": "2022-06-18T17:36:13.338Z"
   },
   {
    "duration": 933,
    "start_time": "2022-06-18T17:37:10.462Z"
   },
   {
    "duration": 329,
    "start_time": "2022-06-18T17:40:48.035Z"
   },
   {
    "duration": 263,
    "start_time": "2022-06-18T17:44:45.922Z"
   },
   {
    "duration": 772,
    "start_time": "2022-06-18T17:45:10.693Z"
   },
   {
    "duration": 231,
    "start_time": "2022-06-18T17:45:46.522Z"
   },
   {
    "duration": 374,
    "start_time": "2022-06-18T17:46:30.738Z"
   },
   {
    "duration": 315,
    "start_time": "2022-06-18T17:47:05.360Z"
   },
   {
    "duration": 425,
    "start_time": "2022-06-18T17:47:18.567Z"
   },
   {
    "duration": 277,
    "start_time": "2022-06-18T17:47:25.781Z"
   },
   {
    "duration": 335,
    "start_time": "2022-06-18T17:47:31.964Z"
   },
   {
    "duration": 371,
    "start_time": "2022-06-18T17:47:53.130Z"
   },
   {
    "duration": 500,
    "start_time": "2022-06-18T17:48:23.791Z"
   },
   {
    "duration": 506,
    "start_time": "2022-06-18T17:49:16.877Z"
   },
   {
    "duration": 393,
    "start_time": "2022-06-18T17:50:00.564Z"
   },
   {
    "duration": 484,
    "start_time": "2022-06-18T17:50:08.517Z"
   },
   {
    "duration": 397,
    "start_time": "2022-06-18T17:50:44.224Z"
   },
   {
    "duration": 402,
    "start_time": "2022-06-18T17:52:07.701Z"
   },
   {
    "duration": 359,
    "start_time": "2022-06-18T17:52:23.626Z"
   },
   {
    "duration": 485,
    "start_time": "2022-06-18T17:52:57.534Z"
   },
   {
    "duration": 340,
    "start_time": "2022-06-18T17:53:11.457Z"
   },
   {
    "duration": 379,
    "start_time": "2022-06-18T17:55:03.691Z"
   },
   {
    "duration": 462,
    "start_time": "2022-06-18T17:56:29.435Z"
   },
   {
    "duration": 419,
    "start_time": "2022-06-18T17:57:58.818Z"
   },
   {
    "duration": 1211,
    "start_time": "2022-06-18T17:59:38.022Z"
   },
   {
    "duration": 487,
    "start_time": "2022-06-18T18:00:46.667Z"
   },
   {
    "duration": 429,
    "start_time": "2022-06-18T18:01:17.572Z"
   },
   {
    "duration": 336,
    "start_time": "2022-06-18T18:07:33.611Z"
   },
   {
    "duration": 29,
    "start_time": "2022-06-18T18:08:53.298Z"
   },
   {
    "duration": 34,
    "start_time": "2022-06-18T18:09:27.355Z"
   },
   {
    "duration": 355,
    "start_time": "2022-06-18T18:09:42.449Z"
   },
   {
    "duration": 363,
    "start_time": "2022-06-18T18:10:03.618Z"
   },
   {
    "duration": 450,
    "start_time": "2022-06-18T18:10:55.338Z"
   },
   {
    "duration": 343,
    "start_time": "2022-06-18T18:11:38.683Z"
   },
   {
    "duration": 38,
    "start_time": "2022-06-18T18:12:14.772Z"
   },
   {
    "duration": 523,
    "start_time": "2022-06-18T18:12:38.696Z"
   },
   {
    "duration": 340,
    "start_time": "2022-06-18T18:13:30.208Z"
   },
   {
    "duration": 408,
    "start_time": "2022-06-18T18:15:04.162Z"
   },
   {
    "duration": 456,
    "start_time": "2022-06-18T18:15:24.632Z"
   },
   {
    "duration": 349,
    "start_time": "2022-06-18T18:15:45.078Z"
   },
   {
    "duration": 350,
    "start_time": "2022-06-18T18:15:54.662Z"
   },
   {
    "duration": 380,
    "start_time": "2022-06-18T18:16:35.621Z"
   },
   {
    "duration": 413,
    "start_time": "2022-06-18T18:17:10.915Z"
   },
   {
    "duration": 398,
    "start_time": "2022-06-18T18:17:28.066Z"
   },
   {
    "duration": 471,
    "start_time": "2022-06-18T18:18:53.958Z"
   },
   {
    "duration": 8,
    "start_time": "2022-06-18T18:23:27.068Z"
   },
   {
    "duration": 14,
    "start_time": "2022-06-18T18:23:38.777Z"
   },
   {
    "duration": 489,
    "start_time": "2022-06-18T18:24:00.027Z"
   },
   {
    "duration": 397,
    "start_time": "2022-06-18T18:24:38.389Z"
   },
   {
    "duration": 948,
    "start_time": "2022-06-18T18:25:13.120Z"
   },
   {
    "duration": 417,
    "start_time": "2022-06-18T18:25:42.223Z"
   },
   {
    "duration": 460,
    "start_time": "2022-06-18T18:27:39.358Z"
   },
   {
    "duration": 415,
    "start_time": "2022-06-18T18:28:14.494Z"
   },
   {
    "duration": 437,
    "start_time": "2022-06-18T18:28:53.232Z"
   },
   {
    "duration": 439,
    "start_time": "2022-06-18T18:29:11.872Z"
   },
   {
    "duration": 404,
    "start_time": "2022-06-18T18:29:38.636Z"
   },
   {
    "duration": 373,
    "start_time": "2022-06-18T18:29:53.128Z"
   },
   {
    "duration": 1503,
    "start_time": "2022-06-19T08:48:13.468Z"
   },
   {
    "duration": 66,
    "start_time": "2022-06-19T08:48:14.974Z"
   },
   {
    "duration": 20,
    "start_time": "2022-06-19T08:48:15.042Z"
   },
   {
    "duration": 24,
    "start_time": "2022-06-19T08:48:15.064Z"
   },
   {
    "duration": 3,
    "start_time": "2022-06-19T08:48:15.090Z"
   },
   {
    "duration": 7,
    "start_time": "2022-06-19T08:48:15.095Z"
   },
   {
    "duration": 38,
    "start_time": "2022-06-19T08:48:15.104Z"
   },
   {
    "duration": 6,
    "start_time": "2022-06-19T08:48:15.144Z"
   },
   {
    "duration": 8,
    "start_time": "2022-06-19T08:48:15.152Z"
   },
   {
    "duration": 19,
    "start_time": "2022-06-19T08:48:15.162Z"
   },
   {
    "duration": 9,
    "start_time": "2022-06-19T08:48:15.183Z"
   },
   {
    "duration": 225,
    "start_time": "2022-06-19T08:48:15.193Z"
   },
   {
    "duration": 26,
    "start_time": "2022-06-19T08:48:15.419Z"
   },
   {
    "duration": 13,
    "start_time": "2022-06-19T08:48:15.448Z"
   },
   {
    "duration": 679,
    "start_time": "2022-06-19T08:48:15.462Z"
   },
   {
    "duration": 28,
    "start_time": "2022-06-19T08:48:16.143Z"
   },
   {
    "duration": 297,
    "start_time": "2022-06-19T08:48:16.173Z"
   },
   {
    "duration": 6,
    "start_time": "2022-06-19T08:48:16.471Z"
   },
   {
    "duration": 135,
    "start_time": "2022-06-19T08:48:16.479Z"
   },
   {
    "duration": 19,
    "start_time": "2022-06-19T08:48:16.616Z"
   },
   {
    "duration": 40,
    "start_time": "2022-06-19T08:48:16.637Z"
   },
   {
    "duration": 356,
    "start_time": "2022-06-19T08:48:16.679Z"
   },
   {
    "duration": 1689,
    "start_time": "2022-06-19T08:48:17.042Z"
   },
   {
    "duration": 14,
    "start_time": "2022-06-19T08:48:18.733Z"
   },
   {
    "duration": 19,
    "start_time": "2022-06-19T08:48:18.749Z"
   },
   {
    "duration": 206,
    "start_time": "2022-06-19T08:48:18.770Z"
   },
   {
    "duration": 30,
    "start_time": "2022-06-19T08:48:18.978Z"
   },
   {
    "duration": 7,
    "start_time": "2022-06-19T08:48:19.010Z"
   },
   {
    "duration": 927,
    "start_time": "2022-06-19T08:48:19.019Z"
   },
   {
    "duration": 10,
    "start_time": "2022-06-19T08:48:19.948Z"
   },
   {
    "duration": 16,
    "start_time": "2022-06-19T08:48:19.959Z"
   },
   {
    "duration": 10,
    "start_time": "2022-06-19T08:48:19.976Z"
   },
   {
    "duration": 16,
    "start_time": "2022-06-19T08:48:19.988Z"
   },
   {
    "duration": 274,
    "start_time": "2022-06-19T08:48:20.007Z"
   },
   {
    "duration": 278,
    "start_time": "2022-06-19T08:48:20.283Z"
   },
   {
    "duration": 15,
    "start_time": "2022-06-19T08:48:20.563Z"
   },
   {
    "duration": 5,
    "start_time": "2022-06-19T08:48:20.580Z"
   },
   {
    "duration": 15,
    "start_time": "2022-06-19T08:48:20.587Z"
   },
   {
    "duration": 45,
    "start_time": "2022-06-19T08:48:20.604Z"
   },
   {
    "duration": 14,
    "start_time": "2022-06-19T08:48:20.651Z"
   },
   {
    "duration": 586,
    "start_time": "2022-06-19T08:48:20.669Z"
   },
   {
    "duration": 341,
    "start_time": "2022-06-19T08:48:21.256Z"
   },
   {
    "duration": 374,
    "start_time": "2022-06-19T08:48:21.599Z"
   },
   {
    "duration": 396,
    "start_time": "2022-06-19T08:48:21.975Z"
   },
   {
    "duration": 407,
    "start_time": "2022-06-19T08:48:22.373Z"
   },
   {
    "duration": 0,
    "start_time": "2022-06-19T08:48:22.782Z"
   },
   {
    "duration": 0,
    "start_time": "2022-06-19T08:48:22.783Z"
   },
   {
    "duration": 0,
    "start_time": "2022-06-19T08:48:22.784Z"
   },
   {
    "duration": 0,
    "start_time": "2022-06-19T08:48:22.785Z"
   },
   {
    "duration": 0,
    "start_time": "2022-06-19T08:48:22.786Z"
   },
   {
    "duration": 0,
    "start_time": "2022-06-19T08:48:22.787Z"
   },
   {
    "duration": 0,
    "start_time": "2022-06-19T08:48:22.790Z"
   },
   {
    "duration": 0,
    "start_time": "2022-06-19T08:48:22.791Z"
   },
   {
    "duration": 44,
    "start_time": "2022-06-19T08:53:00.878Z"
   },
   {
    "duration": 27,
    "start_time": "2022-06-19T08:53:13.083Z"
   },
   {
    "duration": 50,
    "start_time": "2022-06-19T08:53:40.195Z"
   },
   {
    "duration": 45,
    "start_time": "2022-06-19T08:54:10.087Z"
   },
   {
    "duration": 37,
    "start_time": "2022-06-19T08:55:21.514Z"
   },
   {
    "duration": 32,
    "start_time": "2022-06-19T08:55:46.415Z"
   },
   {
    "duration": 448,
    "start_time": "2022-06-19T09:06:20.351Z"
   },
   {
    "duration": 445,
    "start_time": "2022-06-19T09:10:26.770Z"
   },
   {
    "duration": 12,
    "start_time": "2022-06-19T09:16:20.054Z"
   },
   {
    "duration": 19,
    "start_time": "2022-06-19T09:16:25.509Z"
   },
   {
    "duration": 1054,
    "start_time": "2022-06-19T09:18:31.794Z"
   },
   {
    "duration": 817,
    "start_time": "2022-06-19T09:18:38.214Z"
   },
   {
    "duration": 18,
    "start_time": "2022-06-19T09:18:41.490Z"
   },
   {
    "duration": 228,
    "start_time": "2022-06-19T09:18:43.160Z"
   },
   {
    "duration": 112,
    "start_time": "2022-06-19T09:18:46.486Z"
   },
   {
    "duration": 339,
    "start_time": "2022-06-19T09:19:39.245Z"
   },
   {
    "duration": 34,
    "start_time": "2022-06-19T09:21:11.581Z"
   },
   {
    "duration": 34,
    "start_time": "2022-06-19T09:21:28.560Z"
   },
   {
    "duration": 27,
    "start_time": "2022-06-19T09:22:12.758Z"
   },
   {
    "duration": 29,
    "start_time": "2022-06-19T09:22:24.954Z"
   },
   {
    "duration": 32,
    "start_time": "2022-06-19T09:22:33.066Z"
   },
   {
    "duration": 17,
    "start_time": "2022-06-19T09:23:39.016Z"
   },
   {
    "duration": 14,
    "start_time": "2022-06-19T09:25:09.007Z"
   },
   {
    "duration": 21,
    "start_time": "2022-06-19T09:26:59.642Z"
   },
   {
    "duration": 29,
    "start_time": "2022-06-19T09:27:18.846Z"
   },
   {
    "duration": 20,
    "start_time": "2022-06-19T09:27:59.946Z"
   },
   {
    "duration": 149,
    "start_time": "2022-06-19T09:28:22.203Z"
   },
   {
    "duration": 38,
    "start_time": "2022-06-19T09:28:35.298Z"
   },
   {
    "duration": 23,
    "start_time": "2022-06-19T09:28:46.357Z"
   },
   {
    "duration": 37,
    "start_time": "2022-06-19T09:28:52.469Z"
   },
   {
    "duration": 49,
    "start_time": "2022-06-19T09:29:13.880Z"
   },
   {
    "duration": 31,
    "start_time": "2022-06-19T09:29:25.146Z"
   },
   {
    "duration": 32,
    "start_time": "2022-06-19T09:29:45.142Z"
   },
   {
    "duration": 12,
    "start_time": "2022-06-19T09:37:44.338Z"
   },
   {
    "duration": 365,
    "start_time": "2022-06-19T09:37:59.650Z"
   },
   {
    "duration": 400,
    "start_time": "2022-06-19T09:38:57.018Z"
   },
   {
    "duration": 11,
    "start_time": "2022-06-19T09:39:18.767Z"
   },
   {
    "duration": 398,
    "start_time": "2022-06-19T09:39:30.146Z"
   },
   {
    "duration": 367,
    "start_time": "2022-06-19T09:40:23.679Z"
   },
   {
    "duration": 1461,
    "start_time": "2022-06-19T09:41:17.545Z"
   },
   {
    "duration": 5,
    "start_time": "2022-06-19T09:42:10.611Z"
   },
   {
    "duration": 1335,
    "start_time": "2022-06-19T09:42:11.922Z"
   },
   {
    "duration": 1310,
    "start_time": "2022-06-19T09:42:31.413Z"
   },
   {
    "duration": 364,
    "start_time": "2022-06-19T09:42:36.993Z"
   },
   {
    "duration": 940,
    "start_time": "2022-06-19T09:42:52.196Z"
   },
   {
    "duration": 6,
    "start_time": "2022-06-19T09:43:16.856Z"
   },
   {
    "duration": 475,
    "start_time": "2022-06-19T09:43:21.804Z"
   },
   {
    "duration": 371,
    "start_time": "2022-06-19T09:43:22.282Z"
   },
   {
    "duration": 711,
    "start_time": "2022-06-19T09:43:30.889Z"
   },
   {
    "duration": 44,
    "start_time": "2022-06-19T09:44:14.710Z"
   },
   {
    "duration": 5,
    "start_time": "2022-06-19T09:44:23.950Z"
   },
   {
    "duration": 816,
    "start_time": "2022-06-19T09:44:24.451Z"
   },
   {
    "duration": 5,
    "start_time": "2022-06-19T09:44:55.153Z"
   },
   {
    "duration": 956,
    "start_time": "2022-06-19T09:44:55.914Z"
   },
   {
    "duration": 6,
    "start_time": "2022-06-19T09:45:47.452Z"
   },
   {
    "duration": 675,
    "start_time": "2022-06-19T09:45:48.155Z"
   },
   {
    "duration": 4,
    "start_time": "2022-06-19T09:45:55.477Z"
   },
   {
    "duration": 776,
    "start_time": "2022-06-19T09:45:58.959Z"
   },
   {
    "duration": 803,
    "start_time": "2022-06-19T09:46:36.485Z"
   },
   {
    "duration": 1019,
    "start_time": "2022-06-19T09:47:05.486Z"
   },
   {
    "duration": 4,
    "start_time": "2022-06-19T09:47:17.077Z"
   },
   {
    "duration": 685,
    "start_time": "2022-06-19T09:47:18.245Z"
   },
   {
    "duration": 775,
    "start_time": "2022-06-19T09:48:19.255Z"
   },
   {
    "duration": 5,
    "start_time": "2022-06-19T09:48:42.288Z"
   },
   {
    "duration": 711,
    "start_time": "2022-06-19T09:48:42.707Z"
   },
   {
    "duration": 895,
    "start_time": "2022-06-19T09:48:52.817Z"
   },
   {
    "duration": 1257,
    "start_time": "2022-06-19T09:51:16.960Z"
   },
   {
    "duration": 9,
    "start_time": "2022-06-19T09:59:40.057Z"
   },
   {
    "duration": 13,
    "start_time": "2022-06-19T09:59:44.765Z"
   },
   {
    "duration": 22,
    "start_time": "2022-06-19T09:59:54.064Z"
   },
   {
    "duration": 14,
    "start_time": "2022-06-19T10:00:07.891Z"
   },
   {
    "duration": 514,
    "start_time": "2022-06-19T10:00:28.255Z"
   },
   {
    "duration": 465,
    "start_time": "2022-06-19T10:00:42.569Z"
   },
   {
    "duration": 18,
    "start_time": "2022-06-19T10:01:07.463Z"
   },
   {
    "duration": 20,
    "start_time": "2022-06-19T10:01:20.928Z"
   },
   {
    "duration": 19,
    "start_time": "2022-06-19T10:01:42.370Z"
   },
   {
    "duration": 6,
    "start_time": "2022-06-19T10:03:25.853Z"
   },
   {
    "duration": 1215,
    "start_time": "2022-06-19T10:03:28.282Z"
   },
   {
    "duration": 8,
    "start_time": "2022-06-19T10:03:59.278Z"
   },
   {
    "duration": 1154,
    "start_time": "2022-06-19T10:05:03.860Z"
   },
   {
    "duration": 69,
    "start_time": "2022-06-19T10:05:05.016Z"
   },
   {
    "duration": 21,
    "start_time": "2022-06-19T10:05:05.087Z"
   },
   {
    "duration": 45,
    "start_time": "2022-06-19T10:05:05.109Z"
   },
   {
    "duration": 3,
    "start_time": "2022-06-19T10:05:05.157Z"
   },
   {
    "duration": 12,
    "start_time": "2022-06-19T10:05:05.162Z"
   },
   {
    "duration": 10,
    "start_time": "2022-06-19T10:05:05.176Z"
   },
   {
    "duration": 4,
    "start_time": "2022-06-19T10:05:05.188Z"
   },
   {
    "duration": 8,
    "start_time": "2022-06-19T10:05:05.194Z"
   },
   {
    "duration": 14,
    "start_time": "2022-06-19T10:05:05.204Z"
   },
   {
    "duration": 10,
    "start_time": "2022-06-19T10:05:05.242Z"
   },
   {
    "duration": 214,
    "start_time": "2022-06-19T10:05:05.253Z"
   },
   {
    "duration": 18,
    "start_time": "2022-06-19T10:05:05.469Z"
   },
   {
    "duration": 9,
    "start_time": "2022-06-19T10:05:05.490Z"
   },
   {
    "duration": 653,
    "start_time": "2022-06-19T10:05:05.504Z"
   },
   {
    "duration": 22,
    "start_time": "2022-06-19T10:05:06.158Z"
   },
   {
    "duration": 289,
    "start_time": "2022-06-19T10:05:06.181Z"
   },
   {
    "duration": 6,
    "start_time": "2022-06-19T10:05:06.472Z"
   },
   {
    "duration": 115,
    "start_time": "2022-06-19T10:05:06.480Z"
   },
   {
    "duration": 17,
    "start_time": "2022-06-19T10:05:06.596Z"
   },
   {
    "duration": 53,
    "start_time": "2022-06-19T10:05:06.614Z"
   },
   {
    "duration": 357,
    "start_time": "2022-06-19T10:05:06.669Z"
   },
   {
    "duration": 1474,
    "start_time": "2022-06-19T10:05:07.028Z"
   },
   {
    "duration": 7,
    "start_time": "2022-06-19T10:05:08.504Z"
   },
   {
    "duration": 21,
    "start_time": "2022-06-19T10:05:08.513Z"
   },
   {
    "duration": 170,
    "start_time": "2022-06-19T10:05:08.542Z"
   },
   {
    "duration": 33,
    "start_time": "2022-06-19T10:05:08.713Z"
   },
   {
    "duration": 6,
    "start_time": "2022-06-19T10:05:08.747Z"
   },
   {
    "duration": 808,
    "start_time": "2022-06-19T10:05:08.755Z"
   },
   {
    "duration": 8,
    "start_time": "2022-06-19T10:05:09.565Z"
   },
   {
    "duration": 10,
    "start_time": "2022-06-19T10:05:09.574Z"
   },
   {
    "duration": 6,
    "start_time": "2022-06-19T10:05:09.586Z"
   },
   {
    "duration": 9,
    "start_time": "2022-06-19T10:05:09.594Z"
   },
   {
    "duration": 268,
    "start_time": "2022-06-19T10:05:09.605Z"
   },
   {
    "duration": 308,
    "start_time": "2022-06-19T10:05:09.875Z"
   },
   {
    "duration": 13,
    "start_time": "2022-06-19T10:05:10.185Z"
   },
   {
    "duration": 23,
    "start_time": "2022-06-19T10:05:10.200Z"
   },
   {
    "duration": 5,
    "start_time": "2022-06-19T10:05:10.225Z"
   },
   {
    "duration": 1250,
    "start_time": "2022-06-19T10:05:10.232Z"
   },
   {
    "duration": 14,
    "start_time": "2022-06-19T10:05:11.484Z"
   },
   {
    "duration": 15,
    "start_time": "2022-06-19T10:05:11.502Z"
   },
   {
    "duration": 34,
    "start_time": "2022-06-19T10:20:15.616Z"
   },
   {
    "duration": 127,
    "start_time": "2022-06-19T10:21:19.294Z"
   },
   {
    "duration": 147,
    "start_time": "2022-06-19T10:21:38.638Z"
   },
   {
    "duration": 146,
    "start_time": "2022-06-19T10:22:08.052Z"
   },
   {
    "duration": 7,
    "start_time": "2022-06-19T10:25:40.721Z"
   },
   {
    "duration": 7,
    "start_time": "2022-06-19T10:26:00.750Z"
   },
   {
    "duration": 9,
    "start_time": "2022-06-19T10:26:15.086Z"
   },
   {
    "duration": 11,
    "start_time": "2022-06-19T10:26:33.904Z"
   },
   {
    "duration": 12,
    "start_time": "2022-06-19T10:26:47.370Z"
   },
   {
    "duration": 11,
    "start_time": "2022-06-19T10:26:56.351Z"
   },
   {
    "duration": 1195,
    "start_time": "2022-06-19T10:28:04.467Z"
   },
   {
    "duration": 52,
    "start_time": "2022-06-19T10:28:05.664Z"
   },
   {
    "duration": 34,
    "start_time": "2022-06-19T10:28:05.718Z"
   },
   {
    "duration": 25,
    "start_time": "2022-06-19T10:28:05.754Z"
   },
   {
    "duration": 4,
    "start_time": "2022-06-19T10:28:05.781Z"
   },
   {
    "duration": 18,
    "start_time": "2022-06-19T10:28:05.786Z"
   },
   {
    "duration": 25,
    "start_time": "2022-06-19T10:28:05.806Z"
   },
   {
    "duration": 9,
    "start_time": "2022-06-19T10:28:05.832Z"
   },
   {
    "duration": 8,
    "start_time": "2022-06-19T10:28:05.842Z"
   },
   {
    "duration": 13,
    "start_time": "2022-06-19T10:28:05.853Z"
   },
   {
    "duration": 8,
    "start_time": "2022-06-19T10:28:05.868Z"
   },
   {
    "duration": 222,
    "start_time": "2022-06-19T10:28:05.878Z"
   },
   {
    "duration": 19,
    "start_time": "2022-06-19T10:28:06.102Z"
   },
   {
    "duration": 23,
    "start_time": "2022-06-19T10:28:06.122Z"
   },
   {
    "duration": 700,
    "start_time": "2022-06-19T10:28:06.146Z"
   },
   {
    "duration": 26,
    "start_time": "2022-06-19T10:28:06.849Z"
   },
   {
    "duration": 293,
    "start_time": "2022-06-19T10:28:06.877Z"
   },
   {
    "duration": 7,
    "start_time": "2022-06-19T10:28:07.172Z"
   },
   {
    "duration": 122,
    "start_time": "2022-06-19T10:28:07.181Z"
   },
   {
    "duration": 18,
    "start_time": "2022-06-19T10:28:07.305Z"
   },
   {
    "duration": 46,
    "start_time": "2022-06-19T10:28:07.325Z"
   },
   {
    "duration": 327,
    "start_time": "2022-06-19T10:28:07.373Z"
   },
   {
    "duration": 1535,
    "start_time": "2022-06-19T10:28:07.702Z"
   },
   {
    "duration": 7,
    "start_time": "2022-06-19T10:28:09.241Z"
   },
   {
    "duration": 20,
    "start_time": "2022-06-19T10:28:09.250Z"
   },
   {
    "duration": 186,
    "start_time": "2022-06-19T10:28:09.272Z"
   },
   {
    "duration": 31,
    "start_time": "2022-06-19T10:28:09.459Z"
   },
   {
    "duration": 7,
    "start_time": "2022-06-19T10:28:09.493Z"
   },
   {
    "duration": 966,
    "start_time": "2022-06-19T10:28:09.502Z"
   },
   {
    "duration": 10,
    "start_time": "2022-06-19T10:28:10.470Z"
   },
   {
    "duration": 16,
    "start_time": "2022-06-19T10:28:10.481Z"
   },
   {
    "duration": 10,
    "start_time": "2022-06-19T10:28:10.502Z"
   },
   {
    "duration": 31,
    "start_time": "2022-06-19T10:28:10.515Z"
   },
   {
    "duration": 276,
    "start_time": "2022-06-19T10:28:10.548Z"
   },
   {
    "duration": 331,
    "start_time": "2022-06-19T10:28:10.826Z"
   },
   {
    "duration": 16,
    "start_time": "2022-06-19T10:28:11.159Z"
   },
   {
    "duration": 5,
    "start_time": "2022-06-19T10:28:11.177Z"
   },
   {
    "duration": 17,
    "start_time": "2022-06-19T10:28:11.184Z"
   },
   {
    "duration": 8,
    "start_time": "2022-06-19T10:28:11.203Z"
   },
   {
    "duration": 1380,
    "start_time": "2022-06-19T10:28:11.214Z"
   },
   {
    "duration": 14,
    "start_time": "2022-06-19T10:28:12.595Z"
   },
   {
    "duration": 38,
    "start_time": "2022-06-19T10:28:12.611Z"
   },
   {
    "duration": 1198,
    "start_time": "2022-06-19T10:33:44.315Z"
   },
   {
    "duration": 51,
    "start_time": "2022-06-19T10:33:45.515Z"
   },
   {
    "duration": 16,
    "start_time": "2022-06-19T10:33:45.569Z"
   },
   {
    "duration": 22,
    "start_time": "2022-06-19T10:33:45.587Z"
   },
   {
    "duration": 33,
    "start_time": "2022-06-19T10:33:45.611Z"
   },
   {
    "duration": 11,
    "start_time": "2022-06-19T10:33:45.646Z"
   },
   {
    "duration": 8,
    "start_time": "2022-06-19T10:33:45.658Z"
   },
   {
    "duration": 4,
    "start_time": "2022-06-19T10:33:45.668Z"
   },
   {
    "duration": 5,
    "start_time": "2022-06-19T10:33:45.673Z"
   },
   {
    "duration": 13,
    "start_time": "2022-06-19T10:33:45.681Z"
   },
   {
    "duration": 9,
    "start_time": "2022-06-19T10:33:45.696Z"
   },
   {
    "duration": 222,
    "start_time": "2022-06-19T10:33:45.707Z"
   },
   {
    "duration": 22,
    "start_time": "2022-06-19T10:33:45.931Z"
   },
   {
    "duration": 9,
    "start_time": "2022-06-19T10:33:45.954Z"
   },
   {
    "duration": 705,
    "start_time": "2022-06-19T10:33:45.964Z"
   },
   {
    "duration": 19,
    "start_time": "2022-06-19T10:33:46.671Z"
   },
   {
    "duration": 290,
    "start_time": "2022-06-19T10:33:46.692Z"
   },
   {
    "duration": 7,
    "start_time": "2022-06-19T10:33:46.983Z"
   },
   {
    "duration": 126,
    "start_time": "2022-06-19T10:33:46.992Z"
   },
   {
    "duration": 22,
    "start_time": "2022-06-19T10:33:47.121Z"
   },
   {
    "duration": 45,
    "start_time": "2022-06-19T10:33:47.145Z"
   },
   {
    "duration": 373,
    "start_time": "2022-06-19T10:33:47.192Z"
   },
   {
    "duration": 1481,
    "start_time": "2022-06-19T10:33:47.567Z"
   },
   {
    "duration": 7,
    "start_time": "2022-06-19T10:33:49.050Z"
   },
   {
    "duration": 20,
    "start_time": "2022-06-19T10:33:49.059Z"
   },
   {
    "duration": 181,
    "start_time": "2022-06-19T10:33:49.080Z"
   },
   {
    "duration": 29,
    "start_time": "2022-06-19T10:33:49.263Z"
   },
   {
    "duration": 12,
    "start_time": "2022-06-19T10:33:49.295Z"
   },
   {
    "duration": 858,
    "start_time": "2022-06-19T10:33:49.309Z"
   },
   {
    "duration": 8,
    "start_time": "2022-06-19T10:33:50.168Z"
   },
   {
    "duration": 14,
    "start_time": "2022-06-19T10:33:50.177Z"
   },
   {
    "duration": 17,
    "start_time": "2022-06-19T10:33:50.193Z"
   },
   {
    "duration": 11,
    "start_time": "2022-06-19T10:33:50.212Z"
   },
   {
    "duration": 260,
    "start_time": "2022-06-19T10:33:50.225Z"
   },
   {
    "duration": 287,
    "start_time": "2022-06-19T10:33:50.487Z"
   },
   {
    "duration": 15,
    "start_time": "2022-06-19T10:33:50.775Z"
   },
   {
    "duration": 7,
    "start_time": "2022-06-19T10:33:50.793Z"
   },
   {
    "duration": 12,
    "start_time": "2022-06-19T10:33:50.801Z"
   },
   {
    "duration": 31,
    "start_time": "2022-06-19T10:33:50.815Z"
   },
   {
    "duration": 1242,
    "start_time": "2022-06-19T10:33:50.847Z"
   },
   {
    "duration": 13,
    "start_time": "2022-06-19T10:33:52.091Z"
   },
   {
    "duration": 39,
    "start_time": "2022-06-19T10:33:52.106Z"
   },
   {
    "duration": 13,
    "start_time": "2022-06-19T18:17:07.907Z"
   },
   {
    "duration": 65,
    "start_time": "2022-06-19T18:17:12.995Z"
   },
   {
    "duration": 7,
    "start_time": "2022-06-19T18:17:17.853Z"
   },
   {
    "duration": 13,
    "start_time": "2022-06-19T18:17:21.851Z"
   },
   {
    "duration": 14,
    "start_time": "2022-06-19T18:17:31.759Z"
   },
   {
    "duration": 17,
    "start_time": "2022-06-19T18:17:32.772Z"
   },
   {
    "duration": 1387,
    "start_time": "2022-06-19T18:17:37.656Z"
   },
   {
    "duration": 61,
    "start_time": "2022-06-19T18:17:39.047Z"
   },
   {
    "duration": 22,
    "start_time": "2022-06-19T18:17:39.110Z"
   },
   {
    "duration": 37,
    "start_time": "2022-06-19T18:17:39.134Z"
   },
   {
    "duration": 8,
    "start_time": "2022-06-19T18:17:39.176Z"
   },
   {
    "duration": 9,
    "start_time": "2022-06-19T18:17:39.186Z"
   },
   {
    "duration": 10,
    "start_time": "2022-06-19T18:17:39.196Z"
   },
   {
    "duration": 8,
    "start_time": "2022-06-19T18:17:39.208Z"
   },
   {
    "duration": 65,
    "start_time": "2022-06-19T18:17:39.217Z"
   },
   {
    "duration": 16,
    "start_time": "2022-06-19T18:17:39.284Z"
   },
   {
    "duration": 9,
    "start_time": "2022-06-19T18:17:39.302Z"
   },
   {
    "duration": 259,
    "start_time": "2022-06-19T18:17:39.313Z"
   },
   {
    "duration": 17,
    "start_time": "2022-06-19T18:17:39.574Z"
   },
   {
    "duration": 9,
    "start_time": "2022-06-19T18:17:39.595Z"
   },
   {
    "duration": 720,
    "start_time": "2022-06-19T18:17:39.605Z"
   },
   {
    "duration": 61,
    "start_time": "2022-06-19T18:17:40.327Z"
   },
   {
    "duration": 290,
    "start_time": "2022-06-19T18:17:40.390Z"
   },
   {
    "duration": 6,
    "start_time": "2022-06-19T18:17:40.681Z"
   },
   {
    "duration": 223,
    "start_time": "2022-06-19T18:17:40.689Z"
   },
   {
    "duration": 26,
    "start_time": "2022-06-19T18:17:40.915Z"
   },
   {
    "duration": 52,
    "start_time": "2022-06-19T18:17:40.942Z"
   },
   {
    "duration": 318,
    "start_time": "2022-06-19T18:17:40.995Z"
   },
   {
    "duration": 1684,
    "start_time": "2022-06-19T18:17:41.315Z"
   },
   {
    "duration": 8,
    "start_time": "2022-06-19T18:17:43.001Z"
   },
   {
    "duration": 66,
    "start_time": "2022-06-19T18:17:43.011Z"
   },
   {
    "duration": 210,
    "start_time": "2022-06-19T18:17:43.079Z"
   },
   {
    "duration": 26,
    "start_time": "2022-06-19T18:17:43.291Z"
   },
   {
    "duration": 19,
    "start_time": "2022-06-19T18:17:43.318Z"
   },
   {
    "duration": 878,
    "start_time": "2022-06-19T18:17:43.338Z"
   },
   {
    "duration": 8,
    "start_time": "2022-06-19T18:17:44.223Z"
   },
   {
    "duration": 46,
    "start_time": "2022-06-19T18:17:44.233Z"
   },
   {
    "duration": 8,
    "start_time": "2022-06-19T18:17:44.281Z"
   },
   {
    "duration": 11,
    "start_time": "2022-06-19T18:17:44.290Z"
   },
   {
    "duration": 279,
    "start_time": "2022-06-19T18:17:44.302Z"
   },
   {
    "duration": 311,
    "start_time": "2022-06-19T18:17:44.582Z"
   },
   {
    "duration": 15,
    "start_time": "2022-06-19T18:17:44.895Z"
   },
   {
    "duration": 34,
    "start_time": "2022-06-19T18:17:44.923Z"
   },
   {
    "duration": 25,
    "start_time": "2022-06-19T18:17:44.959Z"
   },
   {
    "duration": 4,
    "start_time": "2022-06-19T18:17:44.986Z"
   },
   {
    "duration": 1334,
    "start_time": "2022-06-19T18:17:44.991Z"
   },
   {
    "duration": 29,
    "start_time": "2022-06-19T18:17:46.329Z"
   },
   {
    "duration": 17,
    "start_time": "2022-06-19T18:17:46.359Z"
   },
   {
    "duration": 15,
    "start_time": "2022-06-19T18:18:00.049Z"
   },
   {
    "duration": 29,
    "start_time": "2022-06-19T18:18:02.764Z"
   },
   {
    "duration": 12,
    "start_time": "2022-06-19T18:18:22.256Z"
   },
   {
    "duration": 13,
    "start_time": "2022-06-19T18:18:26.070Z"
   },
   {
    "duration": 24,
    "start_time": "2022-06-19T18:18:35.971Z"
   },
   {
    "duration": 40,
    "start_time": "2022-06-19T18:18:45.455Z"
   },
   {
    "duration": 12,
    "start_time": "2022-06-19T18:18:48.298Z"
   },
   {
    "duration": 26,
    "start_time": "2022-06-19T18:18:57.650Z"
   },
   {
    "duration": 30,
    "start_time": "2022-06-19T18:19:04.961Z"
   },
   {
    "duration": 21,
    "start_time": "2022-06-19T18:19:07.949Z"
   },
   {
    "duration": 23,
    "start_time": "2022-06-19T18:19:19.106Z"
   },
   {
    "duration": 15,
    "start_time": "2022-06-19T18:19:30.651Z"
   },
   {
    "duration": 1488,
    "start_time": "2022-06-19T18:19:31.959Z"
   },
   {
    "duration": 6,
    "start_time": "2022-06-19T18:20:07.057Z"
   },
   {
    "duration": 7073,
    "start_time": "2022-06-19T18:20:08.815Z"
   },
   {
    "duration": 8,
    "start_time": "2022-06-19T18:20:43.752Z"
   },
   {
    "duration": 1396,
    "start_time": "2022-06-19T18:20:46.555Z"
   },
   {
    "duration": 7,
    "start_time": "2022-06-19T18:21:41.463Z"
   },
   {
    "duration": 523,
    "start_time": "2022-06-19T18:21:43.054Z"
   },
   {
    "duration": 5,
    "start_time": "2022-06-19T18:22:02.291Z"
   },
   {
    "duration": 482,
    "start_time": "2022-06-19T18:22:03.700Z"
   },
   {
    "duration": 5,
    "start_time": "2022-06-19T18:22:07.201Z"
   },
   {
    "duration": 727,
    "start_time": "2022-06-19T18:22:08.139Z"
   },
   {
    "duration": 6,
    "start_time": "2022-06-19T18:22:22.870Z"
   },
   {
    "duration": 1214,
    "start_time": "2022-06-19T18:22:24.054Z"
   }
  ],
  "kernelspec": {
   "display_name": "Python 3 (ipykernel)",
   "language": "python",
   "name": "python3"
  },
  "language_info": {
   "codemirror_mode": {
    "name": "ipython",
    "version": 3
   },
   "file_extension": ".py",
   "mimetype": "text/x-python",
   "name": "python",
   "nbconvert_exporter": "python",
   "pygments_lexer": "ipython3",
   "version": "3.9.12"
  },
  "toc": {
   "base_numbering": 1,
   "nav_menu": {},
   "number_sections": true,
   "sideBar": true,
   "skip_h1_title": true,
   "title_cell": "Table of Contents",
   "title_sidebar": "Contents",
   "toc_cell": false,
   "toc_position": {
    "height": "calc(100% - 180px)",
    "left": "10px",
    "top": "150px",
    "width": "286.237px"
   },
   "toc_section_display": true,
   "toc_window_display": true
  }
 },
 "nbformat": 4,
 "nbformat_minor": 2
}
